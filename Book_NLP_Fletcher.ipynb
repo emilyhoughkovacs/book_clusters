{
 "cells": [
  {
   "cell_type": "code",
   "execution_count": 1,
   "metadata": {
    "collapsed": false
   },
   "outputs": [],
   "source": [
    "\n",
    "import pandas as pd\n",
    "import nltk\n",
    "import datetime\n",
    "import sys\n",
    "from nltk import sent_tokenize, word_tokenize, pos_tag\n",
    "from nltk.tokenize import TreebankWordTokenizer\n",
    "from nltk.tokenize import wordpunct_tokenize\n",
    "from nltk.chunk import ne_chunk\n",
    "from nltk.corpus import treebank_chunk\n",
    "from textblob import TextBlob\n",
    "import re\n",
    "from nltk.corpus import stopwords\n",
    "from nltk.util import ngrams\n",
    "from collections import defaultdict\n",
    "from operator import itemgetter\n",
    "from nltk.stem.snowball import SnowballStemmer\n",
    "from __future__ import division\n",
    "%matplotlib inline  \n",
    "from sklearn.feature_extraction.text import TfidfVectorizer\n",
    "from sklearn.cluster import KMeans\n",
    "from sklearn.feature_extraction.text import CountVectorizer\n",
    "import math\n",
    "from sklearn.feature_extraction.text import TfidfTransformer\n",
    "from sklearn.metrics.pairwise import cosine_similarity\n",
    "\n",
    "\n",
    "from collections import defaultdict\n",
    "\n",
    "from gensim import corpora, models, similarities\n",
    "\n",
    "from __future__ import division\n",
    "\n",
    "import pandas as pd\n",
    "import pyLDAvis\n",
    "import graphlab as gl\n",
    "import pyLDAvis.graphlab\n",
    "import pyLDAvis.gensim as gensimvis\n"
   ]
  },
  {
   "cell_type": "code",
   "execution_count": 2,
   "metadata": {
    "collapsed": true
   },
   "outputs": [],
   "source": [
    "from nltk.stem.snowball import SnowballStemmer\n",
    "stemmer = SnowballStemmer(\"english\")"
   ]
  },
  {
   "cell_type": "code",
   "execution_count": 3,
   "metadata": {
    "collapsed": true
   },
   "outputs": [],
   "source": [
    "book_df=pd.read_csv('df_syn12.csv',index_col=0)"
   ]
  },
  {
   "cell_type": "code",
   "execution_count": 4,
   "metadata": {
    "collapsed": false
   },
   "outputs": [
    {
     "name": "stderr",
     "output_type": "stream",
     "text": [
      "/Users/mattholbrook/anaconda/lib/python2.7/site-packages/IPython/core/formatters.py:90: DeprecationWarning: DisplayFormatter._ipython_display_formatter_default is deprecated: use @default decorator instead.\n",
      "  def _ipython_display_formatter_default(self):\n",
      "/Users/mattholbrook/anaconda/lib/python2.7/site-packages/IPython/core/formatters.py:667: DeprecationWarning: PlainTextFormatter._singleton_printers_default is deprecated: use @default decorator instead.\n",
      "  def _singleton_printers_default(self):\n"
     ]
    },
    {
     "data": {
      "text/html": [
       "<div>\n",
       "<table border=\"1\" class=\"dataframe\">\n",
       "  <thead>\n",
       "    <tr style=\"text-align: right;\">\n",
       "      <th></th>\n",
       "      <th>title</th>\n",
       "      <th>syn</th>\n",
       "    </tr>\n",
       "  </thead>\n",
       "  <tbody>\n",
       "    <tr>\n",
       "      <th>0</th>\n",
       "      <td>The Hunger Games (The Hunger Games, #1)</td>\n",
       "      <td>\\nWinning will make you famous. Losing means c...</td>\n",
       "    </tr>\n",
       "    <tr>\n",
       "      <th>1</th>\n",
       "      <td>Harry Potter and the Order of the Phoenix (Har...</td>\n",
       "      <td>\\nHarry Potter is due to start his fifth year ...</td>\n",
       "    </tr>\n",
       "    <tr>\n",
       "      <th>2</th>\n",
       "      <td>To Kill a Mockingbird</td>\n",
       "      <td>\\nThe unforgettable novel of a childhood in a ...</td>\n",
       "    </tr>\n",
       "    <tr>\n",
       "      <th>3</th>\n",
       "      <td>Pride and Prejudice</td>\n",
       "      <td>\\n\"It is a truth universally acknowledged, tha...</td>\n",
       "    </tr>\n",
       "    <tr>\n",
       "      <th>4</th>\n",
       "      <td>Twilight (Twilight, #1)</td>\n",
       "      <td>\\nAbout three things I was absolutely positive...</td>\n",
       "    </tr>\n",
       "  </tbody>\n",
       "</table>\n",
       "</div>"
      ],
      "text/plain": [
       "                                               title  \\\n",
       "0            The Hunger Games (The Hunger Games, #1)   \n",
       "1  Harry Potter and the Order of the Phoenix (Har...   \n",
       "2                              To Kill a Mockingbird   \n",
       "3                                Pride and Prejudice   \n",
       "4                            Twilight (Twilight, #1)   \n",
       "\n",
       "                                                 syn  \n",
       "0  \\nWinning will make you famous. Losing means c...  \n",
       "1  \\nHarry Potter is due to start his fifth year ...  \n",
       "2  \\nThe unforgettable novel of a childhood in a ...  \n",
       "3  \\n\"It is a truth universally acknowledged, tha...  \n",
       "4  \\nAbout three things I was absolutely positive...  "
      ]
     },
     "execution_count": 4,
     "metadata": {},
     "output_type": "execute_result"
    }
   ],
   "source": [
    "book_df.head()"
   ]
  },
  {
   "cell_type": "code",
   "execution_count": 5,
   "metadata": {
    "collapsed": false
   },
   "outputs": [],
   "source": [
    "book_df=pd.DataFrame.drop_duplicates(book_df)"
   ]
  },
  {
   "cell_type": "code",
   "execution_count": 6,
   "metadata": {
    "collapsed": true
   },
   "outputs": [],
   "source": [
    "def split(x):\n",
    "    x=x.split('\\n')\n",
    "    if len(x)>1:\n",
    "        return x[1]\n",
    "    else:\n",
    "        return x[0]"
   ]
  },
  {
   "cell_type": "code",
   "execution_count": 7,
   "metadata": {
    "collapsed": true
   },
   "outputs": [],
   "source": [
    "def stripx(x):\n",
    "    x=x.strip()\n",
    "    return x"
   ]
  },
  {
   "cell_type": "code",
   "execution_count": 8,
   "metadata": {
    "collapsed": true
   },
   "outputs": [],
   "source": [
    "def gr_uni(x):\n",
    "    x=re.sub(r'[^\\x00-\\x7F]+','', x)\n",
    "    return x"
   ]
  },
  {
   "cell_type": "code",
   "execution_count": 9,
   "metadata": {
    "collapsed": true
   },
   "outputs": [],
   "source": [
    "book_df['syn']=book_df['syn'].astype(str)"
   ]
  },
  {
   "cell_type": "code",
   "execution_count": 10,
   "metadata": {
    "collapsed": false
   },
   "outputs": [],
   "source": [
    "book_df['syn']=book_df['syn'].apply(stripx)"
   ]
  },
  {
   "cell_type": "code",
   "execution_count": 11,
   "metadata": {
    "collapsed": true
   },
   "outputs": [],
   "source": [
    "book_df['syn']=book_df['syn'].apply(gr_uni)"
   ]
  },
  {
   "cell_type": "code",
   "execution_count": 12,
   "metadata": {
    "collapsed": false
   },
   "outputs": [],
   "source": [
    "book_df['syn']=book_df['syn'].apply(split)"
   ]
  },
  {
   "cell_type": "code",
   "execution_count": 15,
   "metadata": {
    "collapsed": false
   },
   "outputs": [],
   "source": [
    "book_df.to_csv('book.csv')"
   ]
  },
  {
   "cell_type": "code",
   "execution_count": 13,
   "metadata": {
    "collapsed": true
   },
   "outputs": [],
   "source": [
    "titles=list(book_df['title'])"
   ]
  },
  {
   "cell_type": "code",
   "execution_count": 14,
   "metadata": {
    "collapsed": false
   },
   "outputs": [],
   "source": [
    "books=list(book_df['syn']))"
   ]
  },
  {
   "cell_type": "code",
   "execution_count": 84,
   "metadata": {
    "collapsed": false
   },
   "outputs": [
    {
     "data": {
      "text/plain": [
       "9888"
      ]
     },
     "execution_count": 84,
     "metadata": {},
     "output_type": "execute_result"
    }
   ],
   "source": [
    "len(titles)"
   ]
  },
  {
   "cell_type": "code",
   "execution_count": 117,
   "metadata": {
    "collapsed": false
   },
   "outputs": [],
   "source": [
    "#"
   ]
  },
  {
   "cell_type": "code",
   "execution_count": 95,
   "metadata": {
    "collapsed": true
   },
   "outputs": [],
   "source": [
    "url='<option value=\"*\">'\n"
   ]
  },
  {
   "cell_type": "code",
   "execution_count": 96,
   "metadata": {
    "collapsed": true
   },
   "outputs": [],
   "source": [
    "urls=[]"
   ]
  },
  {
   "cell_type": "code",
   "execution_count": 97,
   "metadata": {
    "collapsed": true
   },
   "outputs": [],
   "source": [
    "for i in titles:\n",
    "    urls.append(url.replace('*',i))"
   ]
  },
  {
   "cell_type": "code",
   "execution_count": 98,
   "metadata": {
    "collapsed": false
   },
   "outputs": [
    {
     "data": {
      "text/plain": [
       "'<option value=\"The Hunger Games (The Hunger Games, #1)\">'"
      ]
     },
     "execution_count": 98,
     "metadata": {},
     "output_type": "execute_result"
    }
   ],
   "source": [
    "urls[0]"
   ]
  },
  {
   "cell_type": "code",
   "execution_count": 99,
   "metadata": {
    "collapsed": false
   },
   "outputs": [],
   "source": [
    "q=pd.DataFrame()"
   ]
  },
  {
   "cell_type": "code",
   "execution_count": 100,
   "metadata": {
    "collapsed": true
   },
   "outputs": [],
   "source": [
    "q['d']=urls"
   ]
  },
  {
   "cell_type": "code",
   "execution_count": 101,
   "metadata": {
    "collapsed": true
   },
   "outputs": [],
   "source": [
    "q.to_csv('gnames.csv')"
   ]
  },
  {
   "cell_type": "code",
   "execution_count": 134,
   "metadata": {
    "collapsed": false
   },
   "outputs": [],
   "source": [
    "stop_books = stopwords.words('english')\n",
    "#stop_books+=stopwords.words('spanish')\n",
    "stop_books += ['.', ',', '(', ')', \"'\", '\"',u'novel',u'books',\n",
    "               u'published',u'characters',u'works',u'mr.',u'ms.'\n",
    "              ,u\"'s\",u\"time\",u\"only\",u\"n't\",u\"book\",u'life',u'one',\n",
    "          u'story',u'one',u'story',u'tells',u'things','..',\"&\",\"must\",'new','like',\"she's\",\"he's\",\"gets\",\"-\",\"--\",\"/\",\":\",\"shes\",\"hes\",\n",
    "              \"get\",\"like\",\"--the\",'\"the','first']"
   ]
  },
  {
   "cell_type": "code",
   "execution_count": 135,
   "metadata": {
    "collapsed": false
   },
   "outputs": [],
   "source": [
    "texts=[[word for word in document.lower().split() \n",
    "        if word not in stop_books] for document in books]"
   ]
  },
  {
   "cell_type": "code",
   "execution_count": 136,
   "metadata": {
    "collapsed": true
   },
   "outputs": [],
   "source": [
    "frequency=defaultdict(int)"
   ]
  },
  {
   "cell_type": "code",
   "execution_count": 137,
   "metadata": {
    "collapsed": true
   },
   "outputs": [],
   "source": [
    "for text in texts:\n",
    "    for token in text:\n",
    "        frequency[token] += 1"
   ]
  },
  {
   "cell_type": "code",
   "execution_count": 138,
   "metadata": {
    "collapsed": true
   },
   "outputs": [],
   "source": [
    "texts=[[token for token in text if frequency[token]>1] for text in texts]"
   ]
  },
  {
   "cell_type": "code",
   "execution_count": 139,
   "metadata": {
    "collapsed": true
   },
   "outputs": [],
   "source": [
    "dictionary = corpora.Dictionary(texts)"
   ]
  },
  {
   "cell_type": "code",
   "execution_count": 140,
   "metadata": {
    "collapsed": false
   },
   "outputs": [
    {
     "data": {
      "text/plain": [
       "46126"
      ]
     },
     "execution_count": 140,
     "metadata": {},
     "output_type": "execute_result"
    }
   ],
   "source": [
    "len(dictionary.token2id)"
   ]
  },
  {
   "cell_type": "code",
   "execution_count": 141,
   "metadata": {
    "collapsed": true
   },
   "outputs": [],
   "source": [
    "corpus = [dictionary.doc2bow(text) for text in texts]"
   ]
  },
  {
   "cell_type": "code",
   "execution_count": 111,
   "metadata": {
    "collapsed": true
   },
   "outputs": [],
   "source": [
    "#Models"
   ]
  },
  {
   "cell_type": "code",
   "execution_count": 112,
   "metadata": {
    "collapsed": true
   },
   "outputs": [],
   "source": [
    "lsi = models.LsiModel(corpus, id2word=dictionary,num_topics=30) #num_topics=\n"
   ]
  },
  {
   "cell_type": "code",
   "execution_count": 113,
   "metadata": {
    "collapsed": true
   },
   "outputs": [],
   "source": [
    "tfidf=models.TfidfModel(corpus,id2word=dictionary)\n"
   ]
  },
  {
   "cell_type": "code",
   "execution_count": 142,
   "metadata": {
    "collapsed": false
   },
   "outputs": [
    {
     "name": "stdout",
     "output_type": "stream",
     "text": [
      "CPU times: user 6 µs, sys: 12 µs, total: 18 µs\n",
      "Wall time: 30 µs\n"
     ]
    }
   ],
   "source": [
    "lda = models.LdaModel(corpus,id2word=dictionary,passes=5,num_topics=30) #num_topics=\n",
    "\n",
    "%time"
   ]
  },
  {
   "cell_type": "code",
   "execution_count": 68,
   "metadata": {
    "collapsed": true
   },
   "outputs": [],
   "source": [
    "#Search/comparison"
   ]
  },
  {
   "cell_type": "code",
   "execution_count": 120,
   "metadata": {
    "collapsed": false
   },
   "outputs": [
    {
     "data": {
      "text/plain": [
       "['The Great Gatsby',\n",
       " 'The Lovely Bones',\n",
       " 'The Adventures of Huckleberry Finn (Tom Sawyer & Huckleberry Finn, #2)',\n",
       " 'Where the Wild Things Are',\n",
       " 'Green Eggs and Ham',\n",
       " 'Water for Elephants',\n",
       " 'Life of Pi',\n",
       " 'A Tale of Two Cities',\n",
       " 'The Catcher in the Rye',\n",
       " 'The Odyssey']"
      ]
     },
     "execution_count": 120,
     "metadata": {},
     "output_type": "execute_result"
    }
   ],
   "source": [
    "titles[40:50]"
   ]
  },
  {
   "cell_type": "code",
   "execution_count": 121,
   "metadata": {
    "collapsed": false
   },
   "outputs": [
    {
     "data": {
      "text/plain": [
       "'THE GREAT GATSBY, F. Scott Fitzgeralds third book, stands as the supreme achievement of his career. This exemplary novel of the Jazz Age has been acclaimed by generations of readers. The story of the fabulously wealthy Jay Gatsby and his love for the beautiful Daisy Buchanan, of lavish parties on Long Island at a time when The New York Times noted gin was the national drink and sex the national obsession, it is an exquisitely crafted tale of America in the 1920s.The Great Gatsby is one of the great classics of twentieth-century literature.'"
      ]
     },
     "execution_count": 121,
     "metadata": {},
     "output_type": "execute_result"
    }
   ],
   "source": [
    "books[40]"
   ]
  },
  {
   "cell_type": "code",
   "execution_count": 122,
   "metadata": {
    "collapsed": false
   },
   "outputs": [],
   "source": [
    "query=books[40]"
   ]
  },
  {
   "cell_type": "code",
   "execution_count": 123,
   "metadata": {
    "collapsed": true
   },
   "outputs": [],
   "source": [
    "search = query"
   ]
  },
  {
   "cell_type": "code",
   "execution_count": 124,
   "metadata": {
    "collapsed": true
   },
   "outputs": [],
   "source": [
    "search_vec = dictionary.doc2bow(search.lower().split())"
   ]
  },
  {
   "cell_type": "code",
   "execution_count": 125,
   "metadata": {
    "collapsed": false
   },
   "outputs": [
    {
     "name": "stderr",
     "output_type": "stream",
     "text": [
      "[WARNING] scanning corpus to determine the number of features (consider setting `num_features` explicitly)\n"
     ]
    }
   ],
   "source": [
    "#lsi vector search,index\n",
    "vec_lsi = lsi[search_vec]\n",
    "index_lsi = similarities.MatrixSimilarity(lsi[corpus])\n",
    "sims_lsi = index_lsi[vec_lsi]"
   ]
  },
  {
   "cell_type": "code",
   "execution_count": 126,
   "metadata": {
    "collapsed": false
   },
   "outputs": [
    {
     "name": "stderr",
     "output_type": "stream",
     "text": [
      "[WARNING] scanning corpus to determine the number of features (consider setting `num_features` explicitly)\n"
     ]
    }
   ],
   "source": [
    "#tfidf vector,search and index\n",
    "vec_tfidf=tfidf[search_vec]\n",
    "index_tfidf = similarities.MatrixSimilarity(tfidf[corpus])\n",
    "sims_tfidf=index_tfidf[vec_tfidf]"
   ]
  },
  {
   "cell_type": "code",
   "execution_count": 127,
   "metadata": {
    "collapsed": false
   },
   "outputs": [
    {
     "name": "stderr",
     "output_type": "stream",
     "text": [
      "[WARNING] scanning corpus to determine the number of features (consider setting `num_features` explicitly)\n"
     ]
    }
   ],
   "source": [
    "#lda model and vector\n",
    "vec_lda=lda[search_vec]\n",
    "index_lda=similarities.MatrixSimilarity(lda[corpus])\n",
    "sims_lda=index_lda[vec_lda]\n"
   ]
  },
  {
   "cell_type": "code",
   "execution_count": 128,
   "metadata": {
    "collapsed": false
   },
   "outputs": [
    {
     "name": "stderr",
     "output_type": "stream",
     "text": [
      "[WARNING] scanning corpus to determine the number of features (consider setting `num_features` explicitly)\n"
     ]
    }
   ],
   "source": [
    "#index and search regular model\n",
    "index = similarities.MatrixSimilarity(corpus)\n",
    "sims=index[search_vec]"
   ]
  },
  {
   "cell_type": "code",
   "execution_count": 129,
   "metadata": {
    "collapsed": true
   },
   "outputs": [],
   "source": [
    "#get top results"
   ]
  },
  {
   "cell_type": "code",
   "execution_count": 130,
   "metadata": {
    "collapsed": false
   },
   "outputs": [],
   "source": [
    "lda_top = sorted(enumerate(sims_lda), key=lambda item: -item[1])\n",
    "lsi_top = sorted(enumerate(sims_lsi), key=lambda item: -item[1])\n",
    "tfidf_top = sorted(enumerate(sims_tfidf), key=lambda item: -item[1])\n",
    "bag_top = sorted(enumerate(sims), key=lambda item: -item[1])"
   ]
  },
  {
   "cell_type": "code",
   "execution_count": 131,
   "metadata": {
    "collapsed": false
   },
   "outputs": [],
   "source": [
    "combined=(sims_lsi+sims_lda+sims_tfidf)/3\n",
    "comb_top= sorted(enumerate(combined), key=lambda item: -item[1])"
   ]
  },
  {
   "cell_type": "code",
   "execution_count": 132,
   "metadata": {
    "collapsed": false,
    "scrolled": true
   },
   "outputs": [
    {
     "name": "stdout",
     "output_type": "stream",
     "text": [
      "('The Great Gatsby', 1.0, 40)\n",
      "('Collected Fictions', 0.53869373, 737)\n",
      "('Just Kids', 0.50144124, 1951)\n",
      "('Tortilla Flat', 0.49340102, 1925)\n",
      "(\"Nathaniel's Nutmeg: How One Man's Courage Changed the Course of History\", 0.48351192, 7004)\n",
      "('The Disorderly Knights (The Lymond Chronicles, #3)', 0.4792994, 6992)\n",
      "('The Waves', 0.4766489, 1045)\n",
      "('The Collected Poems of W.B. Yeats', 0.47627151, 1206)\n",
      "('The Adoration of Jenna Fox (Jenna Fox Chronicles, #1)', 0.45277441, 2249)\n",
      "('Sister Carrie', 0.4436982, 1666)\n"
     ]
    }
   ],
   "source": [
    "for i in range(0,10):\n",
    "    print (titles[comb_top[i][0]],comb_top[i][1],comb_top[i][0])\n"
   ]
  },
  {
   "cell_type": "code",
   "execution_count": 133,
   "metadata": {
    "collapsed": false
   },
   "outputs": [
    {
     "name": "stdout",
     "output_type": "stream",
     "text": [
      "('The Great Gatsby', 1.0, 40)\n",
      "('The Mind', 0.084772557, 9102)\n",
      "('Daisy Fay and the Miracle Man', 0.076130815, 8969)\n",
      "('Been Down So Long it Looks Like Up to Me', 0.073117316, 8448)\n",
      "('Revived', 0.068730988, 4015)\n",
      "('How I Live Now', 0.06852942, 3715)\n",
      "('I Hunt Killers (Jasper Dent, #1)', 0.068306111, 2509)\n",
      "('All the Pretty Horses (The Border Trilogy, #1)', 0.067112505, 791)\n",
      "('Trinity', 0.062778994, 1771)\n",
      "('A Death in the Family', 0.061917216, 3392)\n"
     ]
    }
   ],
   "source": [
    "model_top=tfidf_top\n",
    "for i in range(0,10):\n",
    "    print (titles[model_top[i][0]],model_top[i][1],model_top[i][0])\n"
   ]
  },
  {
   "cell_type": "code",
   "execution_count": 63,
   "metadata": {
    "collapsed": true
   },
   "outputs": [],
   "source": [
    "df_rec=pd.DataFrame()"
   ]
  },
  {
   "cell_type": "code",
   "execution_count": 312,
   "metadata": {
    "collapsed": false
   },
   "outputs": [],
   "source": [
    "df_rec['lda']=sims_lda\n",
    "df_rec['lsi']=sims_lsi\n",
    "df_rec['tfidf']=sims_tfidf\n"
   ]
  },
  {
   "cell_type": "code",
   "execution_count": 313,
   "metadata": {
    "collapsed": false
   },
   "outputs": [],
   "source": [
    "#df_rec=df_rec.drop(df_rec.index[204])"
   ]
  },
  {
   "cell_type": "code",
   "execution_count": 314,
   "metadata": {
    "collapsed": false
   },
   "outputs": [],
   "source": [
    "df_norm = (df_rec - df_rec.mean()) / (df_rec.max() - df_rec.min())"
   ]
  },
  {
   "cell_type": "code",
   "execution_count": 315,
   "metadata": {
    "collapsed": false
   },
   "outputs": [],
   "source": [
    "df_norm['total']=df_norm['lda']+df_norm['lsi']+df_norm['tfidf']"
   ]
  },
  {
   "cell_type": "code",
   "execution_count": 316,
   "metadata": {
    "collapsed": false
   },
   "outputs": [],
   "source": [
    "df_norm['title']=titles"
   ]
  },
  {
   "cell_type": "code",
   "execution_count": 317,
   "metadata": {
    "collapsed": false
   },
   "outputs": [
    {
     "data": {
      "text/plain": [
       "'Thirteen Reasons Why'"
      ]
     },
     "execution_count": 317,
     "metadata": {},
     "output_type": "execute_result"
    }
   ],
   "source": [
    "titles[204]"
   ]
  },
  {
   "cell_type": "code",
   "execution_count": 319,
   "metadata": {
    "collapsed": false
   },
   "outputs": [],
   "source": [
    "df_norm=df_norm.sort_values(by=\"total\",ascending=False)"
   ]
  },
  {
   "cell_type": "code",
   "execution_count": 320,
   "metadata": {
    "collapsed": false
   },
   "outputs": [
    {
     "data": {
      "text/html": [
       "<div>\n",
       "<table border=\"1\" class=\"dataframe\">\n",
       "  <thead>\n",
       "    <tr style=\"text-align: right;\">\n",
       "      <th></th>\n",
       "      <th>lda</th>\n",
       "      <th>lsi</th>\n",
       "      <th>tfidf</th>\n",
       "      <th>total</th>\n",
       "      <th>title</th>\n",
       "    </tr>\n",
       "  </thead>\n",
       "  <tbody>\n",
       "    <tr>\n",
       "      <th>101</th>\n",
       "      <td>0.424293</td>\n",
       "      <td>0.386707</td>\n",
       "      <td>0.992392</td>\n",
       "      <td>1.803393</td>\n",
       "      <td>Clockwork Angel (The Infernal Devices, #1)</td>\n",
       "    </tr>\n",
       "    <tr>\n",
       "      <th>247</th>\n",
       "      <td>0.420806</td>\n",
       "      <td>0.268451</td>\n",
       "      <td>0.265854</td>\n",
       "      <td>0.955111</td>\n",
       "      <td>Clockwork Prince (The Infernal Devices, #2)</td>\n",
       "    </tr>\n",
       "    <tr>\n",
       "      <th>4362</th>\n",
       "      <td>0.394859</td>\n",
       "      <td>0.314608</td>\n",
       "      <td>0.104546</td>\n",
       "      <td>0.814012</td>\n",
       "      <td>The Mortal Instrument (The Mortal Instruments ...</td>\n",
       "    </tr>\n",
       "    <tr>\n",
       "      <th>318</th>\n",
       "      <td>0.388417</td>\n",
       "      <td>0.343424</td>\n",
       "      <td>0.081203</td>\n",
       "      <td>0.813045</td>\n",
       "      <td>City of Lost Souls (The Mortal Instruments, #5)</td>\n",
       "    </tr>\n",
       "    <tr>\n",
       "      <th>3329</th>\n",
       "      <td>0.420173</td>\n",
       "      <td>0.341448</td>\n",
       "      <td>0.033167</td>\n",
       "      <td>0.794788</td>\n",
       "      <td>The Coffin Club (Vampire Kisses, #5)</td>\n",
       "    </tr>\n",
       "  </tbody>\n",
       "</table>\n",
       "</div>"
      ],
      "text/plain": [
       "           lda       lsi     tfidf     total  \\\n",
       "101   0.424293  0.386707  0.992392  1.803393   \n",
       "247   0.420806  0.268451  0.265854  0.955111   \n",
       "4362  0.394859  0.314608  0.104546  0.814012   \n",
       "318   0.388417  0.343424  0.081203  0.813045   \n",
       "3329  0.420173  0.341448  0.033167  0.794788   \n",
       "\n",
       "                                                  title  \n",
       "101          Clockwork Angel (The Infernal Devices, #1)  \n",
       "247         Clockwork Prince (The Infernal Devices, #2)  \n",
       "4362  The Mortal Instrument (The Mortal Instruments ...  \n",
       "318     City of Lost Souls (The Mortal Instruments, #5)  \n",
       "3329               The Coffin Club (Vampire Kisses, #5)  "
      ]
     },
     "execution_count": 320,
     "metadata": {},
     "output_type": "execute_result"
    }
   ],
   "source": [
    "df_norm.head()"
   ]
  },
  {
   "cell_type": "code",
   "execution_count": 206,
   "metadata": {
    "collapsed": true
   },
   "outputs": [],
   "source": [
    "lda = models.LdaModel(corpus,id2word=dictionary,passes=5,num_topics=14) #num_topics="
   ]
  },
  {
   "cell_type": "code",
   "execution_count": 207,
   "metadata": {
    "collapsed": true
   },
   "outputs": [],
   "source": [
    "pyLDAvis.enable_notebook()\n",
    "vis_data = gensimvis.prepare(lda, corpus, dictionary)\n"
   ]
  },
  {
   "cell_type": "code",
   "execution_count": 209,
   "metadata": {
    "collapsed": true
   },
   "outputs": [],
   "source": [
    "pyLDAvis.save_html(vis_data,'good_lda.html')"
   ]
  },
  {
   "cell_type": "code",
   "execution_count": 208,
   "metadata": {
    "collapsed": false
   },
   "outputs": [
    {
     "data": {
      "text/html": [
       "\n",
       "<link rel=\"stylesheet\" type=\"text/css\" href=\"https://cdn.rawgit.com/bmabey/pyLDAvis/files/ldavis.v1.0.0.css\">\n",
       "\n",
       "\n",
       "<div id=\"ldavis_el480348658999848641377877\"></div>\n",
       "<script type=\"text/javascript\">\n",
       "\n",
       "var ldavis_el480348658999848641377877_data = {\"plot.opts\": {\"xlab\": \"PC1\", \"ylab\": \"PC2\"}, \"topic.order\": [11, 14, 1, 7, 8, 10, 4, 2, 12, 13, 9, 6, 5, 3], \"token.table\": {\"Topic\": [11, 12, 9, 8, 2, 7, 6, 13, 1, 2, 5, 6, 7, 11, 13, 14, 5, 7, 11, 10, 8, 1, 2, 3, 5, 6, 7, 8, 8, 6, 1, 2, 3, 4, 5, 6, 7, 8, 9, 10, 11, 14, 11, 13, 1, 2, 3, 4, 5, 6, 7, 8, 9, 10, 13, 7, 10, 11, 6, 7, 13, 13, 12, 5, 5, 5, 1, 2, 3, 4, 5, 6, 7, 8, 9, 10, 11, 14, 1, 2, 3, 4, 5, 6, 7, 8, 9, 10, 11, 14, 6, 7, 8, 10, 11, 1, 2, 3, 4, 5, 6, 7, 8, 9, 10, 11, 14, 10, 1, 2, 3, 4, 5, 6, 7, 10, 11, 14, 4, 1, 2, 3, 4, 5, 6, 7, 8, 9, 10, 11, 14, 1, 11, 9, 3, 4, 5, 7, 8, 9, 1, 2, 3, 4, 5, 6, 7, 8, 9, 10, 11, 14, 3, 9, 6, 6, 11, 10, 3, 8, 10, 1, 1, 2, 3, 4, 5, 6, 7, 8, 9, 9, 1, 4, 5, 6, 8, 9, 10, 13, 11, 14, 14, 14, 1, 2, 3, 4, 5, 6, 7, 8, 9, 10, 11, 14, 1, 3, 4, 5, 6, 9, 3, 5, 1, 2, 3, 4, 5, 6, 7, 8, 9, 10, 11, 1, 2, 4, 5, 7, 10, 1, 2, 3, 4, 5, 6, 7, 8, 9, 10, 11, 14, 7, 1, 2, 3, 4, 5, 6, 7, 8, 9, 10, 11, 14, 5, 1, 2, 3, 4, 5, 6, 7, 8, 9, 10, 11, 1, 2, 3, 4, 5, 6, 7, 8, 9, 10, 11, 13, 1, 2, 3, 4, 5, 6, 7, 8, 9, 10, 11, 14, 1, 13, 14, 8, 11, 11, 1, 2, 3, 4, 5, 6, 7, 8, 9, 10, 11, 13, 1, 2, 3, 4, 5, 6, 7, 8, 9, 10, 11, 14, 8, 12, 2, 1, 2, 3, 4, 5, 6, 7, 8, 9, 11, 14, 1, 2, 4, 5, 6, 7, 1, 7, 14, 8, 7, 7, 2, 3, 5, 7, 8, 9, 13, 2, 8, 7, 3, 14, 1, 2, 3, 4, 5, 6, 7, 9, 10, 11, 13, 8, 9, 9, 8, 9, 11, 1, 2, 3, 4, 5, 6, 7, 8, 10, 11, 14, 3, 7, 10, 6, 5, 3, 11, 1, 2, 3, 4, 5, 6, 7, 9, 10, 11, 14, 1, 3, 4, 5, 6, 10, 11, 14, 6, 9, 4, 9, 10, 13, 6, 5, 10, 7, 8, 1, 2, 5, 7, 8, 9, 11, 1, 3, 4, 5, 8, 9, 11, 13, 1, 2, 5, 7, 8, 12, 3, 8, 1, 2, 3, 5, 6, 7, 9, 10, 11, 7, 7, 2, 4, 5, 6, 8, 9, 10, 5, 8, 5, 5, 6, 5, 1, 10, 11, 3, 5, 7, 8, 10, 1, 7, 10, 1, 10, 1, 6, 3, 4, 6, 9, 11, 1, 2, 3, 4, 5, 6, 7, 8, 9, 10, 11, 13, 14, 3, 4, 5, 8, 2, 7, 10, 8, 1, 3, 4, 5, 6, 7, 8, 9, 10, 5, 4, 5, 10, 3, 4, 5, 6, 9, 10, 9, 1, 2, 3, 4, 5, 6, 7, 8, 9, 10, 11, 12, 13, 4, 12, 4, 1, 12, 10, 6, 7, 1, 2, 4, 5, 6, 7, 8, 14, 1, 2, 3, 4, 5, 6, 7, 8, 9, 10, 14, 6, 3, 11, 6, 2, 1, 2, 3, 4, 5, 6, 7, 8, 9, 10, 11, 11, 1, 2, 3, 4, 5, 6, 7, 8, 9, 10, 11, 14, 2, 3, 5, 6, 7, 8, 9, 10, 1, 4, 5, 6, 7, 8, 9, 10, 11, 3, 4, 7, 9, 10, 10, 1, 2, 3, 4, 5, 6, 7, 8, 10, 4, 2, 12, 14, 1, 2, 1, 13, 14, 12, 13, 1, 2, 3, 5, 6, 7, 8, 9, 11, 12, 13, 1, 2, 3, 4, 5, 6, 7, 8, 9, 11, 13, 1, 2, 3, 4, 5, 8, 9, 11, 14, 12, 14, 12, 2, 5, 1, 2, 3, 5, 7, 8, 9, 11, 14, 1, 2, 3, 4, 5, 6, 7, 8, 9, 10, 3, 12, 14, 2, 5, 14, 13, 14, 6, 12, 14, 1, 2, 3, 5, 6, 7, 8, 9, 10, 11, 14, 1, 2, 3, 5, 7, 8, 9, 11, 13, 14, 1, 2, 3, 6, 7, 9, 10, 11, 1, 2, 3, 4, 5, 6, 7, 8, 9, 8, 12, 13, 13, 1, 2, 7, 8, 9, 14, 6, 9, 1, 2, 3, 4, 5, 6, 7, 8, 9, 11, 14, 4, 3, 9, 14, 1, 2, 3, 4, 5, 6, 7, 5, 5, 1, 2, 7, 8, 9, 10, 11, 1, 2, 9, 10, 3, 12, 1, 3, 4, 5, 6, 7, 8, 10, 13, 14, 1, 1, 12, 12, 6, 1, 9, 3, 4, 5, 6, 7, 9, 10, 11, 14, 6, 9, 14, 14, 14, 14, 12, 3, 2, 10, 5, 7, 8, 14, 12, 1, 4, 7, 8, 10, 2, 3, 7, 11, 13, 12, 1, 2, 3, 5, 8, 11, 1, 2, 3, 5, 6, 7, 8, 11, 1, 2, 3, 4, 6, 7, 8, 9, 11, 14, 1, 2, 3, 4, 5, 6, 7, 8, 10, 11, 9, 9, 11, 2, 1, 2, 3, 4, 5, 6, 7, 8, 9, 14, 8, 6, 8, 4, 12, 14, 4, 12, 8, 12, 6, 11, 1, 4, 5, 6, 7, 8, 9, 10, 14, 1, 2, 3, 4, 5, 6, 7, 8, 9, 10, 11, 13, 1, 2, 3, 4, 5, 6, 7, 8, 9, 10, 11, 13, 14, 1, 2, 3, 4, 5, 6, 7, 8, 9, 10, 11, 14, 1, 2, 4, 7, 8, 9, 11, 1, 2, 3, 4, 5, 6, 7, 8, 9, 10, 11, 1, 1, 2, 3, 4, 5, 6, 8, 9, 11, 13, 3, 1, 6, 3, 5, 1, 1, 2, 3, 4, 5, 6, 7, 8, 9, 10, 11, 14, 5, 3, 1, 2, 3, 4, 5, 6, 7, 8, 9, 10, 11, 13, 14, 2, 1, 2, 5, 6, 9, 1, 2, 3, 4, 5, 6, 7, 8, 9, 10, 11, 1, 3, 4, 5, 6, 7, 8, 9, 10, 1, 2, 3, 4, 5, 6, 8, 9, 11, 13, 1, 2, 3, 4, 5, 6, 7, 8, 9, 11, 14, 10, 1, 2, 3, 4, 5, 6, 7, 8, 9, 10, 1, 2, 3, 4, 5, 6, 7, 8, 9, 10, 11, 14, 1, 2, 3, 4, 5, 6, 7, 8, 9, 10, 11, 14, 1, 3, 5, 6, 7, 8, 9, 10, 11, 13, 3, 4, 8, 10, 11, 10, 1, 4, 10, 8, 6, 6, 13, 14, 10, 1, 4, 5, 1, 2, 3, 4, 5, 6, 7, 8, 10, 11, 3, 1, 2, 3, 4, 5, 6, 7, 8, 9, 10, 11, 10, 7, 8, 10, 11, 7, 2, 7, 9, 5, 3, 4, 5, 1, 2, 7, 9, 1, 2, 3, 5, 6, 7, 8, 10, 13, 1, 2, 3, 5, 7, 8, 9, 10, 1, 1, 2, 3, 4, 5, 6, 7, 10, 12, 1, 2, 5, 8, 9, 1, 2, 4, 5, 8, 9, 1, 2, 6, 7, 8, 9, 11, 9, 1, 2, 3, 4, 5, 6, 7, 8, 9, 10, 11, 13, 14, 1, 1, 2, 4, 7, 9, 11, 1, 2, 3, 4, 7, 8, 10, 11, 3, 13, 1, 2, 3, 4, 5, 6, 7, 8, 9, 10, 11, 13, 14, 1, 2, 3, 4, 5, 6, 7, 8, 9, 10, 11, 7, 1, 2, 4, 5, 6, 7, 9, 10, 11, 3, 1, 4, 8, 1, 14, 1, 7, 10, 5, 2, 3, 9, 11, 10, 2, 3, 1, 2, 4, 5, 6, 8, 11, 13, 1, 2, 4, 5, 6, 7, 8, 9, 10, 11, 13, 1, 14, 3, 4, 6, 9, 14, 1, 2, 3, 5, 7, 8, 9, 8, 8, 13, 3, 4, 5, 6, 10, 1, 2, 3, 4, 5, 6, 7, 9, 10, 1, 2, 3, 4, 5, 8, 10, 3, 12, 4, 4, 5, 7, 8, 1, 2, 3, 4, 5, 6, 7, 8, 10, 11, 13, 1, 7, 1, 2, 3, 4, 5, 6, 7, 8, 9, 10, 11, 14, 11, 1, 2, 3, 4, 5, 6, 7, 8, 9, 10, 14, 1, 2, 3, 4, 5, 6, 8, 9, 4, 5, 8, 9, 11, 9, 12, 14, 1, 6, 14, 3, 4, 6, 3, 5, 12, 1, 2, 3, 5, 6, 9, 1, 2, 3, 4, 5, 6, 7, 8, 9, 1, 2, 3, 4, 5, 6, 7, 8, 9, 10, 11, 8, 3, 2, 13, 5, 4, 3, 3, 4, 6, 9, 10, 9, 2, 3, 6, 7, 9, 9, 14, 6, 7, 12, 11, 1, 2, 7, 8, 9, 11, 14, 1, 2, 3, 4, 5, 6, 7, 8, 9, 10, 11, 13, 1, 1, 4, 11, 1, 6, 11, 5, 5, 8, 1, 8, 2, 6, 7, 1, 10, 3, 5, 7, 6, 1, 2, 3, 4, 5, 6, 7, 8, 1, 6, 7, 11, 5, 8, 7, 1, 1, 2, 3, 4, 5, 6, 7, 8, 9, 10, 11, 14, 9, 3, 10, 11, 2, 6, 2, 7, 7, 5, 5, 9, 2, 8, 3, 5, 6, 4, 8, 13, 1, 2, 5, 6, 7, 8, 9, 10, 11, 5, 10, 11, 1, 2, 7, 1, 2, 3, 4, 5, 6, 8, 9, 11, 13, 3, 11, 1, 2, 3, 4, 5, 6, 7, 8, 9, 10, 11, 14, 1, 2, 3, 5, 6, 7, 8, 9, 10, 6, 13, 12, 1, 2, 3, 4, 5, 6, 7, 8, 9, 10, 11, 12, 14, 12, 1, 2, 3, 4, 5, 6, 7, 8, 9, 10, 11, 13, 4, 12, 1, 2, 3, 4, 5, 6, 9, 10, 12, 1, 2, 7, 8, 14, 3, 7, 6, 1, 2, 3, 4, 5, 6, 7, 8, 9, 10, 11, 1, 2, 3, 4, 5, 6, 7, 8, 11, 3, 7, 8, 10, 8, 6, 9, 1, 3, 4, 5, 6, 7, 9, 10, 3, 4, 5, 6, 9, 1, 2, 3, 4, 5, 6, 7, 8, 9, 10, 11, 1, 2, 3, 4, 5, 6, 7, 8, 9, 10, 11, 14, 7, 11, 1, 3, 4, 5, 6, 11, 12, 8, 14, 1, 2, 7, 1, 2, 3, 4, 5, 6, 7, 8, 9, 10, 11, 13, 14, 11, 1, 7, 6, 10, 1, 2, 3, 5, 6, 7, 8, 9, 11, 13, 2, 3, 4, 5, 7, 10, 14, 9, 12, 1, 2, 3, 4, 5, 6, 7, 8, 9, 10, 11, 5, 1, 2, 3, 4, 5, 6, 7, 8, 9, 10, 11, 13, 14, 1, 2, 3, 4, 5, 6, 7, 8, 9, 10, 11, 13, 14, 2, 5, 5, 11, 1, 3, 5, 10, 9, 9, 7, 1, 2, 3, 4, 5, 6, 7, 8, 9, 10, 11, 13, 1, 2, 8, 9, 1, 2, 1, 2, 11, 4, 5, 6, 7, 10, 5, 6, 7, 9, 10, 12, 4, 4, 1, 2, 3, 4, 5, 6, 7, 8, 11, 2, 1, 2, 3, 4, 5, 6, 7, 8, 9, 10, 11, 13, 13, 13, 7, 1, 2, 3, 4, 5, 6, 7, 8, 10, 13, 8, 9, 14, 6, 7, 1, 14, 6, 1, 2, 3, 4, 5, 6, 7, 8, 9, 10, 11, 13, 1, 6, 8, 10, 2, 3, 5, 9, 2, 1, 2, 3, 4, 5, 6, 7, 8, 9, 10, 11, 1, 2, 3, 5, 6, 7, 8, 9, 10, 11, 3, 4, 11, 1, 2, 3, 4, 5, 6, 7, 8, 9, 10, 11, 13, 14, 2, 7, 13, 5, 10, 1, 4, 5, 6, 7, 8, 11, 6, 1, 8, 3, 10, 1, 2, 3, 4, 5, 6, 7, 8, 9, 11, 14, 3, 7, 14, 1, 2, 3, 5, 6, 7, 8, 9, 10, 11, 13, 7, 8, 2, 11, 1, 2, 6, 8, 3, 6, 13, 12, 9, 1, 2, 3, 4, 5, 6, 7, 9, 10, 11, 1, 2, 3, 4, 5, 6, 7, 8, 9, 10, 11, 13, 13, 6, 14, 5, 8, 7, 5, 3, 4, 5, 6, 8, 9, 14, 11, 4, 7, 2, 6, 3, 1, 5, 11, 14, 12, 13, 10, 11, 1, 2, 3, 4, 5, 6, 7, 8, 9, 10, 11, 14, 11, 9, 11, 6, 5, 9, 1, 2, 3, 4, 5, 6, 7, 8, 9, 10, 11, 13, 9, 13, 7, 1, 2, 3, 4, 5, 6, 7, 9, 10, 11, 12, 1, 4, 11, 4, 5, 6, 11, 9, 2, 4, 1, 2, 3, 4, 6, 7, 8, 9, 10, 11, 6, 2, 8, 4, 4, 11, 7, 3, 4, 5, 6, 8, 9, 10, 11, 12, 1, 9, 1, 2, 3, 4, 5, 6, 7, 8, 9, 10, 11, 14, 1, 2, 3, 4, 5, 6, 7, 8, 9, 10, 11, 14, 1, 2, 3, 4, 5, 7, 8, 11, 1, 3, 4, 5, 7, 8, 10, 2, 13, 3, 1, 2, 3, 5, 6, 7, 8, 11, 1, 2, 3, 5, 7, 8, 9, 11, 13, 6, 9, 4, 10, 11, 5, 3, 4, 5, 6, 1, 2, 3, 5, 7, 8, 9, 11, 2, 9, 1, 5, 6, 8, 9, 10, 11, 4, 5, 6, 7, 10, 3, 4, 5, 6, 10, 9, 10, 14, 12, 2, 3, 9, 1, 2, 3, 4, 5, 6, 7, 8, 9, 11, 12, 7, 1, 2, 3, 4, 5, 6, 7, 8, 9, 10, 11, 14, 3, 1, 2, 8, 13, 1, 2, 3, 4, 5, 6, 7, 8, 9, 10, 1, 3, 4, 5, 6, 7, 8, 9, 10, 11, 1, 2, 3, 4, 5, 6, 7, 8, 9, 10, 11, 14, 1, 2, 3, 4, 5, 6, 7, 8, 9, 10, 2, 5, 9, 14, 2, 5, 2, 6, 13, 7, 4, 7, 5, 6, 9, 10, 4, 6, 5, 4, 5, 10, 1, 2, 3, 4, 5, 6, 9, 10, 13, 8, 9, 11, 5, 11, 6, 7, 10, 11, 2, 3, 4, 6, 10, 11, 10, 7, 2, 3, 5, 6, 9, 8, 10, 9, 2, 3, 4, 5, 6, 8, 9, 12, 3, 8, 9, 6, 1, 2, 7, 13, 1, 2, 3, 5, 6, 7, 8, 9, 10, 11, 13, 1, 2, 4, 5, 6, 7, 8, 9, 10, 11, 1, 2, 5, 6, 7, 7, 12, 3, 5, 6, 10, 12, 7, 13, 13, 1, 2, 3, 4, 5, 6, 7, 8, 9, 10, 11, 14, 13, 8, 1, 2, 3, 4, 5, 6, 7, 8, 9, 10, 11, 14, 1, 2, 3, 4, 5, 6, 7, 8, 9, 10, 11, 3, 9, 1, 2, 3, 4, 5, 6, 8, 9, 2, 5, 6, 8, 9, 14, 10, 2, 10, 13, 12, 14, 14, 4, 1, 1, 2, 3, 4, 5, 6, 7, 8, 9, 10, 13, 6, 7, 3, 2, 5, 13, 5, 11, 1, 2, 3, 4, 5, 6, 7, 8, 9, 10, 11, 1, 2, 3, 4, 5, 6, 7, 8, 9, 10, 11, 12, 6, 1, 2, 3, 4, 5, 6, 7, 8, 9, 10, 11, 14, 10, 11, 2, 3, 4, 5, 6, 8, 10, 11, 3, 4, 5, 6, 7, 9, 10, 3, 6, 10, 10, 1, 2, 3, 4, 5, 6, 3, 13, 10, 4, 6, 8, 10, 1, 2, 8, 6, 9, 11, 1, 2, 5, 6, 7, 8, 9, 10, 1, 2, 3, 4, 5, 6, 7, 9, 10, 4, 8, 2, 7, 11, 1, 3, 4, 5, 6, 7, 8, 12, 4, 1, 2, 3, 5, 6, 7, 10, 11, 9, 2, 9, 13, 1, 2, 3, 4, 5, 6, 7, 8, 9, 11, 13, 14, 1, 2, 3, 4, 5, 6, 7, 8, 9, 10, 11, 13, 14, 1, 2, 3, 4, 5, 6, 7, 8, 9, 10, 11, 1, 2, 3, 5, 6, 7, 9, 10, 11, 1, 3, 4, 5, 6, 7, 8, 9, 12, 13, 2, 8, 14, 2, 4, 5, 7, 8, 10, 13, 8, 6, 8, 8, 13, 2, 2, 3, 4, 5, 10, 1, 2, 7, 11, 1, 3, 7, 1, 2, 7, 9, 10, 11, 9, 1, 2, 4, 7, 8, 10, 1, 2, 4, 5, 7, 8, 11, 1, 2, 7, 1, 2, 7, 1, 3, 4, 5, 6, 8, 9, 10, 1, 2, 3, 4, 6, 7, 8, 9, 1, 2, 3, 4, 5, 6, 7, 8, 9, 10, 11, 14, 8, 13, 4, 1, 2, 3, 4, 5, 6, 7, 9, 10, 11, 14, 1, 10, 2, 1, 2, 3, 4, 5, 6, 7, 8, 9, 10, 11, 14, 3, 6, 7, 10, 12, 4, 5, 10, 9, 10, 2, 7, 14, 4, 5, 9, 1, 1, 2, 3, 4, 5, 6, 7, 8, 9, 10, 11, 14, 1, 2, 3, 5, 7, 8, 9, 1, 2, 3, 4, 5, 6, 7, 8, 9, 11, 9, 1, 2, 3, 4, 5, 6, 7, 8, 9, 10, 11, 14, 1, 2, 3, 4, 5, 6, 7, 8, 9, 10, 11, 14, 6, 3, 3, 4, 6, 10, 12, 12, 12, 11, 4, 14, 1, 2, 3, 4, 5, 6, 3, 1, 3, 4, 5, 6, 7, 9, 10, 14, 5, 13, 9, 5, 7, 1, 2, 3, 4, 5, 6, 7, 8, 9, 10, 2, 1, 2, 3, 4, 5, 6, 7, 8, 9, 10, 11, 14, 2, 5, 6, 8, 9, 2, 5, 7, 10, 12, 14, 4, 8, 9, 11, 12, 1, 2, 3, 4, 5, 6, 8, 3, 4, 5, 6, 7, 9, 10, 14, 4, 6, 5, 12, 14, 1, 2, 3, 4, 7, 8, 9, 2, 1, 2, 5, 6, 7, 8, 9, 11, 1, 2, 3, 4, 5, 6, 7, 8, 9, 10, 11, 14, 2, 3, 4, 5, 6, 7, 8, 9, 1, 2, 3, 4, 5, 6, 7, 9, 11, 10, 2, 3, 4, 5, 8, 11, 2, 10, 11, 1, 2, 3, 4, 5, 6, 7, 8, 9, 10, 11, 13, 8, 11, 1, 4, 13, 1, 2, 3, 4, 5, 6, 7, 8, 9, 10, 11, 2, 5, 8, 9, 1, 2, 3, 4, 5, 6, 7, 8, 9, 10, 11, 14, 14, 7, 3, 5, 8, 11, 1, 2, 3, 5, 9, 14, 3, 9, 1, 2, 3, 4, 5, 6, 7, 8, 9, 10, 11, 1, 2, 3, 4, 5, 6, 7, 8, 9, 10, 1, 2, 3, 4, 5, 6, 7, 8, 9, 10, 11, 1, 2, 3, 4, 5, 6, 7, 8, 9, 10, 11, 13, 14, 1, 2, 3, 4, 5, 6, 7, 8, 9, 10, 13, 14, 1, 2, 3, 4, 5, 6, 7, 8, 9, 10, 11, 1, 6, 1, 3, 4, 5, 6, 7, 8, 9, 10, 11, 6, 12, 13, 1, 2, 3, 4, 5, 6, 7, 8, 9, 10, 11, 1, 2, 3, 4, 5, 6, 7, 8, 9, 10, 11, 1, 2, 3, 4, 5, 6, 7, 8, 9, 10, 11, 13, 14, 1, 4, 6, 1, 2, 3, 4, 5, 6, 7, 8, 9, 10, 11, 13, 14, 1, 1, 7, 1, 14], \"Freq\": [0.88645499684820694, 0.068188845911400536, 0.91401621331206062, 0.97876034438773984, 0.96511262934398134, 0.97456047059739159, 0.22327237140558259, 0.75100706745514145, 0.0059881725022496073, 0.36527852263722604, 0.035929035013497646, 0.13772796755174097, 0.017964517506748823, 0.38923121264622446, 0.011976345004499215, 0.029940862511248036, 0.16205589118304287, 0.81027945591521433, 0.94039822682476337, 0.96688239884644345, 0.94427975483197346, 0.1482679900240132, 0.27097253349216205, 0.10736647553463025, 0.14315530071284033, 0.10736647553463025, 0.040901514489382951, 0.18405681520222328, 0.94497705606967375, 0.98462086551079375, 0.084948883259719124, 0.22138193819199531, 0.14672988926678759, 0.072077840341579866, 0.13385884634864831, 0.10811676051236979, 0.018019460085394966, 0.018019460085394966, 0.15960093218492685, 0.0051484171672557047, 0.025742085836278523, 0.0051484171672557047, 0.90594575774293551, 0.98018448270719782, 0.026189974671657925, 0.1716898339586464, 0.21824978893048272, 0.05237994934331585, 0.20078980581604411, 0.058199943714795394, 0.0087299915572193083, 0.072749929643494235, 0.12512987898681008, 0.0029099971857397696, 0.06401993808627493, 0.82160465137888838, 0.02934302326353173, 0.14671511631765866, 0.19536827598060766, 0.80100993152049138, 0.98045783175959145, 0.98822344654168759, 0.98116708238627748, 0.94786453734843945, 0.94584474887488734, 0.96343310637986013, 0.27711524427603812, 0.15530634569316423, 0.10049234133087098, 0.091356673937155436, 0.085266229008011743, 0.027407002181146629, 0.051768781897721411, 0.094401896401727275, 0.024361779716574782, 0.015226112322859239, 0.076130561614296197, 0.98690374364708888, 0.2152111994898539, 0.076220633152656592, 0.063890824848550382, 0.28806915765048152, 0.10984738307294627, 0.085187766464733833, 0.035868533248308986, 0.039231208240337954, 0.017934266624154493, 0.015692483296135179, 0.049319233216424854, 0.0033626749920289672, 0.12820023676900569, 0.038460071030701704, 0.051280094707602274, 0.051280094707602274, 0.70510130222953127, 0.64904456583490655, 0.20023715328949246, 0.018988005915382904, 0.0051785470678317016, 0.0051785470678317016, 0.04660692361048531, 0.062142564813980415, 0.0034523647118878007, 0.0069047294237756015, 0.0017261823559439004, 0.0017261823559439004, 0.0017261823559439004, 0.95346552747835356, 0.0031359202026321731, 0.0015679601013160866, 0.42962106776060777, 0.42962106776060777, 0.029791241925005645, 0.067422284356591727, 0.0078398005065804331, 0.021951441418425213, 0.0078398005065804331, 0.0015679601013160866, 0.97405778596258652, 0.0077665866927840383, 0.52618624843611861, 0.085432453620624418, 0.038832933463920187, 0.24658912749589321, 0.029124700097940142, 0.0038832933463920191, 0.027183053424744134, 0.025241406751548123, 0.0019416466731960096, 0.0058249400195880289, 0.0038832933463920191, 0.30757033420411467, 0.64589770182864081, 0.96069987099347387, 0.20475122617272673, 0.10237561308636337, 0.088725531341514924, 0.54600326979393798, 0.040950245234545345, 0.0068250408724242241, 0.30719174515168352, 0.27286864513473563, 0.049768495024574422, 0.015445395007626544, 0.096104680047454052, 0.056633115027963997, 0.11841469505847017, 0.058349270028811392, 0.020593860010168726, 0.0017161550008473938, 0.0017161550008473938, 0.0017161550008473938, 0.97640772537437315, 0.022191084667599389, 0.97736148095175213, 0.22465219227092717, 0.74884064090309055, 0.9368737821304054, 0.028112340540033646, 0.14056170270016824, 0.81525787566097574, 0.96751100376300325, 0.04047117200594242, 0.0044967968895491582, 0.076445547122335686, 0.66552593965327533, 0.10342632845963062, 0.076445547122335686, 0.0089935937790983165, 0.0089935937790983165, 0.0089935937790983165, 0.96694338350916853, 0.054549706610745152, 0.098189471899341282, 0.12000935454363934, 0.043639765288596123, 0.032729823966447094, 0.19637894379868256, 0.4145777702416632, 0.032729823966447094, 0.94843415279154664, 0.94441791611208437, 0.96270740538728117, 0.95566252304511445, 0.14928694696758696, 0.098776325813140248, 0.17959331966025499, 0.22449164957531875, 0.06510257837684244, 0.16500136243785929, 0.069592411368348817, 0.0044898329915063753, 0.020204248461778686, 0.013469498974519125, 0.0044898329915063753, 0.0044898329915063753, 0.17865037735336908, 0.18641778506438514, 0.25632445446352953, 0.031069630844064187, 0.038837038555080236, 0.30292890072962581, 0.96364865048805703, 0.95756125295766681, 0.42182103936711429, 0.32624503044733238, 0.048707004545658079, 0.0073520006861370682, 0.015623001458041271, 0.053302004974493743, 0.046869004374123814, 0.032165003001849671, 0.03308400308761681, 0.0091900008576713352, 0.0055140005146028011, 0.89072536280134074, 0.084992878129898919, 0.0033997151251959567, 0.0067994302503919133, 0.0067994302503919133, 0.95065309602324266, 0.0051756325768931282, 0.44769221790125557, 0.15268116101834728, 0.041405060615145026, 0.2303156496717442, 0.0051756325768931282, 0.015526897730679385, 0.051756325768931279, 0.020702530307572513, 0.023290346596019078, 0.0025878162884465641, 0.0025878162884465641, 0.9533705685743199, 0.19074657985688442, 0.2266295998299617, 0.17563793986822032, 0.045325919965992341, 0.062323139953239466, 0.11898053991072989, 0.11331479991498085, 0.035883019973077267, 0.011331479991498085, 0.0094428999929150707, 0.0037771599971660286, 0.0056657399957490426, 0.97587339159395359, 0.23898588248488759, 0.21820450139924519, 0.14417083128164415, 0.053252289031958652, 0.16754988500299184, 0.1013092327925067, 0.025976726357053, 0.0025976726357053001, 0.01168952686067385, 0.022080217403495049, 0.0129883631785265, 0.19627038162704277, 0.26624503942451022, 0.2850187281018795, 0.029013882501388932, 0.051200969120098118, 0.040960775296078493, 0.063147861914787676, 0.044374173237418366, 0.0017066989706699372, 0.0068267958826797488, 0.013653591765359498, 0.0017066989706699372, 0.26819438863760664, 0.22110682422031691, 0.06346584769286874, 0.061418562283421366, 0.040945708188947577, 0.057323991464526609, 0.088033272606237292, 0.055276706055079228, 0.002047285409447379, 0.055276706055079228, 0.088033272606237292, 0.002047285409447379, 0.52780062587241472, 0.39585046940431101, 0.06597507823405184, 0.93848420141530231, 0.9464076221877562, 0.9569503568660247, 0.615453451241181, 0.060044239145481071, 0.016083278342539573, 0.080416391712697863, 0.020372152567216792, 0.043960960802941498, 0.045033179359110803, 0.0085777484493544387, 0.076127517488020643, 0.016083278342539573, 0.012866622674031658, 0.0032166556685079145, 0.094626632099921837, 0.30998379481008881, 0.083206176501655404, 0.04241883507927531, 0.12725650523782592, 0.15825488471883481, 0.048944809706856121, 0.01631493656895204, 0.089732151129236229, 0.011420455598266429, 0.014683442912056838, 0.0032629873137904083, 0.77558623149177797, 0.18466338845042332, 0.97950742185438322, 0.060736623580608488, 0.31886727379819457, 0.11236275362412571, 0.060736623580608488, 0.3067199490820729, 0.039478805327395519, 0.024294649432243395, 0.060736623580608488, 0.0091104935370912733, 0.0060736623580608488, 0.0030368311790304244, 0.84504146396109991, 0.0078244579996398136, 0.0547712059974787, 0.0078244579996398136, 0.070420121996758331, 0.015648915999279627, 0.18726786869504256, 0.79068655671240184, 0.9920407773742782, 0.9626436338095794, 0.96147095852478814, 0.95844083727819329, 0.72988271586433739, 0.05464362578663489, 0.062449858041868443, 0.089771670935185885, 0.011709348382850333, 0.046837393531401331, 0.0039031161276167777, 0.95451765481079232, 0.020308886272570052, 0.94893519098492951, 0.29326493489680155, 0.69317166430153099, 0.086362288878252577, 0.39068654492542831, 0.037012409519251104, 0.012337469839750367, 0.11926220845092021, 0.082249798931669116, 0.065799839145335298, 0.028787429626084191, 0.016449959786333825, 0.16038710791675478, 0.0041124899465834561, 0.9257738342899775, 0.035606685934229908, 0.96171194749514455, 0.16026140538240435, 0.77459679268162107, 0.026710234230400729, 0.62444094871981337, 0.11493830649513048, 0.075481872922175244, 0.025732456678014288, 0.0051464913356028576, 0.013723976894940954, 0.078912867145910476, 0.02058596534241143, 0.013723976894940954, 0.022301462454279049, 0.0017154971118676192, 0.95463360156896626, 0.84037815904284985, 0.12450046800634813, 0.9800535784989074, 0.95376021510245457, 0.98389681825713737, 0.96558503078658753, 0.014066405952516188, 0.010549804464387141, 0.3129775324434852, 0.23561229970464614, 0.038682616369419519, 0.28484472053845283, 0.063298826786322843, 0.007033202976258094, 0.003516601488129047, 0.024616210416903331, 0.003516601488129047, 0.028952513750102601, 0.65866968781483415, 0.036190642187628255, 0.057905027500205201, 0.043428770625153899, 0.086857541250307799, 0.065143155937730859, 0.0144762568750513, 0.35634173366859995, 0.61890932689809464, 0.050818024875353134, 0.30490814925211884, 0.60981629850423769, 0.025409012437676567, 0.95408359380315155, 0.9799095133069442, 0.98195109902103306, 0.97064288085020867, 0.96016224646243775, 0.7691574741409577, 0.20448899614623647, 0.0023237385925708692, 0.0046474771851417384, 0.0069712157777126072, 0.011618692962854345, 0.0023237385925708692, 0.050750895881312402, 0.39585698787423673, 0.07105125423383736, 0.040600716705049923, 0.030450537528787441, 0.081201433410099846, 0.22330394187777458, 0.1015017917626248, 0.87218330367388808, 0.043299880324235575, 0.012371394378353022, 0.0061856971891765108, 0.012371394378353022, 0.049485577513412086, 0.95597055204076187, 0.92889832492917501, 0.10695079781484967, 0.12299341748707712, 0.021390159562969933, 0.032085239344454904, 0.37432779235197389, 0.19251143606672941, 0.016042619672227452, 0.085560638251879734, 0.042780319125939867, 0.95899614211431927, 0.98733937458647747, 0.0656471245497601, 0.043764749699840073, 0.21882374849920036, 0.087529499399680147, 0.43764749699840072, 0.098470686824640163, 0.03282356227488005, 0.95940936770603669, 0.96814308173535324, 0.96080169192808806, 0.095501258668520883, 0.89134508090619491, 0.97099469160640872, 0.20482124745130942, 0.78204476299590875, 0.9417764737629335, 0.23559405659945135, 0.062825081759853685, 0.5811320062786467, 0.015706270439963421, 0.10994389307974396, 0.48943826772999777, 0.018824548758846069, 0.48943826772999777, 0.2250363256413912, 0.75949759903969538, 0.27778289994502131, 0.70988963319283227, 0.8205745937458051, 0.14919538068105548, 0.018649422585131935, 0.42807091488001675, 0.55397412513884514, 0.080093928479446061, 0.2022371694106013, 0.25830291934621358, 0.04004696423972303, 0.21224891047053207, 0.098115062387321428, 0.04004696423972303, 0.014016437483903061, 0.032037571391778423, 0.0060070446359584547, 0.012014089271916909, 0.0020023482119861514, 0.0020023482119861514, 0.84457777168146819, 0.071878959292039843, 0.062894089380534868, 0.0089848699115049804, 0.17441259711867713, 0.026832707249027251, 0.77814851022179032, 0.96293799728945972, 0.0074799839123598178, 0.26678609287416682, 0.42635908300450959, 0.069813183182024965, 0.097239790860677633, 0.019946623766292845, 0.0049866559415732113, 0.082279823035957989, 0.022439951737079453, 0.96673458189172967, 0.97305483195621068, 0.021623440710138015, 0.94952526578425822, 0.012933409065390646, 0.83636045289526173, 0.081911590747474089, 0.012933409065390646, 0.04311136355130215, 0.012933409065390646, 0.94100467342702443, 0.35351151819497284, 0.29710010571705164, 0.077722390525135868, 0.015043043327445651, 0.080229564413043478, 0.041368369150475544, 0.047636303870244562, 0.038861195262567934, 0.025071738879076086, 0.010028695551630435, 0.0037607608318614128, 0.0025071738879076087, 0.0050143477758152174, 0.95105276891745638, 0.97937848017474249, 0.96230332514336703, 0.098689783882372678, 0.88820805494135413, 0.96369759585902048, 0.93666326848572945, 0.98148877609039265, 0.16695985537874306, 0.086172828582577063, 0.59243819650521734, 0.053858017864110666, 0.032314810718466397, 0.037700612504877468, 0.021543207145644266, 0.0053858017864110664, 0.20969249005970256, 0.30954605675479901, 0.044934105012793407, 0.07489017502132235, 0.059912140017057872, 0.0049926783347548232, 0.069897496686567515, 0.19471445505543808, 0.0099853566695096464, 0.014978035004264468, 0.014978035004264468, 0.96635334260766481, 0.94949687832069929, 0.98169168998361656, 0.97588230495976813, 0.94853239914992116, 0.45457496605547137, 0.360668254603427, 0.012465492670625357, 0.0099723941365002858, 0.052355069216626499, 0.0083103284470835721, 0.039889576546001143, 0.0066482627576668575, 0.018282722583583856, 0.0033241313788334287, 0.033241313788334288, 0.9259565168743813, 0.12061427020706326, 0.15350907117262597, 0.43859734620750279, 0.08040951347137551, 0.036549778850625235, 0.036549778850625235, 0.014619911540250094, 0.029239823080500188, 0.0036549778850625235, 0.025584845195437664, 0.058479646161000376, 0.0036549778850625235, 0.11571181405319675, 0.19009798023025182, 0.19836310980548016, 0.0082651295752283402, 0.033060518300913361, 0.11571181405319675, 0.29754466470822022, 0.041325647876141701, 0.055024895247695188, 0.078606993210993126, 0.078606993210993126, 0.11791048981648969, 0.13363188845868831, 0.015721398642198625, 0.039303496605496563, 0.015721398642198625, 0.47164195926595875, 0.067380502916618915, 0.86247043733272211, 0.013476100583323783, 0.026952201166647566, 0.026952201166647566, 0.95085810559146378, 0.04354274903771941, 0.75474098332046979, 0.029028499358479606, 0.036285624198099511, 0.050799873877339315, 0.050799873877339315, 0.014514249679239803, 0.014514249679239803, 0.0072571248396199016, 0.96669788896385633, 0.9631198669715324, 0.88350847743624361, 0.1134781530652056, 0.96335486246503232, 0.026759857290695341, 0.96014102881590779, 0.9756856584249145, 0.93323699340583244, 0.025123043948464593, 0.97477410520042618, 0.050988658349077697, 0.67658027424737721, 0.043144249372296516, 0.054910862837468294, 0.0019611022441952961, 0.080405192012007146, 0.029416533662929442, 0.058833067325858884, 0.0019611022441952961, 0.98671598091884283, 0.97993246714738513, 0.071395062530888342, 0.65502136734688032, 0.050996473236348816, 0.0011332549608077515, 0.10085969151188988, 0.013599059529693019, 0.041930433549886806, 0.032864393863424796, 0.015865569451308521, 0.013599059529693019, 0.0033997648824232547, 0.062617148734009573, 0.70586604027428979, 0.062617148734009573, 0.011384936133456286, 0.079694552934194002, 0.062617148734009573, 0.005692468066728143, 0.005692468066728143, 0.005692468066728143, 0.16539105241392515, 0.82695526206962588, 0.99948739716787138, 0.96225510670871672, 0.035639078026248765, 0.002981783877808215, 0.73351883394082096, 0.01192713551123286, 0.05665389367835609, 0.09541708408986288, 0.03578140653369858, 0.041744974289315014, 0.01789070326684929, 0.002981783877808215, 0.13890975381182338, 0.2116720058084928, 0.12733394099417145, 0.059532751633638595, 0.16040769190174844, 0.17198350471940038, 0.071108564451290546, 0.023151625635303898, 0.031420063362198151, 0.0033073750907577, 0.96622592606309565, 0.99262341881331728, 0.98404064280155901, 0.85969554228956535, 0.12136878244087981, 0.98370324814209198, 0.98592965344493122, 0.99670552896790132, 0.011046569275616598, 0.72907357219069557, 0.24302452406356517, 0.13259559140179972, 0.61761630731890926, 0.090723299380178757, 0.055829722695494625, 0.0069787153369368282, 0.041872292021620967, 0.0069787153369368282, 0.0034893576684684141, 0.0034893576684684141, 0.034893576684684138, 0.0034893576684684141, 0.054474755870977977, 0.67548697280012693, 0.016342426761293393, 0.12529193850324935, 0.035408591316135683, 0.057198493664526881, 0.013618688967744494, 0.016342426761293393, 0.0027237377935488988, 0.0027237377935488988, 0.011919683585245384, 0.023839367170490768, 0.017879525377868077, 0.58406449567702379, 0.20263462094917153, 0.047678734340981535, 0.047678734340981535, 0.059598417926226922, 0.23780554095259313, 0.58945416002078932, 0.030358154164160822, 0.002529846180346735, 0.017708923262427147, 0.002529846180346735, 0.040477538885547761, 0.063246154508668384, 0.015179077082080411, 0.95807597644927256, 0.018291026375948278, 0.98161841550922424, 0.93806087146889916, 0.14983355621108382, 0.1579326673576289, 0.016198222293090144, 0.07289200031890565, 0.012148666719817607, 0.58718555812451767, 0.9778484148044736, 0.94997837192801771, 0.23290492978559199, 0.44372404726392956, 0.058226232446397998, 0.01003900559420655, 0.0080312044753652403, 0.0020078011188413101, 0.1967645096464484, 0.024093613426095721, 0.012046806713047861, 0.01003900559420655, 0.0020078011188413101, 0.9674306217805505, 0.96481304700526593, 0.97241241698522785, 0.9684939042472509, 0.043054459359893715, 0.010763614839973429, 0.19374506711952172, 0.021527229679946858, 0.032290844519920286, 0.5381807419986715, 0.150690607759628, 0.9717260640487464, 0.94006393579324754, 0.78613454254491133, 0.15424158746134337, 0.037316513095486302, 0.0049755350793981735, 0.0024877675396990867, 0.0024877675396990867, 0.0049755350793981735, 0.94999320893308159, 0.023749830223327037, 0.0094999320893308162, 0.0094999320893308162, 0.93545786440381651, 0.98811815729938324, 0.053737568905519381, 0.048363812014967443, 0.016121270671655814, 0.33317292721422015, 0.31167789965201242, 0.021495027562207752, 0.048363812014967443, 0.15046519293545427, 0.0053737568905519381, 0.010747513781103876, 0.96623780770352241, 0.018670425634640657, 0.97086213300131419, 0.99618589493639942, 0.95515261528782858, 0.20914794311896798, 0.76687579143621587, 0.030449823407229994, 0.80996530263231781, 0.048719717451567987, 0.048719717451567987, 0.021314876385060997, 0.0030449823407229992, 0.030449823407229994, 0.0030449823407229992, 0.0030449823407229992, 0.88420533178910132, 0.065496691243637134, 0.98513798297940991, 0.99104768634446094, 0.96894440167675588, 0.98972846424255023, 0.99758805366772441, 0.98961432733108523, 0.96405455149832819, 0.97328046671516077, 0.98305963278809205, 0.83163539767863615, 0.073379593912820826, 0.097839458550427777, 0.98440616743874754, 0.070399987779479617, 0.183039968226647, 0.26751995356202257, 0.028159995111791847, 0.45055992178866955, 0.29919352501457225, 0.15610096957282033, 0.078050484786410163, 0.45529449458739257, 0.01300841413106836, 0.99670992937549374, 0.0071547354235501747, 0.8299493091318203, 0.014309470847100349, 0.078702089659051927, 0.042928412541301052, 0.028618941694200699, 0.026382397118352857, 0.69473645744995849, 0.070353058982274286, 0.092338389914235, 0.0043970661863921429, 0.0087941323727842857, 0.065955992795882143, 0.039573595677529286, 0.043139493327882798, 0.028759662218588534, 0.69023189324612477, 0.021569746663941399, 0.043139493327882798, 0.028759662218588534, 0.021569746663941399, 0.064709239991824208, 0.050329408882529937, 0.0071899155546471336, 0.0033912231030716589, 0.020347338618429953, 0.20686460928737119, 0.5324220271822504, 0.050868346546074882, 0.077998131370648149, 0.020347338618429953, 0.047477123443003227, 0.030521007927644929, 0.0067824462061433178, 0.94776716182219656, 0.81930695397920161, 0.1463048132105717, 0.96176649789457491, 0.0028071997677533989, 0.10667359117462916, 0.42388716493076323, 0.07298719396158837, 0.25826237863331269, 0.036493596980794185, 0.014035998838766994, 0.028071997677533989, 0.050529595819561179, 0.0056143995355067977, 0.99275434164043919, 0.38335154905938235, 0.60885246027078377, 0.9572462606633817, 0.69649305323652588, 0.29548190137307156, 0.98943657001949226, 0.99358822021718396, 0.94979657310392696, 0.99405363506518085, 0.91981362851284643, 0.029671407371382141, 0.10034373864698533, 0.044597217176437921, 0.044597217176437921, 0.35677773741150337, 0.022298608588218961, 0.033447912882328443, 0.033447912882328443, 0.01114930429410948, 0.34562843311739389, 0.50372060964954202, 0.31810481208336966, 0.021644244945878761, 0.0052470896838493963, 0.045912034733682217, 0.011805951788661142, 0.039353172628870475, 0.01442949663058584, 0.010494179367698793, 0.012461837999142317, 0.016397155262029364, 0.00065588621048117454, 0.51237546029614878, 0.27442482280268304, 0.052105979013167665, 0.039079484259875751, 0.034737319342111779, 0.021710824588819861, 0.019973958621714274, 0.012158061769739123, 0.013026494753291916, 0.00086843298355279448, 0.01736865967105589, 0.001736865967105589, 0.00086843298355279448, 0.43887032090232908, 0.22545457881765535, 0.028455432277956497, 0.088649615942864482, 0.073327460100887906, 0.052533105743919693, 0.055816424852914673, 0.020794354356968209, 0.012038836732981596, 0.0021888794059966537, 0.0010944397029983269, 0.0010944397029983269, 0.77682620029478544, 0.14475022365741344, 0.0024125037276235572, 0.04101256336960047, 0.019300029820988458, 0.0048250074552471144, 0.012062518638117786, 0.62510408682160301, 0.25676318404930365, 0.0013443098641324797, 0.014787408505457277, 0.038984986059841908, 0.0013443098641324797, 0.029574817010914554, 0.022853267690252154, 0.0040329295923974395, 0.0026886197282649594, 0.0026886197282649594, 0.98461502514720411, 0.028528855212789625, 0.62152148856434541, 0.018339978351079044, 0.0020377753723421163, 0.21396641409592221, 0.0020377753723421163, 0.036679956702158088, 0.059095485797921371, 0.012226652234052697, 0.0061133261170263483, 0.97379299100560668, 0.12703935418759521, 0.83845973763812842, 0.96628229193075055, 0.98303726631017574, 0.96904788440609801, 0.04183884206383362, 0.015689565773937608, 0.53344523631387863, 0.15689565773937608, 0.14120609196543846, 0.039223914434844021, 0.028764203918885612, 0.013074638144948006, 0.0026149276289896013, 0.015689565773937608, 0.0078447828869688038, 0.0026149276289896013, 0.98604297114601847, 0.94695257390244847, 0.095617983877650761, 0.50334750003518036, 0.084793306457539352, 0.0054123387100557035, 0.12628790323463307, 0.01804112903351901, 0.07036040323072415, 0.063143951617316535, 0.0018041129033519012, 0.0072164516134076047, 0.019845241936870914, 0.0018041129033519012, 0.0018041129033519012, 0.99305628265535428, 0.30137153450817988, 0.033485726056464431, 0.39513156746628031, 0.0066971452112928867, 0.26118866324042256, 0.47685348541690104, 0.11337169979966251, 0.14539271424689543, 0.055387700665483972, 0.032886447270131111, 0.057983999134178531, 0.056253133488382158, 0.042406208322011169, 0.00086543282289818706, 0.013846925166370993, 0.0043271641144909355, 0.077285715688952344, 0.24216190915871735, 0.21124762288313642, 0.13911428824011421, 0.15972381242383485, 0.0051523810459301565, 0.01545714313779047, 0.010304762091860313, 0.14426666928604437, 0.033199514886121557, 0.0047427878408745081, 0.17548315011235679, 0.018971151363498032, 0.63553357067718408, 0.052170666249619586, 0.02371393920437254, 0.047427878408745079, 0.0094855756817490162, 0.0047427878408745081, 0.12621731860249435, 0.6505046420282401, 0.06068140317427613, 0.0024272561269710453, 0.036408841904565677, 0.0024272561269710453, 0.019418049015768362, 0.05825414704730509, 0.0048545122539420905, 0.016990792888797318, 0.021845305142739406, 0.96948542447246111, 0.30277076833228234, 0.4142072316768029, 0.0084102991203411758, 0.025230897361023526, 0.012615448680511763, 0.033641196481364703, 0.12405191202503234, 0.044154070381791172, 0.025230897361023526, 0.0084102991203411758, 0.33112926624146261, 0.41374634863703708, 0.032385896299065201, 0.01784528979744409, 0.053535869392332271, 0.015201543160785707, 0.052874932733167679, 0.041639009527369548, 0.023793719729925455, 0.0066093665916459599, 0.0099140498874689398, 0.00066093665916459594, 0.20536380597865739, 0.40967446423434734, 0.047391647533536321, 0.0063188863378048432, 0.026328693074186844, 0.069507749715853273, 0.15060012438434875, 0.045285352087601372, 0.015797215844512106, 0.0094783295067072636, 0.011584624952642212, 0.0010531477229674738, 0.094136046558329439, 0.02353401163958236, 0.21965077530276869, 0.0078446705465274533, 0.094136046558329439, 0.36869951568679032, 0.078446705465274533, 0.039223352732637266, 0.054912693825692173, 0.015689341093054907, 0.88957676823328191, 0.021696994347153217, 0.021696994347153217, 0.065090983041459646, 0.021696994347153217, 0.9702830709987913, 0.97393920713018567, 0.014322635398973318, 0.9714540900459403, 0.94186433013954252, 0.97876317550692882, 0.93609948551221467, 0.039004145229675609, 0.96192289688746513, 0.94103111991589672, 0.98837390255743329, 0.96464419645638888, 0.94589039750103709, 0.64201187315219344, 0.23464393333481179, 0.013035774074156211, 0.0065178870370781053, 0.0065178870370781053, 0.0065178870370781053, 0.027701019907581947, 0.057031511574433424, 0.0016294717592695263, 0.0048884152778085792, 0.9533853352338536, 0.19908018546327863, 0.3194542510922378, 0.13657826677131907, 0.0069446576324399519, 0.083335891589279426, 0.025463744652279824, 0.1018549786091193, 0.1018549786091193, 0.0069446576324399519, 0.0023148858774799841, 0.013889315264879904, 0.96585696477690253, 0.6229584179481662, 0.24540786161594427, 0.075510111266444385, 0.056632583449833296, 0.95642541419302651, 0.98054500859751181, 0.94186958638338514, 0.96853743503324652, 0.98401513799139573, 0.77036477599359787, 0.16168149619618721, 0.057064057481007249, 0.874461391078873, 0.11361112561260948, 0.0034427613822002874, 0.0034427613822002874, 0.68929257703516256, 0.17784008108063515, 0.036346877885093318, 0.0077886166896628537, 0.020769644505767609, 0.038943083448314264, 0.022067747287378085, 0.0051924111264419022, 0.0012981027816104755, 0.66281611742488733, 0.22869094109981494, 0.0019380588228797876, 0.0019380588228797876, 0.054265647040634052, 0.02325670587455745, 0.015504470583038301, 0.0096902941143989386, 0.97759443633480048, 0.14160866798236463, 0.019759349020795066, 0.039518698041590132, 0.088917070593577799, 0.63888561833904045, 0.052691597388786843, 0.0032932248367991777, 0.009879674510397533, 0.009879674510397533, 0.23212984003539708, 0.033161405719342445, 0.72955092582553371, 0.80184357029095232, 0.19504303061131273, 0.025717779659052292, 0.034290372878736389, 0.025717779659052292, 0.64294449147630728, 0.20574223727241833, 0.060008152537788684, 0.85677765764276992, 0.083267393837404752, 0.0043824944124949868, 0.017529977649979947, 0.015338730443732454, 0.0087649888249899735, 0.010956236031237467, 0.93720441342916405, 0.60489618699349046, 0.059057911747885161, 0.025054871650617948, 0.042951208543916486, 0.10200912029180165, 0.0089481684466492673, 0.04116157485458663, 0.026844505339947804, 0.007158534757319414, 0.014317069514638828, 0.064426812815874729, 0.003579267378659707, 0.0017896336893298535, 0.95500617121632425, 0.86632593050804052, 0.09761418935301866, 0.0040672578897091105, 0.020336289448545552, 0.0040672578897091105, 0.0040672578897091105, 0.21226341882310795, 0.13584858804678909, 0.16981073505848637, 0.084905367529243186, 0.0084905367529243183, 0.016981073505848637, 0.37358361712867, 0.96396232907816659, 0.95433433568085624, 0.98204188973616402, 0.05041930334401068, 0.026536475444216147, 0.254750164264475, 0.24678922163121017, 0.25342334049226423, 0.1273750821322375, 0.026536475444216147, 0.0013268237722108074, 0.0053072950888432297, 0.0026536475444216149, 0.0026536475444216149, 0.0013268237722108074, 0.0013268237722108074, 0.029184426026441647, 0.094849384585935351, 0.31130054428204423, 0.1896987691718707, 0.2553637277313644, 0.046208674541865946, 0.034048497030848592, 0.019456284017627765, 0.012160177511017353, 0.0024320355022034706, 0.0024320355022034706, 0.9515476025022872, 0.063702732578379315, 0.031851366289189657, 0.61048452054280167, 0.12209690410856035, 0.010617122096396552, 0.026542805240991379, 0.026542805240991379, 0.095554098867568965, 0.0053085610481982759, 0.97491403041002267, 0.98329424050398917, 0.98170125135430697, 0.98793718259725904, 0.97491412648960096, 0.95164667101197797, 0.94274757720776059, 0.025479664248858395, 0.025479664248858395, 0.95074036055296907, 0.96570005625709332, 0.024761539904028036, 0.80043243991961233, 0.19378890650685351, 0.96496274130059101, 0.97731562425001661, 0.0212459918315221, 0.010690849836762032, 0.2031261468984786, 0.053454249183810157, 0.54523334167486359, 0.021381699673524063, 0.074835948857334217, 0.074835948857334217, 0.010690849836762032, 0.39980675372832974, 0.3984233393555674, 0.0207512155914358, 0.070554133010881717, 0.017984386845911027, 0.033201944946297281, 0.022134629964198186, 0.015217558100386254, 0.0013834143727623866, 0.019367801218673413, 0.0013834143727623866, 0.97974054439585467, 0.94080017723427456, 0.61602511034960739, 0.09648586065716741, 0.11132983921980856, 0.16328376418905255, 0.0074219892813205705, 0.4568464343887218, 0.46059107729354742, 0.0037446429048255889, 0.01685089307171515, 0.035574107595843091, 0.011233928714476767, 0.013106250166889561, 0.98053292489195809, 0.96219525307599152, 0.97186481949989434, 0.55170734492741946, 0.24295369317904711, 0.025307676372817407, 0.1619691287860314, 0.015184605823690444, 0.0086350812875147995, 0.017270162575029599, 0.38210234697252987, 0.27200506055671619, 0.064763109656360993, 0.13168498963460068, 0.025905243862544398, 0.066921879978239701, 0.028064014184423097, 0.0076739020980286501, 0.038369510490143248, 0.62158606994032062, 0.15347804196057299, 0.16882584615663029, 0.0076739020980286501, 0.0076739020980286501, 0.94976317285310152, 0.025669274941975719, 0.97360502235492574, 0.25457043567958865, 0.66579960100815494, 0.068538194221427706, 0.019582341206122202, 0.38359561748916621, 0.17602223140195505, 0.19428868937762964, 0.023248219241767648, 0.031551154685256093, 0.031551154685256093, 0.028229980507860717, 0.086350528612279848, 0.043175264306139924, 0.0033211741773953784, 0.0016605870886976892, 0.96068364113270821, 0.019605788594545065, 0.37318902830711004, 0.067120328832214041, 0.13424065766442808, 0.05369626306577123, 0.013424065766442807, 0.069805141985502597, 0.12081659189798527, 0.10202289982496535, 0.024163318379597055, 0.024163318379597055, 0.010739252613154246, 0.0026848131532885614, 0.95045501651858755, 0.026817891385126233, 0.27284289496171904, 0.17839727747497017, 0.13175746637040281, 0.1375874427584737, 0.099109598597205639, 0.086283650543449622, 0.0034979858328425522, 0.054801778047866651, 0.008161966943299289, 0.001165995277614184, 0.018043850634596313, 0.79392942792223775, 0.012029233756397542, 0.030073084390993855, 0.012029233756397542, 0.066160785660186489, 0.0060146168781987711, 0.060146168781987711, 0.062705407366080559, 0.17243987025672153, 0.45461420340408404, 0.26649798130584235, 0.047029055524560416, 0.89646369882325361, 0.030912541338732884, 0.061825082677465767, 0.99305597111230692, 0.93588022472545296, 0.95742458112713746, 0.88980957222538015, 0.080891779293216379, 0.020222944823304095, 0.93672518999775711, 0.037469007599910287, 0.98909068434095881, 0.037673644710891893, 0.73086870739130272, 0.0075347289421783779, 0.19590295249663783, 0.0075347289421783779, 0.022604186826535134, 0.0045056421844221796, 0.0090112843688443592, 0.018022568737688718, 0.77947609790503702, 0.022528210922110898, 0.08110155931959924, 0.0045056421844221796, 0.0045056421844221796, 0.08110155931959924, 0.09923031883343536, 0.044813692376390164, 0.060818582510815219, 0.48014670403275173, 0.0032009780268850113, 0.048014670403275173, 0.073622494618355266, 0.12483814304851545, 0.02560782421508009, 0.022406846188195082, 0.016004890134425059, 0.95385579168287205, 0.94185637795680788, 0.96081029135008145, 0.98292828298974877, 0.95238161359911788, 0.97877108859612361, 0.93886380515264201, 0.017676790494757864, 0.90740857873090375, 0.023569053993010486, 0.017676790494757864, 0.029461317491263111, 0.97525164214626503, 0.032609084205631557, 0.35869992626194713, 0.02173938947042104, 0.50000595781968393, 0.076087863146473644, 0.88938778056715362, 0.074115648380596144, 0.083938780537029231, 0.83938780537029234, 0.027979593512343078, 0.95145839554874456, 0.80353446052188426, 0.15994524806596747, 0.0076164403840936895, 0.015232880768187379, 0.0076164403840936895, 0.94121829964653658, 0.98974396057151182, 0.70815453971564002, 0.1707158265385918, 0.001264561678063643, 0.0063228083903182145, 0.0063228083903182145, 0.015174740136763716, 0.042995097054163857, 0.027820356917400143, 0.015174740136763716, 0.001264561678063643, 0.0050582467122545719, 0.96694053324348217, 0.98890716320187999, 0.97771654090635662, 0.98643964910857806, 0.95620216017458448, 0.98969761070449636, 0.048060952454310621, 0.91315809663190184, 0.9792400238229596, 0.028605170737576908, 0.94397063434003792, 0.98032547430955619, 0.97424346791195349, 0.062735717603568733, 0.87830004644996229, 0.041823811735712486, 0.13810318945830657, 0.84396393557854021, 0.025773697009638857, 0.180415879067472, 0.77321091028916566, 0.98903743701194735, 0.10425563489783632, 0.0094777849907123936, 0.48652629618990284, 0.12952972820640271, 0.091618588243553137, 0.072663018262128343, 0.10109637323426553, 0.0063185233271415954, 0.02929964967733913, 0.02929964967733913, 0.90828913999751304, 0.95599855148462942, 0.049590137910445066, 0.89262248238801112, 0.93526713671945261, 0.97250321750309243, 0.07759414980240209, 0.18659545547720502, 0.33808879556760907, 0.11823870446080317, 0.14595090081880391, 0.036949595144000993, 0.0055424392716001492, 0.057271872473201542, 0.018474797572000497, 0.0073899190288001983, 0.0036949595144000992, 0.0036949595144000992, 0.97661966668453326, 0.97953421371516725, 0.13032495840624858, 0.86883305604165728, 0.10559070468874311, 0.86584377844769356, 0.14759016361128749, 0.82650491622320987, 0.93464798057684284, 0.9648120743651718, 0.027280881024832986, 0.95483083586915452, 0.95920515630612546, 0.9562120280046188, 0.066444783139911534, 0.81948565872557555, 0.11074130523318589, 0.075430235308352064, 0.90516282370022472, 0.95062732573100295, 0.66441915519845995, 0.22958986514711183, 0.0034786343204107851, 0.0052179514806161781, 0.053918831966367167, 0.027829074563286281, 0.0052179514806161781, 0.0052179514806161781, 0.0052179514806161781, 0.1621885723273421, 0.81094286163671048, 0.97733657185718104, 0.9848417920121475, 0.96423174839682746, 0.94523345768421285, 0.0055222853817727072, 0.32581483752458973, 0.24850284217977184, 0.022089141527090829, 0.11596799301722685, 0.013805713454431769, 0.17119084683495392, 0.08559542341747696, 0.0027611426908863536, 0.0055222853817727072, 0.95043212523754461, 0.9620299634071342, 0.74766413156782707, 0.16059933512016503, 0.0080974454682436157, 0.022942762160023576, 0.022942762160023576, 0.0040487227341218079, 0.016194890936487231, 0.0013495742447072691, 0.0026991484894145381, 0.0080974454682436157, 0.0026991484894145381, 0.0026991484894145381, 0.60675171228932345, 0.32320041704124358, 0.0048059541567471165, 0.0072089312351206747, 0.0012014885391867791, 0.038447633253976932, 0.01321637393105457, 0.0036044656175603373, 0.0012014885391867791, 0.85664788395862679, 0.12849718259379403, 0.99851126311762972, 0.042579703813093728, 0.30788401218698541, 0.18669562441125712, 0.032753618317764403, 0.30788401218698541, 0.013101447327105763, 0.029478256485987966, 0.0065507236635528815, 0.026202894654211526, 0.0098260854953293227, 0.0098260854953293227, 0.019652170990658645, 0.0065507236635528815, 0.99244132681903341, 0.30876843629268902, 0.22738760812252293, 0.13284223421894761, 0.045477521624504587, 0.10172603521270762, 0.0095742150788430697, 0.11249702717640607, 0.013164545733409222, 0.035903306545661512, 0.0059838844242769192, 0.0011967768848553837, 0.0059838844242769192, 0.96552824062214759, 0.99367723988387224, 0.031687466211257356, 0.20913727699429857, 0.076049918907017663, 0.22814975672105298, 0.025349972969005884, 0.012674986484502942, 0.27884970265906472, 0.13308735808728089, 0.99361962529596703, 0.78854244542214091, 0.16504376764649459, 0.014670557124132854, 0.025673474967232494, 0.95704335178878686, 0.96492945900442073, 0.97800358901351081, 0.94802176187496778, 0.47153000426033825, 0.16017050938367045, 0.023950730375128293, 0.11526288993030491, 0.028441492320464848, 0.09729984214895869, 0.082330635664503507, 0.0059876825937820732, 0.0014969206484455183, 0.0074846032422275915, 0.0044907619453365549, 0.11880467889668506, 0.032773704523223465, 0.061450695981043996, 0.024580278392417599, 0.18025537487772905, 0.55715297689479892, 0.0081934261308058663, 0.012290139196208799, 0.0040967130654029332, 0.23699752629813037, 0.72346613291008222, 0.012473554015691073, 0.024947108031382146, 0.92598467858231348, 0.94687390169829644, 0.95681899046389596, 0.0036886530966000457, 0.20656457340960255, 0.66395755738800821, 0.022131918579600274, 0.08483902122180105, 0.011065959289800137, 0.0073773061932000915, 0.0036886530966000457, 0.036471062148951072, 0.72942124297902144, 0.04558882768618884, 0.027353296611713308, 0.15500201413304207, 0.60493666812597724, 0.13669242020154293, 0.021812620244927063, 0.04507941517284926, 0.037808541757873577, 0.023266794927922201, 0.037808541757873577, 0.024720969610917336, 0.024720969610917336, 0.036354367074878435, 0.0058166987319805503, 0.33023479850966275, 0.11090904553720748, 0.20437172436069695, 0.026169550070577047, 0.11713989079210678, 0.073523974007811702, 0.073523974007811702, 0.039877409631355498, 0.0087231833568590152, 0.0074770143058791559, 0.0062308452548992966, 0.0012461690509798593, 0.98282309039732085, 0.95905029154793664, 0.054552349244526822, 0.054552349244526822, 0.014877913430325497, 0.019837217907100663, 0.11902330744260398, 0.019837217907100663, 0.71413984465562386, 0.84412397077334567, 0.15347708559515374, 0.93754055293175442, 0.030840149767491921, 0.024672119813993535, 0.44865761765266154, 0.15344967378999824, 0.14565540464510945, 0.029228509293333, 0.039458487545999545, 0.048714182155554994, 0.086711244236887891, 0.025331374720888599, 0.0038971345724443996, 0.0063328436802221498, 0.0082814109664443494, 0.00048714182155554995, 0.0034099927508888499, 0.97358895200626738, 0.090397399015156296, 0.89106007600654058, 0.98032836445204397, 0.94844676678148587, 0.039171831262704397, 0.43648611978442042, 0.033575855368032342, 0.19585915631352199, 0.0027979879473360282, 0.0027979879473360282, 0.069949698683400716, 0.18746519247151391, 0.025181891526024257, 0.0027979879473360282, 0.010609982526036857, 0.79574868945276434, 0.074269877682257998, 0.053049912630184284, 0.042439930104147428, 0.010609982526036857, 0.010609982526036857, 0.95322332001452292, 0.9764548285025747, 0.55044343534296369, 0.17356324537841197, 0.019835799471818513, 0.045622338785182577, 0.056532028494682758, 0.021819379419000362, 0.061490978362637387, 0.028761909234136841, 0.011901479683091106, 0.025786539313364065, 0.0029753699207727764, 0.95662391027523053, 0.23712679532174791, 0.19760566276812325, 0.23167560462469622, 0.036795537205098816, 0.038839733716493192, 0.13014717789210878, 0.050423513947728003, 0.01430937557976065, 0.0088581848827089735, 0.025211756973864002, 0.018397768602549408, 0.0034069941856572977, 0.0068139883713145954, 0.14815312151684545, 0.075474231716128826, 0.14116476672831502, 0.24179707568315345, 0.16073216013620026, 0.071281218843010558, 0.030748761069533965, 0.040532457773476589, 0.048918483519713125, 0.026555748196415697, 0.012579038619354804, 0.0013976709577060893, 0.0013976709577060893, 0.96195400991699465, 0.94229954306715002, 0.052550643504583598, 0.89336093957792118, 0.12107688451804208, 0.83946639932509171, 0.0080717923012028053, 0.032287169204811221, 0.98384086921244351, 0.98894533908722304, 0.92875231229069266, 0.29435322478147791, 0.38592978360238217, 0.019623548318765196, 0.0078494193275060777, 0.077185956720476429, 0.022240021427933888, 0.078494193275060783, 0.034014150419193007, 0.034014150419193007, 0.015698838655012155, 0.02093178487334954, 0.0052329462183373851, 0.90383364912998099, 0.084470434498129063, 0.81221137743953664, 0.16244227548790732, 0.96236697408345706, 0.021626224136706899, 0.90916354982122283, 0.025254543050589523, 0.05892726711804222, 0.026051837833966841, 0.0651295945849171, 0.59919227018123733, 0.28657021617363526, 0.026051837833966841, 0.82376111597177182, 0.097734369691566139, 0.013962052813080878, 0.041886158439242635, 0.013962052813080878, 0.013962052813080878, 0.9467319491441889, 0.95600448167251173, 0.45588722335271725, 0.27859774760443828, 0.02993198941204709, 0.011512303620018111, 0.023024607240036223, 0.020722146516032602, 0.16577717212826082, 0.0069073821720108675, 0.0046049214480072447, 0.94595449353733962, 0.082237893898649647, 0.10369125752438434, 0.35934384073105607, 0.050057848460047606, 0.18414137112088941, 0.10011569692009521, 0.041118946949324824, 0.0053633409064336723, 0.0017877803021445575, 0.053633409064336723, 0.0089389015107227878, 0.0071511212085782301, 0.96190244990709672, 0.9621614640692191, 0.9891240609008225, 0.24947143376219241, 0.012473571688109621, 0.068604644284602917, 0.024947143376219241, 0.10602535934893177, 0.031183929220274052, 0.0062367858440548103, 0.43657500908383673, 0.056131072596493296, 0.95612000617497495, 0.097054221292122572, 0.072790665969091922, 0.80069732566001117, 0.87904534887097119, 0.065114470286738599, 0.98079059370814048, 0.98903992903498839, 0.93943388440371212, 0.010021682726564474, 0.005010841363282237, 0.22047701998441843, 0.47853535019345361, 0.12527103408205592, 0.065140937722669073, 0.020043365453128948, 0.027559627498052304, 0.0025054206816411185, 0.040086730906257896, 0.0025054206816411185, 0.0025054206816411185, 0.99134904286568859, 0.13121186274751506, 0.85287710785884785, 0.92879593544501315, 0.77469910889016091, 0.0089045874585075967, 0.11575963696059877, 0.097950462043583569, 0.96695152928564776, 0.5711869718862469, 0.10281365493952445, 0.024479441652267727, 0.094653841055435214, 0.053854771634988995, 0.01958355332181418, 0.053854771634988995, 0.0016319627768178484, 0.0032639255536356967, 0.01958355332181418, 0.050590846081353301, 0.030927496152234689, 0.22035841008467216, 0.27834746537011223, 0.046391244228352037, 0.10438029951379207, 0.2358221581607895, 0.0077318740380586722, 0.0038659370190293361, 0.0077318740380586722, 0.061854992304469378, 0.9096916722091295, 0.069976282477625343, 0.94452883505994345, 0.097228579979985089, 0.46669718390392839, 0.10209000897898433, 0.01296381066399801, 0.084264769315987073, 0.021066192328996768, 0.068060005985989561, 0.077782863983988065, 0.035650479325994529, 0.014584286996997762, 0.016204763329997512, 0.0016204763329997513, 0.0016204763329997513, 0.92484368751316448, 0.025690102430921236, 0.051380204861842471, 0.97853183552252698, 0.99034083861988587, 0.038118043810807446, 0.16200168619593164, 0.085765598574316759, 0.20964924095944096, 0.095295109527018612, 0.095295109527018612, 0.30494435048645957, 0.96072334096205658, 0.98425603211930413, 0.94932194978382178, 0.18441232554149817, 0.77453176727429229, 0.56420349894363075, 0.27947754715114737, 0.036082781909185693, 0.0078726069620041507, 0.021649669145511415, 0.011152859862839214, 0.057732451054697105, 0.005904455221503113, 0.010496809282672201, 0.0045923540611690879, 0.00065605058016701256, 0.96128577282509042, 0.92448082768510276, 0.94102688965305414, 0.31633814000336058, 0.35563480335781528, 0.0648394945348503, 0.023577998012672838, 0.02750766434811831, 0.16111631975326438, 0.015718665341781891, 0.0039296663354454727, 0.0019648331677227363, 0.025542831180395572, 0.0019648331677227363, 0.93674186010110894, 0.97152934235539945, 0.31716258113559281, 0.67163840711066713, 0.26677559180807642, 0.078463409355316593, 0.62770727484253275, 0.031385363742126637, 0.065771155241790946, 0.92079617338507325, 0.96567789993590047, 0.9974597828247771, 0.95915091927351792, 0.10658311288019028, 0.0096893738981991169, 0.082359678134692485, 0.36819620813156645, 0.048446869490995581, 0.16956404321848453, 0.058136243389194701, 0.019378747796398234, 0.14534060847298674, 0.0048446869490995585, 0.37119677985542382, 0.20929180140784534, 0.10398775038503008, 0.07371283571597069, 0.036856417857985345, 0.028958614031274199, 0.11320185484952641, 0.0144793070156371, 0.0092141044644963362, 0.015795607653422292, 0.022377110842348245, 0.0013163006377851908, 0.95175944589105321, 0.97569527197972916, 0.94486265073335673, 0.93615556601241767, 0.041606914044996342, 0.97735940274044486, 0.97817483360722512, 0.043460334158607838, 0.71347381910381202, 0.13762439150225816, 0.083298973803998352, 0.0036216945132173197, 0.01086508353965196, 0.0036216945132173197, 0.92785736919611073, 0.96088070984655571, 0.94118617296055984, 0.96760648683236905, 0.9673085353994304, 0.92862479925279839, 0.32519061249168485, 0.032519061249168486, 0.61786216373420122, 0.97758300603516768, 0.93310759133295629, 0.058933111031555137, 0.98077119135191926, 0.94676866107935209, 0.25309438237458298, 0.4213187922163717, 0.050012662385396638, 0.021217493133198574, 0.068199085070995411, 0.021217493133198574, 0.087901042980394098, 0.022733028356998471, 0.010608746566599287, 0.018186422685598776, 0.019701957909398677, 0.006062140895199593, 0.97324933220373644, 0.1229553875425194, 0.81970258361679604, 0.96448188236684496, 0.15031979721911554, 0.82675888470513548, 0.37545294761900749, 0.15600537989709454, 0.1445649853713076, 0.095683299670217978, 0.085282941010411673, 0.032241111845399538, 0.065522259556779705, 0.011440394525786933, 0.0093603227938256726, 0.0093603227938256726, 0.010400358659806302, 0.0020800717319612604, 0.95380096628230115, 0.94412974357236845, 0.96761993153197823, 0.057769424292859368, 0.07977682402347247, 0.17330827287857811, 0.46490631930920162, 0.02475832469693973, 0.14854994818163839, 0.0082527748989799105, 0.019256474764286456, 0.016505549797959821, 0.0027509249663266368, 0.0027509249663266368, 0.0076616047818180511, 0.7661604781818051, 0.21452493389090541, 0.85156371400098252, 0.029879428561437986, 0.059758857122875972, 0.029879428561437986, 0.97431837765655827, 0.95765884478992436, 0.94926071186498628, 0.21330851320911332, 0.052142081006672142, 0.14220567547274221, 0.080583216101220587, 0.13272529710789271, 0.15168605383759168, 0.0094803783648494799, 0.014220567547274221, 0.19434775647941435, 0.0047401891824247399, 0.96563327590659143, 0.17129236012538607, 0.82220332860185308, 0.98959234808338947, 0.98347732669652554, 0.94790585336609123, 0.9343377294864984, 0.50768824260945322, 0.20637733439408668, 0.11969885394857027, 0.049530560254580802, 0.0041275466878817335, 0.0041275466878817335, 0.10318866719704334, 0.0041275466878817335, 0.98897872377721618, 0.95823342866765193, 0.98478398337525708, 0.092095304858684626, 0.2888443652386018, 0.15907370839227344, 0.0069769170347488358, 0.21907519489111343, 0.082327621010036253, 0.068373786940538583, 0.046047652429342313, 0.022326134511196274, 0.0027907668138995342, 0.012558450662547904, 0.0013953834069497671, 0.056055195189333239, 0.31764610607288835, 0.21954951449155519, 0.037370130126222159, 0.1790652068548145, 0.035813041370962903, 0.062283550210370263, 0.043598485147259183, 0.024913420084148107, 0.012456710042074054, 0.010899621286814796, 0.0015570887552592567, 0.048808670058775983, 0.67844051381698622, 0.019523468023510394, 0.0048808670058775984, 0.15130687718220556, 0.039046936047020787, 0.043927803052898388, 0.0048808670058775984, 0.10357943071999635, 0.24168533834665817, 0.01150882563555515, 0.023017651271110301, 0.069052953813330903, 0.01150882563555515, 0.52940597923553689, 0.91049601079499065, 0.050583111710832816, 0.95942186864553269, 0.029808300611423054, 0.52377442502929084, 0.055358272564071387, 0.1745914750097636, 0.0042583286587747219, 0.059616601222846108, 0.046841615246521945, 0.097941559151818611, 0.050492896649808473, 0.16830965549936158, 0.02244128739991488, 0.58908379424776558, 0.028051609249893597, 0.095375471449638233, 0.028051609249893597, 0.01122064369995744, 0.0056103218499787199, 0.8402927670911553, 0.14828695889843918, 0.97445087974968492, 0.96207509308361128, 0.96258200465793697, 0.96428013911135579, 0.028769328658284261, 0.93500318139423844, 0.028769328658284261, 0.98362924518766526, 0.21121226145693345, 0.62703640120027115, 0.0066003831705291702, 0.036302107437910437, 0.059403448534762537, 0.01320076634105834, 0.0099005747557937562, 0.033001915852645849, 0.91897757659139923, 0.062657562040322676, 0.18268637657117098, 0.19410427510686917, 0.079925289749887315, 0.022835797071396373, 0.42246224582083292, 0.045671594142792746, 0.057089492678490936, 0.74841037814515499, 0.084196167541329928, 0.074841037814515496, 0.037420518907257748, 0.046775648634072187, 0.074537910610370489, 0.80749403161234701, 0.012422985101728417, 0.074537910610370489, 0.012422985101728417, 0.84755334891874057, 0.11690391019568835, 0.95485192223224269, 0.9964191665753569, 0.9682438278122516, 0.9692998904315312, 0.93203724713153802, 0.0097686220834223552, 0.21816589319643259, 0.16281036805703925, 0.061867939861674916, 0.348414187642064, 0.0032562073611407849, 0.01302482944456314, 0.094430013473082774, 0.058611732500534135, 0.026049658889126279, 0.97771333789223658, 0.97161776577266457, 0.014911322278566553, 0.6908912655735836, 0.054674848354744031, 0.0099408815190443686, 0.084497492911877137, 0.029822644557133106, 0.079527052152354949, 0.0049704407595221843, 0.019881763038088737, 0.0099408815190443686, 0.0049704407595221843, 0.0049704407595221843, 0.92986552900121355, 0.96385680433078069, 0.92188435369090149, 0.076823696140908462, 0.97477404000480528, 0.41762395096935473, 0.034325256244056558, 0.025743942183042417, 0.41190307492867867, 0.011441752081352185, 0.031464818223718508, 0.0057208760406760924, 0.020023066142366323, 0.025743942183042417, 0.0085813140610141395, 0.084002490327135082, 0.13125389113614855, 0.60376789922628338, 0.099752957263472899, 0.0052501556454459426, 0.010500311290891885, 0.015750466936337828, 0.0052501556454459426, 0.031500933872675656, 0.0052501556454459426, 0.099393960418136001, 0.0046590918946001255, 0.14598487936413726, 0.41931827051401127, 0.069886378419001874, 0.099393960418136001, 0.032613643262200877, 0.015530306315333751, 0.088522745997402383, 0.0046590918946001255, 0.017083336946867124, 0.00310606126306675, 0.80119403342484741, 0.12151786111070952, 0.0020596247645882967, 0.02471549717505956, 0.00617887429376489, 0.010298123822941483, 0.014417373352118078, 0.0082384990583531867, 0.010298123822941483, 0.0020596247645882967, 0.81784082674790515, 0.13874085453759105, 0.021906450716461745, 0.0073021502388205817, 0.93797029687862243, 0.96818890967889293, 0.038793325450618518, 0.93103981081484444, 0.9665881068958142, 0.98735702356388066, 0.97244282527627846, 0.96015021222183172, 0.085623021421661533, 0.10702877677707691, 0.68498417137329226, 0.10702877677707691, 0.96314068488071591, 0.98596869911198504, 0.94196016730949739, 0.91168204946548226, 0.036467281978619294, 0.036467281978619294, 0.0071259430923602601, 0.02850377236944104, 0.01425188618472052, 0.23515612204788858, 0.064133487831242342, 0.0071259430923602601, 0.47031224409577715, 0.16389669112428598, 0.0071259430923602601, 0.98286284707985339, 0.96264412702813484, 0.018512387058233361, 0.078198823006199888, 0.89928646457129868, 0.08267129606135086, 0.79915586192639165, 0.027557098687116956, 0.055114197374233911, 0.056472770657369387, 0.79061878920317141, 0.098827348650396427, 0.014118192664342347, 0.028236385328684693, 0.96038103569818889, 0.93866199729671806, 0.97078582306955086, 0.033369789258455344, 0.091766920460752188, 0.12513670971920754, 0.058397131202296851, 0.6924231271129484, 0.96749469009382194, 0.98803073681867759, 0.95132327597505528, 0.035596109080614148, 0.70302315434212947, 0.053394163620921226, 0.017798054540307074, 0.071192218161228296, 0.035596109080614148, 0.062293190891074761, 0.017798054540307074, 0.98097004712341707, 0.28580661993926959, 0.71451654984817392, 0.96269413563462014, 0.14033528840877171, 0.058473036836988207, 0.78353869361564199, 0.96886135674098817, 0.12470649964672763, 0.6675465569324831, 0.011737082319692012, 0.071889629208113565, 0.0073356764498075074, 0.03080984108919153, 0.041079788118922038, 0.023474164639384024, 0.011737082319692012, 0.0058685411598460059, 0.002934270579923003, 0.81256486953043994, 0.060261987931683345, 0.027215091323986026, 0.0019439350945704304, 0.015551480756563443, 0.058318052837112916, 0.0097196754728521521, 0.0038878701891408608, 0.0019439350945704304, 0.0077757403782817217, 0.8734917403678073, 0.027468293722258091, 0.010987317488903237, 0.010987317488903237, 0.07691122242232265, 0.89533186146584043, 0.063952275818988602, 0.078832756013230976, 0.15766551202646195, 0.71934889862073259, 0.039416378006615488, 0.99479460245199813, 0.96137475964087227, 0.94849269703018135, 0.94956801471034802, 0.20096313039637881, 0.40553637690766264, 0.063778718029988482, 0.0060168601915083471, 0.070998950259798493, 0.032491045034145079, 0.10830348344715025, 0.048134881532066777, 0.013237092421318365, 0.0072202322298100165, 0.040914649302256766, 0.0024067440766033388, 0.98600240100526759, 0.95759738714312748, 0.050858995553579679, 0.2082040130474668, 0.12555814527289982, 0.089003242218764433, 0.11125405277345554, 0.17005976638228204, 0.022250810554691108, 0.038144246665184754, 0.10807536555135681, 0.069931118886172053, 0.0047680308331480943, 0.001589343611049365, 0.081348246729822535, 0.085415659066313668, 0.31725816224630787, 0.12202237009473381, 0.11931076187040639, 0.079992442617658824, 0.032539298691929015, 0.051520556262220941, 0.084059854954149957, 0.0054232164486548362, 0.020337061682455634, 0.14445970576475772, 0.83786629343559482, 0.014419779406242913, 0.24513624990612953, 0.12977801465618621, 0.036049448515607284, 0.1009384558437004, 0.057679117624971653, 0.37491426456231575, 0.028839558812485826, 0.78331999747298853, 0.10042564070166519, 0.020085128140333041, 0.040170256280666082, 0.010042564070166521, 0.040170256280666082, 0.98541447676950022, 0.95547792910258089, 0.12309933241679853, 0.82066221611199019, 0.97160158203632685, 0.97759209666159119, 0.98137278289632368, 0.95120044343934251, 0.9875780268092792, 0.47412349069507759, 0.054185541793723153, 0.37704106164799028, 0.031608232713005169, 0.0022577309080717982, 0.033865963621076973, 0.0090309236322871928, 0.0067731927242153942, 0.0045154618161435964, 0.0022577309080717982, 0.0022577309080717982, 0.98289483742227335, 0.97554357343584874, 0.98277059921839016, 0.10156992047774274, 0.83795184394137756, 0.025392480119435686, 0.96960234617118568, 0.93811265040286451, 0.59562367083592183, 0.23440673497413697, 0.015370933440927015, 0.0064045556003862556, 0.0038427333602317538, 0.0038427333602317538, 0.076854667204635074, 0.012809111200772511, 0.029460955761776778, 0.0025618222401545022, 0.019213666801158769, 0.098288574850840693, 0.066489330046156939, 0.24283059669031229, 0.026017563931104888, 0.15899622402341876, 0.08672521310368296, 0.075161851356525242, 0.023126723494315458, 0.008672521310368296, 0.040471766115052051, 0.0028908404367894323, 0.17345042620736592, 0.95465746660636475, 0.21056316194773944, 0.37116218377228649, 0.078515077336445221, 0.0053533007274849014, 0.041041972244050907, 0.016059902182454702, 0.10528158097386972, 0.10349714739804142, 0.037473105092394307, 0.0071377343033132016, 0.023197636485767906, 0.0035688671516566008, 0.96398871991276747, 0.96992940510545689, 0.012086028436524324, 0.73120472040972162, 0.006043014218262162, 0.060430142182621625, 0.060430142182621625, 0.036258085309572974, 0.06647315640088379, 0.030215071091310813, 0.17736699120571758, 0.17736699120571758, 0.028005314400902776, 0.13069146720421296, 0.056010628801805552, 0.046675524001504626, 0.37340419201203701, 0.91285375660800694, 0.028526679894000217, 0.028526679894000217, 0.96501395466898532, 0.96210939972211185, 0.017492898176765671, 0.088941780115197877, 0.75600513097918198, 0.038912028800399068, 0.11117722514399735, 0.9680490068094606, 0.98850383181018786, 0.97111464070334164, 0.95321907021938623, 0.022695692148080624, 0.022695692148080624, 0.96550496203887326, 0.037988336806130625, 0.93071425175020028, 0.018994168403065313, 0.97467674540183802, 0.015229324146903719, 0.94057410211667103, 0.35180191667775018, 0.52027044015723622, 0.049549565729260586, 0.004954956572926059, 0.027252261151093325, 0.022297304578167264, 0.014864869718778177, 0.004954956572926059, 0.028216819070552606, 0.0037622425427403473, 0.024454576527812258, 0.66027356625093092, 0.1937554909511279, 0.058314759412475388, 0.024454576527812258, 0.0056433638141105214, 0.0037622425427403473, 0.97031687223605245, 0.9652487522973805, 0.26525962680964432, 0.71776134313197881, 0.98745104479420787, 0.0058239807719238272, 0.11647961543847654, 0.4309745771223632, 0.39603069249082024, 0.023295923087695309, 0.0058239807719238272, 0.017471942315771483, 0.99618223560130881, 0.9841997891826576, 0.80016790423075723, 0.076728429172812335, 0.029229877780118985, 0.018268673612574365, 0.0036537347225148731, 0.043844816670178477, 0.010961204167544619, 0.018268673612574365, 0.93904040098668673, 0.95940616104194432, 0.95777574951425415, 0.96826518054581845, 0.51137422194348059, 0.27563433239506757, 0.012089225105046822, 0.015715992636560868, 0.065281815567252835, 0.0072535350630280934, 0.048356900420187289, 0.025387372720598326, 0.018133837657570234, 0.013298147615551505, 0.0036267675315140467, 0.0024178450210093645, 0.2391450717437261, 0.14408119229280392, 0.2539988029079327, 0.084666267635977566, 0.041590447259778451, 0.066841790238929652, 0.071297909588191627, 0.01485373116420659, 0.032678208561254501, 0.017824477397047907, 0.029707462328413179, 0.0029707462328413181, 0.001485373116420659, 0.078192165745414335, 0.016636631009662624, 0.45750735276572213, 0.068210187139616754, 0.15804799459179492, 0.089837807452178162, 0.056564545432852921, 0.019963957211595149, 0.049909893028987871, 0.0049909893028987871, 0.0016636631009662624, 0.24125812566157645, 0.032898835317487697, 0.076763949074137958, 0.16449417658743848, 0.15352789814827592, 0.054831392195812831, 0.010966278439162565, 0.010966278439162565, 0.25222440410073899, 0.0083330354144128139, 0.045831694779270474, 0.47498301862153042, 0.14582811975222423, 0.033332141657651256, 0.016666070828825628, 0.0083330354144128139, 0.14582811975222423, 0.0041665177072064069, 0.11249597809457298, 0.94708836187969681, 0.031499018631902007, 0.94497055895706028, 0.28276154027687866, 0.22259951043073428, 0.090243044769216602, 0.17446988655381876, 0.036097217907686642, 0.18650229252304765, 0.0060162029846144403, 0.92816281270513556, 0.9083941139384164, 0.082581283085310583, 0.90053750353086459, 0.045026875176543232, 0.96698246616898154, 0.97015317845176763, 0.0076617240256545956, 0.86577481489896924, 0.030646896102618382, 0.091940688307855137, 0.9271170907610734, 0.017011322766258229, 0.0085056613831291147, 0.042528306915645568, 0.97556569885910127, 0.95007958143615023, 0.038003183257446012, 0.82194396017161064, 0.092613403962998386, 0.023153350990749597, 0.015435567327166397, 0.027012242822541197, 0.015435567327166397, 0.91544678831966964, 0.78639396876982315, 0.16230805750772512, 0.006858086936946132, 0.013716173873892264, 0.025146318768802484, 0.0022860289789820441, 0.76373255757581471, 0.11851022445141952, 0.059255112225709762, 0.029627556112854881, 0.013167802716824393, 0.0032919506792060981, 0.013167802716824393, 0.94110315402125189, 0.031370105134041731, 0.010456701711347244, 0.88940310646272358, 0.077762020237178014, 0.029160757588941759, 0.047830869024826909, 0.17537985309103199, 0.2152389106117211, 0.11160536105792945, 0.015943623008275638, 0.36670332919033966, 0.039859057520689092, 0.015943623008275638, 0.0071135961874905593, 0.81806356156141424, 0.042681577124943353, 0.0071135961874905593, 0.0071135961874905593, 0.014227192374981119, 0.014227192374981119, 0.085363154249886705, 0.11392592198555912, 0.23950335871964132, 0.17995117222718995, 0.17218349572817457, 0.10097979448720013, 0.03883838249507697, 0.10874747098621552, 0.016829965747866688, 0.015535352998030789, 0.005178450999343596, 0.0038838382495076972, 0.001294612749835899, 0.9640756927915457, 0.96886777657074075, 0.96975641823247694, 0.056921164065792118, 0.21503550869299246, 0.047434303388160098, 0.11542347157785625, 0.10751775434649623, 0.28302467688268862, 0.025298295140352055, 0.079057172313600169, 0.033204012371712069, 0.026879438586624057, 0.0094868606776320197, 0.040340574459822816, 0.92783321257592477, 0.9592200212438351, 0.28718178287703955, 0.071795445719259887, 0.17861306008206118, 0.070044337287082814, 0.1646041926246446, 0.066542120422728668, 0.082302096312322298, 0.036773277075718473, 0.0035022168643541406, 0.022764409618301912, 0.0052533252965312107, 0.0087555421608853518, 0.071056462989886632, 0.55660896008744531, 0.23685487663295543, 0.071056462989886632, 0.035528231494943316, 0.95115025923869634, 0.95018117983260286, 0.93818495557679593, 0.97667330663497409, 0.92480478632644558, 0.9621051089931616, 0.95330410546748023, 0.034046575195267152, 0.95499951268197103, 0.035045853676402609, 0.94997838292459647, 0.97672893443704945, 0.26848438105995215, 0.19613829035517463, 0.10449990879578976, 0.07556147251387875, 0.094853763368486096, 0.07073839980022692, 0.1237921996503971, 0.033761508995562843, 0.016076909045506117, 0.0080384545227530583, 0.0080384545227530583, 0.0016076909045506117, 0.38304196696625592, 0.28915913192550691, 0.026287193811409718, 0.0037553134016299599, 0.10890408864726883, 0.01126594020488988, 0.17274441647497815, 0.19559230211260145, 0.4126782637980162, 0.10102019999222273, 0.030091123401938685, 0.023643025530094678, 0.02794175744465735, 0.036539221273782688, 0.1440075191378494, 0.0021493659572813344, 0.023643025530094678, 0.95111365909585788, 0.41557283641991816, 0.10977395679016706, 0.088864631687278109, 0.033977653292194571, 0.067955306584389141, 0.044432315843639054, 0.15681993827166724, 0.028750322016472329, 0.031363987654333444, 0.013068328189305603, 0.0078409969135833611, 0.0026136656378611205, 0.26209677656908481, 0.1069655102465716, 0.19704172940157927, 0.024395642687814575, 0.10884209814563427, 0.12322927203844798, 0.091952807054070329, 0.026272230586877235, 0.0075063515962506388, 0.035655170082190532, 0.0075063515962506388, 0.0081318808959381927, 0.94828576161945866, 0.96479959230710088, 0.17676263637268094, 0.23989214936292413, 0.21464034416682684, 0.35352527274536188, 0.9865722854713741, 0.99540165481326082, 0.99575972862244244, 0.93767760914629927, 0.95765519945271294, 0.99674125428247839, 0.029610379599730157, 0.0074025948999325393, 0.081428543899257938, 0.68844132569372618, 0.11844151839892063, 0.074025948999325394, 0.93775243523356178, 0.17519219155863922, 0.55548743664934386, 0.072640664792606502, 0.068367684510688476, 0.042729802819180297, 0.068367684510688476, 0.0042729802819180297, 0.0042729802819180297, 0.0042729802819180297, 0.96237451340421409, 0.98394692268305217, 0.91544672772525171, 0.86010834346653575, 0.10425555678382252, 0.046102709267234587, 0.13254528914329944, 0.18441083706893835, 0.097968257192873498, 0.37458451279628102, 0.020169935304415132, 0.040339870608830264, 0.037458451279628102, 0.023051354633617294, 0.040339870608830264, 0.9504158100254666, 0.18313058858650805, 0.0014650447086920644, 0.2109664380516573, 0.35307577479478752, 0.092297816647600062, 0.11427348727798103, 0.035161073008609545, 0.0014650447086920644, 0.0014650447086920644, 0.0029300894173841289, 0.0014650447086920644, 0.0029300894173841289, 0.89420110381482176, 0.02416759740040059, 0.0026852886000445098, 0.0026852886000445098, 0.075188080801246282, 0.98925288469324546, 0.12022076166019624, 0.24044152332039248, 0.63115899871603021, 0.040483473771064024, 0.95136163362000459, 0.97829794231012734, 0.94060362051397117, 0.90585774672251129, 0.067100573831297125, 0.99137652217796879, 0.032028750271273283, 0.040035937839091609, 0.63256781785764737, 0.0080071875678183208, 0.024021562703454964, 0.24822281460236797, 0.97953216120918085, 0.11510928428723907, 0.656549251119808, 0.12789920476359895, 0.017053227301813197, 0.017053227301813197, 0.034106454603626393, 0.017053227301813197, 0.012789920476359896, 0.96143750036123976, 0.022891369056219996, 0.032830931142699631, 0.032830931142699631, 0.91926607199558974, 0.8270259191234629, 0.10446643188927952, 0.0021763839976933234, 0.030469375967706526, 0.010881919988466616, 0.01305830398615994, 0.0087055359907732936, 0.9786789850485893, 0.66253531714561131, 0.28216209977260154, 0.001558906628577909, 0.003117813257155818, 0.029619225942980269, 0.009353439771467454, 0.006235626514311636, 0.004676719885733727, 0.0025247198492536764, 0.25499670477462133, 0.53650296796640629, 0.094676994347012877, 0.050494396985073534, 0.0037870797738805148, 0.0012623599246268382, 0.020197758794029411, 0.010098879397014706, 0.0075741595477610297, 0.0088365194723878677, 0.0088365194723878677, 0.14172830438527856, 0.71876497223962699, 0.03543207609631964, 0.045555526409553827, 0.030370350939702549, 0.015185175469851275, 0.0050617251566170912, 0.010123450313234182, 0.0058751626395534213, 0.21738101766347659, 0.60514175187400232, 0.017625487918660265, 0.082252276953747899, 0.023500650558213685, 0.017625487918660265, 0.011750325279106843, 0.011750325279106843, 0.94636997097721898, 0.46666170613630831, 0.040832899286926981, 0.017499813980111561, 0.18083141112781947, 0.27999702368178497, 0.0058332713267038542, 0.030011918437010284, 0.90035755311030852, 0.030011918437010284, 0.46803359502205188, 0.27258136339299277, 0.034182228849925139, 0.029799891817883454, 0.043823370320416839, 0.021035217753800083, 0.049082174758866864, 0.048205707352458528, 0.012270543689716716, 0.013147011096125052, 0.0052588044384500208, 0.0008764674064083368, 0.68842660362618291, 0.28684441817757622, 0.33294364391508818, 0.12266344775819038, 0.52570049039224442, 0.093751035194255136, 0.087358919158283199, 0.040483401561155631, 0.4048340156115563, 0.087358919158283199, 0.11931949933814291, 0.0063921160359719413, 0.021307053453239806, 0.095881740539579124, 0.010653526726619903, 0.031960580179859706, 0.97173095262714093, 0.13261680642927257, 0.10314640500054534, 0.75149523643254457, 0.14833989606178613, 0.094257642289259924, 0.30131541387550304, 0.03399455951415932, 0.16379196856822217, 0.14215906705921169, 0.029358937762228501, 0.029358937762228501, 0.023178108759654082, 0.018542487007723266, 0.012361658005148842, 0.0030904145012872106, 0.96892379374495219, 0.9339785699889005, 0.07880308127846708, 0.23640924383540124, 0.052535387518978051, 0.60415695646824763, 0.098978318972224824, 0.23754796553333957, 0.059386991383334892, 0.14846747845833724, 0.42560677158056676, 0.019795663794444966, 0.11454129556144331, 0.85905971671082482, 0.2279030951864652, 0.25349649090259235, 0.28274608600673762, 0.0060936656466969311, 0.090186251571114581, 0.059717923337629923, 0.035343260750842202, 0.021937196328108952, 0.0036561993880181586, 0.015843530681412022, 0.0024374662586787725, 0.24599311293688814, 0.081284680796536946, 0.3101652293552068, 0.032086058209159322, 0.19465541980223322, 0.066311186965595931, 0.036364199303713901, 0.002139070547277288, 0.002139070547277288, 0.029946987661882037, 0.10100935120481712, 0.040403740481926846, 0.19768973021514208, 0.4386691823752058, 0.051947666333905948, 0.09668037901032496, 0.03318878682443991, 0.0057719629259895501, 0.0086579443889843247, 0.015872898046471261, 0.0086579443889843247, 0.11903476875177829, 0.27637484371087623, 0.21418020675060453, 0.10297125324548295, 0.12850812405036272, 0.064254062025181358, 0.031303260986626814, 0.016475400519277272, 0.037893421194337723, 0.0028831950908735225, 0.0032950801038554543, 0.00041188501298193179, 0.002059425064909659, 0.1610687175673681, 0.18861994557231265, 0.17378466895426559, 0.12292086340667566, 0.12292086340667566, 0.061460431703337828, 0.036028528929542863, 0.025431902773794965, 0.086892334477132793, 0.012715951386897482, 0.0021193252311495804, 0.0042386504622991608, 0.5577180375992784, 0.099270200867185479, 0.095660375381106014, 0.012634389201278153, 0.11190459006846364, 0.0099270200867185489, 0.05956212052031129, 0.020756496544956964, 0.011731932829758285, 0.0027073691145596043, 0.016244214687357626, 0.97542119408479955, 0.96579350481446846, 0.058022805897868554, 0.19099173608048398, 0.48594099939464913, 0.084616591934391638, 0.14263939783226018, 0.0048352338248223792, 0.0096704676496447584, 0.0048352338248223792, 0.014505701474467139, 0.0048352338248223792, 0.9726341681515065, 0.99771482747162443, 0.99489702062293184, 0.25473560722214006, 0.11120037343133669, 0.21845747120907988, 0.074922237418276499, 0.091483995163369192, 0.16877219797380177, 0.026814274444435796, 0.0031546205228747998, 0.035489480882341495, 0.0078865513071870001, 0.0063092410457495996, 0.25136797942525985, 0.17291555272565645, 0.1857241121868162, 0.016010699326449673, 0.19853267164797594, 0.06724493717108862, 0.032021398652899345, 0.032021398652899345, 0.016010699326449673, 0.0048032097979349014, 0.022414979057029542, 0.12625312683103881, 0.23428415288234006, 0.040348937440847457, 0.044253673322219793, 0.087205768017315471, 0.28634729796730451, 0.057269459593460907, 0.0013015786271241114, 0.074189981746074357, 0.022126836661109896, 0.014317364898365227, 0.0013015786271241114, 0.010412629016992891, 0.94541452797064673, 0.022781072963148116, 0.011390536481574058, 0.096402044271462831, 0.082145403921457763, 0.3699937614644172, 0.04752213450001689, 0.10930090935003885, 0.11201645989289695, 0.071962089385739864, 0.045485471592873306, 0.018329966164292229, 0.021045516707150335, 0.02240329197857939, 0.00067888763571452701, 0.002715550542858108, 0.98447575879012228, 0.97706360347786869, 0.97894851508056147, 0.98527987687159935, 0.99349998086424918], \"Term\": [\"!\", \"!\", \"!!\", \"\\\"\\\"\", \"\\\"this\", \"'a\", \"*\", \"*\", \"...\", \"...\", \"...\", \"...\", \"...\", \"...\", \"...\", \"...\", \"1st\", \"1st\", \"30\", \"aaron\", \"aber\", \"ability\", \"ability\", \"ability\", \"ability\", \"ability\", \"ability\", \"ability\", \"accidental\", \"ace\", \"across\", \"across\", \"across\", \"across\", \"across\", \"across\", \"across\", \"across\", \"across\", \"across\", \"across\", \"across\", \"act,\", \"adalah\", \"adventure\", \"adventure\", \"adventure\", \"adventure\", \"adventure\", \"adventure\", \"adventure\", \"adventure\", \"adventure\", \"adventure\", \"adventure\", \"agency\", \"agency\", \"agency\", \"agents\", \"agents\", \"akan\", \"aku\", \"al\", \"alcatraz\", \"alliances\", \"allure\", \"along\", \"along\", \"along\", \"along\", \"along\", \"along\", \"along\", \"along\", \"along\", \"along\", \"along\", \"als\", \"also\", \"also\", \"also\", \"also\", \"also\", \"also\", \"also\", \"also\", \"also\", \"also\", \"also\", \"also\", \"alternate\", \"alternate\", \"alternate\", \"alternate\", \"alternate\", \"always\", \"always\", \"always\", \"always\", \"always\", \"always\", \"always\", \"always\", \"always\", \"always\", \"always\", \"always\", \"amazon\", \"american\", \"american\", \"american\", \"american\", \"american\", \"american\", \"american\", \"american\", \"american\", \"american\", \"analysis\", \"ancient\", \"ancient\", \"ancient\", \"ancient\", \"ancient\", \"ancient\", \"ancient\", \"ancient\", \"ancient\", \"ancient\", \"ancient\", \"ancient\", \"andy\", \"andy\", \"anita\", \"anne\", \"anne\", \"anne\", \"anne\", \"anne\", \"anne\", \"another\", \"another\", \"another\", \"another\", \"another\", \"another\", \"another\", \"another\", \"another\", \"another\", \"another\", \"another\", \"anthony\", \"anthony\", \"antics\", \"anxiety\", \"anxiety\", \"appealing\", \"area\", \"area\", \"area\", \"ari\", \"art\", \"art\", \"art\", \"art\", \"art\", \"art\", \"art\", \"art\", \"art\", \"artemis\", \"arthur\", \"arthur\", \"arthur\", \"arthur\", \"arthur\", \"arthur\", \"arthur\", \"arthur\", \"attention.\", \"auch\", \"auf\", \"aus\", \"author\", \"author\", \"author\", \"author\", \"author\", \"author\", \"author\", \"author\", \"author\", \"author\", \"author\", \"author\", \"award-winning\", \"award-winning\", \"award-winning\", \"award-winning\", \"award-winning\", \"award-winning\", \"awarded\", \"awareness\", \"back\", \"back\", \"back\", \"back\", \"back\", \"back\", \"back\", \"back\", \"back\", \"back\", \"back\", \"bad\", \"bad\", \"bad\", \"bad\", \"bad\", \"band,\", \"battle\", \"battle\", \"battle\", \"battle\", \"battle\", \"battle\", \"battle\", \"battle\", \"battle\", \"battle\", \"battle\", \"battle\", \"beach,\", \"beautiful\", \"beautiful\", \"beautiful\", \"beautiful\", \"beautiful\", \"beautiful\", \"beautiful\", \"beautiful\", \"beautiful\", \"beautiful\", \"beautiful\", \"beautiful\", \"beck\", \"become\", \"become\", \"become\", \"become\", \"become\", \"become\", \"become\", \"become\", \"become\", \"become\", \"become\", \"begins\", \"begins\", \"begins\", \"begins\", \"begins\", \"begins\", \"begins\", \"begins\", \"begins\", \"begins\", \"begins\", \"begins\", \"behind\", \"behind\", \"behind\", \"behind\", \"behind\", \"behind\", \"behind\", \"behind\", \"behind\", \"behind\", \"behind\", \"behind\", \"ben\", \"ben\", \"ben\", \"benedict\", \"berlin\", \"bertie\", \"best\", \"best\", \"best\", \"best\", \"best\", \"best\", \"best\", \"best\", \"best\", \"best\", \"best\", \"best\", \"bestselling\", \"bestselling\", \"bestselling\", \"bestselling\", \"bestselling\", \"bestselling\", \"bestselling\", \"bestselling\", \"bestselling\", \"bestselling\", \"bestselling\", \"bestselling\", \"betray\", \"betray\", \"betsy\", \"beyond\", \"beyond\", \"beyond\", \"beyond\", \"beyond\", \"beyond\", \"beyond\", \"beyond\", \"beyond\", \"beyond\", \"beyond\", \"big\", \"big\", \"big\", \"big\", \"big\", \"big\", \"billy\", \"billy\", \"bir\", \"bite\", \"blaine\", \"blair\", \"blood\", \"blood\", \"blood\", \"blood\", \"blood\", \"blood\", \"blood\", \"blood.\", \"blood.\", \"bob\", \"bobby\", \"bobby\", \"body\", \"body\", \"body\", \"body\", \"body\", \"body\", \"body\", \"body\", \"body\", \"body\", \"body\", \"bone\", \"bone\", \"bookshelf\", \"boxed\", \"boxed\", \"boxed\", \"boy\", \"boy\", \"boy\", \"boy\", \"boy\", \"boy\", \"boy\", \"boy\", \"boy\", \"boy\", \"boy\", \"brand-new\", \"breath\", \"breath\", \"brennan\", \"briar\", \"bride\", \"brie\", \"brilliant\", \"brilliant\", \"brilliant\", \"brilliant\", \"brilliant\", \"brilliant\", \"brilliant\", \"brilliant\", \"brilliant\", \"brilliant\", \"brilliant\", \"british\", \"british\", \"british\", \"british\", \"british\", \"british\", \"british\", \"british\", \"broke\", \"broke\", \"brother's\", \"brother's\", \"brother's\", \"brother's\", \"brunetti\", \"caesar\", \"caine\", \"cameron\", \"campbell\", \"can't\", \"can't\", \"can't\", \"can't\", \"can't\", \"can't\", \"can't\", \"captain\", \"captain\", \"captain\", \"captain\", \"captain\", \"captain\", \"captain\", \"captain\", \"care\", \"care\", \"care\", \"care\", \"care\", \"care\", \"cared\", \"carol\", \"case\", \"case\", \"case\", \"case\", \"case\", \"case\", \"case\", \"case\", \"case\", \"cassandra\", \"cassie\", \"cat\", \"cat\", \"cat\", \"cat\", \"cat\", \"cat\", \"cat\", \"cataclysmic\", \"cats\", \"celebrating\", \"change,\", \"change,\", \"charley\", \"charlie\", \"charlie\", \"chick\", \"chief\", \"chief\", \"chief\", \"chief\", \"chief\", \"chris\", \"chris\", \"chris\", \"christ\", \"christ\", \"christmas\", \"christmas\", \"chronicle\", \"chronicle\", \"chronicle\", \"cia\", \"cia\", \"city\", \"city\", \"city\", \"city\", \"city\", \"city\", \"city\", \"city\", \"city\", \"city\", \"city\", \"city\", \"city\", \"civil\", \"civil\", \"civil\", \"civil\", \"claire\", \"claire\", \"claire\", \"clans\", \"classic\", \"classic\", \"classic\", \"classic\", \"classic\", \"classic\", \"classic\", \"classic\", \"classic\", \"coco\", \"collected\", \"collected\", \"collecting\", \"collection\", \"collection\", \"collection\", \"collection\", \"collection\", \"collection\", \"colors\", \"come\", \"come\", \"come\", \"come\", \"come\", \"come\", \"come\", \"come\", \"come\", \"come\", \"come\", \"come\", \"come\", \"commentary\", \"como\", \"comprehensive\", \"con\", \"con\", \"connor\", \"conservative\", \"constitute\", \"contains\", \"contains\", \"contains\", \"contains\", \"contains\", \"contains\", \"contains\", \"contains\", \"control\", \"control\", \"control\", \"control\", \"control\", \"control\", \"control\", \"control\", \"control\", \"control\", \"control\", \"conversation\", \"convicted\", \"cooking\", \"cop\", \"corner,\", \"could\", \"could\", \"could\", \"could\", \"could\", \"could\", \"could\", \"could\", \"could\", \"could\", \"could\", \"council,\", \"country\", \"country\", \"country\", \"country\", \"country\", \"country\", \"country\", \"country\", \"country\", \"country\", \"country\", \"country\", \"court\", \"court\", \"court\", \"court\", \"court\", \"court\", \"court\", \"court\", \"cover\", \"cover\", \"cover\", \"cover\", \"cover\", \"cover\", \"cover\", \"cover\", \"cover\", \"critical\", \"critical\", \"critical\", \"critical\", \"critical\", \"criticism\", \"cross\", \"cross\", \"cross\", \"cross\", \"cross\", \"cross\", \"cross\", \"cross\", \"cross\", \"culture.\", \"d\", \"da\", \"da\", \"dad\", \"dad\", \"daisy\", \"dalam\", \"dallas\", \"dan\", \"dan\", \"dangerous\", \"dangerous\", \"dangerous\", \"dangerous\", \"dangerous\", \"dangerous\", \"dangerous\", \"dangerous\", \"dangerous\", \"dans\", \"dari\", \"dark\", \"dark\", \"dark\", \"dark\", \"dark\", \"dark\", \"dark\", \"dark\", \"dark\", \"dark\", \"dark\", \"darkness\", \"darkness\", \"darkness\", \"darkness\", \"darkness\", \"darkness\", \"darkness\", \"darkness\", \"darkness\", \"das\", \"das\", \"de\", \"deadliest\", \"deadliest\", \"deadly\", \"deadly\", \"deadly\", \"deadly\", \"deadly\", \"deadly\", \"deadly\", \"deadly\", \"deadly\", \"death\", \"death\", \"death\", \"death\", \"death\", \"death\", \"death\", \"death\", \"death\", \"death\", \"defying\", \"del\", \"dem\", \"demon\", \"demon\", \"den\", \"dengan\", \"der\", \"des\", \"des\", \"des\", \"desperate\", \"desperate\", \"desperate\", \"desperate\", \"desperate\", \"desperate\", \"desperate\", \"desperate\", \"desperate\", \"desperate\", \"desperate\", \"destroy\", \"destroy\", \"destroy\", \"destroy\", \"destroy\", \"destroy\", \"destroy\", \"destroy\", \"destroy\", \"destroy\", \"detective\", \"detective\", \"detective\", \"detective\", \"detective\", \"detective\", \"detective\", \"detective\", \"determined\", \"determined\", \"determined\", \"determined\", \"determined\", \"determined\", \"determined\", \"determined\", \"determined\", \"devin\", \"di\", \"di\", \"dia\", \"die\", \"die\", \"die\", \"die\", \"die\", \"die\", \"director\", \"disciplines.\", \"discovers\", \"discovers\", \"discovers\", \"discovers\", \"discovers\", \"discovers\", \"discovers\", \"discovers\", \"discovers\", \"discovers\", \"discovers\", \"discusses\", \"disney\", \"disorder\", \"doch\", \"doctor\", \"doctor\", \"doctor\", \"doctor\", \"doctor\", \"doctor\", \"doctor\", \"doctors\", \"doctrine\", \"doesn't\", \"doesn't\", \"doesn't\", \"doesn't\", \"doesn't\", \"doesn't\", \"doesn't\", \"don't\", \"don't\", \"don't\", \"don't\", \"dorothy\", \"dos\", \"dr.\", \"dr.\", \"dr.\", \"dr.\", \"dr.\", \"dr.\", \"dr.\", \"dr.\", \"dr.\", \"dr.\", \"drugs\", \"du\", \"du\", \"e\", \"earl\", \"eden\", \"eden\", \"edition\", \"edition\", \"edition\", \"edition\", \"edition\", \"edition\", \"edition\", \"edition\", \"edition\", \"effective\", \"effective\", \"ein\", \"eine\", \"einem\", \"einer\", \"el\", \"eleanor\", \"elena\", \"elle\", \"ellie\", \"else.\", \"else.\", \"else.\", \"em\", \"emily\", \"emily\", \"emily\", \"emily\", \"emily\", \"emma\", \"emma\", \"emma\", \"emma\", \"emma\", \"en\", \"enemies\", \"enemies\", \"enemies\", \"enemies\", \"enemies\", \"enemies\", \"enemy\", \"enemy\", \"enemy\", \"enemy\", \"enemy\", \"enemy\", \"enemy\", \"enemy\", \"england\", \"england\", \"england\", \"england\", \"england\", \"england\", \"england\", \"england\", \"england\", \"england\", \"english\", \"english\", \"english\", \"english\", \"english\", \"english\", \"english\", \"english\", \"english\", \"english\", \"english-speaking\", \"enhanced\", \"enhanced\", \"enslaved\", \"epic\", \"epic\", \"epic\", \"epic\", \"epic\", \"epic\", \"epic\", \"epic\", \"epic\", \"epic\", \"er\", \"eric\", \"eric\", \"ernest\", \"es\", \"es\", \"essays\", \"est\", \"estate.\", \"et\", \"eva\", \"eva\", \"eve\", \"eve\", \"eve\", \"eve\", \"eve\", \"eve\", \"eve\", \"eve\", \"eve\", \"even\", \"even\", \"even\", \"even\", \"even\", \"even\", \"even\", \"even\", \"even\", \"even\", \"even\", \"even\", \"ever\", \"ever\", \"ever\", \"ever\", \"ever\", \"ever\", \"ever\", \"ever\", \"ever\", \"ever\", \"ever\", \"ever\", \"ever\", \"every\", \"every\", \"every\", \"every\", \"every\", \"every\", \"every\", \"every\", \"every\", \"every\", \"every\", \"every\", \"everyone\", \"everyone\", \"everyone\", \"everyone\", \"everyone\", \"everyone\", \"everyone\", \"everything\", \"everything\", \"everything\", \"everything\", \"everything\", \"everything\", \"everything\", \"everything\", \"everything\", \"everything\", \"everything\", \"everything.\", \"evil\", \"evil\", \"evil\", \"evil\", \"evil\", \"evil\", \"evil\", \"evil\", \"evil\", \"evil\", \"evokes\", \"evolution\", \"evolution\", \"ex\", \"executive\", \"explicit\", \"extraordinary\", \"extraordinary\", \"extraordinary\", \"extraordinary\", \"extraordinary\", \"extraordinary\", \"extraordinary\", \"extraordinary\", \"extraordinary\", \"extraordinary\", \"extraordinary\", \"extraordinary\", \"fabled\", \"fabric\", \"face\", \"face\", \"face\", \"face\", \"face\", \"face\", \"face\", \"face\", \"face\", \"face\", \"face\", \"face\", \"face\", \"faerie\", \"fairy\", \"fairy\", \"fairy\", \"fairy\", \"fairy\", \"family\", \"family\", \"family\", \"family\", \"family\", \"family\", \"family\", \"family\", \"family\", \"family\", \"family\", \"famous\", \"famous\", \"famous\", \"famous\", \"famous\", \"famous\", \"famous\", \"famous\", \"famous\", \"fantasy\", \"fantasy\", \"fantasy\", \"fantasy\", \"fantasy\", \"fantasy\", \"fantasy\", \"fantasy\", \"fantasy\", \"fantasy\", \"fight\", \"fight\", \"fight\", \"fight\", \"fight\", \"fight\", \"fight\", \"fight\", \"fight\", \"fight\", \"fight\", \"finalist\", \"finally\", \"finally\", \"finally\", \"finally\", \"finally\", \"finally\", \"finally\", \"finally\", \"finally\", \"finally\", \"find\", \"find\", \"find\", \"find\", \"find\", \"find\", \"find\", \"find\", \"find\", \"find\", \"find\", \"find\", \"finds\", \"finds\", \"finds\", \"finds\", \"finds\", \"finds\", \"finds\", \"finds\", \"finds\", \"finds\", \"finds\", \"finds\", \"fire\", \"fire\", \"fire\", \"fire\", \"fire\", \"fire\", \"fire\", \"fire\", \"fire\", \"fire\", \"fleeing\", \"fleeing\", \"fleeing\", \"fleeing\", \"fleeing\", \"folger\", \"football\", \"football\", \"ford\", \"forest.\", \"forever?\", \"fox\", \"fox\", \"fr\", \"francis\", \"freak\", \"frequently\", \"friendly\", \"friends\", \"friends\", \"friends\", \"friends\", \"friends\", \"friends\", \"friends\", \"friends\", \"friends\", \"friends\", \"frontier\", \"future\", \"future\", \"future\", \"future\", \"future\", \"future\", \"future\", \"future\", \"future\", \"future\", \"future\", \"gaia\", \"gang\", \"gang\", \"gang\", \"gang\", \"garrett\", \"gemma\", \"genes\", \"genres\", \"gently\", \"german\", \"german\", \"german\", \"getting\", \"getting\", \"getting\", \"getting\", \"girl\", \"girl\", \"girl\", \"girl\", \"girl\", \"girl\", \"girl\", \"girl\", \"girl\", \"go\", \"go\", \"go\", \"go\", \"go\", \"go\", \"go\", \"go\", \"go.\", \"god\", \"god\", \"god\", \"god\", \"god\", \"god\", \"god\", \"god\", \"god\", \"god,\", \"god,\", \"god,\", \"goddess\", \"goddess\", \"gods\", \"gods\", \"gods\", \"gods\", \"gods\", \"gods\", \"going\", \"going\", \"going\", \"going\", \"going\", \"going\", \"going\", \"gold.\", \"good\", \"good\", \"good\", \"good\", \"good\", \"good\", \"good\", \"good\", \"good\", \"good\", \"good\", \"good\", \"good\", \"good,\", \"got\", \"got\", \"got\", \"got\", \"got\", \"got\", \"government\", \"government\", \"government\", \"government\", \"government\", \"government\", \"government\", \"graduation\", \"grande\", \"grant\", \"great\", \"great\", \"great\", \"great\", \"great\", \"great\", \"great\", \"great\", \"great\", \"great\", \"great\", \"great\", \"great\", \"greatest\", \"greatest\", \"greatest\", \"greatest\", \"greatest\", \"greatest\", \"greatest\", \"greatest\", \"greatest\", \"greatest\", \"greatest\", \"grey,\", \"guide\", \"guide\", \"guide\", \"guide\", \"guide\", \"guide\", \"guide\", \"guide\", \"guide\", \"guided\", \"guys\", \"h.\", \"han\", \"hang\", \"hank\", \"happen\", \"happen\", \"happen\", \"happiness,\", \"harper\", \"harper\", \"harry\", \"harry\", \"hayley\", \"hed\", \"hed\", \"heir\", \"heir\", \"heir\", \"heir\", \"heir\", \"heir\", \"heir\", \"heir\", \"help\", \"help\", \"help\", \"help\", \"help\", \"help\", \"help\", \"help\", \"help\", \"help\", \"help\", \"help,\", \"hem\", \"henry\", \"henry\", \"henry\", \"henry\", \"henry\", \"her.\", \"her.\", \"her.\", \"her.\", \"her.\", \"her.\", \"her.\", \"hero.\", \"heroism\", \"hidup\", \"historical\", \"historical\", \"historical\", \"historical\", \"historical\", \"history\", \"history\", \"history\", \"history\", \"history\", \"history\", \"history\", \"history\", \"history\", \"history.\", \"history.\", \"history.\", \"history.\", \"history.\", \"history.\", \"history.\", \"hitler\", \"hitler\", \"hitler's\", \"holy\", \"holy\", \"holy\", \"holy\", \"home\", \"home\", \"home\", \"home\", \"home\", \"home\", \"home\", \"home\", \"home\", \"home\", \"home\", \"hottest\", \"hottest\", \"house\", \"house\", \"house\", \"house\", \"house\", \"house\", \"house\", \"house\", \"house\", \"house\", \"house\", \"house\", \"however\", \"human\", \"human\", \"human\", \"human\", \"human\", \"human\", \"human\", \"human\", \"human\", \"human\", \"human\", \"humans\", \"humans\", \"humans\", \"humans\", \"humans\", \"humans\", \"humans\", \"humans\", \"hunger\", \"hunger\", \"hunger\", \"hunger\", \"hunger\", \"hunters\", \"hunters\", \"hunters\", \"i'm\", \"ian\", \"ihr\", \"ii,\", \"ii,\", \"ii,\", \"ii.\", \"ii.\", \"il\", \"immortal\", \"immortal\", \"immortal\", \"immortal\", \"immortal\", \"immortal\", \"includes\", \"includes\", \"includes\", \"includes\", \"includes\", \"includes\", \"includes\", \"includes\", \"includes\", \"including\", \"including\", \"including\", \"including\", \"including\", \"including\", \"including\", \"including\", \"including\", \"including\", \"including\", \"inevitably\", \"inexorably\", \"inherited\", \"ini\", \"instruments\", \"interviews\", \"intimately\", \"introduction\", \"introduction\", \"introduction\", \"introduction\", \"introduction\", \"introductions\", \"investigation\", \"investigation\", \"investigation\", \"investigation\", \"investigation\", \"invitation\", \"invitation\", \"isabel\", \"isabel\", \"isabel\", \"isbn\", \"isn't\", \"isn't\", \"isn't\", \"isn't\", \"isn't\", \"israeli\", \"ist\", \"it's\", \"it's\", \"it's\", \"it's\", \"it's\", \"it's\", \"it's\", \"it's\", \"it's\", \"it's\", \"it's\", \"itu\", \"ive\", \"ivy\", \"jack,\", \"jacky\", \"jake\", \"james,\", \"james,\", \"janie\", \"jenny\", \"jenny\", \"jess\", \"jesse\", \"jessica\", \"jessica\", \"jessica\", \"jesus\", \"jesus\", \"jimmy\", \"jimmy\", \"jimmy\", \"joe\", \"john\", \"john\", \"john\", \"john\", \"john\", \"john\", \"john\", \"john\", \"johnny\", \"johnny\", \"johnny\", \"johnsen\", \"jordan\", \"jordan\", \"josephine\", \"joshua\", \"journey\", \"journey\", \"journey\", \"journey\", \"journey\", \"journey\", \"journey\", \"journey\", \"journey\", \"journey\", \"journey\", \"journey\", \"jr.,\", \"judith\", \"judy\", \"judy\", \"julia\", \"julia\", \"julian\", \"julian\", \"juliet\", \"julius\", \"kahlan\", \"kahlan\", \"kale\", \"karigan\", \"katherine\", \"katherine\", \"katherine\", \"katie\", \"katie\", \"ke\", \"keep\", \"keep\", \"keep\", \"keep\", \"keep\", \"keep\", \"keep\", \"keep\", \"keep\", \"kelly\", \"kelly\", \"kestrel\", \"kid\", \"kill.\", \"kim\", \"king\", \"king\", \"king\", \"king\", \"king\", \"king\", \"king\", \"king\", \"king\", \"king\", \"kira\", \"kissed\", \"know\", \"know\", \"know\", \"know\", \"know\", \"know\", \"know\", \"know\", \"know\", \"know\", \"know\", \"know\", \"knows\", \"knows\", \"knows\", \"knows\", \"knows\", \"knows\", \"knows\", \"knows\", \"knows\", \"l\", \"l\", \"la\", \"land\", \"land\", \"land\", \"land\", \"land\", \"land\", \"land\", \"land\", \"land\", \"land\", \"land\", \"land\", \"land\", \"las\", \"last\", \"last\", \"last\", \"last\", \"last\", \"last\", \"last\", \"last\", \"last\", \"last\", \"last\", \"last\", \"laughter\", \"le\", \"leading\", \"leading\", \"leading\", \"leading\", \"leading\", \"leading\", \"leading\", \"leading\", \"les\", \"let\", \"let\", \"let\", \"let\", \"levels\", \"li\", \"lia\", \"liberals\", \"life.\", \"life.\", \"life.\", \"life.\", \"life.\", \"life.\", \"life.\", \"life.\", \"life.\", \"life.\", \"life.\", \"light\", \"light\", \"light\", \"light\", \"light\", \"light\", \"light\", \"light\", \"light\", \"lily\", \"lily\", \"lily\", \"lily\", \"lilys\", \"lisa\", \"lissa\", \"literary\", \"literary\", \"literary\", \"literary\", \"literary\", \"literary\", \"literary\", \"literary\", \"literature\", \"literature\", \"literature\", \"literature\", \"literature\", \"little\", \"little\", \"little\", \"little\", \"little\", \"little\", \"little\", \"little\", \"little\", \"little\", \"little\", \"lives\", \"lives\", \"lives\", \"lives\", \"lives\", \"lives\", \"lives\", \"lives\", \"lives\", \"lives\", \"lives\", \"lives\", \"liz\", \"lizzie\", \"los\", \"los\", \"los\", \"los\", \"los\", \"los\", \"los\", \"loss.\", \"loss.\", \"lot\", \"lot\", \"lot\", \"love\", \"love\", \"love\", \"love\", \"love\", \"love\", \"love\", \"love\", \"love\", \"love\", \"love\", \"love\", \"love\", \"lucian\", \"lucy\", \"lucy\", \"luke\", \"lymond\", \"magic\", \"magic\", \"magic\", \"magic\", \"magic\", \"magic\", \"magic\", \"magic\", \"magic\", \"magic\", \"magnificent\", \"magnificent\", \"magnificent\", \"magnificent\", \"magnificent\", \"magnificent\", \"magnificent\", \"magnus\", \"mais\", \"make\", \"make\", \"make\", \"make\", \"make\", \"make\", \"make\", \"make\", \"make\", \"make\", \"make\", \"malcolm\", \"man\", \"man\", \"man\", \"man\", \"man\", \"man\", \"man\", \"man\", \"man\", \"man\", \"man\", \"man\", \"man\", \"many\", \"many\", \"many\", \"many\", \"many\", \"many\", \"many\", \"many\", \"many\", \"many\", \"many\", \"many\", \"many\", \"marguerite\", \"martha\", \"marvel\", \"marvel\", \"mary\", \"mary\", \"mary\", \"mary\", \"mathematical\", \"matt\", \"maura\", \"may\", \"may\", \"may\", \"may\", \"may\", \"may\", \"may\", \"may\", \"may\", \"may\", \"may\", \"may\", \"maybe\", \"maybe\", \"maze\", \"maze\", \"me,\", \"me,\", \"me.\", \"me.\", \"me.\", \"medical\", \"medical\", \"medical\", \"medical\", \"medical\", \"medieval\", \"medieval\", \"medieval\", \"medieval\", \"medieval\", \"medieval\", \"meet,\", \"meetings\", \"meets\", \"meets\", \"meets\", \"meets\", \"meets\", \"meets\", \"meets\", \"meets\", \"meets\", \"memories.\", \"men\", \"men\", \"men\", \"men\", \"men\", \"men\", \"men\", \"men\", \"men\", \"men\", \"men\", \"men\", \"menjadi\", \"mereka\", \"mia\", \"michael\", \"michael\", \"michael\", \"michael\", \"michael\", \"michael\", \"michael\", \"michael\", \"michael\", \"miguel\", \"mike\", \"mike\", \"mike\", \"millionaire\", \"millionaire\", \"mistake\", \"mit\", \"mitch\", \"modern\", \"modern\", \"modern\", \"modern\", \"modern\", \"modern\", \"modern\", \"modern\", \"modern\", \"modern\", \"modern\", \"modern\", \"mom\", \"month\", \"month\", \"moody\", \"mortal\", \"mortal\", \"mortal\", \"mortal\", \"move,\", \"much\", \"much\", \"much\", \"much\", \"much\", \"much\", \"much\", \"much\", \"much\", \"much\", \"much\", \"murder\", \"murder\", \"murder\", \"murder\", \"murder\", \"murder\", \"murder\", \"murder\", \"murder\", \"murder\", \"muslim\", \"muslim\", \"mutilated\", \"mysterious\", \"mysterious\", \"mysterious\", \"mysterious\", \"mysterious\", \"mysterious\", \"mysterious\", \"mysterious\", \"mysterious\", \"mysterious\", \"mysterious\", \"mysterious\", \"mysterious\", \"mysterious,\", \"mysterious,\", \"mysterious,\", \"n\", \"nan\", \"narrator\", \"narrator\", \"narrator\", \"narrator\", \"narrator\", \"narrator\", \"narrator\", \"narrow\", \"nate\", \"naval\", \"navy\", \"navy\", \"never\", \"never\", \"never\", \"never\", \"never\", \"never\", \"never\", \"never\", \"never\", \"never\", \"never\", \"newborn\", \"news.\", \"nicht\", \"night\", \"night\", \"night\", \"night\", \"night\", \"night\", \"night\", \"night\", \"night\", \"night\", \"night\", \"nikki\", \"nina\", \"nora\", \"nora\", \"note\", \"note\", \"note\", \"note\", \"notebook\", \"notebook\", \"nv\", \"o\", \"observed\", \"offers\", \"offers\", \"offers\", \"offers\", \"offers\", \"offers\", \"offers\", \"offers\", \"offers\", \"offers\", \"old\", \"old\", \"old\", \"old\", \"old\", \"old\", \"old\", \"old\", \"old\", \"old\", \"old\", \"old\", \"oleh\", \"olive\", \"om\", \"one's\", \"one's\", \"online\", \"orb\", \"original\", \"original\", \"original\", \"original\", \"original\", \"original\", \"original\", \"outlaw\", \"owl\", \"page-turning\", \"paige\", \"paintings\", \"palace,\", \"panic\", \"panic\", \"panic\", \"par\", \"para\", \"para\", \"parker\", \"partner,\", \"past\", \"past\", \"past\", \"past\", \"past\", \"past\", \"past\", \"past\", \"past\", \"past\", \"past\", \"past\", \"patience\", \"patrick\", \"patrick\", \"pearl\", \"penguin\", \"penguin\", \"people\", \"people\", \"people\", \"people\", \"people\", \"people\", \"people\", \"people\", \"people\", \"people\", \"people\", \"people\", \"peopled\", \"pernah\", \"person,\", \"personal\", \"personal\", \"personal\", \"personal\", \"personal\", \"personal\", \"personal\", \"personal\", \"personal\", \"personal\", \"personal\", \"peter\", \"peter\", \"peter\", \"philosophy\", \"philosophy\", \"philosophy\", \"philosophy\", \"pierce\", \"piper\", \"pirates\", \"play\", \"play\", \"play\", \"play\", \"play\", \"play\", \"play\", \"play\", \"play\", \"play\", \"plum\", \"poe\", \"poe\", \"poems\", \"poetry\", \"poirot\", \"police.\", \"political\", \"political\", \"political\", \"political\", \"political\", \"political\", \"political\", \"political\", \"por\", \"positive\", \"potter\", \"power\", \"power\", \"power\", \"power\", \"power\", \"power\", \"power\", \"power\", \"power\", \"power\", \"power\", \"power\", \"powerful\", \"powerful\", \"powerful\", \"powerful\", \"powerful\", \"powerful\", \"powerful\", \"powerful\", \"powerful\", \"powerful\", \"powerful\", \"powerful\", \"powers\", \"powers\", \"powers\", \"powers\", \"powers\", \"powers\", \"powers\", \"powers\", \"president\", \"president\", \"president\", \"president\", \"president\", \"president\", \"president\", \"price.\", \"price.\", \"primary\", \"prince\", \"prince\", \"prince\", \"prince\", \"prince\", \"prince\", \"prince\", \"prince\", \"princess\", \"princess\", \"princess\", \"princess\", \"princess\", \"princess\", \"princess\", \"princess\", \"princess\", \"principles\", \"principles\", \"print\", \"program\", \"prophecies\", \"prophetic\", \"prose\", \"prose\", \"prose\", \"prospects\", \"protect\", \"protect\", \"protect\", \"protect\", \"protect\", \"protect\", \"protect\", \"protect\", \"protecting\", \"protecting\", \"provide\", \"provide\", \"provide\", \"provide\", \"provide\", \"provide\", \"provide\", \"provides\", \"provides\", \"provides\", \"provides\", \"provides\", \"publication\", \"publication\", \"publication\", \"publication\", \"publication\", \"publisher\", \"publisher\", \"quantum\", \"que\", \"queen's\", \"queens\", \"quentin\", \"quest\", \"quest\", \"quest\", \"quest\", \"quest\", \"quest\", \"quest\", \"quest\", \"quest\", \"quest\", \"qui\", \"quinn\", \"race\", \"race\", \"race\", \"race\", \"race\", \"race\", \"race\", \"race\", \"race\", \"race\", \"race\", \"race\", \"radically\", \"ran\", \"raven\", \"raven\", \"reacher\", \"read\", \"read\", \"read\", \"read\", \"read\", \"read\", \"read\", \"read\", \"read\", \"read\", \"reader\", \"reader\", \"reader\", \"reader\", \"reader\", \"reader\", \"reader\", \"reader\", \"reader\", \"reader\", \"readers\", \"readers\", \"readers\", \"readers\", \"readers\", \"readers\", \"readers\", \"readers\", \"readers\", \"readers\", \"readers\", \"readers\", \"really\", \"really\", \"really\", \"really\", \"really\", \"really\", \"really\", \"really\", \"really\", \"really\", \"realm\", \"realm\", \"realm\", \"realm\", \"realm,\", \"rebecca\", \"records\", \"records\", \"redwall\", \"reed\", \"reference\", \"replace\", \"represents\", \"represents\", \"represents\", \"represents\", \"research,\", \"residence\", \"reviews\", \"revised\", \"revised\", \"revised\", \"richard\", \"richard\", \"richard\", \"richard\", \"richard\", \"richard\", \"richard\", \"richard\", \"richard\", \"rider\", \"riley\", \"riley\", \"ripper\", \"ripper\", \"risks\", \"risks\", \"risks\", \"risks\", \"river\", \"river\", \"river\", \"river\", \"river\", \"roads\", \"roald\", \"robots\", \"rose\", \"rose\", \"rose\", \"rose\", \"rose\", \"ross\", \"sa\", \"sabrina\", \"saga\", \"saga\", \"saga\", \"saga\", \"saga\", \"saga\", \"saga\", \"saga\", \"sail\", \"sally\", \"sally\", \"salt\", \"sam\", \"sam\", \"sam\", \"sang\", \"save\", \"save\", \"save\", \"save\", \"save\", \"save\", \"save\", \"save\", \"save\", \"save\", \"save\", \"school\", \"school\", \"school\", \"school\", \"school\", \"school\", \"school\", \"school\", \"school\", \"school\", \"school,\", \"school,\", \"school,\", \"school,\", \"school,\", \"schools\", \"schools\", \"scientific\", \"scientific\", \"scientific\", \"scientific\", \"se\", \"sean\", \"sebagai\", \"sebuah\", \"secret\", \"secret\", \"secret\", \"secret\", \"secret\", \"secret\", \"secret\", \"secret\", \"secret\", \"secret\", \"secret\", \"secret\", \"seorang\", \"serena\", \"series\", \"series\", \"series\", \"series\", \"series\", \"series\", \"series\", \"series\", \"series\", \"series\", \"series\", \"series\", \"set\", \"set\", \"set\", \"set\", \"set\", \"set\", \"set\", \"set\", \"set\", \"set\", \"set\", \"seventy\", \"seventy\", \"shadow\", \"shadow\", \"shadow\", \"shadow\", \"shadow\", \"shadow\", \"shadow\", \"shadow\", \"shadows\", \"shadows\", \"shadows\", \"shadows\", \"shadows\", \"shadows\", \"shakespeare\", \"sheep\", \"sherlock\", \"sherlock\", \"si\", \"sich\", \"sie\", \"simple,\", \"sister.\", \"small\", \"small\", \"small\", \"small\", \"small\", \"small\", \"small\", \"small\", \"small\", \"small\", \"small\", \"smoky\", \"snatched\", \"soldier\", \"solution\", \"solution\", \"solution\", \"someday\", \"someone,\", \"something\", \"something\", \"something\", \"something\", \"something\", \"something\", \"something\", \"something\", \"something\", \"something\", \"something\", \"son\", \"son\", \"son\", \"son\", \"son\", \"son\", \"son\", \"son\", \"son\", \"son\", \"son\", \"son\", \"sookie\", \"soon\", \"soon\", \"soon\", \"soon\", \"soon\", \"soon\", \"soon\", \"soon\", \"soon\", \"soon\", \"soon\", \"soon\", \"sophia\", \"soren\", \"south\", \"south\", \"south\", \"south\", \"south\", \"south\", \"south\", \"south\", \"space\", \"space\", \"space\", \"space\", \"space\", \"space\", \"space\", \"spans\", \"spans\", \"spans\", \"spencer\", \"spending\", \"spending\", \"spiritual\", \"spiritual\", \"spiritual\", \"spiritual\", \"squad\", \"ss\", \"standalone\", \"standard\", \"standard\", \"standard\", \"states.\", \"steal\", \"steal\", \"steal\", \"stephanie\", \"stephanie\", \"steve\", \"stop\", \"stop\", \"stop\", \"stop\", \"stop\", \"stop\", \"stop\", \"stop\", \"stories\", \"stories\", \"stories\", \"stories\", \"stories\", \"stories\", \"stories\", \"stories\", \"stories\", \"strategies\", \"stream\", \"strikes\", \"strikes\", \"stuart\", \"study\", \"study\", \"study\", \"study\", \"study\", \"study\", \"study\", \"su\", \"superb\", \"sure\", \"sure\", \"sure\", \"sure\", \"sure\", \"sure\", \"sure\", \"sure\", \"sydney\", \"system.\", \"tactics\", \"tak\", \"take\", \"take\", \"take\", \"take\", \"take\", \"take\", \"take\", \"take\", \"take\", \"take\", \"take\", \"take\", \"takes\", \"takes\", \"takes\", \"takes\", \"takes\", \"takes\", \"takes\", \"takes\", \"takes\", \"takes\", \"takes\", \"takes\", \"takes\", \"tale\", \"tale\", \"tale\", \"tale\", \"tale\", \"tale\", \"tale\", \"tale\", \"tale\", \"tale\", \"tale\", \"talent\", \"talent\", \"talent\", \"talent\", \"talent\", \"talent\", \"talent\", \"talent\", \"talent\", \"tales\", \"tales\", \"tales\", \"tales\", \"tales\", \"tales\", \"tales\", \"tales\", \"tales\", \"tales\", \"tame\", \"te\", \"te\", \"team\", \"team\", \"team\", \"team\", \"team\", \"team\", \"team\", \"teams\", \"techniques\", \"techniques\", \"terribly\", \"terribly\", \"tess\", \"tessa\", \"text\", \"text\", \"text\", \"text\", \"thats\", \"thats\", \"thats\", \"thats\", \"theo\", \"theodore\", \"theodore\", \"there's\", \"there's\", \"there's\", \"there's\", \"there's\", \"there's\", \"theseries\", \"thing\", \"thing\", \"thing\", \"thing\", \"thing\", \"thing\", \"think\", \"think\", \"think\", \"think\", \"think\", \"think\", \"think\", \"thinking\", \"thinking\", \"thinking\", \"thinks\", \"thinks\", \"thinks\", \"thomas\", \"thomas\", \"thomas\", \"thomas\", \"thomas\", \"thomas\", \"thomas\", \"thomas\", \"threat\", \"threat\", \"threat\", \"threat\", \"threat\", \"threat\", \"threat\", \"threat\", \"three\", \"three\", \"three\", \"three\", \"three\", \"three\", \"three\", \"three\", \"three\", \"three\", \"three\", \"three\", \"thunder\", \"tidak\", \"tide\", \"times\", \"times\", \"times\", \"times\", \"times\", \"times\", \"times\", \"times\", \"times\", \"times\", \"times\", \"tips\", \"tips\", \"toby\", \"together\", \"together\", \"together\", \"together\", \"together\", \"together\", \"together\", \"together\", \"together\", \"together\", \"together\", \"together\", \"tom\", \"tom\", \"tom\", \"tom\", \"tom\", \"topics\", \"torak\", \"tough,\", \"toughest\", \"toute\", \"toxic\", \"tracking\", \"tracking\", \"translation\", \"translation\", \"translators.\", \"trevor\", \"true\", \"true\", \"true\", \"true\", \"true\", \"true\", \"true\", \"true\", \"true\", \"true\", \"true\", \"true\", \"trust\", \"trust\", \"trust\", \"trust\", \"trust\", \"trust\", \"trust\", \"truth\", \"truth\", \"truth\", \"truth\", \"truth\", \"truth\", \"truth\", \"truth\", \"truth\", \"truth\", \"turner\", \"turns\", \"turns\", \"turns\", \"turns\", \"turns\", \"turns\", \"turns\", \"turns\", \"turns\", \"turns\", \"turns\", \"turns\", \"two\", \"two\", \"two\", \"two\", \"two\", \"two\", \"two\", \"two\", \"two\", \"two\", \"two\", \"two\", \"tyranny\", \"u\", \"u.s.\", \"u.s.\", \"u.s.\", \"u.s.\", \"uma\", \"un\", \"una\", \"uncontrollable\", \"uncovering\", \"und\", \"understanding\", \"understanding\", \"understanding\", \"understanding\", \"understanding\", \"understanding\", \"undying\", \"unforgettable\", \"unforgettable\", \"unforgettable\", \"unforgettable\", \"unforgettable\", \"unforgettable\", \"unforgettable\", \"unforgettable\", \"unforgettable\", \"unleash\", \"untuk\", \"up-to-datetranslations\", \"updated\", \"updated\", \"upon\", \"upon\", \"upon\", \"upon\", \"upon\", \"upon\", \"upon\", \"upon\", \"upon\", \"upon\", \"urge\", \"us\", \"us\", \"us\", \"us\", \"us\", \"us\", \"us\", \"us\", \"us\", \"us\", \"us\", \"us\", \"vampire\", \"vampire\", \"vampire\", \"vampire\", \"vampire\", \"vampires\", \"various\", \"various\", \"various\", \"ve\", \"ve\", \"verse\", \"versus\", \"victor\", \"victor\", \"vida\", \"village\", \"village\", \"village\", \"village\", \"village\", \"village\", \"virgin\", \"volume\", \"volume\", \"volume\", \"volume\", \"volume\", \"volume\", \"volume\", \"volume\", \"volume,\", \"volume,\", \"von\", \"von\", \"von\", \"want\", \"want\", \"want\", \"want\", \"want\", \"want\", \"want\", \"want.\", \"wants\", \"wants\", \"wants\", \"wants\", \"wants\", \"wants\", \"wants\", \"wants\", \"war\", \"war\", \"war\", \"war\", \"war\", \"war\", \"war\", \"war\", \"war\", \"war\", \"war\", \"war\", \"war,\", \"war,\", \"war,\", \"war,\", \"war,\", \"war,\", \"war,\", \"war,\", \"war.\", \"war.\", \"war.\", \"war.\", \"war.\", \"war.\", \"war.\", \"war.\", \"war.\", \"warning:\", \"warrior\", \"warrior\", \"warrior\", \"warrior\", \"warrior\", \"warrior\", \"washington,\", \"washington,\", \"washington,\", \"way\", \"way\", \"way\", \"way\", \"way\", \"way\", \"way\", \"way\", \"way\", \"way\", \"way\", \"way\", \"weapons\", \"weapons\", \"weird\", \"weird\", \"weird\", \"well\", \"well\", \"well\", \"well\", \"well\", \"well\", \"well\", \"well\", \"well\", \"well\", \"well\", \"wendy\", \"werewolf\", \"werewolf\", \"werewolf\", \"whose\", \"whose\", \"whose\", \"whose\", \"whose\", \"whose\", \"whose\", \"whose\", \"whose\", \"whose\", \"whose\", \"whose\", \"wie\", \"willow\", \"witches\", \"witches\", \"witches\", \"witches\", \"wolf\", \"wolf\", \"wolf\", \"wolf\", \"wolf\", \"wolf\", \"wolves\", \"wolves\", \"woman\", \"woman\", \"woman\", \"woman\", \"woman\", \"woman\", \"woman\", \"woman\", \"woman\", \"woman\", \"woman\", \"women\", \"women\", \"women\", \"women\", \"women\", \"women\", \"women\", \"women\", \"women\", \"women\", \"work\", \"work\", \"work\", \"work\", \"work\", \"work\", \"work\", \"work\", \"work\", \"work\", \"work\", \"world\", \"world\", \"world\", \"world\", \"world\", \"world\", \"world\", \"world\", \"world\", \"world\", \"world\", \"world\", \"world\", \"world.\", \"world.\", \"world.\", \"world.\", \"world.\", \"world.\", \"world.\", \"world.\", \"world.\", \"world.\", \"world.\", \"world.\", \"would\", \"would\", \"would\", \"would\", \"would\", \"would\", \"would\", \"would\", \"would\", \"would\", \"would\", \"wouldn't\", \"writings\", \"written\", \"written\", \"written\", \"written\", \"written\", \"written\", \"written\", \"written\", \"written\", \"written\", \"wu\", \"y\", \"yang\", \"years\", \"years\", \"years\", \"years\", \"years\", \"years\", \"years\", \"years\", \"years\", \"years\", \"years\", \"yet\", \"yet\", \"yet\", \"yet\", \"yet\", \"yet\", \"yet\", \"yet\", \"yet\", \"yet\", \"yet\", \"york\", \"york\", \"york\", \"york\", \"york\", \"york\", \"york\", \"york\", \"york\", \"york\", \"york\", \"york\", \"york\", \"you're\", \"you're\", \"you're\", \"young\", \"young\", \"young\", \"young\", \"young\", \"young\", \"young\", \"young\", \"young\", \"young\", \"young\", \"young\", \"young\", \"youre\", \"youve\", \"zach\", \"zoe\", \"zu\"]}, \"mdsDat\": {\"y\": [0.11611757839934861, 0.14982344614966736, -0.11006402386436792, -0.23492483046619936, -0.042458626001102714, -0.12728839146060925, 0.071017995139218609, 0.11584952479479338, 0.026934727551118073, -0.087777594857205321, 0.092548681551900158, 0.0089335989428413667, 0.023613906295423297, -0.002325992174825623], \"cluster\": [1, 1, 1, 1, 1, 1, 1, 1, 1, 1, 1, 1, 1, 1], \"Freq\": [21.508745433698586, 15.419306544870457, 11.426582577144927, 9.1521699183373517, 8.5568383271446358, 7.0966209269956231, 6.4730823631692109, 4.2441952548553017, 3.6625785463953267, 3.2552287804495372, 2.9093404727714343, 2.5365171955811872, 1.892545513306793, 1.8662481452796227], \"topics\": [1, 2, 3, 4, 5, 6, 7, 8, 9, 10, 11, 12, 13, 14], \"x\": [-0.16293089643249797, -0.16309256500549163, -0.12555600514861315, -0.073229703565540163, -0.11023506324895922, -0.084986496148425808, -0.098661932732021493, -0.044344874044595278, -0.010581976601968295, 0.032292507102586507, 0.0408922618048198, 0.34244836653834299, 0.24358116428490115, 0.21440521319746325]}, \"R\": 30, \"lambda.step\": 0.01, \"tinfo\": {\"Category\": [\"Default\", \"Default\", \"Default\", \"Default\", \"Default\", \"Default\", \"Default\", \"Default\", \"Default\", \"Default\", \"Default\", \"Default\", \"Default\", \"Default\", \"Default\", \"Default\", \"Default\", \"Default\", \"Default\", \"Default\", \"Default\", \"Default\", \"Default\", \"Default\", \"Default\", \"Default\", \"Default\", \"Default\", \"Default\", \"Default\", \"Topic1\", \"Topic1\", \"Topic1\", \"Topic1\", \"Topic1\", \"Topic1\", \"Topic1\", \"Topic1\", \"Topic1\", \"Topic1\", \"Topic1\", \"Topic1\", \"Topic1\", \"Topic1\", \"Topic1\", \"Topic1\", \"Topic1\", \"Topic1\", \"Topic1\", \"Topic1\", \"Topic1\", \"Topic1\", \"Topic1\", \"Topic1\", \"Topic1\", \"Topic1\", \"Topic1\", \"Topic1\", \"Topic1\", \"Topic1\", \"Topic1\", \"Topic1\", \"Topic1\", \"Topic1\", \"Topic1\", \"Topic1\", \"Topic1\", \"Topic1\", \"Topic1\", \"Topic1\", \"Topic1\", \"Topic1\", \"Topic1\", \"Topic1\", \"Topic1\", \"Topic1\", \"Topic1\", \"Topic1\", \"Topic1\", \"Topic1\", \"Topic1\", \"Topic1\", \"Topic1\", \"Topic1\", \"Topic1\", \"Topic1\", \"Topic1\", \"Topic1\", \"Topic1\", \"Topic1\", \"Topic1\", \"Topic1\", \"Topic1\", \"Topic1\", \"Topic1\", \"Topic1\", \"Topic1\", \"Topic1\", \"Topic1\", \"Topic1\", \"Topic1\", \"Topic1\", \"Topic1\", \"Topic1\", \"Topic1\", \"Topic1\", \"Topic1\", \"Topic1\", \"Topic1\", \"Topic1\", \"Topic1\", \"Topic1\", \"Topic1\", \"Topic1\", \"Topic1\", \"Topic1\", \"Topic1\", \"Topic1\", \"Topic1\", \"Topic1\", \"Topic1\", \"Topic2\", \"Topic2\", \"Topic2\", \"Topic2\", \"Topic2\", \"Topic2\", \"Topic2\", \"Topic2\", \"Topic2\", \"Topic2\", \"Topic2\", \"Topic2\", \"Topic2\", \"Topic2\", \"Topic2\", \"Topic2\", \"Topic2\", \"Topic2\", \"Topic2\", \"Topic2\", \"Topic2\", \"Topic2\", \"Topic2\", \"Topic2\", \"Topic2\", \"Topic2\", \"Topic2\", \"Topic2\", \"Topic2\", \"Topic2\", \"Topic2\", \"Topic2\", \"Topic2\", \"Topic2\", \"Topic2\", \"Topic2\", \"Topic2\", \"Topic2\", \"Topic2\", \"Topic2\", \"Topic2\", \"Topic2\", \"Topic2\", \"Topic2\", \"Topic2\", \"Topic2\", \"Topic2\", \"Topic2\", \"Topic2\", \"Topic2\", \"Topic2\", \"Topic2\", \"Topic2\", \"Topic2\", \"Topic2\", \"Topic2\", \"Topic2\", \"Topic2\", \"Topic2\", \"Topic2\", \"Topic2\", \"Topic2\", \"Topic2\", \"Topic2\", \"Topic2\", \"Topic2\", \"Topic2\", \"Topic2\", \"Topic2\", \"Topic2\", \"Topic2\", \"Topic2\", \"Topic2\", \"Topic2\", \"Topic2\", \"Topic2\", \"Topic2\", \"Topic2\", \"Topic2\", \"Topic2\", \"Topic2\", \"Topic2\", \"Topic2\", \"Topic2\", \"Topic2\", \"Topic2\", \"Topic2\", \"Topic3\", \"Topic3\", \"Topic3\", \"Topic3\", \"Topic3\", \"Topic3\", \"Topic3\", \"Topic3\", \"Topic3\", \"Topic3\", \"Topic3\", \"Topic3\", \"Topic3\", \"Topic3\", \"Topic3\", \"Topic3\", \"Topic3\", \"Topic3\", \"Topic3\", \"Topic3\", \"Topic3\", \"Topic3\", \"Topic3\", \"Topic3\", \"Topic3\", \"Topic3\", \"Topic3\", \"Topic3\", \"Topic3\", \"Topic3\", \"Topic3\", \"Topic3\", \"Topic3\", \"Topic3\", \"Topic3\", \"Topic3\", \"Topic3\", \"Topic3\", \"Topic3\", \"Topic3\", \"Topic3\", \"Topic3\", \"Topic3\", \"Topic3\", \"Topic3\", \"Topic3\", \"Topic3\", \"Topic3\", \"Topic3\", \"Topic3\", \"Topic3\", \"Topic3\", \"Topic3\", \"Topic3\", \"Topic3\", \"Topic3\", \"Topic3\", \"Topic3\", \"Topic3\", \"Topic3\", \"Topic3\", \"Topic3\", \"Topic3\", \"Topic3\", \"Topic3\", \"Topic3\", \"Topic3\", \"Topic3\", \"Topic3\", \"Topic3\", \"Topic3\", \"Topic3\", \"Topic3\", \"Topic3\", \"Topic3\", \"Topic3\", \"Topic3\", \"Topic3\", \"Topic3\", \"Topic3\", \"Topic3\", \"Topic3\", \"Topic3\", \"Topic3\", \"Topic3\", \"Topic3\", \"Topic4\", \"Topic4\", \"Topic4\", \"Topic4\", \"Topic4\", \"Topic4\", \"Topic4\", \"Topic4\", \"Topic4\", \"Topic4\", \"Topic4\", \"Topic4\", \"Topic4\", \"Topic4\", \"Topic4\", \"Topic4\", \"Topic4\", \"Topic4\", \"Topic4\", \"Topic4\", \"Topic4\", \"Topic4\", \"Topic4\", \"Topic4\", \"Topic4\", \"Topic4\", \"Topic4\", \"Topic4\", \"Topic4\", \"Topic4\", \"Topic4\", \"Topic4\", \"Topic4\", \"Topic4\", \"Topic4\", \"Topic4\", \"Topic4\", \"Topic4\", \"Topic4\", \"Topic4\", \"Topic4\", \"Topic4\", \"Topic4\", \"Topic4\", \"Topic4\", \"Topic4\", \"Topic4\", \"Topic4\", \"Topic4\", \"Topic4\", \"Topic4\", \"Topic4\", \"Topic4\", \"Topic4\", \"Topic4\", \"Topic4\", \"Topic4\", \"Topic4\", \"Topic4\", \"Topic4\", \"Topic4\", \"Topic4\", \"Topic4\", \"Topic4\", \"Topic4\", \"Topic4\", \"Topic4\", \"Topic4\", \"Topic4\", \"Topic4\", \"Topic4\", \"Topic4\", \"Topic4\", \"Topic4\", \"Topic4\", \"Topic5\", \"Topic5\", \"Topic5\", \"Topic5\", \"Topic5\", \"Topic5\", \"Topic5\", \"Topic5\", \"Topic5\", \"Topic5\", \"Topic5\", \"Topic5\", \"Topic5\", \"Topic5\", \"Topic5\", \"Topic5\", \"Topic5\", \"Topic5\", \"Topic5\", \"Topic5\", \"Topic5\", \"Topic5\", \"Topic5\", \"Topic5\", \"Topic5\", \"Topic5\", \"Topic5\", \"Topic5\", \"Topic5\", \"Topic5\", \"Topic5\", \"Topic5\", \"Topic5\", \"Topic5\", \"Topic5\", \"Topic5\", \"Topic5\", \"Topic5\", \"Topic5\", \"Topic5\", \"Topic5\", \"Topic5\", \"Topic5\", \"Topic5\", \"Topic5\", \"Topic5\", \"Topic5\", \"Topic5\", \"Topic5\", \"Topic5\", \"Topic5\", \"Topic5\", \"Topic5\", \"Topic5\", \"Topic5\", \"Topic5\", \"Topic5\", \"Topic5\", \"Topic5\", \"Topic5\", \"Topic5\", \"Topic5\", \"Topic5\", \"Topic5\", \"Topic5\", \"Topic5\", \"Topic5\", \"Topic5\", \"Topic5\", \"Topic5\", \"Topic5\", \"Topic5\", \"Topic5\", \"Topic5\", \"Topic5\", \"Topic6\", \"Topic6\", \"Topic6\", \"Topic6\", \"Topic6\", \"Topic6\", \"Topic6\", \"Topic6\", \"Topic6\", \"Topic6\", \"Topic6\", \"Topic6\", \"Topic6\", \"Topic6\", \"Topic6\", \"Topic6\", \"Topic6\", \"Topic6\", \"Topic6\", \"Topic6\", \"Topic6\", \"Topic6\", \"Topic6\", \"Topic6\", \"Topic6\", \"Topic6\", \"Topic6\", \"Topic6\", \"Topic6\", \"Topic6\", \"Topic6\", \"Topic6\", \"Topic6\", \"Topic6\", \"Topic6\", \"Topic6\", \"Topic6\", \"Topic6\", \"Topic6\", \"Topic6\", \"Topic6\", \"Topic6\", \"Topic6\", \"Topic6\", \"Topic6\", \"Topic6\", \"Topic6\", \"Topic6\", \"Topic6\", \"Topic6\", \"Topic6\", \"Topic6\", \"Topic6\", \"Topic6\", \"Topic6\", \"Topic6\", \"Topic6\", \"Topic6\", \"Topic6\", \"Topic6\", \"Topic6\", \"Topic6\", \"Topic6\", \"Topic6\", \"Topic6\", \"Topic6\", \"Topic6\", \"Topic6\", \"Topic6\", \"Topic6\", \"Topic6\", \"Topic6\", \"Topic6\", \"Topic6\", \"Topic6\", \"Topic6\", \"Topic6\", \"Topic6\", \"Topic7\", \"Topic7\", \"Topic7\", \"Topic7\", \"Topic7\", \"Topic7\", \"Topic7\", \"Topic7\", \"Topic7\", \"Topic7\", \"Topic7\", \"Topic7\", \"Topic7\", \"Topic7\", \"Topic7\", \"Topic7\", \"Topic7\", \"Topic7\", \"Topic7\", \"Topic7\", \"Topic7\", \"Topic7\", \"Topic7\", \"Topic7\", \"Topic7\", \"Topic7\", \"Topic7\", \"Topic7\", \"Topic7\", \"Topic7\", \"Topic7\", \"Topic7\", \"Topic7\", \"Topic7\", \"Topic7\", \"Topic7\", \"Topic7\", \"Topic7\", \"Topic7\", \"Topic7\", \"Topic7\", \"Topic7\", \"Topic7\", \"Topic7\", \"Topic7\", \"Topic7\", \"Topic7\", \"Topic7\", \"Topic7\", \"Topic7\", \"Topic7\", \"Topic7\", \"Topic7\", \"Topic7\", \"Topic7\", \"Topic7\", \"Topic7\", \"Topic7\", \"Topic7\", \"Topic7\", \"Topic7\", \"Topic7\", \"Topic7\", \"Topic7\", \"Topic7\", \"Topic7\", \"Topic7\", \"Topic7\", \"Topic7\", \"Topic7\", \"Topic7\", \"Topic7\", \"Topic7\", \"Topic7\", \"Topic7\", \"Topic7\", \"Topic7\", \"Topic7\", \"Topic7\", \"Topic7\", \"Topic7\", \"Topic8\", \"Topic8\", \"Topic8\", \"Topic8\", \"Topic8\", \"Topic8\", \"Topic8\", \"Topic8\", \"Topic8\", \"Topic8\", \"Topic8\", \"Topic8\", \"Topic8\", \"Topic8\", \"Topic8\", \"Topic8\", \"Topic8\", \"Topic8\", \"Topic8\", \"Topic8\", \"Topic8\", \"Topic8\", \"Topic8\", \"Topic8\", \"Topic8\", \"Topic8\", \"Topic8\", \"Topic8\", \"Topic8\", \"Topic8\", \"Topic8\", \"Topic8\", \"Topic8\", \"Topic8\", \"Topic8\", \"Topic8\", \"Topic8\", \"Topic8\", \"Topic8\", \"Topic8\", \"Topic8\", \"Topic8\", \"Topic8\", \"Topic8\", \"Topic8\", \"Topic8\", \"Topic8\", \"Topic8\", \"Topic8\", \"Topic8\", \"Topic8\", \"Topic8\", \"Topic8\", \"Topic8\", \"Topic8\", \"Topic8\", \"Topic8\", \"Topic8\", \"Topic8\", \"Topic8\", \"Topic8\", \"Topic8\", \"Topic8\", \"Topic8\", \"Topic8\", \"Topic8\", \"Topic8\", \"Topic8\", \"Topic8\", \"Topic8\", \"Topic8\", \"Topic8\", \"Topic9\", \"Topic9\", \"Topic9\", \"Topic9\", \"Topic9\", \"Topic9\", \"Topic9\", \"Topic9\", \"Topic9\", \"Topic9\", \"Topic9\", \"Topic9\", \"Topic9\", \"Topic9\", \"Topic9\", \"Topic9\", \"Topic9\", \"Topic9\", \"Topic9\", \"Topic9\", \"Topic9\", \"Topic9\", \"Topic9\", \"Topic9\", \"Topic9\", \"Topic9\", \"Topic9\", \"Topic9\", \"Topic9\", \"Topic9\", \"Topic9\", \"Topic9\", \"Topic9\", \"Topic9\", \"Topic9\", \"Topic9\", \"Topic9\", \"Topic9\", \"Topic9\", \"Topic9\", \"Topic9\", \"Topic9\", \"Topic9\", \"Topic9\", \"Topic9\", \"Topic9\", \"Topic9\", \"Topic9\", \"Topic9\", \"Topic9\", \"Topic9\", \"Topic9\", \"Topic9\", \"Topic9\", \"Topic9\", \"Topic9\", \"Topic9\", \"Topic9\", \"Topic9\", \"Topic9\", \"Topic9\", \"Topic9\", \"Topic9\", \"Topic9\", \"Topic9\", \"Topic9\", \"Topic9\", \"Topic9\", \"Topic9\", \"Topic9\", \"Topic9\", \"Topic9\", \"Topic10\", \"Topic10\", \"Topic10\", \"Topic10\", \"Topic10\", \"Topic10\", \"Topic10\", \"Topic10\", \"Topic10\", \"Topic10\", \"Topic10\", \"Topic10\", \"Topic10\", \"Topic10\", \"Topic10\", \"Topic10\", \"Topic10\", \"Topic10\", \"Topic10\", \"Topic10\", \"Topic10\", \"Topic10\", \"Topic10\", \"Topic10\", \"Topic10\", \"Topic10\", \"Topic10\", \"Topic10\", \"Topic10\", \"Topic10\", \"Topic10\", \"Topic10\", \"Topic10\", \"Topic10\", \"Topic10\", \"Topic10\", \"Topic10\", \"Topic10\", \"Topic10\", \"Topic10\", \"Topic10\", \"Topic10\", \"Topic10\", \"Topic10\", \"Topic10\", \"Topic10\", \"Topic10\", \"Topic10\", \"Topic10\", \"Topic10\", \"Topic10\", \"Topic10\", \"Topic10\", \"Topic10\", \"Topic10\", \"Topic10\", \"Topic10\", \"Topic10\", \"Topic10\", \"Topic11\", \"Topic11\", \"Topic11\", \"Topic11\", \"Topic11\", \"Topic11\", \"Topic11\", \"Topic11\", \"Topic11\", \"Topic11\", \"Topic11\", \"Topic11\", \"Topic11\", \"Topic11\", \"Topic11\", \"Topic11\", \"Topic11\", \"Topic11\", \"Topic11\", \"Topic11\", \"Topic11\", \"Topic11\", \"Topic11\", \"Topic11\", \"Topic11\", \"Topic11\", \"Topic11\", \"Topic11\", \"Topic11\", \"Topic11\", \"Topic11\", \"Topic11\", \"Topic11\", \"Topic11\", \"Topic11\", \"Topic11\", \"Topic11\", \"Topic11\", \"Topic11\", \"Topic11\", \"Topic11\", \"Topic11\", \"Topic11\", \"Topic11\", \"Topic11\", \"Topic11\", \"Topic11\", \"Topic11\", \"Topic11\", \"Topic11\", \"Topic11\", \"Topic11\", \"Topic11\", \"Topic11\", \"Topic11\", \"Topic11\", \"Topic11\", \"Topic11\", \"Topic11\", \"Topic11\", \"Topic11\", \"Topic11\", \"Topic11\", \"Topic11\", \"Topic12\", \"Topic12\", \"Topic12\", \"Topic12\", \"Topic12\", \"Topic12\", \"Topic12\", \"Topic12\", \"Topic12\", \"Topic12\", \"Topic12\", \"Topic12\", \"Topic12\", \"Topic12\", \"Topic12\", \"Topic12\", \"Topic12\", \"Topic12\", \"Topic12\", \"Topic12\", \"Topic12\", \"Topic12\", \"Topic12\", \"Topic12\", \"Topic12\", \"Topic12\", \"Topic12\", \"Topic12\", \"Topic12\", \"Topic12\", \"Topic12\", \"Topic12\", \"Topic12\", \"Topic12\", \"Topic12\", \"Topic12\", \"Topic12\", \"Topic12\", \"Topic13\", \"Topic13\", \"Topic13\", \"Topic13\", \"Topic13\", \"Topic13\", \"Topic13\", \"Topic13\", \"Topic13\", \"Topic13\", \"Topic13\", \"Topic13\", \"Topic13\", \"Topic13\", \"Topic13\", \"Topic13\", \"Topic13\", \"Topic13\", \"Topic13\", \"Topic13\", \"Topic13\", \"Topic13\", \"Topic13\", \"Topic13\", \"Topic13\", \"Topic13\", \"Topic13\", \"Topic13\", \"Topic13\", \"Topic13\", \"Topic13\", \"Topic13\", \"Topic13\", \"Topic13\", \"Topic13\", \"Topic13\", \"Topic13\", \"Topic14\", \"Topic14\", \"Topic14\", \"Topic14\", \"Topic14\", \"Topic14\", \"Topic14\", \"Topic14\", \"Topic14\", \"Topic14\", \"Topic14\", \"Topic14\", \"Topic14\", \"Topic14\", \"Topic14\", \"Topic14\", \"Topic14\", \"Topic14\", \"Topic14\", \"Topic14\", \"Topic14\", \"Topic14\", \"Topic14\", \"Topic14\", \"Topic14\", \"Topic14\", \"Topic14\", \"Topic14\", \"Topic14\", \"Topic14\", \"Topic14\", \"Topic14\", \"Topic14\", \"Topic14\", \"Topic14\", \"Topic14\", \"Topic14\", \"Topic14\", \"Topic14\", \"Topic14\"], \"Term\": [\"de\", \"la\", \"que\", \"en\", \"y\", \"yang\", \"un\", \"el\", \"die\", \"e\", \"dan\", \"o\", \"und\", \"stories\", \"american\", \"et\", \"di\", \"los\", \"se\", \"world\", \"war\", \"young\", \"der\", \"vampire\", \"le\", \"dark\", \"great\", \"never\", \"knows\", \"could\", \"i'm\", \"mom\", \"everything.\", \"jake\", \"kid\", \"ivy\", \"youre\", \"jess\", \"guys\", \"ive\", \"nate\", \"theo\", \"mistake\", \"sister.\", \"ran\", \"help,\", \"ari\", \"trevor\", \"go.\", \"youve\", \"positive\", \"wouldn't\", \"hang\", \"freak\", \"daisy\", \"drugs\", \"zoe\", \"good,\", \"joshua\", \"explicit\", \"football\", \"me,\", \"spending\", \"don't\", \"dad\", \"lot\", \"thinking\", \"you're\", \"hottest\", \"thats\", \"bad\", \"happen\", \"going\", \"getting\", \"thinks\", \"me.\", \"got\", \"want\", \"school\", \"maybe\", \"really\", \"school,\", \"big\", \"care\", \"know\", \"thing\", \"doesn't\", \"everyone\", \"there's\", \"can't\", \"it's\", \"girl\", \"sure\", \"isn't\", \"let\", \"never\", \"think\", \"best\", \"wants\", \"keep\", \"everything\", \"knows\", \"would\", \"friends\", \"even\", \"always\", \"something\", \"love\", \"make\", \"little\", \"ever\", \"go\", \"family\", \"way\", \"could\", \"boy\", \"take\", \"back\", \"find\", \"every\", \"two\", \"vampires\", \"faerie\", \"tessa\", \"tess\", \"paige\", \"betsy\", \"toxic\", \"hed\", \"gemma\", \"want.\", \"inherited\", \"piper\", \"elena\", \"d\", \"tame\", \"memories.\", \"sheep\", \"toby\", \"enslaved\", \"harper\", \"urge\", \"marguerite\", \"kale\", \"queen's\", \"system.\", \"\\\"this\", \"move,\", \"wendy\", \"kill.\", \"corner,\", \"blood.\", \"realm,\", \"vampire\", \"steal\", \"protecting\", \"raven\", \"demon\", \"deadliest\", \"enemies\", \"mysterious,\", \"realm\", \"threat\", \"humans\", \"price.\", \"deadly\", \"dark\", \"save\", \"dangerous\", \"blood\", \"destroy\", \"fight\", \"evil\", \"enemy\", \"cross\", \"mortal\", \"darkness\", \"race\", \"powers\", \"shadows\", \"protect\", \"determined\", \"desperate\", \"find\", \"ancient\", \"face\", \"immortal\", \"mysterious\", \"finds\", \"could\", \"world\", \"secret\", \"even\", \"stop\", \"her.\", \"past\", \"help\", \"may\", \"never\", \"back\", \"ever\", \"way\", \"discovers\", \"knows\", \"man\", \"love\", \"come\", \"human\", \"soldier\", \"bride\", \"evokes\", \"li\", \"eleanor\", \"awarded\", \"anthony\", \"brand-new\", \"grande\", \"judith\", \"u\", \"primary\", \"guided\", \"sail\", \"ex\", \"fabric\", \"convicted\", \"cared\", \"frontier\", \"squad\", \"kira\", \"defying\", \"disney\", \"inexorably\", \"newborn\", \"queens\", \"intimately\", \"palace,\", \"undying\", \"radically\", \"hitler\", \"ii.\", \"dorothy\", \"theodore\", \"civil\", \"mary\", \"muslim\", \"ii,\", \"fleeing\", \"magnificent\", \"spans\", \"war,\", \"south\", \"german\", \"war\", \"river\", \"england\", \"saga\", \"extraordinary\", \"british\", \"chronicle\", \"young\", \"tale\", \"war.\", \"american\", \"unforgettable\", \"village\", \"john\", \"historical\", \"henry\", \"political\", \"history.\", \"world\", \"epic\", \"men\", \"history\", \"set\", \"man\", \"small\", \"journey\", \"woman\", \"whose\", \"two\", \"years\", \"great\", \"love\", \"begins\", \"takes\", \"women\", \"lives\", \"country\", \"author\", \"family\", \"human\", \"us\", \"powerful\", \"poems\", \"poetry\", \"essays\", \"interviews\", \"strategies\", \"hitler's\", \"tide\", \"discusses\", \"print\", \"comprehensive\", \"analysis\", \"research,\", \"culture.\", \"h.\", \"collected\", \"superb\", \"simple,\", \"reference\", \"frequently\", \"jack,\", \"uncovering\", \"owl\", \"verse\", \"meet,\", \"meetings\", \"commentary\", \"laughter\", \"pirates\", \"topics\", \"ernest\", \"translation\", \"volume,\", \"prose\", \"introduction\", \"standard\", \"text\", \"collection\", \"edition\", \"revised\", \"includes\", \"critical\", \"stories\", \"original\", \"spiritual\", \"philosophy\", \"peter\", \"literary\", \"publication\", \"art\", \"volume\", \"provides\", \"literature\", \"understanding\", \"work\", \"american\", \"written\", \"english\", \"readers\", \"guide\", \"modern\", \"reader\", \"personal\", \"contains\", \"us\", \"including\", \"well\", \"classic\", \"also\", \"read\", \"author\", \"great\", \"many\", \"world\", \"three\", \"history\", \"ellie\", \"n\", \"fabled\", \"caesar\", \"beck\", \"charley\", \"doctors\", \"rebecca\", \"julius\", \"malcolm\", \"happiness,\", \"unleash\", \"executive\", \"prophetic\", \"coco\", \"awareness\", \"friendly\", \"gently\", \"briar\", \"torak\", \"instruments\", \"celebrating\", \"allure\", \"reviews\", \"orb\", \"alcatraz\", \"someday\", \"janie\", \"doctrine\", \"martha\", \"one's\", \"cataclysmic\", \"alliances\", \"medieval\", \"updated\", \"god\", \"fantasy\", \"solution\", \"katherine\", \"princess\", \"gods\", \"holy\", \"god,\", \"upon\", \"great\", \"quest\", \"heir\", \"world\", \"power\", \"beyond\", \"ancient\", \"land\", \"study\", \"greatest\", \"yet\", \"epic\", \"evil\", \"become\", \"city\", \"two\", \"powerful\", \"young\", \"stories\", \"many\", \"men\", \"human\", \"whose\", \"would\", \"battle\", \"years\", \"death\", \"together\", \"tale\", \"also\", \"lives\", \"joe\", \"luke\", \"cop\", \"smoky\", \"conversation\", \"stephanie\", \"residence\", \"writings\", \"olive\", \"brennan\", \"director\", \"antics\", \"ace\", \"liberals\", \"lisa\", \"plum\", \"wu\", \"earl\", \"sookie\", \"prospects\", \"conservative\", \"mitch\", \"tyranny\", \"pearl\", \"narrow\", \"salt\", \"brunetti\", \"paintings\", \"forever?\", \"ian\", \"records\", \"eva\", \"techniques\", \"jessica\", \"julia\", \"notebook\", \"l\", \"effective\", \"fox\", \"millionaire\", \"scientific\", \"christmas\", \"change,\", \"principles\", \"light\", \"evolution\", \"detective\", \"york\", \"times\", \"medical\", \"doctor\", \"years\", \"tom\", \"case\", \"man\", \"note\", \"two\", \"author\", \"brilliant\", \"young\", \"series\", \"death\", \"bestselling\", \"world\", \"whose\", \"great\", \"dr.\", \"human\", \"us\", \"love\", \"become\", \"also\", \"work\", \"life.\", \"beautiful\", \"family\", \"finds\", \"readers\", \"reed\", \"mia\", \"cassie\", \"online\", \"beach,\", \"quinn\", \"lia\", \"cameron\", \"cassandra\", \"page-turning\", \"snatched\", \"kim\", \"sean\", \"bob\", \"blair\", \"liz\", \"willow\", \"replace\", \"robots\", \"constitute\", \"police.\", \"nikki\", \"person,\", \"'a\", \"zach\", \"news.\", \"juliet\", \"josephine\", \"blaine\", \"grey,\", \"garrett\", \"genes\", \"tracking\", \"lucy\", \"johnny\", \"maura\", \"schools\", \"sam\", \"else.\", \"isabel\", \"agents\", \"lily\", \"billy\", \"breath\", \"strikes\", \"anne\", \"julian\", \"agency\", \"risks\", \"jimmy\", \"1st\", \"investigation\", \"chief\", \"finds\", \"gang\", \"discovers\", \"love\", \"two\", \"night\", \"murder\", \"last\", \"meets\", \"secret\", \"old\", \"young\", \"three\", \"true\", \"another\", \"never\", \"turns\", \"human\", \"find\", \"man\", \"finally\", \"world\", \"beautiful\", \"would\", \"family\", \"people\", \"author\", \"make\", \"er\", \"clans\", \"cats\", \"nina\", \"han\", \"serena\", \"rider\", \"ross\", \"virgin\", \"bite\", \"jesse\", \"heroism\", \"versus\", \"accidental\", \"inevitably\", \"jenny\", \"hero.\", \"campbell\", \"lilys\", \"aber\", \"karigan\", \"devin\", \"stream\", \"\\\"\\\"\", \"thunder\", \"teams\", \"benedict\", \"forest.\", \"naval\", \"estate.\", \"carol\", \"bone\", \"katie\", \"terribly\", \"goddess\", \"maze\", \"month\", \"jordan\", \"poe\", \"loss.\", \"michael\", \"betray\", \"shadow\", \"cat\", \"fire\", \"thomas\", \"weapons\", \"eric\", \"warrior\", \"king\", \"truth\", \"soon\", \"hunger\", \"control\", \"young\", \"home\", \"find\", \"mysterious\", \"way\", \"future\", \"ability\", \"including\", \"family\", \"love\", \"house\", \"finds\", \"two\", \"secret\", \"set\", \"world\", \"face\", \"friends\", \"matt\", \"potter\", \"introductions\", \"lissa\", \"observed\", \"pierce\", \"magnus\", \"riley\", \"artemis\", \"bookshelf\", \"genres\", \"anita\", \"mathematical\", \"translators.\", \"disciplines.\", \"toughest\", \"kahlan\", \"english-speaking\", \"quentin\", \"tactics\", \"disorder\", \"jr.,\", \"colors\", \"sabrina\", \"peopled\", \"gold.\", \"turner\", \"!!\", \"theseries\", \"up-to-datetranslations\", \"sydney\", \"victor\", \"harry\", \"penguin\", \"hunters\", \"wolves\", \"rose\", \"publisher\", \"werewolf\", \"enhanced\", \"seventy\", \"invitation\", \"eden\", \"richard\", \"boxed\", \"represents\", \"broke\", \"wolf\", \"sally\", \"magic\", \"across\", \"series\", \"leading\", \"provide\", \"best\", \"world\", \"set\", \"readers\", \"trust\", \"bestselling\", \"award-winning\", \"york\", \"fairy\", \"times\", \"adventure\", \"well\", \"human\", \"years\", \"world.\", \"court\", \"back\", \"find\", \"sa\", \"elle\", \"nan\", \"parker\", \"shakespeare\", \"connor\", \"ford\", \"program\", \"sophia\", \"caine\", \"amazon\", \"appealing\", \"states.\", \"lymond\", \"francis\", \"aaron\", \"finalist\", \"standalone\", \"band,\", \"criticism\", \"spencer\", \"gaia\", \"toute\", \"warning:\", \"hayley\", \"folger\", \"tough,\", \"moody\", \"roald\", \"tips\", \"collecting\", \"jesus\", \"washington,\", \"claire\", \"charlie\", \"area\", \"various\", \"kelly\", \"christ\", \"president\", \"government\", \"arthur\", \"navy\", \"space\", \"emily\", \"brother's\", \"play\", \"chris\", \"u.s.\", \"two\", \"series\", \"team\", \"offers\", \"man\", \"famous\", \"men\", \"young\", \"dr.\", \"behind\", \"stuart\", \"brie\", \"lucian\", \"partner,\", \"lizzie\", \"however\", \"uncontrollable\", \"isbn\", \"steve\", \"jacky\", \"cooking\", \"attention.\", \"outlaw\", \"kestrel\", \"bertie\", \"soren\", \"patience\", \"mutilated\", \"kissed\", \"someone,\", \"israeli\", \"chick\", \"council,\", \"30\", \"berlin\", \"poirot\", \"roads\", \"prophecies\", \"graduation\", \"act,\", \"johnsen\", \"!\", \"james,\", \"ripper\", \"alternate\", \"marvel\", \"patrick\", \"judy\", \"nora\", \"cover\", \"...\", \"anxiety\", \"emma\", \"witches\", \"andy\", \"cia\", \"narrator\", \"body\", \"panic\", \"behind\", \"peter\", \"also\", \"good\", \"could\", \"secret\", \"much\", \"young\", \"talent\", \"harry\", \"along\", \"man\", \"prince\", \"even\", \"captain\", \"de\", \"la\", \"que\", \"en\", \"y\", \"un\", \"el\", \"e\", \"o\", \"et\", \"se\", \"le\", \"una\", \"su\", \"las\", \"del\", \"les\", \"por\", \"il\", \"est\", \"uma\", \"dos\", \"em\", \"como\", \"dans\", \"qui\", \"vida\", \"al\", \"si\", \"mais\", \"para\", \"du\", \"da\", \"con\", \"los\", \"des\", \"es\", \"son\", \"yang\", \"ss\", \"dengan\", \"dari\", \"dalam\", \"ini\", \"di\", \"untuk\", \"seorang\", \"tak\", \"aku\", \"mereka\", \"tidak\", \"dan\", \"sang\", \"itu\", \"adalah\", \"ke\", \"nv\", \"oleh\", \"reacher\", \"grant\", \"redwall\", \"pernah\", \"sebagai\", \"miguel\", \"menjadi\", \"hidup\", \"akan\", \"sebuah\", \"dia\", \"*\", \"weird\", \"sherlock\", \"ben\", \"tales\", \"adventure\", \"und\", \"der\", \"ein\", \"sie\", \"den\", \"mit\", \"ist\", \"zu\", \"bir\", \"sich\", \"als\", \"eine\", \"einer\", \"dem\", \"auf\", \"par\", \"levels\", \"fr\", \"quantum\", \"wie\", \"ihr\", \"nicht\", \"hem\", \"doch\", \"einem\", \"dallas\", \"auch\", \"om\", \"hank\", \"aus\", \"te\", \"ve\", \"von\", \"das\", \"die\", \"mike\", \"bobby\", \"eve\", \"es\", \"des\"], \"loglift\": [30.0, 29.0, 28.0, 27.0, 26.0, 25.0, 24.0, 23.0, 22.0, 21.0, 20.0, 19.0, 18.0, 17.0, 16.0, 15.0, 14.0, 13.0, 12.0, 11.0, 10.0, 9.0, 8.0, 7.0, 6.0, 5.0, 4.0, 3.0, 2.0, 1.0, 1.5278, 1.5253000000000001, 1.5243, 1.5237000000000001, 1.5237000000000001, 1.5208999999999999, 1.5206999999999999, 1.5198, 1.5176000000000001, 1.5174000000000001, 1.5167999999999999, 1.516, 1.5155000000000001, 1.5139, 1.5133000000000001, 1.5130999999999999, 1.5124, 1.5121, 1.5113000000000001, 1.5112000000000001, 1.5096000000000001, 1.5095000000000001, 1.5095000000000001, 1.5093000000000001, 1.5092000000000001, 1.5088999999999999, 1.5074000000000001, 1.5072000000000001, 1.5066999999999999, 1.5066999999999999, 1.5066999999999999, 1.4993000000000001, 1.5008999999999999, 1.4861, 1.4947999999999999, 1.4698, 1.4815, 1.4817, 1.4961, 1.4622999999999999, 1.4201999999999999, 1.4756, 1.3822000000000001, 1.4025000000000001, 1.4179999999999999, 1.4448000000000001, 1.3918999999999999, 1.3465, 1.3295999999999999, 1.4389000000000001, 1.3139000000000001, 1.3988, 1.3675999999999999, 1.3997999999999999, 1.2464, 1.2976000000000001, 1.2975000000000001, 1.2847999999999999, 1.3399000000000001, 1.2730999999999999, 1.1921999999999999, 1.1639999999999999, 1.3123, 1.3181, 1.2971999999999999, 0.96399999999999997, 1.2685, 1.0512999999999999, 1.1249, 1.1266, 1.0670999999999999, 1.0376000000000001, 0.95340000000000003, 1.0924, 0.85129999999999995, 1.1035999999999999, 1.0195000000000001, 0.73519999999999996, 0.93899999999999995, 1.0343, 0.86719999999999997, 1.1243000000000001, 0.7964, 0.77769999999999995, 0.74760000000000004, 1.0668, 0.86519999999999997, 0.67400000000000004, 0.43149999999999999, 0.71419999999999995, 0.19789999999999999, 1.8621000000000001, 1.8569, 1.849, 1.8445, 1.8436999999999999, 1.8425, 1.8400000000000001, 1.8385, 1.8365, 1.8357000000000001, 1.8355999999999999, 1.8349, 1.8349, 1.8347, 1.8337000000000001, 1.8337000000000001, 1.8333999999999999, 1.8332999999999999, 1.8331999999999999, 1.8328, 1.8319000000000001, 1.8313999999999999, 1.8310999999999999, 1.831, 1.8295999999999999, 1.8292999999999999, 1.8290999999999999, 1.829, 1.8286, 1.8279000000000001, 1.8244, 1.8263, 1.7563, 1.7959000000000001, 1.7898000000000001, 1.7795000000000001, 1.7210000000000001, 1.8129, 1.6814, 1.7858000000000001, 1.6725000000000001, 1.6660999999999999, 1.639, 1.7818000000000001, 1.5595000000000001, 1.4458, 1.4644999999999999, 1.4781, 1.5536000000000001, 1.4790000000000001, 1.4387000000000001, 1.3946000000000001, 1.5064, 1.5843, 1.6086, 1.5238, 1.4974000000000001, 1.4821, 1.625, 1.4007000000000001, 1.3398000000000001, 1.3891, 0.98729999999999996, 1.2261, 1.1814, 1.5557000000000001, 1.1065, 0.97640000000000005, 0.8488, 0.58420000000000005, 0.96619999999999995, 0.72360000000000002, 1.2156, 1.0932999999999999, 1.0044, 0.95040000000000002, 0.91759999999999997, 0.59509999999999996, 0.74819999999999998, 0.57609999999999995, 0.57089999999999996, 1.0590999999999999, 0.74139999999999995, 0.2475, -0.0043, 0.65400000000000003, 0.56859999999999999, 2.1566000000000001, 2.1503000000000001, 2.1478000000000002, 2.1457000000000002, 2.1436000000000002, 2.1425999999999998, 2.1400999999999999, 2.1398999999999999, 2.1387, 2.1385999999999998, 2.1383999999999999, 2.1373000000000002, 2.1371000000000002, 2.1358000000000001, 2.1358000000000001, 2.1349999999999998, 2.1349, 2.1347, 2.1335999999999999, 2.1326000000000001, 2.1315, 2.1309, 2.1307999999999998, 2.1295999999999999, 2.1269, 2.1265999999999998, 2.1252, 2.1234999999999999, 2.1231, 2.1231, 2.1206999999999998, 2.1164999999999998, 2.1191, 2.1078000000000001, 1.9998, 1.9910000000000001, 2.0684, 2.0476000000000001, 2.0407000000000002, 1.9464999999999999, 2.0714999999999999, 1.8423, 1.8537999999999999, 1.9033, 1.5468999999999999, 1.9382999999999999, 1.8008999999999999, 1.8112999999999999, 1.5397000000000001, 1.7477, 1.9713000000000001, 1.1755, 1.3868, 1.6694, 1.3248, 1.5815999999999999, 1.7156, 1.4458, 1.5742, 1.6863999999999999, 1.4904999999999999, 1.6902999999999999, 0.62909999999999999, 1.3142, 1.1469, 1.2082999999999999, 1.0202, 0.70789999999999997, 1.1913, 1.0865, 0.90500000000000003, 0.96730000000000005, 0.54530000000000001, 0.64829999999999999, 0.80279999999999996, 0.2412, 0.91639999999999999, 0.79869999999999997, 0.99850000000000005, 0.57850000000000001, 1.3421000000000001, 0.45129999999999998, 0.2417, 0.44529999999999997, 0.61609999999999998, 0.65080000000000005, 2.3812000000000002, 2.3773, 2.3708999999999998, 2.3708, 2.3704999999999998, 2.3683999999999998, 2.3675000000000002, 2.3643000000000001, 2.3639000000000001, 2.3633999999999999, 2.3633000000000002, 2.3620999999999999, 2.3612000000000002, 2.3605, 2.3595999999999999, 2.3592, 2.3592, 2.3586999999999998, 2.3582999999999998, 2.3569, 2.3565, 2.3563999999999998, 2.3555999999999999, 2.3553000000000002, 2.3548, 2.3546, 2.3540999999999999, 2.3534000000000002, 2.3531, 2.3523000000000001, 2.3439000000000001, 2.3485, 2.323, 2.2930999999999999, 2.3340000000000001, 2.2505999999999999, 2.21, 2.1798000000000002, 2.2940999999999998, 2.1402000000000001, 2.2403, 1.9755, 2.0524, 2.1086, 2.2391000000000001, 2.1282000000000001, 1.9815, 2.1846000000000001, 1.986, 1.9674, 2.0964, 2.0781999999999998, 2.0156000000000001, 1.5673999999999999, 1.5461, 1.6675, 1.7635000000000001, 1.5212000000000001, 1.8996, 1.6558999999999999, 1.8871, 1.6276999999999999, 1.8658999999999999, 1.3521000000000001, 1.6568000000000001, 1.4884999999999999, 1.5410999999999999, 1.1462000000000001, 1.5071000000000001, 0.89880000000000004, 0.99180000000000001, 0.9698, 0.11890000000000001, 0.63439999999999996, 1.0883, 2.4434999999999998, 2.4422999999999999, 2.4356, 2.4338000000000002, 2.4331, 2.4315000000000002, 2.4314, 2.4306999999999999, 2.4287000000000001, 2.4278, 2.4262999999999999, 2.4253999999999998, 2.4253, 2.4247999999999998, 2.4232999999999998, 2.4220999999999999, 2.4218000000000002, 2.4211, 2.4205000000000001, 2.4165000000000001, 2.4163999999999999, 2.4161000000000001, 2.4159000000000002, 2.4154, 2.4152999999999998, 2.4142000000000001, 2.4131999999999998, 2.4127999999999998, 2.4119999999999999, 2.4119000000000002, 2.399, 2.4062000000000001, 2.4100999999999999, 2.2665000000000002, 2.3195000000000001, 2.0097, 2.0023, 2.2864, 2.2469999999999999, 1.9278, 2.0169999999999999, 2.0444, 2.1419000000000001, 1.4778, 1.0861000000000001, 1.4038999999999999, 1.8427, 0.40699999999999997, 0.93779999999999997, 1.2807999999999999, 1.0568, 1.2787999999999999, 1.5353000000000001, 1.0967, 0.84060000000000001, 1.1073, 0.91959999999999997, 0.66959999999999997, 0.90559999999999996, 0.23930000000000001, 0.73450000000000004, 0.24229999999999999, 0.81259999999999999, 0.62929999999999997, 0.76890000000000003, 0.4753, 0.64800000000000002, 0.27029999999999998, 0.99260000000000004, 0.065600000000000006, 0.63080000000000003, 0.65610000000000002, 0.61080000000000001, 0.24959999999999999, 0.31669999999999998, 2.6352000000000002, 2.6299999999999999, 2.6255999999999999, 2.6206999999999998, 2.6204000000000001, 2.6172, 2.6151, 2.6131000000000002, 2.6128999999999998, 2.6128, 2.6122000000000001, 2.6114999999999999, 2.6111, 2.6095000000000002, 2.6092, 2.6088, 2.6082999999999998, 2.6055000000000001, 2.6055000000000001, 2.6042999999999998, 2.6042000000000001, 2.6038999999999999, 2.6036000000000001, 2.6031, 2.6030000000000002, 2.6030000000000002, 2.6029, 2.6025999999999998, 2.6023000000000001, 2.6017999999999999, 2.5941000000000001, 2.5768, 2.5497999999999998, 2.5207999999999999, 2.5093999999999999, 2.5480999999999998, 2.4851999999999999, 2.5363000000000002, 2.5644999999999998, 2.5335000000000001, 2.3169, 2.3071999999999999, 2.524, 2.4689999999999999, 2.0598999999999998, 2.4737, 2.1078000000000001, 1.3969, 1.3835999999999999, 2.1318999999999999, 2.0327999999999999, 0.86450000000000005, 2.0667, 1.6676, 0.60680000000000001, 2.1745999999999999, 0.55220000000000002, 0.84309999999999996, 1.3935999999999999, 0.45750000000000002, 0.87260000000000004, 0.88580000000000003, 0.80179999999999996, -0.1002, 0.69579999999999997, 0.58809999999999996, 1.4762999999999999, 0.33529999999999999, 0.47539999999999999, -0.37240000000000001, 0.35799999999999998, 0.1799, 0.3105, 0.31900000000000001, 0.51749999999999996, -0.20569999999999999, -0.027099999999999999, 0.33550000000000002, 2.7248999999999999, 2.7239, 2.7229000000000001, 2.7187999999999999, 2.7080000000000002, 2.7073999999999998, 2.7071999999999998, 2.7021000000000002, 2.7008999999999999, 2.6999, 2.6985000000000001, 2.6978, 2.6978, 2.6976, 2.6949999999999998, 2.6937000000000002, 2.6934, 2.6926000000000001, 2.6920000000000002, 2.6915, 2.6909999999999998, 2.6905999999999999, 2.6892999999999998, 2.6888999999999998, 2.6888000000000001, 2.6886999999999999, 2.6880999999999999, 2.6873999999999998, 2.6867000000000001, 2.6861999999999999, 2.6844999999999999, 2.6848999999999998, 2.6764000000000001, 2.6286, 2.6515, 2.6852999999999998, 2.6278999999999999, 2.4983, 2.5508999999999999, 2.5733000000000001, 2.5041000000000002, 2.4186999999999999, 2.4984000000000002, 2.5741999999999998, 2.4041999999999999, 2.1358999999999999, 2.5409999999999999, 2.5339999999999998, 2.5110000000000001, 2.4708000000000001, 2.5459999999999998, 2.0446, 2.1903000000000001, 0.84670000000000001, 2.2770000000000001, 1.1103000000000001, 0.2913, 0.35049999999999998, 0.91100000000000003, 1.2982, 0.55600000000000005, 0.94699999999999995, 0.51790000000000003, 0.55589999999999995, 0.1012, 0.51729999999999998, 0.64219999999999999, 0.5968, -0.1106, 0.8881, 0.28999999999999998, -0.2046, -0.24340000000000001, 0.65269999999999995, -0.72319999999999995, 0.5615, -0.079399999999999998, -0.1419, 0.012999999999999999, 0.077399999999999997, -0.046600000000000003, 3.1465000000000001, 3.1360000000000001, 3.1341999999999999, 3.1334, 3.1320999999999999, 3.1320000000000001, 3.1291000000000002, 3.1223000000000001, 3.1221999999999999, 3.121, 3.1204999999999998, 3.1191, 3.1179000000000001, 3.1177000000000001, 3.1149, 3.1137000000000001, 3.1137000000000001, 3.1118999999999999, 3.1105, 3.1097000000000001, 3.1089000000000002, 3.1088, 3.1086, 3.1078999999999999, 3.1073, 3.1072000000000002, 3.1065999999999998, 3.1063999999999998, 3.1059999999999999, 3.1059999999999999, 3.1036999999999999, 3.0771999999999999, 3.0571000000000002, 3.0655000000000001, 2.9340000000000002, 2.9620000000000002, 2.9839000000000002, 3.0634000000000001, 2.9502000000000002, 2.9780000000000002, 2.3361000000000001, 2.9272, 2.1855000000000002, 2.3346, 2.1619000000000002, 2.1537999999999999, 2.7970000000000002, 2.6549, 1.8923000000000001, 1.3928, 1.2225999999999999, 0.89019999999999999, 2.3572000000000002, 1.5309999999999999, 0.064899999999999999, 0.70569999999999999, -0.0144, 0.61509999999999998, 0.13339999999999999, 0.86839999999999995, 1.4787999999999999, 1.0797000000000001, -0.0051000000000000004, -0.50770000000000004, 0.88729999999999998, 0.072300000000000003, -0.46829999999999999, 0.12039999999999999, 0.1835, -0.95469999999999999, 0.40579999999999999, 0.30320000000000003, 3.2858000000000001, 3.2827999999999999, 3.2766999999999999, 3.2761, 3.2761, 3.2753999999999999, 3.2745000000000002, 3.2743000000000002, 3.2734999999999999, 3.2734000000000001, 3.2732000000000001, 3.2730999999999999, 3.2726000000000002, 3.2707999999999999, 3.2707999999999999, 3.2696999999999998, 3.2685, 3.2673999999999999, 3.2608000000000001, 3.2593999999999999, 3.2587000000000002, 3.2585000000000002, 3.2572999999999999, 3.2566999999999999, 3.2557999999999998, 3.2541000000000002, 3.2532999999999999, 3.2517, 3.2515999999999998, 3.2515999999999998, 3.2467000000000001, 3.2136999999999998, 3.0796999999999999, 3.1229, 3.1829999999999998, 3.1450999999999998, 2.9432999999999998, 3.1425999999999998, 3.0164, 3.1252, 3.1198999999999999, 3.1716000000000002, 3.0383, 2.5528, 3.0440999999999998, 2.9340000000000002, 2.8420999999999998, 2.456, 2.9548000000000001, 1.6388, 1.4739, 1.0880000000000001, 2.0327000000000002, 2.4371, 0.73229999999999995, 0.036400000000000002, 0.82399999999999995, 0.8881, 1.5527, 0.89449999999999996, 2.1006, 0.70230000000000004, 1.9551000000000001, 0.7732, 1.2353000000000001, 0.96109999999999995, 0.40139999999999998, -0.026200000000000001, 0.87070000000000003, 2.0867, -0.1051, -0.43719999999999998, 3.411, 3.4079999999999999, 3.4060999999999999, 3.4054000000000002, 3.4018999999999999, 3.399, 3.3946999999999998, 3.3938000000000001, 3.3896000000000002, 3.3873000000000002, 3.3866000000000001, 3.3833000000000002, 3.3820000000000001, 3.3799999999999999, 3.3795999999999999, 3.3795000000000002, 3.3793000000000002, 3.3793000000000002, 3.3776000000000002, 3.3773, 3.3767999999999998, 3.3765999999999998, 3.3759000000000001, 3.3742000000000001, 3.3736999999999999, 3.3734000000000002, 3.3727, 3.3723000000000001, 3.3717999999999999, 3.3706, 3.3622000000000001, 3.2555999999999998, 3.3140999999999998, 3.1810999999999998, 3.1816, 3.2086999999999999, 2.9700000000000002, 3.2006999999999999, 3.1438000000000001, 2.7852000000000001, 2.4363000000000001, 2.5560999999999998, 3.1823999999999999, 2.4428999999999998, 2.6192000000000002, 2.9327000000000001, 1.7873000000000001, 2.7084000000000001, 2.3954, 0.094200000000000006, 0.7621, 1.7343, 1.494, -0.2671, 1.5024, 0.50290000000000001, -0.42780000000000001, 1.5234000000000001, 0.53920000000000001, 3.5053000000000001, 3.5047999999999999, 3.5045000000000002, 3.5026000000000002, 3.4986999999999999, 3.4971000000000001, 3.4956, 3.4954000000000001, 3.4944000000000002, 3.4935999999999998, 3.4933000000000001, 3.4927000000000001, 3.4881000000000002, 3.4874999999999998, 3.4864999999999999, 3.4857999999999998, 3.4855999999999998, 3.4836999999999998, 3.4826999999999999, 3.4802, 3.48, 3.48, 3.4765000000000001, 3.4754999999999998, 3.4750999999999999, 3.4750000000000001, 3.4742000000000002, 3.4740000000000002, 3.4739, 3.4727999999999999, 3.4685000000000001, 3.4337, 3.4499, 3.4260000000000002, 3.1937000000000002, 3.4180999999999999, 3.3597000000000001, 3.3717999999999999, 3.1318999999999999, 2.7806999999999999, 2.5939999999999999, 3.2570000000000001, 2.7444999999999999, 3.0499000000000001, 3.1145, 2.9542999999999999, 2.3456999999999999, 1.7137, 3.0802999999999998, 1.1091, 1.9933000000000001, 0.53180000000000005, 0.80100000000000005, 0.1285, 0.33979999999999999, 0.56759999999999999, -0.25580000000000003, 2.1684999999999999, 1.9113, 0.97250000000000003, -0.44, 1.2349000000000001, -0.57330000000000003, 2.0527000000000002, 3.6736, 3.6728000000000001, 3.6717, 3.6715, 3.6711999999999998, 3.6707999999999998, 3.6707000000000001, 3.6703999999999999, 3.6701999999999999, 3.6696, 3.6692, 3.6684999999999999, 3.6678999999999999, 3.6671999999999998, 3.6657000000000002, 3.6656, 3.6650999999999998, 3.6644999999999999, 3.6633, 3.6629, 3.6619999999999999, 3.6602999999999999, 3.6600999999999999, 3.6597, 3.6596000000000002, 3.6591, 3.6585999999999999, 3.6576, 3.6562000000000001, 3.6560999999999999, 3.6017000000000001, 3.6465000000000001, 3.5493999999999999, 3.5609000000000002, 3.3374999999999999, 3.3645, 3.3182999999999998, 1.9166000000000001, 3.9638, 3.9544999999999999, 3.9533, 3.9514999999999998, 3.9472999999999998, 3.9466000000000001, 3.9460000000000002, 3.9455, 3.9453999999999998, 3.944, 3.9411999999999998, 3.9411, 3.9409000000000001, 3.9403000000000001, 3.9388999999999998, 3.9369999999999998, 3.9327000000000001, 3.9323000000000001, 3.9317000000000002, 3.9306000000000001, 3.9297, 3.9293999999999998, 3.9281999999999999, 3.9272, 3.9249000000000001, 3.9245000000000001, 3.9243000000000001, 3.9238, 3.9234, 3.9224000000000001, 3.9209000000000001, 3.6815000000000002, 3.3193999999999999, 3.7848000000000002, 3.0367999999999999, 1.7921, 1.196, 3.9763999999999999, 3.9750999999999999, 3.9674999999999998, 3.9662999999999999, 3.9660000000000002, 3.9653, 3.9653, 3.9651999999999998, 3.9649000000000001, 3.9626000000000001, 3.9622000000000002, 3.9609000000000001, 3.9599000000000002, 3.9575999999999998, 3.9567000000000001, 3.9544999999999999, 3.9500999999999999, 3.9500000000000002, 3.9476, 3.9470999999999998, 3.9426000000000001, 3.9390999999999998, 3.9390999999999998, 3.9379, 3.9379, 3.9371, 3.9339, 3.9338000000000002, 3.9335, 3.9333, 3.9321000000000002, 3.9236, 3.8961000000000001, 3.7911000000000001, 3.4468999999999999, 3.7519999999999998, 3.6036999999999999, 2.9047000000000001, 2.7481, 2.5756999999999999], \"Freq\": [1161.0, 522.0, 309.0, 292.0, 265.0, 238.0, 235.0, 226.0, 246.0, 211.0, 199.0, 198.0, 173.0, 531.0, 637.0, 175.0, 164.0, 201.0, 162.0, 2427.0, 792.0, 1472.0, 135.0, 372.0, 143.0, 882.0, 753.0, 1524.0, 832.0, 1203.0, 113.78051334213868, 73.795870943967728, 75.232517302496561, 62.833606008858773, 67.150291965853512, 51.342372011507692, 81.973250082004583, 48.143367683442861, 47.892628672258397, 45.624565828556825, 40.834076822171852, 39.156665502671849, 41.922300428474749, 35.631480229084211, 35.471349364208479, 45.857013891566197, 33.287902603344122, 37.961261222253917, 36.89772334670171, 31.927671495418675, 30.469728987450225, 38.910046785651687, 29.94524434836331, 29.532452622807661, 29.384091385485924, 29.189453683910855, 27.598477551081785, 27.450798525024929, 26.943584890331646, 27.039289270160481, 67.7559909657178, 89.088673539514488, 55.156716190716125, 200.14362101875523, 71.673601744956613, 151.62595232527482, 90.493224338149119, 83.093715729244622, 48.974820481151617, 109.13767879579885, 261.79418549639104, 73.837347127811, 391.04220364597211, 253.98039904191936, 182.71899180012181, 108.3564386315294, 212.72830961365298, 379.88981341122127, 418.20771617273761, 107.3501102866859, 388.563695896198, 158.57679839619544, 215.83146908773767, 140.97993851663676, 554.27673111188938, 344.39641906028851, 316.44670916489321, 322.209712373294, 212.85483841205163, 330.62313822374955, 560.35180147722076, 530.65334265216779, 218.68226693467469, 211.02326023844466, 214.59247692441156, 859.65396352322216, 232.31512743529109, 574.00493120751196, 424.95731512423498, 381.50607372622852, 465.11879446079814, 505.27263289653393, 618.38988307640921, 393.55609851471758, 768.21977021991574, 375.68613280440593, 465.45693546988002, 920.9790182175866, 554.63610559494384, 416.07874599310207, 589.52152737769131, 341.60801731006012, 551.14163747198995, 534.10453234300007, 546.60373384555203, 364.37125134181866, 422.63874390007163, 459.22213834035767, 501.0131071796244, 401.40099621700739, 419.08802960470655, 129.43955138068074, 67.614705871472793, 39.380670097098616, 32.273400938247974, 31.220712850071603, 29.810144632200544, 27.246510354639977, 45.629531100946437, 25.653299026809442, 23.705619813655382, 31.188435667065175, 23.199254503317356, 30.058681406919053, 23.063745821350096, 22.412174844463767, 22.438378536310239, 22.208208611170285, 22.117794140395656, 22.05753304545232, 77.859067624571267, 21.278434655728738, 21.013660352635888, 21.067536022956013, 22.856943615397956, 20.029170632614175, 19.906060836181112, 20.85587324079188, 19.763297376555737, 19.910099096806825, 19.214038264196486, 47.064410794080118, 23.482564118493215, 332.51742180862578, 48.908439458312138, 44.211262541947363, 47.58461974175011, 85.227293526862624, 26.51404903373486, 115.79593174191746, 35.798679911295146, 112.45678545328215, 114.70180041774969, 132.02182788456119, 36.218556704535196, 245.9674762614157, 577.62193529848946, 454.59805434662712, 344.74909932090071, 186.79484239911889, 248.44906600442303, 267.78017759278413, 305.20427757622139, 158.16570402831647, 103.5940548216284, 86.511404712976272, 124.31730502796708, 138.66591606487955, 139.07323948071576, 77.977007435681401, 189.59583497104074, 232.72395314469, 177.26309995589986, 626.1628413941238, 270.63114254407526, 278.53678813366207, 96.965224269077936, 287.73103870768182, 388.70464039259605, 433.60215745823268, 671.45731733120783, 336.7177502343593, 484.70439014220574, 209.88193058897539, 245.76363961493053, 277.78621409725213, 288.31892934934694, 295.04813473766745, 426.15171314969928, 354.56989372380139, 315.8884618121146, 311.34974011890415, 221.46503681968483, 269.37052766582525, 289.83689915766217, 315.15843789195884, 236.55645674255683, 233.51816456653046, 64.30340666860981, 46.874889891361626, 42.216460428735601, 34.418036516320853, 31.517647014717372, 30.313522155366748, 43.771132442194755, 27.465483218816431, 26.426294100440732, 26.733688831855648, 26.130990479728684, 25.239720237493017, 25.82545140223948, 26.619769657473967, 24.019840138389341, 23.470818942294684, 23.405742696568026, 23.241713512087816, 25.304280425908473, 21.908519173650724, 21.277581323076618, 20.91645015681695, 20.944891958857216, 20.410494710413516, 18.94685841120366, 18.784033689661342, 18.345511462002662, 17.489041417593704, 17.310827920680225, 18.484160354950141, 37.110321845062316, 25.316887109802462, 21.352175622267286, 24.745811813228102, 93.953015864242403, 103.66053745009071, 38.760782095461522, 43.785908234465921, 40.528693105107941, 75.435664344728508, 31.791320819159985, 142.47201412433171, 120.71580334536205, 80.593382679647732, 425.13223534785891, 56.225798913294213, 96.227711384792158, 78.563573307426623, 203.76538196005058, 90.639172449967276, 43.990079019548681, 545.27076709458333, 274.88422846657772, 103.25289033486592, 274.12766889281801, 130.0383498379903, 79.347368359633379, 153.53763160737739, 108.97358839911026, 83.135346343276979, 122.89206735123905, 80.722319580752171, 520.42978822431019, 151.49824136332458, 201.22796018971948, 177.20396399605514, 233.75772670033072, 340.3825776681299, 166.58558608896428, 183.31687413921648, 231.75547160444501, 194.55244482765619, 315.12358205060707, 277.05466027189942, 192.2048211423357, 298.54516372916311, 167.39994482743083, 170.98912126858502, 144.99056600780045, 163.52018200853439, 119.64870852226804, 159.86409663254346, 168.12789466562586, 152.96624150140923, 144.42317669597927, 140.68666923764457, 82.040341859007285, 87.241003572795634, 41.597239689985742, 40.042229654404977, 40.380974394316432, 37.148800324452793, 34.240682144020539, 30.188515303577727, 30.955293768147101, 29.310939532549774, 29.953025547915892, 28.237941753739818, 33.129070921758021, 26.672321027875242, 44.807313663664182, 27.553201599284446, 26.472569377466836, 24.88603340268007, 26.08073413685344, 23.51054555725409, 23.197691364636231, 23.117050308352223, 22.688702365034619, 22.418434469562168, 22.190824624481582, 33.451262049183647, 22.954193095121603, 21.303183424164569, 22.265987617772961, 21.100666310165145, 108.86419157741496, 41.860172808810866, 64.934791093417587, 153.85142303375113, 41.611917589218571, 113.40612537102098, 193.52424693217216, 265.83847168945476, 49.768318389377747, 172.67509148798084, 63.815256616827234, 350.7951067820913, 196.76644297704439, 135.60411834150221, 57.491134481934751, 100.34075204457015, 179.97806191736873, 65.473637988727219, 148.29590307562518, 153.54062409611328, 79.606219160358563, 80.198516800583221, 92.79521907195344, 304.06476131677272, 273.92834546909114, 200.60561901094067, 157.42112561841572, 269.76641945454088, 115.21717229407867, 191.32582577355194, 115.06121566216788, 169.41153740189191, 109.8021583190677, 241.48793283822485, 149.89252066615339, 190.30821304845674, 171.41397592875228, 256.90021253599042, 144.41620519859694, 200.30314528343561, 185.96146468210802, 172.69535237207239, 250.24547747237241, 133.31903129848573, 125.88130824372908, 55.116320050622704, 50.27641492954092, 36.675123848686781, 32.856044989335743, 31.970643951563368, 30.075602763891112, 33.0541094998067, 29.132345750369481, 27.163730372922153, 26.35779804774397, 25.463781128120381, 26.138062629664834, 26.571666516094222, 24.064643242680415, 22.970940977938685, 22.154307070240641, 23.440812458548013, 21.536888001729629, 21.197627587423778, 19.175697974002407, 19.129052322694321, 18.954627689713337, 18.900661776112116, 20.338803576563375, 18.603396598837502, 18.16910589227383, 17.743809819507472, 17.561080170635485, 17.263062359689958, 17.220485335982918, 45.293306508757148, 22.752927868451337, 18.133269439449485, 59.111577676842984, 33.390183689470646, 193.86736345988251, 133.61999333721434, 33.157026772242709, 36.545525088351937, 104.84545655464885, 75.01715323896471, 67.508873661307717, 43.946793195363206, 130.16925666543079, 191.07154177183762, 106.97966732918565, 50.534856600047362, 312.11367506836496, 156.63505155300382, 101.42362054785985, 126.79349402173595, 93.852135208743235, 68.212372182744787, 105.35417508202299, 123.87375379049877, 92.242153902884453, 105.32593924600803, 128.69496031335211, 105.69698340387019, 173.77598582226972, 114.55217502436673, 160.60454975357217, 102.5162439844089, 114.87342823418105, 103.26203745701012, 118.03889471757485, 105.86246730923267, 124.24806682716374, 89.221361368946063, 115.85308930916692, 97.233298792819852, 94.176476784164862, 94.734580130826416, 97.986254786067178, 94.245274370259096, 87.061045333523793, 53.227152419079466, 41.181675820220931, 32.751112212655528, 32.290929556030797, 63.828014164278493, 26.561818832839023, 26.060503210593357, 24.800462043927784, 24.686531130228321, 32.639422525026902, 23.733630745406238, 23.549163947411742, 22.383957239757905, 22.405575444611326, 21.960548471420637, 21.79250521411111, 20.116706950663115, 20.127118123828819, 19.510515894790331, 19.462505358369423, 19.400197806199795, 19.213884410212902, 20.868010931956128, 18.953634769561628, 18.913907626071602, 19.082684999845991, 18.816306653579947, 18.589964887777452, 18.410294895847628, 24.485209797983842, 31.463648321926158, 33.011058784197431, 42.212258373286687, 41.326071302557772, 27.58443992126044, 39.773740357752018, 27.37694717739323, 23.643240703670415, 27.458625745975894, 73.054488388766998, 69.294598774899413, 27.818654319238576, 33.913023087476844, 135.90325074457297, 33.143328895402796, 97.995731773042223, 220.41046316196594, 179.04826049218599, 45.931815987402011, 50.341959513278958, 213.610350076955, 47.329730732628583, 70.327502409171387, 191.0686976052971, 39.79059736394516, 197.07268274994223, 146.90879302362077, 81.313451155967428, 165.17790656103435, 106.85089123753858, 104.06481038997686, 96.984116371073696, 155.87400244500023, 92.098627159109782, 96.30395671864693, 57.798554838536973, 85.106716815533659, 77.920691287275844, 100.38300099009844, 78.158754867938555, 75.790179940581197, 67.085572326087629, 65.22480311561435, 63.048276898389865, 66.7559520449106, 65.582744393534554, 63.909165129405288, 65.00816037943099, 60.838179997748547, 61.885696529148852, 51.212808969034384, 27.496460258262264, 26.964409280972255, 26.782811823421614, 22.871422993951448, 22.116336109764372, 21.488121295088661, 20.702240174540115, 20.33460817040827, 29.98894023684435, 20.251577034591502, 18.999007027467574, 18.504185004138623, 18.441026191178128, 17.922956721495158, 17.716198446516124, 17.515244114484766, 17.367551944054409, 17.316672287855582, 16.742359304225861, 16.615954555113685, 16.539875342632069, 16.482893908901623, 16.294141878057175, 16.270472561070267, 15.817017442767703, 17.970023486767992, 20.823179598259845, 19.138482882220185, 27.629368108519913, 69.447083537963223, 31.315882796337011, 17.37355733963253, 28.02643694297095, 67.319052644058701, 33.921740936956112, 30.326618219804022, 40.528725947217893, 58.28512970895121, 37.840137557486749, 27.287283499543459, 45.919618175710063, 80.2826483206196, 27.833947941692156, 27.804496412403637, 28.9330938435495, 29.71683573024292, 25.477014884743916, 46.008774608835203, 36.835307994948671, 143.33538066645309, 33.422693509684215, 97.85575450955983, 177.82013089147688, 146.92221652218109, 81.92631959195154, 61.326860661889633, 94.311199723509688, 72.477391788088752, 90.284542490158216, 85.735451626379032, 105.50474540879453, 83.871418127312936, 76.524284785283271, 68.506692904662785, 88.333927211961168, 60.194606616347563, 74.194675150832424, 79.819353781187672, 74.471737096017222, 59.129954959622637, 76.249241579896847, 60.091703575188895, 66.254570347890223, 64.900664595605306, 63.054633798280925, 62.311131329543741, 62.292597889581899, 62.635067287313156, 34.483329448401925, 32.2232741229626, 31.08343100050358, 29.541497978938747, 29.459466960269406, 26.644568977916816, 21.90544557022632, 21.635120757472212, 20.988897903730678, 20.72859922447898, 19.961223337068862, 19.375026337950487, 19.281688052752369, 18.045776818544518, 33.390795507769333, 17.532789588374659, 16.880768285886703, 16.450125766268865, 16.119540697194825, 15.905987454419739, 15.872813956069402, 15.751448502102811, 15.522643126050186, 18.702874439229817, 15.336274527290719, 15.158648859894052, 15.101004547989113, 14.976155319192411, 14.968235015867851, 17.305571276284244, 25.861600652392987, 23.931440816360567, 20.214782250302971, 36.824947148934491, 30.314277295715101, 25.572532210344363, 18.315208734922571, 23.674452073591123, 21.734225476687303, 70.367453786475963, 21.461083618328214, 52.360178380242857, 40.053602992691154, 47.004750200412062, 45.878625522343675, 24.259194142181773, 26.770160869450891, 48.273599113359964, 61.883745704451719, 67.060703912680765, 57.92948214280824, 28.592885550421283, 39.297596315054982, 66.706261058159029, 51.761584930977101, 63.297167446638255, 48.450404842415978, 55.33272711169127, 43.690957165330204, 36.424206852915127, 39.032357330767447, 48.791324679987945, 52.437541995361009, 38.392371040975583, 43.32001026584318, 42.476956931110976, 39.780037069238048, 37.608027570164396, 39.663201895410523, 35.298570856187659, 35.273054240909424, 38.608657766046832, 33.700080626288951, 26.859368685191605, 26.347550775933893, 26.282969841414022, 25.854139567007152, 25.387247926867541, 52.281601978085369, 25.00378076506253, 24.13103147411633, 23.955113967671583, 27.168997926810089, 23.569846415915642, 22.333979432639794, 22.333975341807285, 21.700773489319769, 35.27190481003597, 28.396225777254795, 17.415269349606238, 16.923831505958788, 16.657868870500273, 16.58261212269246, 16.178758652693702, 15.994329640607189, 15.937254012459473, 15.180694890241547, 14.946597373943078, 14.492672732001312, 14.468644956889328, 14.468637525140492, 21.054396578391959, 27.151774374018018, 94.550088221012146, 55.337392206801589, 28.575723589429646, 29.701977650636941, 83.322897966049766, 29.029289568881136, 50.748099301229594, 28.494388944528936, 28.7046750143456, 23.567162536759898, 32.8921742235, 66.007527415250124, 28.783523811575655, 32.172520634863936, 33.494958104563679, 43.140956595812028, 29.521934700647616, 67.401720724579064, 62.122260110653556, 68.403387470212152, 44.123135759699039, 36.696140947056911, 71.042935448100977, 92.220139853065703, 61.582736595786422, 57.317224239834644, 46.073338660383534, 54.912180985022218, 38.52850438263166, 56.793879991232082, 38.634768534928995, 50.189501244967538, 43.287661338849766, 44.942038832350562, 46.924715987113188, 45.238853512043441, 41.278394594192321, 35.707788432838662, 35.876913922410203, 35.788938050632865, 58.887695307220362, 48.490707529395749, 43.602048278816078, 41.996470842167092, 35.703277083618339, 32.355467188744861, 26.96567403934916, 26.197825301471859, 23.032048715212419, 21.576691845048082, 21.19793447955762, 19.453166505826651, 18.851627366148865, 18.144158156581138, 19.295804651010812, 17.789411707354908, 17.739520709554164, 17.708307775775381, 17.055465546295924, 17.047920580052072, 16.789257053470596, 17.758175493719623, 16.473959479572621, 16.071575967770258, 15.753894606075827, 15.662931561591236, 16.186681448942853, 15.322969067584623, 15.153184885378638, 23.478163878624859, 18.793679460868926, 55.020276338969865, 29.823901709138635, 58.410244874503029, 42.105686730878588, 28.655526930035844, 42.224798515653966, 24.637017666326948, 26.838676463405143, 45.831487285070857, 43.824557979392445, 38.447678171236696, 21.275417041966318, 40.121967635917372, 31.730980462614891, 24.057039277437205, 41.020249305325393, 25.948019099340318, 28.289012933570014, 57.180176811660601, 43.889119434831699, 30.65158773765156, 29.93232891651768, 36.575854281664967, 28.382037885110595, 30.107876070815205, 31.259608848561729, 27.789914405265328, 27.261706793441181, 25.502104122035565, 25.063764874601624, 24.850625069128501, 23.46595987549917, 21.069401991306965, 20.215346681099497, 19.435705232005574, 29.230088676811167, 20.37265590052121, 19.020991593103922, 18.522860393380032, 18.151514866099447, 16.416903313359938, 16.549733648204658, 15.892138586585279, 15.668388103939948, 15.61166442082375, 15.052634512327733, 14.76489859909848, 14.096407090239444, 14.04721319402757, 14.038175900152504, 13.212372977170734, 12.996789487677379, 12.909010896250926, 12.887316795381739, 12.708981749103307, 12.678083055768436, 12.658872248056484, 12.418546893195753, 14.647966170028495, 26.446256234204348, 19.066448930729358, 22.882980150156868, 55.321828141003444, 16.892354683369021, 20.429399037589434, 19.508678709023137, 35.738433808287397, 59.698123120387194, 65.023233673243254, 20.181215958803012, 34.794259030921538, 23.385309309194195, 21.304852452851989, 22.170602396587153, 31.874697472395713, 39.258367754450489, 19.473069394434681, 43.082347051744804, 27.871282286546919, 44.17409039867168, 36.217294510351799, 39.808116217404873, 33.958713280831624, 31.446256442798493, 33.182076937979808, 23.201476870556572, 23.349391216970194, 25.266601360294025, 27.499318169923072, 23.488021463745643, 25.002906746125937, 22.325890130621058, 1160.6638888972523, 521.9424330711422, 308.27151134437537, 292.12622282004673, 264.77185786647436, 234.24592370898719, 225.71122224055702, 210.97209084849544, 197.66822784071232, 174.20587075831085, 162.01264029096475, 143.0692042893786, 128.71440327460525, 116.61320838357001, 95.895990682070334, 94.871103915351696, 89.740831230255864, 84.101131742111136, 74.992278491397258, 72.636003958993768, 67.076950121530444, 58.874459285501246, 58.083440865491362, 56.344220934395615, 55.918939112664418, 54.395839600430634, 52.625588584294491, 56.124783348947112, 45.480367567165324, 45.250155710083781, 94.676348212550536, 52.089887012793589, 108.87612505197274, 90.454276264438604, 143.97640808276572, 66.400811476341815, 66.371329880404716, 59.648224093039268, 237.38437144996018, 67.92092681156673, 59.010861628272949, 52.233759958161109, 41.19061376985502, 39.863570384551529, 160.57103709971827, 37.788851339107623, 37.708342230879964, 35.315988423070749, 31.550228786292376, 31.388005544349657, 31.165016471384426, 193.72185200255657, 39.127628830253727, 27.092012258162683, 23.654072466541582, 23.36341814982201, 22.986099024887459, 22.283972745671655, 21.737812371655529, 21.571196412188428, 20.894810920783538, 20.352415611383393, 19.20066922389201, 19.040848311826942, 18.921416462602771, 18.718928529436077, 18.547540629036845, 18.124871192566616, 26.461520686865537, 37.02146149734638, 29.855377011988772, 20.306368544913269, 23.910609672069921, 27.26249197114176, 21.505895561584715, 172.73007563051809, 134.61091784810102, 60.072521719384468, 55.21130054904858, 54.06183707024298, 51.743324188783383, 51.705733002934565, 51.507286916851939, 50.576901795566563, 44.175836484814461, 43.745114964507337, 40.537460163585934, 38.571880449928905, 34.735069015923273, 33.445955515195827, 30.873976568689091, 26.334638549782674, 26.196809226517374, 24.302535154990867, 23.937198685841235, 21.10158685230601, 19.358455800988832, 19.363014887997124, 18.785487291910307, 18.77647133986968, 18.455349073088456, 17.168251723091409, 17.15834673210102, 17.031486815578837, 16.95640067089893, 30.223453997987875, 46.63499875180802, 55.947609260217476, 74.989265062324463, 144.71806300086973, 32.769724889736992, 25.714525207786828, 30.564957893693464, 27.609675206348182, 22.199786577132151], \"Total\": [1161.0, 522.0, 309.0, 292.0, 265.0, 238.0, 235.0, 226.0, 246.0, 211.0, 199.0, 198.0, 173.0, 531.0, 637.0, 175.0, 164.0, 201.0, 162.0, 2427.0, 792.0, 1472.0, 135.0, 372.0, 143.0, 882.0, 753.0, 1524.0, 832.0, 1203.0, 114.79715475887058, 74.645757246195046, 76.1719028092093, 63.655806903640716, 68.03123155762016, 52.162357765495408, 83.293061579062567, 48.963330299874571, 48.815500002723006, 46.515994333645402, 41.655828018364929, 39.976805299335027, 42.8225966576696, 36.452815901859175, 36.312447910040945, 46.951205870902641, 34.108139206325262, 38.905369402107247, 37.848005905926073, 32.751194380893573, 31.307611592837702, 39.982727704201885, 30.771941020099678, 30.352885605715123, 30.203896229457246, 30.013315323403567, 28.418321186974705, 28.27206861460591, 27.763404289111406, 27.862400232726927, 69.819552906560929, 92.480314055625385, 57.166056184344285, 210.52782074580935, 74.738814122727746, 162.12632032255613, 95.632449658082464, 87.792177446396281, 51.005344425586166, 117.56875273491242, 294.14229227290355, 78.493969954474935, 456.36110665601171, 290.46451060192112, 205.7559712466215, 118.79050806781358, 245.86589469287864, 459.47773970947526, 514.42046742871287, 118.38461657518158, 485.52533315450415, 182.02805207184758, 255.60875911047981, 161.66326436893169, 740.97442502461661, 437.4397740335271, 401.96681725373634, 414.50713155376241, 259.141754573546, 430.34100444734173, 790.78784162686918, 770.3550243990403, 273.69255732712253, 262.58985814119097, 272.6549486944881, 1524.2727165113204, 303.77125827449049, 932.6456758710475, 641.47523762358765, 574.93827053480686, 743.87611567912404, 832.30090623822718, 1108.0868079149957, 613.69581541461548, 1524.6547099478962, 579.31306999901881, 780.69429199716092, 2052.7902876554144, 1008.2779889166945, 687.6752921735083, 1151.4993314843473, 515.98021081428612, 1155.4911872318066, 1140.9437392519656, 1203.3218739398203, 582.92141273926416, 827.18287674413102, 1088.139180275758, 1513.0042888889986, 913.70954220721353, 1598.6461393566885, 130.40143930437083, 68.475474338849509, 40.199837372319585, 33.092637270641013, 32.037817461811343, 30.627639291598854, 28.063461827216958, 47.067701424808384, 26.515865943969455, 24.522852096194189, 32.264433758760418, 24.016903436051244, 31.118570991002706, 23.88072428857895, 23.229089159470142, 23.25693270691313, 23.02512630580927, 22.935301091268162, 22.874575115852657, 80.770420892710874, 22.095592032962184, 21.830565477669825, 21.893126680918254, 23.754347137919314, 20.846228440183655, 20.722969933151383, 21.717738029241357, 20.581828690265176, 20.741901553493594, 20.030944664650235, 49.239529267079398, 24.521032357356518, 372.39945083870111, 52.647737915107577, 47.879296645301629, 52.067268316058126, 98.872212101537258, 28.059087254262963, 139.76757221636026, 38.925496801304128, 136.94596348944972, 140.57587381169114, 166.26162900328828, 39.53888822485554, 335.36971188369904, 882.41396206836703, 681.60039966473755, 509.91731969096412, 256.20554636446207, 367.142535661279, 411.98783634255051, 490.73122267183476, 227.42436834240939, 137.79561769980188, 112.30166525509081, 175.67072634889095, 201.18940117820284, 204.88163246320542, 99.576163319754514, 303.0127112816777, 395.28094939864769, 286.58569714320248, 1513.0042888889986, 515.0267624922559, 554.28903487252819, 132.718775641966, 617.10250229254871, 949.53440831859893, 1203.3218739398203, 2427.8620694651668, 830.99820186225168, 1524.6547099478962, 403.63623183460851, 534.096321286783, 659.83289883075247, 722.84921979176124, 764.38775273155443, 1524.2727165113204, 1088.139180275758, 1151.4993314843473, 1140.9437392519656, 498.05729791459322, 832.30090623822718, 1467.5692788232247, 2052.7902876554144, 797.71092449799062, 857.63640659519876, 65.122013266269875, 47.769236700302798, 43.130316594934477, 35.235736335669522, 32.335829338992667, 31.1316785270295, 45.063142022078502, 28.283102496732532, 27.244120878717698, 27.56412141807143, 26.948601769023199, 26.057358933556351, 26.669018179033795, 27.523776163374635, 24.837462303117505, 24.288439182561824, 24.22335504744186, 24.059318512375366, 26.222345861726318, 22.726122174856197, 22.095212737839013, 21.734047321173492, 21.76587481396837, 21.234660048049459, 19.765194219156641, 19.601776692186792, 19.172109842996377, 18.306640113077695, 18.128451989320492, 19.357637678357801, 38.957080099085644, 26.688723936269781, 22.448899944182589, 26.313585186421687, 111.29821687451658, 123.88822242750059, 42.87166871088413, 49.448782496189224, 46.089333112224658, 94.250862105192326, 35.054903119318901, 197.56110200742924, 165.48033214583069, 105.14499432496528, 792.16709948678579, 70.830595939213438, 139.08369192926884, 112.37183229608721, 382.41976141664634, 138.15726104217202, 53.620963085325762, 1472.997809052014, 601.08323579407147, 170.20805403201763, 637.7713305081154, 234.02869520173073, 124.88779506291309, 316.52965359942255, 197.56851345587873, 134.73476747221511, 242.27466716147609, 130.31180059710303, 2427.8620694651668, 356.22687472658907, 559.35284598473072, 463.22667579093644, 737.56967620057878, 1467.5692788232247, 442.92258055413885, 541.27791988127183, 820.52417869533883, 647.16237875759566, 1598.6461393566885, 1267.9813533815495, 753.6795925307847, 2052.7902876554144, 585.92640951055716, 673.23151937051693, 467.49276281366599, 802.45934467213954, 273.59946665802977, 890.90173455604815, 1155.4911872318066, 857.63640659519876, 682.57302597458715, 642.22414850944006, 82.862403047896393, 88.461622488268958, 42.448400708670576, 40.867574110074116, 41.223646774091193, 38.003090730269186, 35.060350579550665, 31.009975624696654, 31.812788765672028, 30.136028050905349, 30.798994097001447, 29.071557706512806, 34.136828451514113, 27.503275525779479, 46.246109183315873, 28.449508227646533, 27.333881285830167, 25.708452312244997, 26.952942956077223, 24.329922283322883, 24.016994856963333, 23.936373958087785, 23.510220154085573, 23.237834130227881, 23.01244442025148, 34.698390119364795, 23.821157199068278, 22.122478827488688, 23.129889085672826, 21.937928475632571, 114.13618389593735, 43.684586865209013, 69.518480036693205, 169.71406663951038, 44.061225076344279, 130.51892715681089, 231.95740464344362, 328.40912954607165, 54.843681554676785, 221.94394474053064, 74.205441983526455, 531.5978375342163, 276.11384570137403, 179.89295895895847, 66.935684391942317, 130.52095852987947, 271.10166605846814, 80.495950998192015, 222.38051318796801, 234.55970704000981, 106.89322641178543, 109.67599418036258, 135.08776496862109, 693.00514422729714, 637.7713305081154, 413.63046182641835, 294.87885922168692, 643.90230282364507, 188.3749646882934, 399.13456743119599, 190.47054364329443, 363.5140951646236, 185.67337597219102, 682.57302597458715, 312.40451874427157, 469.32815097807287, 401.07038132031852, 892.14687922898645, 349.59680751335424, 890.90173455604815, 753.6795925307847, 715.4759813005187, 2427.8620694651668, 772.43175623502611, 463.22667579093644, 55.947775867891608, 51.096957896418836, 37.523719637691983, 33.676578859443289, 32.79113896909562, 30.896152429389858, 33.960188185653692, 29.952832252145985, 27.984724401138422, 27.178915058185755, 26.295296841568305, 27.01650930886565, 27.465896691123756, 24.88903278887139, 23.791431930564688, 22.975031552339352, 24.315713597224441, 22.357379628231257, 22.018112799708408, 19.996186415044871, 19.949986149142095, 19.775152520674443, 19.721140859891445, 21.232320318942588, 19.423930515502541, 18.99005531988071, 18.564311515003343, 18.381601611551659, 18.083876375552062, 18.040972347992053, 48.068933875679264, 23.973082579955804, 19.030607318390864, 71.622705728710045, 38.367259486169523, 303.65372835337342, 210.84645435365144, 39.38173803017331, 45.150271522189428, 178.24289349884501, 116.65081666348451, 102.13283380920367, 60.311074172390605, 347.05118753988882, 753.6795925307847, 307.10574883340917, 93.537933398087361, 2427.8620694651668, 716.6489117037346, 329.29061282862358, 515.0267624922559, 305.3097799144943, 171.70386358773493, 411.17820816923967, 624.58233685520543, 356.22687472658907, 490.73122267183476, 769.91995546697342, 499.41363545758549, 1598.6461393566885, 642.22414850944006, 1472.997809052014, 531.5978375342163, 715.4759813005187, 559.35284598473072, 857.63640659519876, 647.16237875759566, 1108.0868079149957, 386.42619434175072, 1267.9813533815495, 604.70915608843507, 571.06686349328311, 601.08323579407147, 892.14687922898645, 802.45934467213954, 87.964314336616013, 54.063517818975306, 42.013263066277517, 33.574293753078763, 33.114181520446046, 65.662795692959918, 27.384236461378148, 26.920868560815876, 25.622754068771787, 25.508809465591753, 33.747561994666157, 24.555909423224723, 24.37486431647929, 23.206218343014708, 23.234350382391135, 22.782976259123991, 22.618987405933982, 20.939062176962306, 20.949922563426227, 20.332864336688392, 20.28477110105602, 20.224946444272543, 20.036154468408633, 21.773348347887946, 19.776765266235369, 19.736278945414952, 19.914397567892902, 19.642129997492823, 19.412254644908732, 19.233230411808762, 25.777630259435675, 33.702479544819056, 36.327844372445149, 47.819649070680981, 47.352653008035503, 30.408466943411714, 46.69363077762749, 30.535893676832046, 25.638300598859626, 30.715138911409152, 101.48065860664965, 97.198207684288093, 31.413198546553396, 40.462088133517952, 244.09813038776852, 39.357882696858248, 167.78968885345853, 768.29780326797379, 632.45368556394124, 76.770015718137358, 92.905591185430097, 1267.9813533815495, 84.439891144792441, 187.00187757947779, 1467.5692788232247, 63.723970715544816, 1598.6461393566885, 890.90173455604815, 284.3654600544557, 1472.997809052014, 629.19056209610301, 604.70915608843507, 612.93526687871952, 2427.8620694651668, 647.16237875759566, 753.6795925307847, 186.08954970742826, 857.63640659519876, 682.57302597458715, 2052.7902876554144, 769.91995546697342, 892.14687922898645, 693.00514422729714, 668.03808273902359, 529.49835365739955, 1155.4911872318066, 949.53440831859893, 643.90230282364507, 65.83231642530022, 61.67072707183528, 62.795024280245237, 52.181418480243501, 28.320572178325239, 27.788705549788556, 27.607260651501559, 23.695635597567836, 22.94065537270685, 22.312269987927245, 21.526460295400582, 21.158793986196027, 31.205312703660635, 21.076254932901556, 19.82386315461758, 19.332065135261491, 19.272390800373412, 18.747066626530419, 18.541679917703547, 18.339486337989712, 18.194705686714599, 18.148009311941152, 17.568881588750301, 17.443761072701054, 17.365571057228689, 17.307011157888425, 17.118744524676739, 17.107411745612783, 16.641168262169092, 18.916552311902581, 21.956756573348191, 20.172644148067977, 29.371529860630769, 77.435856299652599, 34.130100906067071, 18.304126703136674, 31.273320212416323, 85.509497547374806, 40.883300656639939, 35.740333381142733, 51.185382835607378, 80.169613146506023, 48.05949927617376, 32.128393282795088, 64.088154705124211, 146.51926906993077, 33.877596430942688, 34.079651269023323, 36.288290409450966, 38.799245588478037, 30.853552829822629, 91.998903774240389, 63.668838749622907, 949.53440831859893, 52.973038086060171, 498.05729791459322, 2052.7902876554144, 1598.6461393566885, 508.94906317110434, 258.66950110094683, 835.57763577697949, 434.31794061666119, 830.99820186225168, 759.70486627021717, 1472.997809052014, 772.43175623502611, 622.01011224823969, 582.69794948954222, 1524.2727165113204, 382.60441026356557, 857.63640659519876, 1513.0042888889986, 1467.5692788232247, 475.60734080498844, 2427.8620694651668, 529.49835365739955, 1108.0868079149957, 1155.4911872318066, 961.50530256677143, 890.90173455604815, 1008.2779889166945, 63.459808088976011, 35.308607714832526, 33.052965624297421, 31.908454689431039, 30.366303170340085, 30.284126073607915, 27.47077080003449, 22.739142886527439, 22.459701550628168, 21.814926378201147, 21.555186862076923, 20.785801983602653, 20.199794669743977, 20.106308272736644, 18.870777068138253, 34.958714603523049, 18.357364187422228, 17.705341011515237, 17.278903603994905, 16.944131141355523, 16.732690586823193, 16.7001369341267, 16.576038002554817, 16.347209091321272, 19.70799610659639, 16.160957748654482, 15.983220577798658, 15.925860572485705, 15.800751266117652, 15.792855464807722, 18.301249494982333, 28.084613149539603, 26.5145666300016, 22.208958451572727, 46.143663640745281, 36.936197686092235, 30.485048502794413, 20.165299838566735, 29.189859935025698, 26.062522522426015, 160.33899912616781, 27.076292934711056, 138.69837697614972, 91.397757954379827, 127.47507929987744, 125.44200267165672, 34.86210421500801, 44.345718810090546, 171.4303936835833, 362.16889597943606, 465.25348399249265, 560.40191887547223, 63.790351869458284, 200.29329609296917, 1472.997809052014, 602.19666093167518, 1513.0042888889986, 617.10250229254871, 1140.9437392519656, 431.986738408294, 195.59177942119007, 312.40451874427157, 1155.4911872318066, 2052.7902876554144, 372.46539811350544, 949.53440831859893, 1598.6461393566885, 830.99820186225168, 737.56967620057878, 2427.8620694651668, 554.28903487252819, 613.69581541461548, 39.435951066816521, 34.525338118790387, 27.685162303936554, 27.17337370926802, 27.107308638866733, 26.685322371251477, 26.226802759734319, 54.017885259980623, 25.854667839260262, 24.955497394526411, 24.779630742074687, 28.104510904200396, 24.394188888709007, 23.158421702471756, 23.158421970544605, 22.525444128086907, 36.65570767636607, 29.543121061682097, 18.239614406312239, 17.749457541205992, 17.48229424373779, 17.406981018222034, 17.003103652748024, 16.818678155016084, 16.774988247668016, 16.005046268525422, 15.770985787607353, 15.317014945795236, 15.293078940937054, 15.293079953202637, 22.36325506116081, 29.806004417016737, 118.68584437874716, 66.524836947613593, 32.349329970713768, 34.921902885708874, 119.8689020484739, 34.216135228533425, 67.864701634177081, 34.175225614783187, 34.611727703101799, 26.984854665639144, 43.03174043112918, 140.33230227057277, 37.438833047065991, 46.716407965814334, 53.319603641121979, 101.03222709618041, 41.986431253936153, 357.39968106442439, 388.46890899209581, 629.19056209610301, 157.79109527614074, 87.581790718623822, 932.6456758710475, 2427.8620694651668, 737.56967620057878, 643.90230282364507, 266.28935938235117, 612.93526687871952, 128.74308098720763, 768.29780326797379, 149.31735365596913, 632.45368556394124, 343.64294402084909, 469.32815097807287, 857.63640659519876, 1267.9813533815495, 471.84829647763524, 120.99023867661181, 1088.139180275758, 1513.0042888889986, 59.714741456295016, 49.317747187509958, 44.429148313541525, 42.823443806609127, 36.532850743191197, 33.205437200946683, 27.793387537977388, 27.024917479846255, 23.85920034632905, 22.404374333847318, 22.024917938605558, 20.280213154001306, 19.6788217016279, 18.97839776615217, 20.190618139916666, 18.616534980340138, 18.566550404607245, 18.535401738937104, 17.882443207847466, 17.878587667321259, 17.616325564775135, 18.636299841931265, 17.300948520774828, 16.906707197691876, 16.580951072198875, 16.490033144172966, 17.054206534534764, 16.14994147537162, 15.980193129368152, 24.788938020601311, 20.009999401445093, 65.168661457432194, 33.320095884534119, 74.535900587239652, 53.705365712192261, 35.57156682048371, 66.544246513859107, 30.828312551568647, 35.549816133900428, 86.889838430657832, 117.77818400651515, 91.6595213917265, 27.113155182649948, 107.12252528410437, 71.022739601347112, 39.356114388656707, 210.9620442381736, 53.122123287554402, 79.202258391772503, 1598.6461393566885, 629.19056209610301, 166.21779593496993, 206.41168573046019, 1467.5692788232247, 194.08502420252782, 559.35284598473072, 1472.997809052014, 186.08954970742826, 488.45168113122475, 26.330419251739809, 25.891039321140294, 25.678187851744507, 24.293157289109178, 21.896661921769873, 21.042552937705359, 20.26282787886808, 30.479525048780012, 21.263609060670429, 19.870275127312993, 19.354345354922064, 18.978650175154716, 17.244029665747323, 17.394212484749033, 16.719780587573403, 16.49604591404297, 16.43977495856182, 15.880933903990387, 15.592029947670094, 14.923580866314742, 14.874338934185124, 14.865523178830349, 14.039536158654876, 13.823930787166891, 13.73615310699701, 13.714442160933954, 13.536293946651195, 13.505342856081834, 13.48600418071508, 13.245826140735714, 15.690400342872454, 29.330310159503941, 20.806911826199343, 25.575832514019204, 78.002976063283285, 19.029262694238511, 24.399093524572603, 23.019381987051233, 53.600270054342218, 127.21514449940197, 166.99585718753508, 26.707952143035801, 76.873321369103095, 38.0695773734897, 32.512888558893465, 39.713046154431915, 104.93717935404379, 243.16168865793159, 30.751195194036239, 488.45168113122475, 130.52095852987947, 892.14687922898645, 558.77356688253906, 1203.3218739398203, 830.99820186225168, 612.75907404572808, 1472.997809052014, 91.188638474545655, 118.68584437874716, 328.38323361725168, 1467.5692788232247, 234.83391727864819, 1524.6547099478962, 98.52042832294336, 1161.5954371108508, 522.77827930570447, 309.10686017670724, 292.96387182874537, 265.60695772313431, 235.08098350901258, 226.54641780150652, 211.80785742150175, 198.50424388968321, 175.0408568131142, 162.84768695034913, 143.90990782551478, 129.54932429177634, 117.44839028310643, 96.731159218952101, 95.705982953306332, 90.577921076379624, 84.936104266407241, 75.827223112482613, 73.471080387852481, 67.911901628159043, 59.709458392357007, 58.918769425130527, 57.17912036418074, 56.753920158313505, 55.230912689003198, 53.461019919620014, 57.074886637863436, 46.315280699406593, 46.085081138887872, 101.81033878878991, 53.560642888859704, 123.37176471276784, 101.32761068682545, 201.64117865379771, 90.525843368160281, 94.760456968386592, 345.92016469459662, 238.21560934176676, 68.790830962663719, 59.841997645418651, 53.064881247759523, 42.021730714160356, 40.694728895513094, 164.01485287588014, 38.61996935401821, 38.539459905226934, 36.147122403255516, 32.381340588492201, 32.219124500053582, 31.996110046845562, 199.02046942466848, 40.253437428020071, 27.923123575585198, 24.485186639267901, 24.194549617342119, 23.817465431824306, 23.115084483772293, 22.569333093740934, 22.402303027939606, 21.725903567592241, 21.183529208946037, 20.031783122306333, 19.871982467986243, 19.752522723936377, 19.550044017209192, 19.378701851869959, 18.955988113700986, 27.716751429240286, 49.267179502555152, 57.06671488477383, 24.370562708190693, 60.628954251629409, 240.00858037166157, 343.64294402084909, 173.56560617583455, 135.44622366025587, 60.905173728596395, 56.043942687791485, 54.894603735414236, 52.576239313954375, 52.538840418862904, 52.340212382052606, 51.409177085428077, 45.008547174488143, 44.583881947188303, 41.370360442725989, 39.404747270603274, 35.567636617482755, 34.278327781975094, 31.71086220670739, 27.167003408366007, 27.029193383512656, 25.134787333195135, 24.769749855392106, 21.933842533348731, 20.190708904189851, 20.195574426713453, 19.618089403223966, 19.608968241232983, 19.287705188699505, 18.000505613007054, 17.992033007977849, 17.863772887391342, 17.788706358214565, 31.747020809950133, 49.402875141350158, 60.918162549426349, 90.694144459879311, 246.94067828087066, 41.214075459535536, 37.508746157704955, 89.691694981213374, 94.760456968386592, 90.525843368160281], \"logprob\": [30.0, 29.0, 28.0, 27.0, 26.0, 25.0, 24.0, 23.0, 22.0, 21.0, 20.0, 19.0, 18.0, 17.0, 16.0, 15.0, 14.0, 13.0, 12.0, 11.0, 10.0, 9.0, 8.0, 7.0, 6.0, 5.0, 4.0, 3.0, 2.0, 1.0, -7.1544999999999996, -7.5873999999999997, -7.5682, -7.7483000000000004, -7.6818, -7.9501999999999997, -7.4824000000000002, -8.0145999999999997, -8.0198, -8.0683000000000007, -8.1791999999999998, -8.2211999999999996, -8.1529000000000007, -8.3155000000000001, -8.3200000000000003, -8.0632000000000001, -8.3835999999999995, -8.2522000000000002, -8.2805999999999997, -8.4253, -8.4719999999999995, -8.2274999999999991, -8.4893999999999998, -8.5032999999999994, -8.5083000000000002, -8.5149000000000008, -8.5709999999999997, -8.5763999999999996, -8.5950000000000006, -8.5914999999999999, -7.6727999999999996, -7.3990999999999998, -7.8785999999999996, -6.5896999999999997, -7.6166, -6.8673000000000002, -7.3834999999999997, -7.4687999999999999, -7.9973999999999998, -7.1961000000000004, -6.3212000000000002, -7.5869, -5.9199000000000002, -6.3514999999999997, -6.6807999999999996, -7.2032999999999996, -6.5286999999999997, -5.9489000000000001, -5.8528000000000002, -7.2126999999999999, -5.9263000000000003, -6.8224999999999998, -6.5141999999999998, -6.9401000000000002, -5.5711000000000004, -6.0469999999999997, -6.1315999999999997, -6.1135000000000002, -6.5281000000000002, -6.0877999999999997, -5.5602, -5.6146000000000003, -6.5011000000000001, -6.5368000000000004, -6.5199999999999996, -5.1322000000000001, -6.4406999999999996, -5.5361000000000002, -5.8368000000000002, -5.9446000000000003, -5.7465000000000002, -5.6635999999999997, -5.4615999999999998, -5.9135, -5.2446999999999999, -5.96, -5.7457000000000003, -5.0632999999999999, -5.5704000000000002, -5.8578999999999999, -5.5094000000000003, -6.0551000000000004, -5.5768000000000004, -5.6082000000000001, -5.585, -5.9905999999999997, -5.8422000000000001, -5.7591999999999999, -5.6721000000000004, -5.8937999999999997, -5.8506999999999998, -6.6927000000000003, -7.3421000000000003, -7.8826000000000001, -8.0816999999999997, -8.1148000000000007, -8.1610999999999994, -8.2509999999999994, -7.7354000000000003, -8.3111999999999995, -8.3902000000000001, -8.1158999999999999, -8.4117999999999995, -8.1527999999999992, -8.4176000000000002, -8.4463000000000008, -8.4451000000000001, -8.4553999999999991, -8.4595000000000002, -8.4623000000000008, -7.2009999999999996, -8.4982000000000006, -8.5106999999999999, -8.5082000000000004, -8.4267000000000003, -8.5587, -8.5648999999999997, -8.5183, -8.5721000000000007, -8.5647000000000002, -8.6003000000000007, -7.7043999999999997, -8.3995999999999995, -5.7492000000000001, -7.6660000000000004, -7.7668999999999997, -7.6933999999999996, -7.1105999999999998, -8.2782, -6.8041, -7.9779999999999998, -6.8333000000000004, -6.8136000000000001, -6.6729000000000003, -7.9663000000000004, -6.0507, -5.1970000000000001, -5.4364999999999997, -5.7130999999999998, -6.3258999999999999, -6.0407000000000002, -5.9657, -5.8349000000000002, -6.4923000000000002, -6.9154, -7.0956000000000001, -6.7331000000000003, -6.6238000000000001, -6.6208999999999998, -7.1994999999999996, -6.3109999999999999, -6.1060999999999996, -6.3783000000000003, -5.1162999999999998, -5.9551999999999996, -5.9264000000000001, -6.9816000000000003, -5.8939000000000004, -5.5930999999999997, -5.4837999999999996, -5.0465, -5.7366999999999999, -5.3723999999999998, -6.2093999999999996, -6.0514999999999999, -5.9291, -5.8917999999999999, -5.8688000000000002, -5.5011000000000001, -5.6849999999999996, -5.8005000000000004, -5.8150000000000004, -6.1555999999999997, -5.9598000000000004, -5.8865999999999996, -5.8028000000000004, -6.0896999999999997, -6.1025999999999998, -7.0926, -7.4086999999999996, -7.5133999999999999, -7.7176, -7.8056999999999999, -7.8445999999999998, -7.4772999999999996, -7.9432999999999998, -7.9819000000000004, -7.9702999999999999, -7.9931000000000001, -8.0277999999999992, -8.0048999999999992, -7.9745999999999997, -8.0772999999999993, -8.1005000000000003, -8.1031999999999993, -8.1103000000000005, -8.0252999999999997, -8.1693999999999996, -8.1986000000000008, -8.2157, -8.2142999999999997, -8.2401999999999997, -8.3146000000000004, -8.3231999999999999, -8.3468, -8.3947000000000003, -8.4048999999999996, -8.3392999999999997, -7.6422999999999996, -8.0248000000000008, -8.1951000000000001, -8.0475999999999992, -6.7134, -6.6151, -7.5987999999999998, -7.4768999999999997, -7.5541999999999998, -6.9329000000000001, -7.7969999999999997, -6.2971000000000004, -6.4627999999999997, -6.8667999999999996, -5.2038000000000002, -7.2268999999999997, -6.6894999999999998, -6.8922999999999996, -5.9393000000000002, -6.7492999999999999, -7.4722999999999997, -4.9549000000000003, -5.6398999999999999, -6.6189999999999998, -5.6425999999999998, -6.3883999999999999, -6.8823999999999996, -6.2222999999999997, -6.5651000000000002, -6.8357999999999999, -6.4448999999999996, -6.8651999999999997, -5.0015999999999998, -6.2356999999999996, -5.9518000000000004, -6.0789, -5.8018999999999998, -5.4261999999999997, -6.1406999999999998, -6.0449999999999999, -5.8105000000000002, -5.9855, -5.5033000000000003, -5.6319999999999997, -5.9977, -5.5572999999999997, -6.1357999999999997, -6.1146000000000003, -6.2796000000000003, -6.1593, -6.4717000000000002, -6.1818999999999997, -6.1315, -6.226, -6.2835000000000001, -6.3097000000000003, -6.6271000000000004, -6.5655999999999999, -7.3061999999999996, -7.3442999999999996, -7.3358999999999996, -7.4192999999999998, -7.5008999999999997, -7.6268000000000002, -7.6017000000000001, -7.6562999999999999, -7.6345999999999998, -7.6936, -7.5339, -7.7507000000000001, -7.2319000000000004, -7.7182000000000004, -7.7582000000000004, -7.8200000000000003, -7.7731000000000003, -7.8768000000000002, -7.8902000000000001, -7.8936999999999999, -7.9123999999999999, -7.9244000000000003, -7.9345999999999997, -7.5242000000000004, -7.9008000000000003, -7.9753999999999996, -7.9311999999999996, -7.9850000000000003, -6.3441999999999998, -7.2999000000000001, -6.8609, -5.9983000000000004, -7.3059000000000003, -6.3033000000000001, -5.7689000000000004, -5.4513999999999996, -7.1269, -5.8829000000000002, -6.8783000000000003, -5.1741000000000001, -5.7523, -6.1245000000000003, -6.9825999999999997, -6.4257, -5.8414000000000001, -6.8525999999999998, -6.0350999999999999, -6.0003000000000002, -6.6571999999999996, -6.6497999999999999, -6.5038999999999998, -5.3170000000000002, -5.4214000000000002, -5.7328999999999999, -5.9753999999999996, -5.4367000000000001, -6.2874999999999996, -5.7803000000000004, -6.2888000000000002, -5.9019000000000004, -6.3356000000000003, -5.5475000000000003, -6.0244, -5.7855999999999996, -5.8902000000000001, -5.4855999999999998, -6.0616000000000003, -5.7343999999999999, -5.8087, -5.8826999999999998, -5.5118, -6.1414999999999997, -6.1989000000000001, -6.9576000000000002, -7.0495000000000001, -7.3648999999999996, -7.4748999999999999, -7.5022000000000002, -7.5632999999999999, -7.4688999999999997, -7.5952000000000002, -7.6650999999999998, -7.6952999999999996, -7.7298, -7.7035999999999998, -7.6871999999999998, -7.7862999999999998, -7.8327999999999998, -7.8689999999999998, -7.8125, -7.8973000000000004, -7.9131, -8.0134000000000007, -8.0158000000000005, -8.0250000000000004, -8.0277999999999992, -7.9545000000000003, -8.0436999999999994, -8.0672999999999995, -8.0909999999999993, -8.1013000000000002, -8.1183999999999994, -8.1209000000000007, -7.1539000000000001, -7.8422999999999998, -8.0693000000000001, -6.8875999999999999, -7.4588000000000001, -5.6997999999999998, -6.0720000000000001, -7.4657999999999998, -7.3685, -6.3144999999999998, -6.6493000000000002, -6.7548000000000004, -7.1840000000000002, -6.0982000000000003, -5.7144000000000004, -6.2944000000000004, -7.0444000000000004, -5.2237, -5.9131, -6.3476999999999997, -6.1245000000000003, -6.4253, -6.7443999999999997, -6.3097000000000003, -6.1478000000000002, -6.4425999999999997, -6.3099999999999996, -6.1096000000000004, -6.3064, -5.8093000000000004, -6.226, -5.8880999999999997, -6.3369999999999997, -6.2232000000000003, -6.3296999999999999, -6.1959999999999997, -6.3048999999999999, -6.1447000000000003, -6.4759000000000002, -6.2146999999999997, -6.3898999999999999, -6.4218000000000002, -6.4158999999999997, -6.3822000000000001, -6.4211, -6.3132999999999999, -6.8052999999999999, -7.0618999999999996, -7.2910000000000004, -7.3051000000000004, -6.6237000000000004, -7.5004, -7.5194999999999999, -7.569, -7.5735999999999999, -7.2944000000000004, -7.6130000000000004, -7.6208, -7.6715999999999998, -7.6706000000000003, -7.6906999999999996, -7.6982999999999997, -7.7784000000000004, -7.7778, -7.8090000000000002, -7.8113999999999999, -7.8146000000000004, -7.8243, -7.7416999999999998, -7.8379000000000003, -7.8399999999999999, -7.8311000000000002, -7.8452000000000002, -7.8573000000000004, -7.867, -7.5818000000000003, -7.3311000000000002, -7.2831000000000001, -7.0372000000000003, -7.0583999999999998, -7.4626999999999999, -7.0967000000000002, -7.4702000000000002, -7.6167999999999996, -7.4672000000000001, -6.4886999999999997, -6.5415000000000001, -7.4542000000000002, -7.2561, -5.8680000000000003, -7.2790999999999997, -6.1950000000000003, -5.3844000000000003, -5.5922999999999998, -6.9527000000000001, -6.8611000000000004, -5.4157999999999999, -6.9227999999999996, -6.5266999999999999, -5.5273000000000003, -7.0963000000000003, -5.4962999999999997, -5.7900999999999998, -6.3815999999999997, -5.6729000000000003, -6.1085000000000003, -6.1349, -6.2054, -5.7309000000000001, -6.2569999999999997, -6.2123999999999997, -6.7229000000000001, -6.3360000000000003, -6.4241999999999999, -6.1708999999999996, -6.4211999999999998, -6.4519000000000002, -6.5739000000000001, -6.6021000000000001, -6.6360000000000001, -6.5789, -6.5965999999999996, -6.6223999999999998, -6.5133999999999999, -6.5796999999999999, -6.5627000000000004, -6.7519999999999998, -7.3738999999999999, -7.3933999999999997, -7.4001999999999999, -7.5580999999999996, -7.5915999999999997, -7.6204000000000001, -7.6577000000000002, -7.6756000000000002, -7.2870999999999997, -7.6797000000000004, -7.7435999999999998, -7.7698999999999998, -7.7733999999999996, -7.8018999999999998, -7.8135000000000003, -7.8249000000000004, -7.8333000000000004, -7.8362999999999996, -7.8700000000000001, -7.8776000000000002, -7.8822000000000001, -7.8856000000000002, -7.8971, -7.8986000000000001, -7.9268999999999998, -7.7991999999999999, -7.6519000000000004, -7.7362000000000002, -7.3691000000000004, -6.4474, -7.2438000000000002, -7.8330000000000002, -7.3548, -6.4785000000000004, -7.1638999999999999, -7.2759, -6.9859, -6.6226000000000003, -7.0545999999999998, -7.3815, -6.8609999999999998, -6.3023999999999996, -7.3616999999999999, -7.3627000000000002, -7.3230000000000004, -7.2961999999999998, -7.4501999999999997, -6.8590999999999998, -7.0815000000000001, -5.7228000000000003, -7.1787000000000001, -6.1044, -5.5072000000000001, -5.6980000000000004, -6.2820999999999998, -6.5716999999999999, -6.1413000000000002, -6.4047000000000001, -6.1849999999999996, -6.2366999999999999, -6.0292000000000003, -6.2587000000000002, -6.3502999999999998, -6.4610000000000003, -6.2068000000000003, -6.5903999999999998, -6.3811999999999998, -6.3082000000000003, -6.3775000000000004, -6.6082000000000001, -6.3539000000000003, -6.5921000000000003, -6.4943999999999997, -6.5151000000000003, -6.5438999999999998, -6.5557999999999996, -6.5560999999999998, -6.1284999999999998, -6.7253999999999996, -6.7931999999999997, -6.8292000000000002, -6.8799999999999999, -6.8827999999999996, -6.9832999999999998, -7.1791, -7.1914999999999996, -7.2218, -7.2343000000000002, -7.2720000000000002, -7.3018999999999998, -7.3067000000000002, -7.3728999999999996, -6.7576000000000001, -7.4017999999999997, -7.4397000000000002, -7.4654999999999996, -7.4858000000000002, -7.4991000000000003, -7.5011999999999999, -7.5088999999999997, -7.5235000000000003, -7.3372000000000002, -7.5355999999999996, -7.5472999999999999, -7.5510999999999999, -7.5594000000000001, -7.5598999999999998, -7.4147999999999996, -7.0130999999999997, -7.0906000000000002, -7.2594000000000003, -6.6597, -6.8541999999999996, -7.0243000000000002, -7.3581000000000003, -7.1013999999999999, -7.1870000000000003, -6.0121000000000002, -7.1996000000000002, -6.3076999999999996, -6.5755999999999997, -6.4156000000000004, -6.4398, -7.077, -6.9786000000000001, -6.3890000000000002, -6.1406000000000001, -6.0602, -6.2065999999999999, -6.9127000000000001, -6.5946999999999996, -6.0655000000000001, -6.3192000000000004, -6.1180000000000003, -6.3853, -6.2525000000000004, -6.4886999999999997, -6.6706000000000003, -6.6013999999999999, -6.3783000000000003, -6.3061999999999996, -6.6180000000000003, -6.4972000000000003, -6.5168999999999997, -6.5824999999999996, -6.6386000000000003, -6.5853999999999999, -6.702, -6.7027000000000001, -6.4649999999999999, -6.601, -6.8277999999999999, -6.8471000000000002, -6.8494999999999999, -6.8659999999999997, -6.8841999999999999, -6.1618000000000004, -6.8994, -6.9349999999999996, -6.9423000000000004, -6.8163999999999998, -6.9584999999999999, -7.0122999999999998, -7.0122999999999998, -7.0411000000000001, -6.5553999999999997, -6.7721999999999998, -7.2610999999999999, -7.2896999999999998, -7.3056000000000001, -7.3101000000000003, -7.3348000000000004, -7.3461999999999996, -7.3498000000000001, -7.3983999999999996, -7.4139999999999997, -7.4447999999999999, -7.4465000000000003, -7.4465000000000003, -7.0712999999999999, -6.8170000000000002, -5.5693000000000001, -6.1050000000000004, -6.7659000000000002, -6.7271999999999998, -5.6957000000000004, -6.7500999999999998, -6.1916000000000002, -6.7686999999999999, -6.7614000000000001, -6.9585999999999997, -6.6252000000000004, -5.9287000000000001, -6.7587000000000002, -6.6473000000000004, -6.6071, -6.3540000000000001, -6.7332999999999998, -5.9077999999999999, -5.9893999999999998, -5.8929999999999998, -6.3315000000000001, -6.5157999999999996, -5.8552, -5.5942999999999996, -5.9981, -6.0698999999999996, -6.2881999999999998, -6.1127000000000002, -6.4671000000000003, -6.0789999999999997, -6.4642999999999997, -6.2026000000000003, -6.3506, -6.3131000000000004, -6.2698999999999998, -6.3064999999999998, -6.3981000000000003, -6.5430999999999999, -6.5384000000000002, -6.5407999999999999, -5.9249000000000001, -6.1192000000000002, -6.2253999999999996, -6.2629999999999999, -6.4253, -6.5237999999999996, -6.7060000000000004, -6.7348999999999997, -6.8636999999999997, -6.9288999999999996, -6.9466000000000001, -7.0324999999999998, -7.0640000000000001, -7.1021999999999998, -7.0407000000000002, -7.1219000000000001, -7.1247999999999996, -7.1265000000000001, -7.1641000000000004, -7.1645000000000003, -7.1798000000000002, -7.1237000000000004, -7.1988000000000003, -7.2234999999999996, -7.2435, -7.2492999999999999, -7.2164000000000001, -7.2712000000000003, -7.2823000000000002, -6.8445, -7.0670000000000002, -5.9927999999999999, -6.6052, -5.9330999999999996, -6.2603999999999997, -6.6452, -6.2575000000000003, -6.7962999999999996, -6.7107000000000001, -6.1756000000000002, -6.2203999999999997, -6.3513000000000002, -6.9429999999999996, -6.3086000000000002, -6.5433000000000003, -6.8201000000000001, -6.2865000000000002, -6.7445000000000004, -6.6581000000000001, -5.9542999999999999, -6.2188999999999997, -6.5778999999999996, -6.6016000000000004, -6.4012000000000002, -6.6547999999999998, -6.5957999999999997, -6.5582000000000003, -6.6759000000000004, -6.6951000000000001, -6.6494999999999997, -6.6668000000000003, -6.6753, -6.7327000000000004, -6.8403999999999998, -6.8818000000000001, -6.9211, -6.5129999999999999, -6.8739999999999997, -6.9427000000000003, -6.9691999999999998, -6.9894999999999996, -7.0899000000000001, -7.0818000000000003, -7.1223999999999998, -7.1365999999999996, -7.1402000000000001, -7.1767000000000003, -7.1959999999999997, -7.2423000000000002, -7.2458, -7.2464000000000004, -7.3071000000000002, -7.3235000000000001, -7.3303000000000003, -7.3319999999999999, -7.3459000000000003, -7.3483000000000001, -7.3498999999999999, -7.3689999999999998, -7.2039, -6.6131000000000002, -6.9402999999999997, -6.7577999999999996, -5.875, -7.0613999999999999, -6.8712, -6.9173999999999998, -6.3120000000000003, -5.7988999999999997, -5.7134999999999998, -6.8834999999999997, -6.3388, -6.7361000000000004, -6.8292999999999999, -6.7893999999999997, -6.4264000000000001, -6.218, -6.9192, -6.1250999999999998, -6.5606, -6.1001000000000003, -6.2987000000000002, -6.2041000000000004, -6.3631000000000002, -6.4398999999999997, -6.3861999999999997, -6.7439999999999998, -6.7375999999999996, -6.6586999999999996, -6.5740999999999996, -6.7317, -6.6692, -6.7824999999999998, -2.6943000000000001, -3.4935, -4.0201000000000002, -4.0739000000000001, -4.1722000000000001, -4.2946999999999997, -4.3318000000000003, -4.3994, -4.4645000000000001, -4.5907999999999998, -4.6634000000000002, -4.7877999999999998, -4.8935000000000004, -4.9922000000000004, -5.1878000000000002, -5.1985999999999999, -5.2542, -5.3190999999999997, -5.4337, -5.4656000000000002, -5.5452000000000004, -5.6757, -5.6891999999999996, -5.7195999999999998, -5.7271999999999998, -5.7548000000000004, -5.7878999999999996, -5.7234999999999996, -5.9337999999999997, -5.9389000000000003, -5.2005999999999997, -5.7980999999999998, -5.0609000000000002, -5.2462, -4.7813999999999997, -5.5553999999999997, -5.5557999999999996, -5.6626000000000003, -3.9885000000000002, -5.2398999999999996, -5.3804999999999996, -5.5025000000000004, -5.7400000000000002, -5.7727000000000004, -4.3795000000000002, -5.8262, -5.8282999999999996, -5.8939000000000004, -6.0065999999999997, -6.0118, -6.0189000000000004, -4.1917999999999997, -5.7914000000000003, -6.1589999999999998, -6.2946999999999997, -6.3070000000000004, -6.3232999999999997, -6.3543000000000003, -6.3792, -6.3868999999999998, -6.4187000000000003, -6.4450000000000003, -6.5033000000000003, -6.5115999999999996, -6.5179, -6.5286999999999997, -6.5378999999999996, -6.5609000000000002, -6.1825000000000001, -5.8467000000000002, -6.0617999999999999, -6.4473000000000003, -6.2839, -6.1527000000000003, -6.3898999999999999, -4.2925000000000004, -4.5418000000000003, -5.3487, -5.4329999999999998, -5.4541000000000004, -5.4978999999999996, -5.4985999999999997, -5.5025000000000004, -5.5206999999999997, -5.6559999999999997, -5.6657999999999999, -5.742, -5.7916999999999996, -5.8964999999999996, -5.9343000000000004, -6.0143000000000004, -6.1733000000000002, -6.1786000000000003, -6.2535999999999996, -6.2687999999999997, -6.3948999999999998, -6.4810999999999996, -6.4809000000000001, -6.5110999999999999, -6.5115999999999996, -6.5289000000000001, -6.6012000000000004, -6.6017000000000001, -6.6092000000000004, -6.6135999999999999, -6.0355999999999996, -5.6018999999999997, -5.4198000000000004, -5.1269, -4.4694000000000003, -5.9546999999999999, -6.1971999999999996, -6.0244, -6.1261000000000001, -6.3441000000000001]}};\n",
       "\n",
       "function LDAvis_load_lib(url, callback){\n",
       "  var s = document.createElement('script');\n",
       "  s.src = url;\n",
       "  s.async = true;\n",
       "  s.onreadystatechange = s.onload = callback;\n",
       "  s.onerror = function(){console.warn(\"failed to load library \" + url);};\n",
       "  document.getElementsByTagName(\"head\")[0].appendChild(s);\n",
       "}\n",
       "\n",
       "if(typeof(LDAvis) !== \"undefined\"){\n",
       "   // already loaded: just create the visualization\n",
       "   !function(LDAvis){\n",
       "       new LDAvis(\"#\" + \"ldavis_el480348658999848641377877\", ldavis_el480348658999848641377877_data);\n",
       "   }(LDAvis);\n",
       "}else if(typeof define === \"function\" && define.amd){\n",
       "   // require.js is available: use it to load d3/LDAvis\n",
       "   require.config({paths: {d3: \"https://cdnjs.cloudflare.com/ajax/libs/d3/3.5.5/d3.min\"}});\n",
       "   require([\"d3\"], function(d3){\n",
       "      window.d3 = d3;\n",
       "      LDAvis_load_lib(\"https://cdn.rawgit.com/bmabey/pyLDAvis/files/ldavis.v1.0.0.js\", function(){\n",
       "        new LDAvis(\"#\" + \"ldavis_el480348658999848641377877\", ldavis_el480348658999848641377877_data);\n",
       "      });\n",
       "    });\n",
       "}else{\n",
       "    // require.js not available: dynamically load d3 & LDAvis\n",
       "    LDAvis_load_lib(\"https://cdnjs.cloudflare.com/ajax/libs/d3/3.5.5/d3.min.js\", function(){\n",
       "         LDAvis_load_lib(\"https://cdn.rawgit.com/bmabey/pyLDAvis/files/ldavis.v1.0.0.js\", function(){\n",
       "                 new LDAvis(\"#\" + \"ldavis_el480348658999848641377877\", ldavis_el480348658999848641377877_data);\n",
       "            })\n",
       "         });\n",
       "}\n",
       "</script>"
      ],
      "text/plain": [
       "<IPython.core.display.HTML object>"
      ]
     },
     "execution_count": 208,
     "metadata": {},
     "output_type": "execute_result"
    }
   ],
   "source": [
    "pyLDAvis.display(vis_data)\n"
   ]
  },
  {
   "cell_type": "markdown",
   "metadata": {},
   "source": [
    "###  Cluster"
   ]
  },
  {
   "cell_type": "code",
   "execution_count": 150,
   "metadata": {
    "collapsed": true
   },
   "outputs": [],
   "source": [
    "def tokenize_and_stem(text):\n",
    "    # first tokenize by sentence, then by word to ensure that punctuation is caught as it's own token\n",
    "    tokens = [word for sent in nltk.sent_tokenize(text) for word in nltk.word_tokenize(sent)]\n",
    "    filtered_tokens = []\n",
    "    # filter out any tokens not containing letters (e.g., numeric tokens, raw punctuation)\n",
    "    for token in tokens:\n",
    "        if re.search('[a-zA-Z]', token):\n",
    "            filtered_tokens.append(token)\n",
    "    stems = [stemmer.stem(t) for t in filtered_tokens]\n",
    "    return stems\n",
    "\n",
    "\n",
    "def tokenize_only(text):\n",
    "    # first tokenize by sentence, then by word to ensure that punctuation is caught as it's own token\n",
    "    tokens = [word.lower() for sent in nltk.sent_tokenize(text) for word in nltk.word_tokenize(sent)]\n",
    "    filtered_tokens = []\n",
    "    # filter out any tokens not containing letters (e.g., numeric tokens, raw punctuation)\n",
    "    for token in tokens:\n",
    "        if re.search('[a-zA-Z]', token):\n",
    "            filtered_tokens.append(token)\n",
    "    return filtered_tokens"
   ]
  },
  {
   "cell_type": "code",
   "execution_count": 151,
   "metadata": {
    "collapsed": false
   },
   "outputs": [],
   "source": [
    "totalvocab_stemmed = []\n",
    "totalvocab_tokenized = []\n",
    "for i in books:\n",
    "    allwords_stemmed = tokenize_and_stem(i) #for each item in 'synopses', tokenize/stem\n",
    "    totalvocab_stemmed.extend(allwords_stemmed) #extend the 'totalvocab_stemmed' list\n",
    "    \n",
    "    allwords_tokenized = tokenize_only(i)\n",
    "    totalvocab_tokenized.extend(allwords_tokenized)"
   ]
  },
  {
   "cell_type": "code",
   "execution_count": 152,
   "metadata": {
    "collapsed": false
   },
   "outputs": [],
   "source": [
    "vocab_frame = pd.DataFrame({'words': totalvocab_tokenized}, index = totalvocab_stemmed)"
   ]
  },
  {
   "cell_type": "code",
   "execution_count": 153,
   "metadata": {
    "collapsed": false
   },
   "outputs": [
    {
     "name": "stdout",
     "output_type": "stream",
     "text": [
      "CPU times: user 1min 13s, sys: 831 ms, total: 1min 14s\n",
      "Wall time: 1min 14s\n"
     ]
    }
   ],
   "source": [
    "\n",
    "#define vectorizer parameters\n",
    "tfidf_vectorizer = TfidfVectorizer(max_df=0.5,\n",
    "                                 min_df=0.05, stop_words=stop_books,\n",
    "                                 use_idf=True, tokenizer=tokenize_and_stem)\n",
    "\n",
    "%time tfidf_matrix = tfidf_vectorizer.fit_transform(books) #fit the vectorizer to synopses\n"
   ]
  },
  {
   "cell_type": "code",
   "execution_count": 154,
   "metadata": {
    "collapsed": false
   },
   "outputs": [],
   "source": [
    "terms = tfidf_vectorizer.get_feature_names()"
   ]
  },
  {
   "cell_type": "code",
   "execution_count": 155,
   "metadata": {
    "collapsed": true
   },
   "outputs": [],
   "source": [
    "from sklearn import cluster"
   ]
  },
  {
   "cell_type": "code",
   "execution_count": 376,
   "metadata": {
    "collapsed": true
   },
   "outputs": [],
   "source": [
    "#dbscan"
   ]
  },
  {
   "cell_type": "code",
   "execution_count": 377,
   "metadata": {
    "collapsed": false
   },
   "outputs": [],
   "source": [
    "dbscan = cluster.DBSCAN(eps=.5)"
   ]
  },
  {
   "cell_type": "code",
   "execution_count": 378,
   "metadata": {
    "collapsed": false
   },
   "outputs": [
    {
     "data": {
      "text/plain": [
       "DBSCAN(algorithm='auto', eps=0.5, leaf_size=30, metric='euclidean',\n",
       "    min_samples=5, p=None, random_state=None)"
      ]
     },
     "execution_count": 378,
     "metadata": {},
     "output_type": "execute_result"
    }
   ],
   "source": [
    "dbscan.fit(tfidf_matrix)"
   ]
  },
  {
   "cell_type": "code",
   "execution_count": 379,
   "metadata": {
    "collapsed": true
   },
   "outputs": [],
   "source": [
    "clusters=dbscan.labels_.tolist()"
   ]
  },
  {
   "cell_type": "code",
   "execution_count": 380,
   "metadata": {
    "collapsed": true
   },
   "outputs": [],
   "source": [
    "bookd = { 'title': titles,'synopsis': books, 'cluster': clusters }\n",
    "\n",
    "frame = pd.DataFrame(bookd, index = [clusters] , columns = [ 'title', 'cluster'])"
   ]
  },
  {
   "cell_type": "code",
   "execution_count": 22,
   "metadata": {
    "collapsed": false
   },
   "outputs": [
    {
     "ename": "NameError",
     "evalue": "name 'frame' is not defined",
     "output_type": "error",
     "traceback": [
      "\u001b[0;31m---------------------------------------------------------------------------\u001b[0m",
      "\u001b[0;31mNameError\u001b[0m                                 Traceback (most recent call last)",
      "\u001b[0;32m<ipython-input-22-889e648577c2>\u001b[0m in \u001b[0;36m<module>\u001b[0;34m()\u001b[0m\n\u001b[0;32m----> 1\u001b[0;31m \u001b[0mframe\u001b[0m\u001b[0;34m[\u001b[0m\u001b[0;34m'cluster'\u001b[0m\u001b[0;34m]\u001b[0m\u001b[0;34m.\u001b[0m\u001b[0mvalue_counts\u001b[0m\u001b[0;34m(\u001b[0m\u001b[0;34m)\u001b[0m\u001b[0;34m\u001b[0m\u001b[0m\n\u001b[0m",
      "\u001b[0;31mNameError\u001b[0m: name 'frame' is not defined"
     ]
    }
   ],
   "source": [
    "frame['cluster'].value_counts()"
   ]
  },
  {
   "cell_type": "code",
   "execution_count": null,
   "metadata": {
    "collapsed": true
   },
   "outputs": [],
   "source": [
    "#affinity propagation"
   ]
  },
  {
   "cell_type": "code",
   "execution_count": 382,
   "metadata": {
    "collapsed": true
   },
   "outputs": [],
   "source": [
    "affinity_propagation = cluster.AffinityPropagation()"
   ]
  },
  {
   "cell_type": "code",
   "execution_count": 383,
   "metadata": {
    "collapsed": false
   },
   "outputs": [
    {
     "data": {
      "text/plain": [
       "AffinityPropagation(affinity='euclidean', convergence_iter=15, copy=True,\n",
       "          damping=0.5, max_iter=200, preference=None, verbose=False)"
      ]
     },
     "execution_count": 383,
     "metadata": {},
     "output_type": "execute_result"
    }
   ],
   "source": [
    "%time affinity_propagation.fit(tfidf_matrix)"
   ]
  },
  {
   "cell_type": "code",
   "execution_count": 384,
   "metadata": {
    "collapsed": true
   },
   "outputs": [],
   "source": [
    "clusters=affinity_propagation.labels_.tolist()"
   ]
  },
  {
   "cell_type": "code",
   "execution_count": 385,
   "metadata": {
    "collapsed": true
   },
   "outputs": [],
   "source": [
    "bookd = { 'title': titles,'synopsis': books, 'cluster': clusters }\n",
    "\n",
    "frame = pd.DataFrame(bookd, index = [clusters] , columns = [ 'title', 'cluster'])"
   ]
  },
  {
   "cell_type": "code",
   "execution_count": 386,
   "metadata": {
    "collapsed": false
   },
   "outputs": [
    {
     "data": {
      "text/plain": [
       "208    62\n",
       "420    52\n",
       "134    51\n",
       "214    50\n",
       "280    49\n",
       "563    47\n",
       "433    45\n",
       "5      45\n",
       "0      44\n",
       "219    43\n",
       "270    43\n",
       "531    43\n",
       "12     42\n",
       "75     42\n",
       "493    41\n",
       "4      40\n",
       "14     39\n",
       "230    39\n",
       "616    39\n",
       "2      38\n",
       "34     38\n",
       "60     38\n",
       "59     38\n",
       "28     38\n",
       "63     38\n",
       "72     37\n",
       "30     37\n",
       "528    36\n",
       "142    36\n",
       "374    35\n",
       "       ..\n",
       "118     3\n",
       "197     3\n",
       "66      3\n",
       "393     3\n",
       "283     3\n",
       "638     2\n",
       "39      2\n",
       "135     2\n",
       "465     2\n",
       "52      2\n",
       "535     2\n",
       "106     2\n",
       "114     2\n",
       "312     2\n",
       "35      2\n",
       "428     2\n",
       "8       2\n",
       "117     2\n",
       "24      1\n",
       "29      1\n",
       "16      1\n",
       "264     1\n",
       "174     1\n",
       "27      1\n",
       "186     1\n",
       "42      1\n",
       "151     1\n",
       "17      1\n",
       "9       1\n",
       "77      1\n",
       "Name: cluster, dtype: int64"
      ]
     },
     "execution_count": 386,
     "metadata": {},
     "output_type": "execute_result"
    }
   ],
   "source": [
    "frame['cluster'].value_counts()"
   ]
  },
  {
   "cell_type": "code",
   "execution_count": 178,
   "metadata": {
    "collapsed": false
   },
   "outputs": [
    {
     "name": "stdout",
     "output_type": "stream",
     "text": [
      "CPU times: user 13 s, sys: 32.2 ms, total: 13.1 s\n",
      "Wall time: 13.1 s\n"
     ]
    }
   ],
   "source": [
    "from sklearn.cluster import KMeans\n",
    "\n",
    "num_clusters = 10\n",
    "\n",
    "km = KMeans(n_clusters=num_clusters)\n",
    "\n",
    "%time km.fit(tfidf_matrix)\n",
    "\n",
    "clusters = km.labels_.tolist()"
   ]
  },
  {
   "cell_type": "code",
   "execution_count": 188,
   "metadata": {
    "collapsed": false
   },
   "outputs": [],
   "source": [
    "bookd = { 'title': titles,'synopsis': books, 'cluster': clusters }\n",
    "\n",
    "frame = pd.DataFrame(bookd, index = [clusters] , columns = [ 'title', 'cluster'])"
   ]
  },
  {
   "cell_type": "code",
   "execution_count": 189,
   "metadata": {
    "collapsed": false
   },
   "outputs": [
    {
     "data": {
      "text/plain": [
       "3    1980\n",
       "9    1697\n",
       "8    1429\n",
       "0     932\n",
       "5     847\n",
       "6     797\n",
       "4     739\n",
       "7     537\n",
       "1     535\n",
       "2     395\n",
       "Name: cluster, dtype: int64"
      ]
     },
     "execution_count": 189,
     "metadata": {},
     "output_type": "execute_result"
    }
   ],
   "source": [
    "frame['cluster'].value_counts()"
   ]
  },
  {
   "cell_type": "code",
   "execution_count": 190,
   "metadata": {
    "collapsed": false
   },
   "outputs": [],
   "source": [
    "order_centroids = km.cluster_centers_.argsort()[:, ::-1] \n",
    "clusterd=[]\n",
    "for i in range(num_clusters):    \n",
    "    yo=[]\n",
    "    for ind in order_centroids[i, :6]: #replace 6 with n words per cluster\n",
    "        yo.append(vocab_frame.ix[terms[ind].split(' ')].values.tolist()[0][0].encode('utf-8', 'ignore'))    \n",
    "    clusterd.append(yo)"
   ]
  },
  {
   "cell_type": "code",
   "execution_count": 196,
   "metadata": {
    "collapsed": true
   },
   "outputs": [],
   "source": [
    "good_cluster=pd.DataFrame()"
   ]
  },
  {
   "cell_type": "code",
   "execution_count": 197,
   "metadata": {
    "collapsed": false
   },
   "outputs": [],
   "source": [
    "good_cluster['cluster']=range(0,10)\n",
    "good_cluster['words']=clusterd"
   ]
  },
  {
   "cell_type": "code",
   "execution_count": 201,
   "metadata": {
    "collapsed": false
   },
   "outputs": [],
   "source": [
    "frame=frame.merge(good_cluster,on='cluster')"
   ]
  },
  {
   "cell_type": "code",
   "execution_count": 202,
   "metadata": {
    "collapsed": true
   },
   "outputs": [],
   "source": [
    "frame.to_csv('good_cluster.csv')"
   ]
  },
  {
   "cell_type": "code",
   "execution_count": 181,
   "metadata": {
    "collapsed": false
   },
   "outputs": [
    {
     "name": "stdout",
     "output_type": "stream",
     "text": [
      "Top terms per cluster:\n",
      "Cluster 0 words:\n",
      " story\n",
      " tells\n",
      " tale\n",
      " world\n",
      " lives\n",
      " work\n",
      "Cluster 1 words:\n",
      " war\n",
      " world\n",
      " story\n",
      " american\n",
      " history\n",
      " year\n",
      "Cluster 2 words:\n",
      " edition\n",
      " included\n",
      " work\n",
      " original\n",
      " classic\n",
      " published\n",
      "Cluster 3 words:\n",
      " want\n",
      " know\n",
      " friends\n",
      " things\n",
      " girl\n",
      " find\n",
      "Cluster 4 words:\n",
      " families\n",
      " lives\n",
      " mother\n",
      " father\n",
      " love\n",
      " home\n",
      "Cluster 5 words:\n",
      " love\n",
      " story\n",
      " beautifully\n",
      " find\n",
      " woman\n",
      " fall\n",
      "Cluster 6 words:\n",
      " man\n",
      " murdered\n",
      " young\n",
      " kill\n",
      " world\n",
      " only\n",
      "Cluster 7 words:\n",
      " bestseller\n",
      " york\n",
      " author\n",
      " series\n",
      " world\n",
      " come\n",
      "Cluster 8 words:\n",
      " world\n",
      " power\n",
      " dark\n",
      " magic\n",
      " evil\n",
      " only\n",
      "Cluster 9 words:\n",
      " work\n",
      " son\n",
      " die\n",
      " year\n",
      " classic\n",
      " tale\n"
     ]
    }
   ],
   "source": [
    "print(\"Top terms per cluster:\")\n",
    "#sort cluster centers by proximity to centroid\n",
    "order_centroids = km.cluster_centers_.argsort()[:, ::-1] \n",
    "\n",
    "for i in range(num_clusters):\n",
    "    print \"Cluster %d words:\" % i\n",
    "    \n",
    "    for ind in order_centroids[i, :6]: #replace 6 with n words per cluster\n",
    "        print ' %s' % vocab_frame.ix[terms[ind].split(' ')].values.tolist()[0][0].encode('utf-8', 'ignore')"
   ]
  },
  {
   "cell_type": "code",
   "execution_count": 392,
   "metadata": {
    "collapsed": true
   },
   "outputs": [],
   "source": [
    "#ward hierarchal clustering"
   ]
  },
  {
   "cell_type": "code",
   "execution_count": 393,
   "metadata": {
    "collapsed": true
   },
   "outputs": [],
   "source": [
    "from sklearn.neighbors import kneighbors_graph\n"
   ]
  },
  {
   "cell_type": "code",
   "execution_count": 394,
   "metadata": {
    "collapsed": true
   },
   "outputs": [],
   "source": [
    "connectivity = kneighbors_graph(tfidf_matrix, n_neighbors=5, include_self=False)"
   ]
  },
  {
   "cell_type": "code",
   "execution_count": 395,
   "metadata": {
    "collapsed": true
   },
   "outputs": [],
   "source": [
    "ward = cluster.AgglomerativeClustering(n_clusters=13, linkage='ward',connectivity=connectivity)"
   ]
  },
  {
   "cell_type": "code",
   "execution_count": 24,
   "metadata": {
    "collapsed": true
   },
   "outputs": [],
   "source": [
    "y=tfidf_matrix.todense()"
   ]
  },
  {
   "cell_type": "code",
   "execution_count": 397,
   "metadata": {
    "collapsed": false
   },
   "outputs": [
    {
     "data": {
      "text/plain": [
       "AgglomerativeClustering(affinity='euclidean', compute_full_tree='auto',\n",
       "            connectivity=<9888x9888 sparse matrix of type '<type 'numpy.float64'>'\n",
       "\twith 49440 stored elements in Compressed Sparse Row format>,\n",
       "            linkage='ward', memory=Memory(cachedir=None), n_clusters=13,\n",
       "            n_components=None, pooling_func=<function mean at 0x106652410>)"
      ]
     },
     "execution_count": 397,
     "metadata": {},
     "output_type": "execute_result"
    }
   ],
   "source": [
    "%time ward.fit(y)\n"
   ]
  },
  {
   "cell_type": "code",
   "execution_count": 398,
   "metadata": {
    "collapsed": true
   },
   "outputs": [],
   "source": [
    "clusters = ward.labels_.tolist()"
   ]
  },
  {
   "cell_type": "code",
   "execution_count": 399,
   "metadata": {
    "collapsed": true
   },
   "outputs": [],
   "source": [
    "bookd = { 'title': titles,'synopsis': books, 'cluster': clusters }\n",
    "\n",
    "frame = pd.DataFrame(bookd, index = [clusters] , columns = [ 'title', 'cluster'])"
   ]
  },
  {
   "cell_type": "code",
   "execution_count": 400,
   "metadata": {
    "collapsed": false
   },
   "outputs": [
    {
     "data": {
      "text/plain": [
       "2     7372\n",
       "0      662\n",
       "5      335\n",
       "4      268\n",
       "3      251\n",
       "1      222\n",
       "8      179\n",
       "10     157\n",
       "9      148\n",
       "6      111\n",
       "11      72\n",
       "12      61\n",
       "7       50\n",
       "Name: cluster, dtype: int64"
      ]
     },
     "execution_count": 400,
     "metadata": {},
     "output_type": "execute_result"
    }
   ],
   "source": [
    "frame['cluster'].value_counts()"
   ]
  },
  {
   "cell_type": "code",
   "execution_count": 401,
   "metadata": {
    "collapsed": true
   },
   "outputs": [],
   "source": [
    "#cosine linkage"
   ]
  },
  {
   "cell_type": "code",
   "execution_count": 407,
   "metadata": {
    "collapsed": true
   },
   "outputs": [],
   "source": [
    "agglo_cluster = cluster.AgglomerativeClustering(linkage=\"average\", affinity=\"cosine\", n_clusters=10,connectivity=connectivity)"
   ]
  },
  {
   "cell_type": "code",
   "execution_count": 408,
   "metadata": {
    "collapsed": false
   },
   "outputs": [
    {
     "data": {
      "text/plain": [
       "AgglomerativeClustering(affinity='cosine', compute_full_tree='auto',\n",
       "            connectivity=<9888x9888 sparse matrix of type '<type 'numpy.float64'>'\n",
       "\twith 49440 stored elements in Compressed Sparse Row format>,\n",
       "            linkage='average', memory=Memory(cachedir=None), n_clusters=10,\n",
       "            n_components=None, pooling_func=<function mean at 0x106652410>)"
      ]
     },
     "execution_count": 408,
     "metadata": {},
     "output_type": "execute_result"
    }
   ],
   "source": [
    "agglo_cluster.fit(y)"
   ]
  },
  {
   "cell_type": "code",
   "execution_count": 409,
   "metadata": {
    "collapsed": true
   },
   "outputs": [],
   "source": [
    "clusters = agglo_cluster.labels_.tolist()"
   ]
  },
  {
   "cell_type": "code",
   "execution_count": 410,
   "metadata": {
    "collapsed": true
   },
   "outputs": [],
   "source": [
    "bookd = { 'title': titles,'synopsis': books, 'cluster': clusters }\n",
    "\n",
    "frame = pd.DataFrame(bookd, index = [clusters] , columns = [ 'title', 'cluster'])"
   ]
  },
  {
   "cell_type": "code",
   "execution_count": 411,
   "metadata": {
    "collapsed": false
   },
   "outputs": [
    {
     "data": {
      "text/plain": [
       "0    9879\n",
       "7       1\n",
       "6       1\n",
       "5       1\n",
       "4       1\n",
       "3       1\n",
       "2       1\n",
       "9       1\n",
       "1       1\n",
       "8       1\n",
       "Name: cluster, dtype: int64"
      ]
     },
     "execution_count": 411,
     "metadata": {},
     "output_type": "execute_result"
    }
   ],
   "source": [
    "frame['cluster'].value_counts()"
   ]
  },
  {
   "cell_type": "code",
   "execution_count": 418,
   "metadata": {
    "collapsed": false
   },
   "outputs": [
    {
     "data": {
      "text/plain": [
       "<9888x184 sparse matrix of type '<type 'numpy.float64'>'\n",
       "\twith 161808 stored elements in Compressed Sparse Row format>"
      ]
     },
     "execution_count": 418,
     "metadata": {},
     "output_type": "execute_result"
    }
   ],
   "source": [
    "tfidf_matrix"
   ]
  },
  {
   "cell_type": "code",
   "execution_count": null,
   "metadata": {
    "collapsed": true
   },
   "outputs": [],
   "source": []
  }
 ],
 "metadata": {
  "kernelspec": {
   "display_name": "Python 2",
   "language": "python",
   "name": "python2"
  },
  "language_info": {
   "codemirror_mode": {
    "name": "ipython",
    "version": 2
   },
   "file_extension": ".py",
   "mimetype": "text/x-python",
   "name": "python",
   "nbconvert_exporter": "python",
   "pygments_lexer": "ipython2",
   "version": "2.7.11"
  }
 },
 "nbformat": 4,
 "nbformat_minor": 0
}
