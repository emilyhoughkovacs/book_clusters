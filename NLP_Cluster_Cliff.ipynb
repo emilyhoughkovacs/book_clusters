{
 "cells": [
  {
   "cell_type": "code",
   "execution_count": 11,
   "metadata": {
    "collapsed": false
   },
   "outputs": [],
   "source": [
    "\n",
    "import pandas as pd\n",
    "import nltk\n",
    "import datetime\n",
    "import sys\n",
    "from nltk import sent_tokenize, word_tokenize, pos_tag\n",
    "from nltk.tokenize import TreebankWordTokenizer\n",
    "from nltk.tokenize import wordpunct_tokenize\n",
    "from nltk.chunk import ne_chunk\n",
    "from nltk.corpus import treebank_chunk\n",
    "from textblob import TextBlob\n",
    "import re\n",
    "from nltk.corpus import stopwords\n",
    "from nltk.util import ngrams\n",
    "from collections import defaultdict\n",
    "from operator import itemgetter\n",
    "from nltk.stem.snowball import SnowballStemmer\n",
    "from __future__ import division\n",
    "%matplotlib inline  \n",
    "from sklearn.feature_extraction.text import TfidfVectorizer\n",
    "from sklearn.cluster import KMeans\n",
    "from sklearn.feature_extraction.text import CountVectorizer\n",
    "import math\n",
    "from sklearn.feature_extraction.text import TfidfTransformer\n",
    "\n",
    "from collections import defaultdict\n",
    "\n",
    "from gensim import corpora, models, similarities\n",
    "\n",
    "from __future__ import division\n",
    "\n",
    "import pandas as pd\n",
    "import pyLDAvis\n",
    "import graphlab as gl\n",
    "import pyLDAvis.graphlab\n",
    "import pyLDAvis.gensim as gensimvis\n",
    "from nltk.stem.snowball import SnowballStemmer\n",
    "stemmer = SnowballStemmer(\"english\")"
   ]
  },
  {
   "cell_type": "code",
   "execution_count": 12,
   "metadata": {
    "collapsed": true
   },
   "outputs": [],
   "source": [
    "##Import and clean data"
   ]
  },
  {
   "cell_type": "code",
   "execution_count": 13,
   "metadata": {
    "collapsed": false
   },
   "outputs": [
    {
     "name": "stdout",
     "output_type": "stream",
     "text": [
      "\u001b[34mApplications\u001b[m\u001b[m/             \u001b[34mPractice\u001b[m\u001b[m/                 forbes_top.html\r\n",
      "Book_NLP_Fletcher.ipynb   \u001b[34mPublic\u001b[m\u001b[m/                   \u001b[34mforbes_top_files\u001b[m\u001b[m/\r\n",
      "\u001b[34mDAT8\u001b[m\u001b[m/                     Week 7 Practice.ipynb     good.csv\r\n",
      "\u001b[34mDesktop\u001b[m\u001b[m/                  \u001b[34manaconda\u001b[m\u001b[m/                 green_stream_twitter.py\r\n",
      "\u001b[34mDocuments\u001b[m\u001b[m/                book.csv                  \u001b[34mholbrojm.github.io\u001b[m\u001b[m/\r\n",
      "\u001b[34mDownloads\u001b[m\u001b[m/                cliff_df.csv              movies.html\r\n",
      "\u001b[34mDropbox\u001b[m\u001b[m/                  cliff_literature.html     movies_test.html\r\n",
      "Fletcher_NLP.ipynb        code_eval.txt             \u001b[34mmy_project_folder\u001b[m\u001b[m/\r\n",
      "FlethcerScrape.ipynb      \u001b[34mdata\u001b[m\u001b[m/                     \u001b[34mmyproject\u001b[m\u001b[m/\r\n",
      "\u001b[34mGitHub\u001b[m\u001b[m/                   df1.csv                   \u001b[34mmystuff\u001b[m\u001b[m/\r\n",
      "\u001b[34mGoogle Drive\u001b[m\u001b[m/             df_syn1.csv               \u001b[34mnltk_data\u001b[m\u001b[m/\r\n",
      "\u001b[34mLibrary\u001b[m\u001b[m/                  df_syn12 copy.csv         orange_stream_twitter.py\r\n",
      "\u001b[34mLogs\u001b[m\u001b[m/                     df_syn12.csv              \u001b[34mscikit_learn_data\u001b[m\u001b[m/\r\n",
      "\u001b[34mMNIST_data\u001b[m\u001b[m/               df_syn2.csv               spark.csv\r\n",
      "\u001b[34mMetis\u001b[m\u001b[m/                    doc_cluster.pkl           \u001b[34mtemp\u001b[m\u001b[m/\r\n",
      "\u001b[34mMovies\u001b[m\u001b[m/                   \u001b[34mds\u001b[m\u001b[m/                       ttweets.json\r\n",
      "\u001b[34mMusic\u001b[m\u001b[m/                    \u001b[34menvs\u001b[m\u001b[m/                     twitter_teen.ipynb\r\n",
      "NLP_Cluster_Cliff.ipynb   \u001b[34mflask\u001b[m\u001b[m/                    twitter_test.csv\r\n",
      "NLP_Cluster_Spark.ipynb   forbes.txt                \u001b[34mvenv\u001b[m\u001b[m/\r\n",
      "Output.txt                forbes_df.csv\r\n",
      "\u001b[34mPictures\u001b[m\u001b[m/                 forbes_names.txt\r\n"
     ]
    }
   ],
   "source": [
    "ls"
   ]
  },
  {
   "cell_type": "code",
   "execution_count": 14,
   "metadata": {
    "collapsed": false
   },
   "outputs": [],
   "source": [
    "book_cliff=pd.read_csv('cliff_df.csv',index_col=0)"
   ]
  },
  {
   "cell_type": "code",
   "execution_count": 84,
   "metadata": {
    "collapsed": false
   },
   "outputs": [
    {
     "data": {
      "text/html": [
       "<div>\n",
       "<table border=\"1\" class=\"dataframe\">\n",
       "  <thead>\n",
       "    <tr style=\"text-align: right;\">\n",
       "      <th></th>\n",
       "      <th>title</th>\n",
       "      <th>authors</th>\n",
       "      <th>cn_address</th>\n",
       "      <th>descriptions</th>\n",
       "    </tr>\n",
       "  </thead>\n",
       "  <tbody>\n",
       "    <tr>\n",
       "      <th>0</th>\n",
       "      <td>100 Years of Solitude</td>\n",
       "      <td>Gabriel García Márquez</td>\n",
       "      <td>http://www.cliffsnotes.com/literature/o/100-ye...</td>\n",
       "      <td>Of all the works by Garc a M rquez , this nove...</td>\n",
       "    </tr>\n",
       "    <tr>\n",
       "      <th>1</th>\n",
       "      <td>12 Years a Slave</td>\n",
       "      <td>Solomon Northup</td>\n",
       "      <td>http://www.cliffsnotes.com/literature/t/twelve...</td>\n",
       "      <td>nan</td>\n",
       "    </tr>\n",
       "    <tr>\n",
       "      <th>2</th>\n",
       "      <td>1984</td>\n",
       "      <td>George Orwell</td>\n",
       "      <td>http://www.cliffsnotes.com/literature/n/1984/1...</td>\n",
       "      <td>In George Orwell's 1984, Winston Smith wrestle...</td>\n",
       "    </tr>\n",
       "    <tr>\n",
       "      <th>3</th>\n",
       "      <td>The 1990s Newbery Medal Winners</td>\n",
       "      <td>NaN</td>\n",
       "      <td>http://www.cliffsnotes.com/literature/n/the-19...</td>\n",
       "      <td>In 1921, Frederic G. Melcher, coeditor of Publ...</td>\n",
       "    </tr>\n",
       "    <tr>\n",
       "      <th>4</th>\n",
       "      <td>Absalom, Absalom!</td>\n",
       "      <td>William Faulkner</td>\n",
       "      <td>http://www.cliffsnotes.com/literature/a/absalo...</td>\n",
       "      <td>In most of Faulkner's earlier fiction, however...</td>\n",
       "    </tr>\n",
       "  </tbody>\n",
       "</table>\n",
       "</div>"
      ],
      "text/plain": [
       "                             title                 authors  \\\n",
       "0            100 Years of Solitude  Gabriel García Márquez   \n",
       "1                 12 Years a Slave         Solomon Northup   \n",
       "2                             1984           George Orwell   \n",
       "3  The 1990s Newbery Medal Winners                     NaN   \n",
       "4                Absalom, Absalom!        William Faulkner   \n",
       "\n",
       "                                          cn_address  \\\n",
       "0  http://www.cliffsnotes.com/literature/o/100-ye...   \n",
       "1  http://www.cliffsnotes.com/literature/t/twelve...   \n",
       "2  http://www.cliffsnotes.com/literature/n/1984/1...   \n",
       "3  http://www.cliffsnotes.com/literature/n/the-19...   \n",
       "4  http://www.cliffsnotes.com/literature/a/absalo...   \n",
       "\n",
       "                                        descriptions  \n",
       "0  Of all the works by Garc a M rquez , this nove...  \n",
       "1                                                nan  \n",
       "2  In George Orwell's 1984, Winston Smith wrestle...  \n",
       "3  In 1921, Frederic G. Melcher, coeditor of Publ...  \n",
       "4  In most of Faulkner's earlier fiction, however...  "
      ]
     },
     "execution_count": 84,
     "metadata": {},
     "output_type": "execute_result"
    }
   ],
   "source": [
    "book_cliff.head()"
   ]
  },
  {
   "cell_type": "code",
   "execution_count": 21,
   "metadata": {
    "collapsed": true
   },
   "outputs": [],
   "source": [
    "book_cliff['descriptions']=book_cliff['descriptions'].astype(str)"
   ]
  },
  {
   "cell_type": "code",
   "execution_count": 22,
   "metadata": {
    "collapsed": false
   },
   "outputs": [],
   "source": [
    "cliff_title=list(book_cliff['title'])"
   ]
  },
  {
   "cell_type": "code",
   "execution_count": 276,
   "metadata": {
    "collapsed": false
   },
   "outputs": [
    {
     "data": {
      "text/plain": [
       "'In 1921, Frederic G. Melcher, coeditor of Publishers Weekly and founder of Children\\'s Book Week, proposed an award for authors of distinguished American children\\'s books to the American Library Association (ALA) meeting of the Children\\'s Librarians\\' Section. The purpose of the award would be:,Melcher suggested that the award be named after John Newbery, an eighteenth-century English writer, publisher, and bookseller who had a great influence on the development of children\\'s literature in Great Britain as well as in the United States. The children\\'s librarians accepted Melcher\\'s proposal and, in 1922, it was approved by the ALA Executive Board, becoming the first children\\'s book award in the world.,First awarded in 1922, the John Newbery Medal is a prestigious award given each year to the author of the book voted the most distinguished contribution to children\\'s literature published in the United States during the previous year. The Association for Library Service to Children (ALSC) of the American Library Association appoints a 15member Newbery Committee each year to select the winner of the John Newbery Medal. The winner is announced in January or February at the ALA\\'s midwinter convention.,The Newbery Committee adheres to specific criteria when deciding on the Newbery Medal winner. The committee members consider the theme or concept of the book, plot development, character development, setting, appropriateness of the author\\'s style, and the accuracy, clarity, and organization of the presentation of information to the reader. Because books contain different literary qualities, a book does not need to exhibit excellence in each of these areas; however, a book should have distinguished qualities in all areas that are relevant to a particular book. A book must also portray excellence of presentation for an audience of children. The Committee makes its decision based primarily on the text. If the overall design of a book, the illustrations, or other aspects of a book distract from the text, they are considered in the decision also. The Committee bases the award on literary quality and quality of presentation for children, not on popularity or didactic intent (the intent to convey educational or moral messages). The Committee requires that authors who win the Newbery Medal be citizens or residents of the United States.,The Newbery Medal, designed by Ren  Paul Chambellan, is bronze, engraved with the winner\\'s name and the date. The medal bears the inscription, \"For the most distinguished contribution to American literature for children.\",The first Newbery Medal was awarded in 1922 to Hendrik Willem van Loon, author of The Story of Mankind. Since that time, most authors have won the medal for writing distinguished fiction, although some authors of works of poetry and biographies have won, too. Along with the Newbery Medal, the ALSC also cites an unspecified number of \"honor books,\" other books the Committee has reviewed and deemed excellent, and presents the authors with certificates.,The Newbery Medal is the most well-known children\\'s book award in the United States. All of the Newbery Medal books and \"honor\" books are distinctive literature for children worthy of attention.'"
      ]
     },
     "execution_count": 276,
     "metadata": {},
     "output_type": "execute_result"
    }
   ],
   "source": [
    "cliff_syn[3]"
   ]
  },
  {
   "cell_type": "code",
   "execution_count": 23,
   "metadata": {
    "collapsed": false
   },
   "outputs": [],
   "source": [
    "cliff_syn=list(book_cliff['descriptions'])"
   ]
  },
  {
   "cell_type": "code",
   "execution_count": 268,
   "metadata": {
    "collapsed": true
   },
   "outputs": [],
   "source": [
    "url='<option value=\"*\">'\n",
    "urls=[]"
   ]
  },
  {
   "cell_type": "code",
   "execution_count": 269,
   "metadata": {
    "collapsed": true
   },
   "outputs": [],
   "source": [
    "for i in cliff_title:\n",
    "    urls.append(url.replace('*',i))"
   ]
  },
  {
   "cell_type": "code",
   "execution_count": 270,
   "metadata": {
    "collapsed": true
   },
   "outputs": [],
   "source": [
    "q=pd.DataFrame()"
   ]
  },
  {
   "cell_type": "code",
   "execution_count": 271,
   "metadata": {
    "collapsed": true
   },
   "outputs": [],
   "source": [
    "q['d']=urls"
   ]
  },
  {
   "cell_type": "code",
   "execution_count": 272,
   "metadata": {
    "collapsed": true
   },
   "outputs": [],
   "source": [
    "q.to_csv('cliff_titles.csv')"
   ]
  },
  {
   "cell_type": "code",
   "execution_count": 24,
   "metadata": {
    "collapsed": false
   },
   "outputs": [],
   "source": [
    "stop_books = stopwords.words('english')\n",
    "#stop_books+=stopwords.words('spanish')\n",
    "stop_books += ['.', ',', '(', ')', \"'\", '\"',u'novel',u'books',\n",
    "               u'published',u'characters',u'works',u'mr.',u'ms.'\n",
    "              ,u\"'s\",u\"time\",u\"only\",u\"n't\",u\"book\",u'life',u'one',\n",
    "          u'story',u'one',u'story',u'tells',u'things','..',\"&\",\"must\",'new','like',\"she's\",\"he's\",\"gets\",\"-\",\"--\",\"/\",\":\",\"shes\",\"hes\",\n",
    "              \"get\",\"like\",\"--the\",'\"the','says','two','him.']"
   ]
  },
  {
   "cell_type": "code",
   "execution_count": 25,
   "metadata": {
    "collapsed": false
   },
   "outputs": [],
   "source": [
    "texts=[[word for word in document.lower().split() \n",
    "        if word not in stop_books] for document in cliff_syn]"
   ]
  },
  {
   "cell_type": "code",
   "execution_count": 26,
   "metadata": {
    "collapsed": true
   },
   "outputs": [],
   "source": [
    "frequency=defaultdict(int)"
   ]
  },
  {
   "cell_type": "code",
   "execution_count": 27,
   "metadata": {
    "collapsed": true
   },
   "outputs": [],
   "source": [
    "for text in texts:\n",
    "    for token in text:\n",
    "        frequency[token] += 1"
   ]
  },
  {
   "cell_type": "code",
   "execution_count": 28,
   "metadata": {
    "collapsed": true
   },
   "outputs": [],
   "source": [
    "texts=[[token for token in text if frequency[token]>1] for text in texts]"
   ]
  },
  {
   "cell_type": "code",
   "execution_count": 29,
   "metadata": {
    "collapsed": true
   },
   "outputs": [],
   "source": [
    "dictionary = corpora.Dictionary(texts)"
   ]
  },
  {
   "cell_type": "code",
   "execution_count": 30,
   "metadata": {
    "collapsed": true
   },
   "outputs": [],
   "source": [
    "corpus = [dictionary.doc2bow(text) for text in texts]"
   ]
  },
  {
   "cell_type": "code",
   "execution_count": 31,
   "metadata": {
    "collapsed": true
   },
   "outputs": [],
   "source": [
    "#Models"
   ]
  },
  {
   "cell_type": "code",
   "execution_count": 98,
   "metadata": {
    "collapsed": true
   },
   "outputs": [],
   "source": [
    "lsi = models.LsiModel(corpus, id2word=dictionary,num_topics=15) #num_topics=\n"
   ]
  },
  {
   "cell_type": "code",
   "execution_count": 99,
   "metadata": {
    "collapsed": true
   },
   "outputs": [],
   "source": [
    "tfidf=models.TfidfModel(corpus,id2word=dictionary)\n"
   ]
  },
  {
   "cell_type": "code",
   "execution_count": 100,
   "metadata": {
    "collapsed": false
   },
   "outputs": [
    {
     "name": "stderr",
     "output_type": "stream",
     "text": [
      "[WARNING] too few updates, training might not converge; consider increasing the number of passes or iterations to improve accuracy\n"
     ]
    },
    {
     "name": "stdout",
     "output_type": "stream",
     "text": [
      "CPU times: user 2 µs, sys: 0 ns, total: 2 µs\n",
      "Wall time: 6.2 µs\n"
     ]
    }
   ],
   "source": [
    "lda = models.LdaModel(corpus,id2word=dictionary,passes=5,num_topics=4) #num_topics=\n",
    "\n",
    "%time"
   ]
  },
  {
   "cell_type": "code",
   "execution_count": 101,
   "metadata": {
    "collapsed": true
   },
   "outputs": [],
   "source": [
    "#Search/comparison"
   ]
  },
  {
   "cell_type": "code",
   "execution_count": 280,
   "metadata": {
    "collapsed": false
   },
   "outputs": [
    {
     "data": {
      "text/plain": [
       "'The Great Gatsby'"
      ]
     },
     "execution_count": 280,
     "metadata": {},
     "output_type": "execute_result"
    }
   ],
   "source": [
    "cliff_title[124]"
   ]
  },
  {
   "cell_type": "code",
   "execution_count": 281,
   "metadata": {
    "collapsed": false
   },
   "outputs": [],
   "source": [
    "query=cliff_syn[124]"
   ]
  },
  {
   "cell_type": "code",
   "execution_count": 282,
   "metadata": {
    "collapsed": true
   },
   "outputs": [],
   "source": [
    "search = query"
   ]
  },
  {
   "cell_type": "code",
   "execution_count": 283,
   "metadata": {
    "collapsed": true
   },
   "outputs": [],
   "source": [
    "search_vec = dictionary.doc2bow(search.lower().split())"
   ]
  },
  {
   "cell_type": "code",
   "execution_count": 284,
   "metadata": {
    "collapsed": false
   },
   "outputs": [
    {
     "name": "stderr",
     "output_type": "stream",
     "text": [
      "[WARNING] scanning corpus to determine the number of features (consider setting `num_features` explicitly)\n"
     ]
    }
   ],
   "source": [
    "#lsi vector search,index\n",
    "vec_lsi = lsi[search_vec]\n",
    "index_lsi = similarities.MatrixSimilarity(lsi[corpus])\n",
    "sims_lsi = index_lsi[vec_lsi]"
   ]
  },
  {
   "cell_type": "code",
   "execution_count": 285,
   "metadata": {
    "collapsed": false
   },
   "outputs": [
    {
     "name": "stderr",
     "output_type": "stream",
     "text": [
      "[WARNING] scanning corpus to determine the number of features (consider setting `num_features` explicitly)\n"
     ]
    }
   ],
   "source": [
    "#tfidf vector,search and index\n",
    "vec_tfidf=tfidf[search_vec]\n",
    "index_tfidf = similarities.MatrixSimilarity(tfidf[corpus])\n",
    "sims_tfidf=index_tfidf[vec_tfidf]"
   ]
  },
  {
   "cell_type": "code",
   "execution_count": 286,
   "metadata": {
    "collapsed": false
   },
   "outputs": [
    {
     "name": "stderr",
     "output_type": "stream",
     "text": [
      "[WARNING] scanning corpus to determine the number of features (consider setting `num_features` explicitly)\n"
     ]
    }
   ],
   "source": [
    "#lda model and vector\n",
    "vec_lda=lda[search_vec]\n",
    "index_lda=similarities.MatrixSimilarity(lda[corpus])\n",
    "sims_lda=index_lda[vec_lda]\n"
   ]
  },
  {
   "cell_type": "code",
   "execution_count": 287,
   "metadata": {
    "collapsed": false
   },
   "outputs": [
    {
     "name": "stderr",
     "output_type": "stream",
     "text": [
      "[WARNING] scanning corpus to determine the number of features (consider setting `num_features` explicitly)\n"
     ]
    }
   ],
   "source": [
    "#index and search regular model\n",
    "index = similarities.MatrixSimilarity(corpus)\n",
    "sims=index[search_vec]"
   ]
  },
  {
   "cell_type": "code",
   "execution_count": 288,
   "metadata": {
    "collapsed": true
   },
   "outputs": [],
   "source": [
    "#get top results"
   ]
  },
  {
   "cell_type": "code",
   "execution_count": 289,
   "metadata": {
    "collapsed": false
   },
   "outputs": [],
   "source": [
    "lda_top = sorted(enumerate(sims_lda), key=lambda item: -item[1])\n",
    "lsi_top = sorted(enumerate(sims_lsi), key=lambda item: -item[1])\n",
    "tfidf_top = sorted(enumerate(sims_tfidf), key=lambda item: -item[1])\n",
    "bag_top = sorted(enumerate(sims), key=lambda item: -item[1])"
   ]
  },
  {
   "cell_type": "code",
   "execution_count": 300,
   "metadata": {
    "collapsed": false
   },
   "outputs": [],
   "source": [
    "combined=(sims_lsi*.5+sims_lda*.5+sims_tfidf)/2\n",
    "comb_top= sorted(enumerate(combined), key=lambda item: -item[1])"
   ]
  },
  {
   "cell_type": "code",
   "execution_count": 301,
   "metadata": {
    "collapsed": false,
    "scrolled": true
   },
   "outputs": [
    {
     "name": "stdout",
     "output_type": "stream",
     "text": [
      "('The Great Gatsby', 0.99999988, 124)\n",
      "('Daisy Miller', 0.45887399, 70)\n",
      "('An American Tragedy', 0.4396151, 21)\n",
      "(\"Love's Labour's Lost\", 0.4283694, 182)\n",
      "('The Count of Monte Cristo', 0.42804369, 65)\n",
      "('Moll Flanders', 0.42648321, 200)\n",
      "('The Old Man and the Sea', 0.42645082, 217)\n",
      "('War and Peace', 0.42565638, 313)\n",
      "('1984', 0.42416412, 2)\n",
      "('Flowers for Algernon', 0.42406937, 107)\n"
     ]
    }
   ],
   "source": [
    "for i in range(0,10):\n",
    "    print (cliff_title[comb_top[i][0]],comb_top[i][1],comb_top[i][0])\n"
   ]
  },
  {
   "cell_type": "code",
   "execution_count": 302,
   "metadata": {
    "collapsed": false
   },
   "outputs": [
    {
     "name": "stdout",
     "output_type": "stream",
     "text": [
      "('The Great Gatsby', 0.99999994, 124)\n",
      "('Absalom, Absalom!', 0.8727085, 4)\n",
      "(\"All the King's Men\", 0.86692458, 13)\n",
      "('The Grapes of Wrath', 0.85961181, 122)\n",
      "(\"Faulkner's Short Stories\", 0.85567468, 103)\n",
      "('The Call of the Wild', 0.85045284, 53)\n",
      "('100 Years of Solitude', 0.8448422, 0)\n",
      "(\"O'Connor's Short Stories\", 0.84382963, 213)\n",
      "(\"The French Lieutenant's Woman\", 0.84282929, 111)\n",
      "('The Devil in the White City', 0.84214622, 77)\n"
     ]
    }
   ],
   "source": [
    "model_top=lsi_top\n",
    "for i in range(0,10):\n",
    "    print (cliff_title[model_top[i][0]],model_top[i][1],model_top[i][0])\n"
   ]
  },
  {
   "cell_type": "code",
   "execution_count": 303,
   "metadata": {
    "collapsed": true
   },
   "outputs": [],
   "source": [
    "df_rec=pd.DataFrame()"
   ]
  },
  {
   "cell_type": "code",
   "execution_count": 304,
   "metadata": {
    "collapsed": false
   },
   "outputs": [],
   "source": [
    "df_rec['lda']=sims_lda\n",
    "df_rec['lsi']=sims_lsi\n",
    "df_rec['tfidf']=sims_tfidf\n"
   ]
  },
  {
   "cell_type": "code",
   "execution_count": 305,
   "metadata": {
    "collapsed": false
   },
   "outputs": [],
   "source": [
    "#df_rec=df_rec.drop(df_rec.index[204])"
   ]
  },
  {
   "cell_type": "code",
   "execution_count": 306,
   "metadata": {
    "collapsed": false
   },
   "outputs": [],
   "source": [
    "df_norm = (df_rec - df_rec.mean()) / (df_rec.max() - df_rec.min())"
   ]
  },
  {
   "cell_type": "code",
   "execution_count": 307,
   "metadata": {
    "collapsed": false
   },
   "outputs": [],
   "source": [
    "df_norm['total']=df_norm['lda']+df_norm['lsi']+df_norm['tfidf']"
   ]
  },
  {
   "cell_type": "code",
   "execution_count": 308,
   "metadata": {
    "collapsed": false
   },
   "outputs": [],
   "source": [
    "df_norm['title']=cliff_title"
   ]
  },
  {
   "cell_type": "code",
   "execution_count": 309,
   "metadata": {
    "collapsed": false
   },
   "outputs": [],
   "source": [
    "df_norm=df_norm.sort_values(by=\"total\",ascending=False)"
   ]
  },
  {
   "cell_type": "code",
   "execution_count": 310,
   "metadata": {
    "collapsed": false
   },
   "outputs": [
    {
     "data": {
      "text/html": [
       "<div>\n",
       "<table border=\"1\" class=\"dataframe\">\n",
       "  <thead>\n",
       "    <tr style=\"text-align: right;\">\n",
       "      <th></th>\n",
       "      <th>lda</th>\n",
       "      <th>lsi</th>\n",
       "      <th>tfidf</th>\n",
       "      <th>total</th>\n",
       "      <th>title</th>\n",
       "    </tr>\n",
       "  </thead>\n",
       "  <tbody>\n",
       "    <tr>\n",
       "      <th>124</th>\n",
       "      <td>0.612226</td>\n",
       "      <td>0.316047</td>\n",
       "      <td>0.988500</td>\n",
       "      <td>1.916773</td>\n",
       "      <td>The Great Gatsby</td>\n",
       "    </tr>\n",
       "    <tr>\n",
       "      <th>21</th>\n",
       "      <td>0.492150</td>\n",
       "      <td>0.158102</td>\n",
       "      <td>0.008348</td>\n",
       "      <td>0.658600</td>\n",
       "      <td>An American Tragedy</td>\n",
       "    </tr>\n",
       "    <tr>\n",
       "      <th>182</th>\n",
       "      <td>0.488780</td>\n",
       "      <td>0.153926</td>\n",
       "      <td>-0.010328</td>\n",
       "      <td>0.632378</td>\n",
       "      <td>Love's Labour's Lost</td>\n",
       "    </tr>\n",
       "    <tr>\n",
       "      <th>65</th>\n",
       "      <td>0.488780</td>\n",
       "      <td>0.152995</td>\n",
       "      <td>-0.010504</td>\n",
       "      <td>0.631270</td>\n",
       "      <td>The Count of Monte Cristo</td>\n",
       "    </tr>\n",
       "    <tr>\n",
       "      <th>313</th>\n",
       "      <td>0.488780</td>\n",
       "      <td>0.136025</td>\n",
       "      <td>-0.006621</td>\n",
       "      <td>0.618184</td>\n",
       "      <td>War and Peace</td>\n",
       "    </tr>\n",
       "  </tbody>\n",
       "</table>\n",
       "</div>"
      ],
      "text/plain": [
       "          lda       lsi     tfidf     total                      title\n",
       "124  0.612226  0.316047  0.988500  1.916773           The Great Gatsby\n",
       "21   0.492150  0.158102  0.008348  0.658600        An American Tragedy\n",
       "182  0.488780  0.153926 -0.010328  0.632378       Love's Labour's Lost\n",
       "65   0.488780  0.152995 -0.010504  0.631270  The Count of Monte Cristo\n",
       "313  0.488780  0.136025 -0.006621  0.618184              War and Peace"
      ]
     },
     "execution_count": 310,
     "metadata": {},
     "output_type": "execute_result"
    }
   ],
   "source": [
    "df_norm.head()"
   ]
  },
  {
   "cell_type": "code",
   "execution_count": 312,
   "metadata": {
    "collapsed": false
   },
   "outputs": [],
   "source": [
    "lda = models.LdaModel(corpus,id2word=dictionary,passes=10,num_topics=6) #num_topics=\n"
   ]
  },
  {
   "cell_type": "code",
   "execution_count": 313,
   "metadata": {
    "collapsed": true
   },
   "outputs": [],
   "source": [
    "pyLDAvis.enable_notebook()\n",
    "vis_data = gensimvis.prepare(lda, corpus, dictionary)\n"
   ]
  },
  {
   "cell_type": "code",
   "execution_count": 351,
   "metadata": {
    "collapsed": true
   },
   "outputs": [],
   "source": [
    "pyLDAvis.save_html(vis_data,'cliff_lda.html')"
   ]
  },
  {
   "cell_type": "code",
   "execution_count": 352,
   "metadata": {
    "collapsed": false
   },
   "outputs": [
    {
     "data": {
      "text/html": [
       "\n",
       "<link rel=\"stylesheet\" type=\"text/css\" href=\"https://cdn.rawgit.com/bmabey/pyLDAvis/files/ldavis.v1.0.0.css\">\n",
       "\n",
       "\n",
       "<div id=\"ldavis_el305047227861282395580214\"></div>\n",
       "<script type=\"text/javascript\">\n",
       "\n",
       "var ldavis_el305047227861282395580214_data = {\"plot.opts\": {\"xlab\": \"PC1\", \"ylab\": \"PC2\"}, \"topic.order\": [1, 5, 2, 3, 4, 6], \"token.table\": {\"Topic\": [5, 5, 5, 6, 1, 1, 2, 1, 3, 4, 2, 1, 1, 3, 6, 3, 1, 2, 3, 4, 5, 6, 1, 2, 3, 4, 5, 6, 1, 5, 1, 2, 3, 4, 5, 6, 4, 3, 1, 2, 3, 4, 5, 6, 3, 1, 2, 3, 4, 5, 6, 1, 2, 3, 4, 5, 6, 1, 2, 3, 4, 5, 6, 1, 2, 3, 4, 5, 6, 6, 1, 5, 5, 1, 2, 3, 4, 5, 6, 6, 2, 2, 3, 1, 2, 3, 5, 1, 2, 3, 4, 5, 6, 5, 2, 1, 2, 3, 5, 2, 4, 5, 4, 6, 2, 6, 6, 1, 2, 3, 4, 5, 6, 1, 1, 2, 3, 4, 5, 6, 1, 2, 6, 6, 6, 2, 2, 1, 1, 2, 3, 4, 5, 6, 1, 2, 3, 4, 5, 6, 5, 3, 4, 3, 3, 2, 1, 3, 1, 3, 5, 3, 6, 1, 2, 3, 4, 5, 6, 1, 2, 3, 4, 5, 6, 5, 6, 1, 2, 3, 4, 5, 6, 3, 6, 2, 4, 4, 5, 1, 2, 3, 4, 5, 6, 5, 1, 2, 3, 4, 5, 6, 3, 4, 5, 6, 1, 2, 3, 4, 5, 6, 3, 1, 2, 3, 4, 6, 5, 4, 5, 2, 1, 2, 3, 4, 5, 6, 1, 3, 4, 6, 1, 5, 6, 2, 2, 1, 2, 3, 4, 5, 6, 1, 2, 3, 4, 5, 6, 1, 2, 3, 4, 5, 6, 5, 3, 1, 2, 3, 4, 5, 6, 1, 2, 3, 4, 5, 6, 4, 1, 2, 3, 4, 5, 6, 1, 2, 3, 4, 5, 6, 1, 2, 3, 4, 5, 6, 4, 3, 1, 3, 4, 5, 2, 1, 2, 3, 4, 5, 6, 1, 2, 3, 4, 5, 6, 3, 1, 2, 3, 4, 5, 6, 1, 2, 3, 4, 5, 6, 1, 2, 1, 2, 3, 4, 5, 6, 2, 3, 1, 4, 6, 1, 2, 3, 4, 5, 6, 1, 2, 3, 4, 5, 6, 5, 4, 1, 3, 5, 1, 2, 3, 4, 5, 6, 1, 2, 3, 4, 5, 6, 1, 2, 3, 4, 5, 6, 1, 2, 3, 4, 5, 6, 1, 2, 3, 4, 5, 6, 1, 2, 3, 4, 5, 6, 5, 6, 6, 1, 2, 3, 4, 5, 6, 1, 2, 3, 4, 5, 6, 1, 2, 3, 5, 6, 1, 2, 3, 5, 5, 2, 3, 5, 1, 2, 3, 6, 2, 5, 1, 6, 6, 1, 2, 3, 5, 1, 1, 3, 4, 5, 1, 2, 3, 4, 5, 1, 4, 5, 6, 2, 3, 4, 5, 1, 2, 3, 4, 5, 6, 3, 1, 2, 3, 5, 5, 4, 1, 3, 4, 4, 6, 3, 4, 1, 2, 3, 4, 5, 6, 5, 1, 5, 5, 4, 1, 4, 1, 2, 5, 3, 3, 2, 2, 5, 6, 1, 2, 3, 4, 5, 6, 2, 3, 6, 1, 2, 3, 4, 5, 6, 2, 1, 2, 3, 4, 5, 6, 4, 1, 2, 3, 4, 5, 6, 1, 2, 3, 4, 5, 6, 1, 2, 3, 4, 5, 6, 1, 2, 3, 4, 5, 4, 1, 2, 3, 4, 5, 6, 1, 1, 2, 3, 4, 5, 6, 3, 6, 1, 2, 3, 4, 5, 6, 2, 6, 3, 1, 2, 3, 4, 1, 1, 2, 3, 4, 5, 6, 1, 2, 3, 4, 5, 6, 3, 4, 4, 3, 1, 2, 3, 4, 5, 6, 4, 1, 1, 2, 3, 4, 5, 6, 2, 6, 1, 2, 3, 4, 5, 6, 5, 2, 5, 5, 3, 1, 2, 3, 4, 5, 6, 2, 3, 1, 2, 3, 4, 5, 6, 3, 4, 5, 1, 2, 3, 4, 5, 6, 1, 2, 3, 4, 5, 6, 4, 6, 6, 1, 2, 5, 6, 4, 1, 3, 4, 5, 2, 1, 2, 3, 4, 5, 6, 2, 3, 2, 2, 2, 1, 2, 3, 4, 5, 6, 1, 3, 4, 5, 6, 4, 5, 3, 4, 1, 2, 3, 4, 5, 6, 1, 1, 3, 6, 5, 4, 4, 2, 2, 1, 1, 2, 3, 5, 6, 1, 2, 3, 4, 5, 6, 1, 2, 3, 4, 5, 6, 1, 1, 3, 5, 6, 3, 6, 6, 4, 3, 1, 3, 5, 1, 1, 1, 2, 6, 6, 1, 3, 4, 1, 2, 3, 1, 3, 6, 3, 4, 6, 3, 3, 5, 1, 4, 6, 1, 2, 3, 4, 5, 6, 5, 6, 3, 6, 1, 2, 3, 2, 4, 2, 3, 2, 1, 2, 3, 4, 5, 6, 1, 2, 3, 4, 5, 6, 2, 3, 4, 4, 1, 4, 5, 4, 1, 2, 3, 4, 5, 6, 1, 2, 3, 4, 5, 6, 1, 2, 3, 4, 5, 6, 6, 5, 6, 1, 5, 1, 2, 5, 1, 2, 3, 4, 5, 6, 1, 1, 2, 3, 4, 5, 6, 1, 2, 3, 4, 5, 6, 1, 1, 2, 3, 4, 5, 6, 4, 5, 3, 1, 2, 3, 4, 5, 6, 1, 2, 3, 4, 5, 6, 1, 2, 3, 4, 5, 6, 1, 2, 3, 4, 5, 6, 1, 2, 3, 4, 5, 6, 6, 1, 1, 2, 3, 4, 5, 6, 3, 1, 2, 3, 4, 5, 6], \"Freq\": [0.94235091932773918, 0.89886151813242032, 0.97130642639215325, 0.83831365162988403, 0.91264962136139205, 0.20166443767476394, 0.78649130693157931, 0.94573493719786006, 0.9482108737674797, 0.94174228568058327, 0.97489164935198591, 0.91270394177312641, 0.024015022357719528, 0.91257084959334211, 0.048030044715439056, 0.92672793687673671, 0.282496575763516, 0.150155837567995, 0.1934210789011461, 0.150155837567995, 0.17560597952867213, 0.048355269725286525, 0.27875216768567601, 0.13304080730452719, 0.14571136038114882, 0.22173467884087866, 0.15204663691945966, 0.063352765383108189, 0.92283213275831877, 0.92950697486618883, 0.31499525319990679, 0.19424707280660916, 0.17324738925994873, 0.13124802216662781, 0.13124802216662781, 0.052499208866651131, 0.93858447835833869, 0.93830505974779965, 0.15179835658372098, 0.25615972673502918, 0.18974794572965123, 0.13756726065399713, 0.1992353430161338, 0.066411781005377937, 0.90124264807782473, 0.13789948008376238, 0.24004724310877157, 0.20429552605001836, 0.1481142563862633, 0.1634364208400147, 0.10725515117625964, 0.17225711022960269, 0.14764895162537375, 0.14764895162537375, 0.46755501348035017, 0.049216317208457913, 0.024608158604228957, 0.16742869028813595, 0.24621866218843522, 0.24621866218843522, 0.13788245082552372, 0.12310933109421761, 0.07878997190029928, 0.72776325793793895, 0.037321192714766097, 0.093302981786915248, 0.055981789072149152, 0.055981789072149152, 0.037321192714766097, 0.9316372465325613, 0.97421346590019187, 0.98123018401748796, 0.95396739658809704, 0.030165232072207032, 0.15836746837908691, 0.052789156126362306, 0.15082616036103516, 0.51280894522751952, 0.090495696216621097, 0.95489699380922333, 0.98128462592725874, 0.053559972565852952, 0.91051953361950011, 0.028102882069736362, 0.028102882069736362, 0.89929222623156357, 0.028102882069736362, 0.57170855895716455, 0.063523173217462731, 0.063523173217462731, 0.079403966521828406, 0.14292713973929114, 0.071463569869645568, 0.91466261046891206, 0.94019860104824782, 0.84293559368055171, 0.0324205997569443, 0.0324205997569443, 0.0648411995138886, 0.96781799879655217, 0.95757021174703905, 0.9477094562091336, 0.97706358740994215, 0.96065881244098428, 0.98112564783613165, 0.93156473111538918, 0.94380838177857795, 0.26533526244563282, 0.066333815611408206, 0.38473613054616757, 0.013266763122281641, 0.23880173620106954, 0.039800289366844925, 0.98070697142460272, 0.30939113469240026, 0.48342364795687537, 0.1353586214279251, 0.038673891836550033, 0.029005418877412523, 0.0096684729591375081, 0.91289254653779239, 0.95986854612079386, 0.93518920396707739, 0.96117300987543497, 0.9234835606683256, 0.92345480874914565, 0.91423405975225924, 0.94548570024621026, 0.76019966839350805, 0.07071624822265192, 0.03535812411132596, 0.07071624822265192, 0.01767906205566298, 0.053037186166988937, 0.5027026612028781, 0.11106221584714748, 0.093526076502861044, 0.15197987431714918, 0.058453797814288146, 0.075989937158574591, 0.92961167532548084, 0.93854982539515108, 0.93846759773088861, 0.97958134059462199, 0.98565947505768381, 0.98166661089849949, 0.089656371024513931, 0.89656371024513937, 0.95601126612027254, 0.049720579318352887, 0.89497042773035196, 0.057106793551234228, 0.91370869681974765, 0.094105874537606549, 0.083649666255650276, 0.25094899876695081, 0.30323004017673222, 0.062737249691737704, 0.20912416563912567, 0.26471180334805694, 0.17647453556537129, 0.16470956652767987, 0.11176720585806849, 0.15882708200883416, 0.1176496903769142, 0.94535077123583178, 0.89996744346611657, 0.57092666354550781, 0.12687259189900174, 0.06343629594950087, 0.1014980735192014, 0.11418533270910157, 0.038061777569700521, 0.91516144578933245, 0.94889797495069728, 0.90919761052332437, 0.075766467543610355, 0.91220729798490563, 0.045610364899245283, 0.028947738360065381, 0.21710803770049036, 0.043421607540098071, 0.072369345900163445, 0.20263416852045765, 0.43421607540098073, 0.89890487317055101, 0.45534802944700709, 0.14285428374808065, 0.098212320076805443, 0.12499749827957057, 0.1517826764823357, 0.026785178202765124, 0.040770569865939174, 0.85618196718472273, 0.040770569865939174, 0.040770569865939174, 0.024042373138169648, 0.048084746276339296, 0.14425423882901789, 0.096169492552678593, 0.072127119414508944, 0.62510170159241085, 0.93860612358195927, 0.27917592782609857, 0.017448495489131161, 0.017448495489131161, 0.19193345038044277, 0.50600636918480357, 0.89887486542997785, 0.90263342597328022, 0.047507022419646328, 0.98888296870691317, 0.14755714788327454, 0.024592857980545755, 0.43037501465955069, 0.18444643485409318, 0.04918571596109151, 0.14755714788327454, 0.13803724418801996, 0.027607448837603993, 0.7730085674529118, 0.055214897675207986, 0.21508281138069602, 0.75278983983243597, 0.026885351422587002, 0.9595533640757451, 0.969678981055353, 0.39258789810225181, 0.15948883360403979, 0.17175720541973516, 0.11041534634125832, 0.098146974525562952, 0.069520773622273754, 0.52926367272836972, 0.14639207969082565, 0.09008743365589271, 0.09008743365589271, 0.13513115048383906, 0.022521858413973177, 0.47999698557133391, 0.047999698557133388, 0.079999497595222319, 0.047999698557133388, 0.015999899519044462, 0.31999799038088927, 0.89869542767507571, 0.91523542667375879, 0.2155613457583623, 0.23246811797470443, 0.24092150408287552, 0.15216094994707927, 0.12680079162256605, 0.029586851378598747, 0.31738396312962064, 0.1989571112155831, 0.14684929637340657, 0.15632344452652958, 0.11842685191403755, 0.061581962995299527, 0.93265159625484573, 0.21353576467496738, 0.25624291760996087, 0.18684379409059645, 0.090752699986861141, 0.16015182350622553, 0.085414305869986953, 0.12180215992454538, 0.32792889210454523, 0.17333384296954535, 0.14054095375909081, 0.15459504913499988, 0.084324572255454491, 0.25244414005068977, 0.19004221779096872, 0.17585996273194121, 0.17302351172013569, 0.13898609957846966, 0.073747726306943082, 0.96887869911612279, 0.92099831146947742, 0.14839125404257639, 0.089034752425545843, 0.74195627021288202, 0.94226368785684178, 0.9787077209555558, 0.2202149560014359, 0.19743409848404597, 0.30374476689853225, 0.075936191724633062, 0.10631066841448629, 0.091123430069559683, 0.11638761036672672, 0.33623087439276611, 0.23277522073345344, 0.071125761890777447, 0.16811543719638306, 0.077591740244484481, 0.96531118684970763, 0.11615089861236513, 0.36679231140746882, 0.22618859203460578, 0.06724525709136929, 0.1283773089926141, 0.097811283041991687, 0.38760176090841059, 0.17944525967981972, 0.1292005869694702, 0.13637839735666299, 0.08613372464631347, 0.08613372464631347, 0.93895238647246437, 0.94000073195215661, 0.41823485009294065, 0.18205517004045652, 0.073806150016401284, 0.14269189003170915, 0.11808984002624207, 0.06396533001421445, 0.96713584477415016, 0.96556171042748951, 0.90032988569813288, 0.066691102644306138, 0.93484410671214224, 0.056066706703968454, 0.14016676675992112, 0.11213341340793691, 0.07475560893862461, 0.0093444511173280762, 0.59804487150899688, 0.11023475258661096, 0.30708252506270195, 0.30708252506270195, 0.14960430708182915, 0.062991287192349116, 0.062991287192349116, 0.91517411943841276, 0.96459232956753715, 0.93880011887090897, 0.038125796649369305, 0.91501911958486326, 0.16127190833548638, 0.29449652826480122, 0.14724826413240061, 0.13322461992931484, 0.12621279782777195, 0.13322461992931484, 0.63476823011622718, 0.083522135541608838, 0.083522135541608838, 0.1002265626499306, 0.0501132813249653, 0.033408854216643531, 0.052204966414107171, 0.30800930184323233, 0.19315837573219655, 0.16705589252514297, 0.17227638916655366, 0.10963042946962506, 0.13202837831479902, 0.46557375511008076, 0.14592610234793577, 0.05559089613254696, 0.12507951629823066, 0.076437482182252062, 0.26476076420780192, 0.21117822859431817, 0.20802631473470148, 0.14813995140198438, 0.081949760350033915, 0.085101674209650605, 0.58432204802722498, 0.088199554419203768, 0.14332427593120614, 0.07166213796560307, 0.044099777209601884, 0.066149665814402833, 0.070490772236568813, 0.84588926683882582, 0.93512887520418808, 0.62543419163503955, 0.10945098353613192, 0.015635854790875987, 0.046907564372627962, 0.046907564372627962, 0.14072269311788388, 0.46996232833837609, 0.036859790457911851, 0.11057937137373554, 0.1935138999040372, 0.10136442375925758, 0.092149476144779627, 0.059687221334633125, 0.11937444266926625, 0.15916592355902165, 0.61676795379120897, 0.039791480889755412, 0.064805032267231569, 0.097207548400847346, 0.064805032267231569, 0.77766038720677877, 0.94216511292233629, 0.97492505508648875, 0.83614691528378471, 0.12542203729256771, 0.9194113407174529, 0.029658430345724289, 0.029658430345724289, 0.029658430345724289, 0.91633625230694127, 0.073306900184555296, 0.95148172975793877, 0.91916512580408116, 0.90132404071276295, 0.90919259066336766, 0.031351468643564404, 0.015675734321782202, 0.031351468643564404, 0.95190091419715372, 0.76288773495931461, 0.049753547932129216, 0.14926064379638765, 0.033169031954752806, 0.85150152173372218, 0.013733895511834227, 0.054935582047336909, 0.054935582047336909, 0.041201686535502685, 0.0097942049430474742, 0.0097942049430474742, 0.94024367453255753, 0.029382614829142423, 0.80859140056625434, 0.015549834626274121, 0.015549834626274121, 0.15549834626274123, 0.21740065778610951, 0.31970684968545515, 0.11509446588676386, 0.22379479477981862, 0.038364821962254624, 0.083123780918218343, 0.91507485294873436, 0.071863799468808789, 0.86236559362570553, 0.035931899734404395, 0.035931899734404395, 0.96139969107888501, 0.96667040533762338, 0.056141054242627685, 0.89825686788204295, 0.98826935557503282, 0.98603737812055858, 0.95204292699275472, 0.039298848585798928, 0.94317236605917432, 0.29780462789877882, 0.032370068249867261, 0.26543455964891155, 0.22659047774907085, 0.038844081899840718, 0.12948027299946904, 0.97212427806392798, 0.98371594326258294, 0.97876288722679972, 0.8986004760716515, 0.93857423290849629, 0.92239353299918825, 0.96016128835944314, 0.040566599202315201, 0.93303178165324951, 0.97497248984137941, 0.97622398043707992, 0.95316503297195554, 0.96781028935779734, 0.10851550930989043, 0.86812407447912343, 0.83743080332656905, 0.13065758493475532, 0.31976724734032219, 0.18567130490728387, 0.18223294740900084, 0.11690415494162318, 0.065328792467377661, 0.06615207829255805, 0.06615207829255805, 0.79382493951069655, 0.39629918664768066, 0.14410879514461114, 0.18614052706178941, 0.13209972888256022, 0.066049864441280109, 0.07205439757230557, 0.96968751703258782, 0.30628767336256146, 0.21651370013560381, 0.16898630254486152, 0.13730137081769997, 0.095054795181484603, 0.073931507363376905, 0.98108649243497814, 0.42550710141850839, 0.18202248227347304, 0.11346856037826891, 0.11110463203705497, 0.096921061989771351, 0.073281778577632004, 0.40391710406514486, 0.12249944959352754, 0.17216138861793059, 0.11587785772360713, 0.10263467398376631, 0.079459102439044887, 0.053729642418354893, 0.43879207974989831, 0.13432410604588724, 0.18805374846424214, 0.10745928483670979, 0.071639523224473201, 0.037902923451532365, 0.83386431593371213, 0.037902923451532365, 0.07580584690306473, 0.89881361531118997, 0.9642044837215048, 0.40452365848493221, 0.20226182924246611, 0.16433773625950371, 0.10113091462123305, 0.082168868129751854, 0.044244775146789463, 0.95700800172020273, 0.20806845977257163, 0.22929993525956874, 0.19957586957777279, 0.13163514801938206, 0.1401277382141809, 0.089172197045387841, 0.96555091924913661, 0.92339301194896961, 0.16274114502528975, 0.26038583204046362, 0.30107111829678601, 0.097644687015173856, 0.14646703052276078, 0.040685286256322437, 0.06298262844227917, 0.91324811241304793, 0.96513513608961998, 0.043188970333880555, 0.043188970333880555, 0.86377940667761111, 0.043188970333880555, 0.93096410773353988, 0.083173781581260736, 0.36388529441801576, 0.29110823553441262, 0.067578697534774357, 0.14555411776720631, 0.057181974837116761, 0.31066953483702947, 0.19282936645057003, 0.12855291096704669, 0.18211662386998281, 0.12855291096704669, 0.053563712902936121, 0.9531731401472624, 0.98115413384177574, 0.89535737221261003, 0.92757739936240158, 0.028286186030117191, 0.22628948824093753, 0.12728783713552735, 0.028286186030117191, 0.53743753457222665, 0.042429279045175787, 0.9417001929044192, 0.94559527077045835, 0.1692413634868441, 0.24177337640977725, 0.18737436671757737, 0.19946303553806624, 0.12693102261513306, 0.066487678512688747, 0.93251392373330166, 0.94908150752843135, 0.15926216075278973, 0.27207285795268249, 0.17916993084688845, 0.086267003741094445, 0.19907770094098717, 0.11281069719989274, 0.96002823873576415, 0.95985103290164719, 0.95348586328808327, 0.94216869661140323, 0.96556946813071243, 0.46332759113498873, 0.072678837825096265, 0.20895165874715177, 0.12718796619391848, 0.090848547281370332, 0.027254564184411099, 0.037529450169715137, 0.93823625424287849, 0.39308498326803565, 0.25943608895690351, 0.090409546151648201, 0.094340395984328557, 0.094340395984328557, 0.066824447155566069, 0.029309212227096548, 0.26378291004386895, 0.70342109345031711, 0.7804531752952315, 0.080736535375368776, 0.026912178458456257, 0.026912178458456257, 0.026912178458456257, 0.053824356916912515, 0.44275055768472477, 0.18037985683451752, 0.16398168803137955, 0.073791759614120794, 0.081990844015689776, 0.057393590810982845, 0.94980067519407385, 0.96219891507611766, 0.92352211960990838, 0.23755119604476577, 0.059387799011191442, 0.11877559802238288, 0.56418409060631869, 0.91171592163755144, 0.29824546851337058, 0.024853789042780884, 0.024853789042780884, 0.62134472606952207, 0.97483873956584066, 0.59548648703185048, 0.12836834450985998, 0.14976306859483662, 0.035657873474961105, 0.046355235517449432, 0.042789448169953323, 0.97489565606004702, 0.98558354740448506, 0.93205547153357882, 0.94999507973004615, 0.92352758798674772, 0.10602965597540488, 0.084823724780323906, 0.084823724780323906, 0.12723558717048586, 0.021205931195080976, 0.57256014226718632, 0.091351648077813097, 0.045675824038906548, 0.48720878974833648, 0.015225274679635515, 0.36540659231125239, 0.93263183389225024, 0.92943435387866336, 0.90122715503223116, 0.95756451869250503, 0.078548006619624119, 0.10473067549283216, 0.26182668873208037, 0.14400467880264423, 0.01309133443660402, 0.39274003309812061, 0.97444927680467175, 0.91309572374055059, 0.050727540207808362, 0.97387643629520582, 0.89881181293619605, 0.96889891906256276, 0.95759198793454336, 0.95333159584901528, 0.96932725831282729, 0.97422598318776277, 0.83331050342624235, 0.026880983981491691, 0.026880983981491691, 0.053761967962983381, 0.053761967962983381, 0.15869445217559169, 0.24370933726965868, 0.16436211118186284, 0.14735913416304944, 0.19270040621321849, 0.10201786211288037, 0.11614209244967708, 0.31939075423661195, 0.18582734791948333, 0.11614209244967708, 0.16840603405203175, 0.092913673959741663, 0.98083950024560873, 0.10320935258196375, 0.17201558763660624, 0.68806235054642495, 0.034403117527321246, 0.01975078530020663, 0.96778847971012494, 0.90067264814086634, 0.95987898516985681, 0.91529133518460504, 0.047466015138924782, 0.094932030277849563, 0.85438827250064608, 0.97129220876368838, 0.98089020846740294, 0.93108752525580041, 0.96775155500438803, 0.94945144160567196, 0.93156134491992793, 0.090581124861206286, 0.045290562430603143, 0.81523012375085657, 0.92182895453971325, 0.023636639859992647, 0.023636639859992647, 0.040239289297239057, 0.88526436453925927, 0.040239289297239057, 0.89455529170860248, 0.047081857458347504, 0.047081857458347504, 0.97630349948587669, 0.88248165324160577, 0.098053517026845088, 0.96669450586318639, 0.92262707262723842, 0.043934622506058972, 0.13991650907440042, 0.32435190739974645, 0.16535587436065505, 0.17807555700378236, 0.10175746114501849, 0.095397619823454835, 0.063109585806498308, 0.88353420129097637, 0.19815856209906599, 0.79263424839626395, 0.056793001002586663, 0.18931000334195552, 0.73830901303362662, 0.96705050987198871, 0.91175060511397577, 0.93993459307497296, 0.93857501472930704, 0.93220846805014212, 0.21370780623449334, 0.24110624293122326, 0.16439062018037948, 0.14247187082299556, 0.12055312146561163, 0.10959374678691966, 0.12978770164649431, 0.30824579141042396, 0.20549719427361599, 0.11356423894068252, 0.15141898525424335, 0.086525134430996201, 0.046914787759802137, 0.89138096743624062, 0.046914787759802137, 0.95622991548310532, 0.93994496714481968, 0.013822720105070877, 0.027645440210141755, 0.9117389927862809, 0.29543492282315287, 0.180265376637856, 0.20029486293095111, 0.12017691775857066, 0.12518428933184444, 0.080117945172380439, 0.10363098537327689, 0.12435718244793227, 0.14508337952258765, 0.010363098537327689, 0.42488704003043526, 0.19689887220922608, 0.087479900457261353, 0.31492764164614084, 0.17495980091452271, 0.096227890502987481, 0.14871583077734429, 0.16621181086879658, 0.93510963540282421, 0.95909302703466071, 0.90003942960665384, 0.95684460061139009, 0.94523830408889087, 0.078225721088414218, 0.86048293197255643, 0.052150480725609481, 0.23207285430507557, 0.21710041209184489, 0.1497244221323068, 0.29196262315799826, 0.0374311055330767, 0.0748622110661534, 0.9387123000351375, 0.3372282223520266, 0.19836954256001563, 0.18845106543201484, 0.084307055588006649, 0.13885867979201094, 0.0545516242040043, 0.37864191552368559, 0.2163668088706775, 0.11494486721254742, 0.11494486721254742, 0.11494486721254742, 0.054091702217669374, 0.95150466559250935, 0.035180022349054034, 0.070360044698108068, 0.33421021231601333, 0.11433507263442561, 0.4133652626013849, 0.035180022349054034, 0.91154906550888193, 0.97029159945137966, 0.95308960901836015, 0.16135074041996739, 0.28428463788279967, 0.21513432055995652, 0.11525052887140527, 0.084517054505697201, 0.14598400323711336, 0.41699724527158327, 0.14747463552287701, 0.13221863874464834, 0.15255996778228656, 0.081365316150552827, 0.071194651631733732, 0.48995250085284264, 0.18373218781981598, 0.077360921187290946, 0.10959463834866216, 0.083807664619565181, 0.058020690890468206, 0.78293750192187128, 0.018641369093377887, 0.018641369093377887, 0.037282738186755773, 0.09320684546688944, 0.05592410728013366, 0.46759209586222517, 0.074814735337956031, 0.13092578684142303, 0.13092578684142303, 0.10287026108968954, 0.084166577255200534, 0.96054087212964412, 0.94558552953750363, 0.18515858392153545, 0.24687811189538061, 0.17281467832676642, 0.16870004312851009, 0.131668326344203, 0.098751244758152237, 0.92782693704837782, 0.13044387218138209, 0.29966835501128319, 0.17627550294781363, 0.18332652306572617, 0.11281632188660072, 0.098714281650775629], \"Term\": [\"1990:\", \"1991:\", \"1992:\", \"7-2521\", \"ab\", \"abel\", \"abel\", \"abigail\", \"adela\", \"aeneas\", \"alceste\", \"algernon\", \"alice\", \"alice\", \"alice\", \"alice's\", \"also\", \"also\", \"also\", \"also\", \"also\", \"also\", \"although\", \"although\", \"although\", \"although\", \"although\", \"although\", \"alyosha\", \"amanda\", \"another\", \"another\", \"another\", \"another\", \"another\", \"another\", \"antigonus\", \"aziz\", \"back\", \"back\", \"back\", \"back\", \"back\", \"back\", \"bassanio\", \"becomes\", \"becomes\", \"becomes\", \"becomes\", \"becomes\", \"becomes\", \"began\", \"began\", \"began\", \"began\", \"began\", \"began\", \"begins\", \"begins\", \"begins\", \"begins\", \"begins\", \"begins\", \"believed\", \"believed\", \"believed\", \"believed\", \"believed\", \"believed\", \"bennet\", \"beowulf\", \"biff\", \"bilbo\", \"black\", \"black\", \"black\", \"black\", \"black\", \"black\", \"blanche\", \"blomkvist\", \"bloom\", \"bloom\", \"boss\", \"boss\", \"boss\", \"boss\", \"boy\", \"boy\", \"boy\", \"boy\", \"boy\", \"boy\", \"brady\", \"brett\", \"buck\", \"buck\", \"buck\", \"buck\", \"c\", \"camillo\", \"camus\", \"candide\", \"canty\", \"carrie\", \"cassio\", \"celie\", \"chapter\", \"chapter\", \"chapter\", \"chapter\", \"chapter\", \"chapter\", \"chia\", \"christian\", \"christian\", \"christian\", \"christian\", \"christian\", \"christian\", \"christians\", \"christine\", \"cintr\", \"claire\", \"clark\", \"clym\", \"cohn\", \"compson\", \"concerning\", \"concerning\", \"concerning\", \"concerning\", \"concerning\", \"concerning\", \"could\", \"could\", \"could\", \"could\", \"could\", \"could\", \"coyotito\", \"crusoe\", \"cun\", \"cyrano\", \"d'artagnan\", \"dagny\", \"daisy\", \"daisy\", \"danny\", \"dante\", \"dante\", \"darcy\", \"darcy\", \"de\", \"de\", \"de\", \"de\", \"de\", \"de\", \"death\", \"death\", \"death\", \"death\", \"death\", \"death\", \"deerslayer\", \"desdemona\", \"different\", \"different\", \"different\", \"different\", \"different\", \"different\", \"dinah\", \"dominique\", \"dorian\", \"dorian\", \"douglass\", \"douglass\", \"dr.\", \"dr.\", \"dr.\", \"dr.\", \"dr.\", \"dr.\", \"dwarves\", \"early\", \"early\", \"early\", \"early\", \"early\", \"early\", \"edition\", \"edition\", \"edition\", \"edition\", \"edward\", \"edward\", \"edward\", \"edward\", \"edward\", \"edward\", \"elinor\", \"elizabeth\", \"elizabeth\", \"elizabeth\", \"elizabeth\", \"elizabeth\", \"elk's\", \"emerson\", \"emerson\", \"emma\", \"english\", \"english\", \"english\", \"english\", \"english\", \"english\", \"ernest\", \"ernest\", \"ernest\", \"ernest\", \"esther\", \"esther\", \"esther\", \"ethan\", \"eustacia\", \"even\", \"even\", \"even\", \"even\", \"even\", \"even\", \"events\", \"events\", \"events\", \"events\", \"events\", \"events\", \"example,\", \"example,\", \"example,\", \"example,\", \"example,\", \"example,\", \"fainall\", \"falstaff\", \"family\", \"family\", \"family\", \"family\", \"family\", \"family\", \"father\", \"father\", \"father\", \"father\", \"father\", \"father\", \"faustus\", \"find\", \"find\", \"find\", \"find\", \"find\", \"find\", \"finds\", \"finds\", \"finds\", \"finds\", \"finds\", \"finds\", \"first\", \"first\", \"first\", \"first\", \"first\", \"first\", \"florizel\", \"francie\", \"gabriel\", \"gabriel\", \"gabriel\", \"gandalf\", \"gene\", \"gives\", \"gives\", \"gives\", \"gives\", \"gives\", \"gives\", \"go\", \"go\", \"go\", \"go\", \"go\", \"go\", \"godfrey\", \"goes\", \"goes\", \"goes\", \"goes\", \"goes\", \"goes\", \"good\", \"good\", \"good\", \"good\", \"good\", \"good\", \"gospels\", \"grady\", \"great\", \"great\", \"great\", \"great\", \"great\", \"great\", \"gulliver\", \"hal\", \"hebrew\", \"hebrew\", \"hendon\", \"henry\", \"henry\", \"henry\", \"henry\", \"henry\", \"henry\", \"her.\", \"her.\", \"her.\", \"her.\", \"her.\", \"her.\", \"hermia\", \"hermione\", \"hesse\", \"heyst\", \"heyst\", \"him,\", \"him,\", \"him,\", \"him,\", \"him,\", \"him,\", \"history\", \"history\", \"history\", \"history\", \"history\", \"history\", \"home\", \"home\", \"home\", \"home\", \"home\", \"home\", \"house\", \"house\", \"house\", \"house\", \"house\", \"house\", \"however,\", \"however,\", \"however,\", \"however,\", \"however,\", \"however,\", \"human\", \"human\", \"human\", \"human\", \"human\", \"human\", \"hyde\", \"hyde\", \"iago\", \"ideas\", \"ideas\", \"ideas\", \"ideas\", \"ideas\", \"ideas\", \"important\", \"important\", \"important\", \"important\", \"important\", \"important\", \"indian\", \"indian\", \"indian\", \"indian\", \"indian\", \"indians\", \"indians\", \"indians\", \"indians\", \"injun\", \"isabel\", \"ishmael\", \"ishmael\", \"jack\", \"jack\", \"jack\", \"jack\", \"jake\", \"jake\", \"jamie\", \"jekyll\", \"jekyll's\", \"jesus\", \"jesus\", \"jesus\", \"jesus\", \"jesus'\", \"jewish\", \"jewish\", \"jewish\", \"jewish\", \"jews\", \"jews\", \"jews\", \"jews\", \"jews\", \"jim\", \"jim\", \"jim\", \"jim\", \"joe\", \"joe\", \"joe\", \"joe\", \"john\", \"john\", \"john\", \"john\", \"john\", \"john\", \"jonas\", \"juan\", \"juan\", \"juan\", \"juan\", \"juana\", \"julien\", \"jungle\", \"jungle\", \"kafka\", \"kafka's\", \"keating\", \"keats\", \"keats\", \"king\", \"king\", \"king\", \"king\", \"king\", \"king\", \"kino\", \"landon\", \"latour\", \"laura\", \"lear\", \"leggatt\", \"leontes\", \"lewis\", \"lewis\", \"liesel\", \"lily\", \"lily's\", \"lim\", \"linda\", \"linda\", \"locke\", \"love\", \"love\", \"love\", \"love\", \"love\", \"love\", \"lucy's\", \"lucy's\", \"lucy's\", \"made\", \"made\", \"made\", \"made\", \"made\", \"made\", \"maggie\", \"make\", \"make\", \"make\", \"make\", \"make\", \"make\", \"malcolm\", \"man\", \"man\", \"man\", \"man\", \"man\", \"man\", \"many\", \"many\", \"many\", \"many\", \"many\", \"many\", \"marry\", \"marry\", \"marry\", \"marry\", \"marry\", \"marry\", \"martin\", \"martin\", \"martin\", \"martin\", \"martinez\", \"mathilde\", \"may\", \"may\", \"may\", \"may\", \"may\", \"may\", \"mcmurphy\", \"men\", \"men\", \"men\", \"men\", \"men\", \"men\", \"milady\", \"mitch\", \"money\", \"money\", \"money\", \"money\", \"money\", \"money\", \"montag\", \"montag\", \"moore\", \"morgan\", \"morgan\", \"morgan\", \"morgan\", \"mosca\", \"mrs.\", \"mrs.\", \"mrs.\", \"mrs.\", \"mrs.\", \"mrs.\", \"much\", \"much\", \"much\", \"much\", \"much\", \"much\", \"musketeers\", \"myshkin\", \"nal\", \"nana\", \"narrator\", \"narrator\", \"narrator\", \"narrator\", \"narrator\", \"narrator\", \"nastasya\", \"nazis\", \"never\", \"never\", \"never\", \"never\", \"never\", \"never\", \"newland\", \"newman\", \"next\", \"next\", \"next\", \"next\", \"next\", \"next\", \"ntonia\", \"o-lan\", \"oberon\", \"oedipus\", \"offred\", \"often\", \"often\", \"often\", \"often\", \"often\", \"often\", \"okonkwo\", \"okonkwo\", \"old\", \"old\", \"old\", \"old\", \"old\", \"old\", \"oliver\", \"oliver\", \"oliver\", \"one's\", \"one's\", \"one's\", \"one's\", \"one's\", \"one's\", \"order\", \"order\", \"order\", \"order\", \"order\", \"order\", \"orlando\", \"othello\", \"ox-bow\", \"paul\", \"paul\", \"paul\", \"paul\", \"paulina\", \"pearl\", \"pearl\", \"pearl\", \"pearl\", \"pecola\", \"people\", \"people\", \"people\", \"people\", \"people\", \"people\", \"petruchio\", \"pickwick\", \"pierre\", \"poe\", \"poe's\", \"poem\", \"poem\", \"poem\", \"poem\", \"poem\", \"poem\", \"poet\", \"poet\", \"poet\", \"poet\", \"poet\", \"polixenes\", \"pony\", \"portia\", \"prague\", \"prince\", \"prince\", \"prince\", \"prince\", \"prince\", \"prince\", \"proctor\", \"prophets\", \"prophets\", \"prospero\", \"puck\", \"quixote\", \"r\", \"raina\", \"rearden\", \"reb\", \"regarded\", \"regarded\", \"regarded\", \"regarded\", \"regarded\", \"return\", \"return\", \"return\", \"return\", \"return\", \"return\", \"returns\", \"returns\", \"returns\", \"returns\", \"returns\", \"returns\", \"reuven\", \"ring\", \"ring\", \"ring\", \"ring\", \"roark\", \"roark\", \"roark's\", \"rogozhin\", \"roxane\", \"santa\", \"santa\", \"santa\", \"sartoris\", \"satan\", \"saunders\", \"sergius\", \"sethe\", \"sethe's\", \"shakespeare's\", \"shakespeare's\", \"shakespeare's\", \"shaw\", \"shaw\", \"shaw\", \"shelley\", \"shelley\", \"shelley\", \"shelley's\", \"shelley's\", \"shelley's\", \"shylock\", \"silas\", \"silas\", \"snopes\", \"sonnets\", \"sonnets\", \"soon\", \"soon\", \"soon\", \"soon\", \"soon\", \"soon\", \"stanley\", \"stanley\", \"stella\", \"stella\", \"stephen\", \"stephen\", \"stephen\", \"steppenwolf\", \"strether\", \"sue\", \"sula\", \"taggart\", \"take\", \"take\", \"take\", \"take\", \"take\", \"take\", \"takes\", \"takes\", \"takes\", \"takes\", \"takes\", \"takes\", \"taylor\", \"taylor\", \"taylor\", \"tess\", \"testament\", \"testament\", \"testament\", \"theobald\", \"three\", \"three\", \"three\", \"three\", \"three\", \"three\", \"tom\", \"tom\", \"tom\", \"tom\", \"tom\", \"tom\", \"tries\", \"tries\", \"tries\", \"tries\", \"tries\", \"tries\", \"utterson\", \"vaillant\", \"valentin\", \"volpone\", \"walden\", \"wang\", \"wang\", \"wang\", \"war\", \"war\", \"war\", \"war\", \"war\", \"war\", \"wart\", \"way\", \"way\", \"way\", \"way\", \"way\", \"way\", \"well\", \"well\", \"well\", \"well\", \"well\", \"well\", \"wen\", \"white\", \"white\", \"white\", \"white\", \"white\", \"white\", \"whitman\", \"willy\", \"winterborne\", \"woman\", \"woman\", \"woman\", \"woman\", \"woman\", \"woman\", \"world\", \"world\", \"world\", \"world\", \"world\", \"world\", \"would\", \"would\", \"would\", \"would\", \"would\", \"would\", \"writings\", \"writings\", \"writings\", \"writings\", \"writings\", \"writings\", \"written\", \"written\", \"written\", \"written\", \"written\", \"written\", \"wynand\", \"yahweh\", \"years\", \"years\", \"years\", \"years\", \"years\", \"years\", \"yossarian\", \"young\", \"young\", \"young\", \"young\", \"young\", \"young\"]}, \"mdsDat\": {\"y\": [-0.055267930047414961, 0.0053359489110402043, -0.0056275776814354332, -0.021526227364366324, -0.049512332374571422, 0.12659811855674796], \"cluster\": [1, 1, 1, 1, 1, 1], \"Freq\": [25.614997276541672, 20.14873017763318, 17.051598042272129, 14.11750002079647, 13.484668463403086, 9.5825060193534526], \"topics\": [1, 2, 3, 4, 5, 6], \"x\": [-0.082298170196572623, 0.056501750464227979, 0.0086446330214791575, -0.070731132509753145, 0.099083718188957379, -0.011200798968338805]}, \"R\": 30, \"lambda.step\": 0.01, \"tinfo\": {\"Category\": [\"Default\", \"Default\", \"Default\", \"Default\", \"Default\", \"Default\", \"Default\", \"Default\", \"Default\", \"Default\", \"Default\", \"Default\", \"Default\", \"Default\", \"Default\", \"Default\", \"Default\", \"Default\", \"Default\", \"Default\", \"Default\", \"Default\", \"Default\", \"Default\", \"Default\", \"Default\", \"Default\", \"Default\", \"Default\", \"Default\", \"Topic1\", \"Topic1\", \"Topic1\", \"Topic1\", \"Topic1\", \"Topic1\", \"Topic1\", \"Topic1\", \"Topic1\", \"Topic1\", \"Topic1\", \"Topic1\", \"Topic1\", \"Topic1\", \"Topic1\", \"Topic1\", \"Topic1\", \"Topic1\", \"Topic1\", \"Topic1\", \"Topic1\", \"Topic1\", \"Topic1\", \"Topic1\", \"Topic1\", \"Topic1\", \"Topic1\", \"Topic1\", \"Topic1\", \"Topic1\", \"Topic1\", \"Topic1\", \"Topic1\", \"Topic1\", \"Topic1\", \"Topic1\", \"Topic1\", \"Topic1\", \"Topic1\", \"Topic1\", \"Topic1\", \"Topic1\", \"Topic1\", \"Topic1\", \"Topic1\", \"Topic1\", \"Topic1\", \"Topic1\", \"Topic1\", \"Topic1\", \"Topic1\", \"Topic1\", \"Topic1\", \"Topic1\", \"Topic1\", \"Topic1\", \"Topic1\", \"Topic1\", \"Topic1\", \"Topic1\", \"Topic1\", \"Topic1\", \"Topic1\", \"Topic1\", \"Topic1\", \"Topic1\", \"Topic1\", \"Topic1\", \"Topic1\", \"Topic1\", \"Topic1\", \"Topic1\", \"Topic1\", \"Topic1\", \"Topic1\", \"Topic1\", \"Topic1\", \"Topic2\", \"Topic2\", \"Topic2\", \"Topic2\", \"Topic2\", \"Topic2\", \"Topic2\", \"Topic2\", \"Topic2\", \"Topic2\", \"Topic2\", \"Topic2\", \"Topic2\", \"Topic2\", \"Topic2\", \"Topic2\", \"Topic2\", \"Topic2\", \"Topic2\", \"Topic2\", \"Topic2\", \"Topic2\", \"Topic2\", \"Topic2\", \"Topic2\", \"Topic2\", \"Topic2\", \"Topic2\", \"Topic2\", \"Topic2\", \"Topic2\", \"Topic2\", \"Topic2\", \"Topic2\", \"Topic2\", \"Topic2\", \"Topic2\", \"Topic2\", \"Topic2\", \"Topic2\", \"Topic2\", \"Topic2\", \"Topic2\", \"Topic2\", \"Topic2\", \"Topic2\", \"Topic2\", \"Topic2\", \"Topic2\", \"Topic2\", \"Topic2\", \"Topic2\", \"Topic2\", \"Topic2\", \"Topic2\", \"Topic2\", \"Topic2\", \"Topic2\", \"Topic2\", \"Topic2\", \"Topic2\", \"Topic2\", \"Topic2\", \"Topic2\", \"Topic2\", \"Topic2\", \"Topic3\", \"Topic3\", \"Topic3\", \"Topic3\", \"Topic3\", \"Topic3\", \"Topic3\", \"Topic3\", \"Topic3\", \"Topic3\", \"Topic3\", \"Topic3\", \"Topic3\", \"Topic3\", \"Topic3\", \"Topic3\", \"Topic3\", \"Topic3\", \"Topic3\", \"Topic3\", \"Topic3\", \"Topic3\", \"Topic3\", \"Topic3\", \"Topic3\", \"Topic3\", \"Topic3\", \"Topic3\", \"Topic3\", \"Topic3\", \"Topic3\", \"Topic3\", \"Topic3\", \"Topic3\", \"Topic3\", \"Topic3\", \"Topic3\", \"Topic3\", \"Topic3\", \"Topic3\", \"Topic3\", \"Topic3\", \"Topic3\", \"Topic3\", \"Topic3\", \"Topic3\", \"Topic3\", \"Topic3\", \"Topic3\", \"Topic3\", \"Topic3\", \"Topic3\", \"Topic3\", \"Topic3\", \"Topic3\", \"Topic3\", \"Topic3\", \"Topic3\", \"Topic3\", \"Topic3\", \"Topic3\", \"Topic3\", \"Topic3\", \"Topic3\", \"Topic3\", \"Topic3\", \"Topic3\", \"Topic3\", \"Topic3\", \"Topic3\", \"Topic4\", \"Topic4\", \"Topic4\", \"Topic4\", \"Topic4\", \"Topic4\", \"Topic4\", \"Topic4\", \"Topic4\", \"Topic4\", \"Topic4\", \"Topic4\", \"Topic4\", \"Topic4\", \"Topic4\", \"Topic4\", \"Topic4\", \"Topic4\", \"Topic4\", \"Topic4\", \"Topic4\", \"Topic4\", \"Topic4\", \"Topic4\", \"Topic4\", \"Topic4\", \"Topic4\", \"Topic4\", \"Topic4\", \"Topic4\", \"Topic4\", \"Topic4\", \"Topic4\", \"Topic4\", \"Topic4\", \"Topic4\", \"Topic4\", \"Topic4\", \"Topic4\", \"Topic4\", \"Topic4\", \"Topic4\", \"Topic4\", \"Topic4\", \"Topic4\", \"Topic4\", \"Topic4\", \"Topic4\", \"Topic4\", \"Topic4\", \"Topic4\", \"Topic4\", \"Topic4\", \"Topic4\", \"Topic4\", \"Topic4\", \"Topic4\", \"Topic4\", \"Topic4\", \"Topic4\", \"Topic4\", \"Topic5\", \"Topic5\", \"Topic5\", \"Topic5\", \"Topic5\", \"Topic5\", \"Topic5\", \"Topic5\", \"Topic5\", \"Topic5\", \"Topic5\", \"Topic5\", \"Topic5\", \"Topic5\", \"Topic5\", \"Topic5\", \"Topic5\", \"Topic5\", \"Topic5\", \"Topic5\", \"Topic5\", \"Topic5\", \"Topic5\", \"Topic5\", \"Topic5\", \"Topic5\", \"Topic5\", \"Topic5\", \"Topic5\", \"Topic5\", \"Topic5\", \"Topic5\", \"Topic5\", \"Topic5\", \"Topic5\", \"Topic5\", \"Topic5\", \"Topic5\", \"Topic5\", \"Topic5\", \"Topic5\", \"Topic5\", \"Topic5\", \"Topic5\", \"Topic5\", \"Topic5\", \"Topic5\", \"Topic5\", \"Topic5\", \"Topic5\", \"Topic5\", \"Topic5\", \"Topic5\", \"Topic5\", \"Topic5\", \"Topic5\", \"Topic5\", \"Topic5\", \"Topic5\", \"Topic5\", \"Topic5\", \"Topic5\", \"Topic5\", \"Topic5\", \"Topic6\", \"Topic6\", \"Topic6\", \"Topic6\", \"Topic6\", \"Topic6\", \"Topic6\", \"Topic6\", \"Topic6\", \"Topic6\", \"Topic6\", \"Topic6\", \"Topic6\", \"Topic6\", \"Topic6\", \"Topic6\", \"Topic6\", \"Topic6\", \"Topic6\", \"Topic6\", \"Topic6\", \"Topic6\", \"Topic6\", \"Topic6\", \"Topic6\", \"Topic6\", \"Topic6\", \"Topic6\", \"Topic6\", \"Topic6\", \"Topic6\", \"Topic6\", \"Topic6\", \"Topic6\", \"Topic6\", \"Topic6\", \"Topic6\", \"Topic6\", \"Topic6\", \"Topic6\", \"Topic6\", \"Topic6\", \"Topic6\", \"Topic6\", \"Topic6\", \"Topic6\", \"Topic6\", \"Topic6\", \"Topic6\", \"Topic6\", \"Topic6\", \"Topic6\", \"Topic6\", \"Topic6\", \"Topic6\", \"Topic6\", \"Topic6\", \"Topic6\", \"Topic6\", \"Topic6\", \"Topic6\"], \"Term\": [\"jim\", \"henry\", \"kafka\", \"roark\", \"lily\", \"latour\", \"willy\", \"kino\", \"black\", \"julien\", \"testament\", \"poet\", \"myshkin\", \"malcolm\", \"rearden\", \"elizabeth\", \"montag\", \"white\", \"dagny\", \"dr.\", \"newman\", \"vaillant\", \"leontes\", \"joe\", \"prince\", \"tom\", \"kafka's\", \"alice\", \"d'artagnan\", \"biff\", \"danny\", \"chia\", \"landon\", \"reuven\", \"sartoris\", \"reb\", \"satan\", \"beowulf\", \"proctor\", \"volpone\", \"mcmurphy\", \"wen\", \"jamie\", \"snopes\", \"compson\", \"jesus'\", \"yahweh\", \"nazis\", \"hesse\", \"wart\", \"abigail\", \"mosca\", \"saunders\", \"gospels\", \"testament\", \"leggatt\", \"ab\", \"algernon\", \"alyosha\", \"christians\", \"shaw\", \"jesus\", \"jack\", \"prophets\", \"hebrew\", \"jews\", \"buck\", \"jewish\", \"people\", \"writings\", \"concerning\", \"regarded\", \"human\", \"would\", \"believed\", \"man\", \"one's\", \"boy\", \"could\", \"many\", \"old\", \"even\", \"great\", \"world\", \"ideas\", \"also\", \"different\", \"history\", \"may\", \"made\", \"events\", \"often\", \"first\", \"however,\", \"way\", \"order\", \"father\", \"important\", \"written\", \"well\", \"another\", \"early\", \"much\", \"three\", \"good\", \"make\", \"family\", \"rearden\", \"emma\", \"dagny\", \"gulliver\", \"steppenwolf\", \"gene\", \"maggie\", \"poe\", \"ethan\", \"eustacia\", \"raina\", \"sue\", \"blomkvist\", \"carrie\", \"grady\", \"pierre\", \"clym\", \"taggart\", \"isabel\", \"alceste\", \"petruchio\", \"brett\", \"poe's\", \"pecola\", \"sergius\", \"lim\", \"c\", \"newland\", \"christine\", \"o-lan\", \"lewis\", \"cohn\", \"juan\", \"jake\", \"dorian\", \"joe\", \"wang\", \"abel\", \"martin\", \"house\", \"christian\", \"love\", \"mrs.\", \"marry\", \"young\", \"finds\", \"goes\", \"home\", \"returns\", \"takes\", \"old\", \"go\", \"soon\", \"man\", \"years\", \"however,\", \"john\", \"first\", \"back\", \"family\", \"men\", \"would\", \"begins\", \"also\", \"find\", \"becomes\", \"lily\", \"d'artagnan\", \"pickwick\", \"cyrano\", \"aziz\", \"okonkwo\", \"elinor\", \"crusoe\", \"francie\", \"nana\", \"adela\", \"falstaff\", \"jonas\", \"yossarian\", \"roxane\", \"shylock\", \"bassanio\", \"portia\", \"offred\", \"milady\", \"hal\", \"dinah\", \"winterborne\", \"godfrey\", \"musketeers\", \"lily's\", \"moore\", \"alice's\", \"sula\", \"alice\", \"bloom\", \"boss\", \"shelley\", \"jungle\", \"daisy\", \"shelley's\", \"taylor\", \"silas\", \"stephen\", \"morgan\", \"ishmael\", \"english\", \"mrs.\", \"also\", \"family\", \"however,\", \"white\", \"begins\", \"gives\", \"her.\", \"first\", \"king\", \"love\", \"money\", \"many\", \"men\", \"young\", \"chapter\", \"three\", \"becomes\", \"even\", \"years\", \"goes\", \"man\", \"back\", \"people\", \"takes\", \"way\", \"home\", \"finds\", \"kafka\", \"julien\", \"myshkin\", \"malcolm\", \"kafka's\", \"leontes\", \"candide\", \"tess\", \"r\", \"prague\", \"hermione\", \"nastasya\", \"camillo\", \"faustus\", \"aeneas\", \"polixenes\", \"rogozhin\", \"florizel\", \"quixote\", \"orlando\", \"cun\", \"lear\", \"antigonus\", \"theobald\", \"whitman\", \"strether\", \"paulina\", \"nal\", \"mathilde\", \"keats\", \"sonnets\", \"douglass\", \"emerson\", \"edition\", \"ernest\", \"gabriel\", \"shakespeare's\", \"began\", \"poet\", \"war\", \"first\", \"young\", \"love\", \"also\", \"however,\", \"years\", \"king\", \"although\", \"man\", \"john\", \"never\", \"family\", \"much\", \"de\", \"many\", \"father\", \"home\", \"would\", \"men\", \"finds\", \"world\", \"latour\", \"willy\", \"kino\", \"vaillant\", \"biff\", \"1992:\", \"bilbo\", \"ntonia\", \"liesel\", \"juana\", \"deerslayer\", \"camus\", \"walden\", \"oberon\", \"gandalf\", \"jim\", \"1990:\", \"oedipus\", \"amanda\", \"coyotito\", \"pony\", \"injun\", \"hermia\", \"elk's\", \"fainall\", \"puck\", \"1991:\", \"martinez\", \"dwarves\", \"laura\", \"heyst\", \"dante\", \"brady\", \"esther\", \"santa\", \"linda\", \"indians\", \"black\", \"indian\", \"narrator\", \"oliver\", \"pearl\", \"white\", \"tom\", \"ring\", \"also\", \"back\", \"first\", \"return\", \"man\", \"home\", \"finds\", \"men\", \"love\", \"becomes\", \"years\", \"next\", \"find\", \"young\", \"many\", \"returns\", \"family\", \"takes\", \"way\", \"roark\", \"newman\", \"blanche\", \"prospero\", \"othello\", \"sethe\", \"iago\", \"keating\", \"cintr\", \"utterson\", \"hendon\", \"jekyll\", \"jekyll's\", \"dominique\", \"claire\", \"celie\", \"canty\", \"roark's\", \"ox-bow\", \"clark\", \"wynand\", \"mitch\", \"valentin\", \"desdemona\", \"darcy\", \"montag\", \"7-2521\", \"bennet\", \"cassio\", \"sethe's\", \"stanley\", \"hyde\", \"locke\", \"lucy's\", \"henry\", \"stella\", \"edward\", \"poem\", \"elizabeth\", \"dr.\", \"prince\", \"paul\", \"poet\", \"example,\", \"young\", \"man\", \"however,\", \"de\", \"first\", \"years\", \"many\", \"becomes\", \"tom\", \"tries\", \"king\", \"death\", \"home\", \"take\", \"men\", \"him,\", \"woman\"], \"loglift\": [30.0, 29.0, 28.0, 27.0, 26.0, 25.0, 24.0, 23.0, 22.0, 21.0, 20.0, 19.0, 18.0, 17.0, 16.0, 15.0, 14.0, 13.0, 12.0, 11.0, 10.0, 9.0, 8.0, 7.0, 6.0, 5.0, 4.0, 3.0, 2.0, 1.0, 1.3317000000000001, 1.3313999999999999, 1.3280000000000001, 1.3274999999999999, 1.3249, 1.3247, 1.3246, 1.3240000000000001, 1.3209, 1.319, 1.3167, 1.3157000000000001, 1.3153999999999999, 1.3141, 1.3122, 1.3115000000000001, 1.3115000000000001, 1.3099000000000001, 1.3098000000000001, 1.3097000000000001, 1.3097000000000001, 1.3089, 1.3080000000000001, 1.3070999999999999, 1.306, 1.3048999999999999, 1.2991999999999999, 1.2985, 1.2975000000000001, 1.2962, 1.292, 1.2662, 1.2684, 1.2867999999999999, 1.2677, 1.1981999999999999, 1.2028000000000001, 1.1001000000000001, 0.84360000000000002, 1.1081000000000001, 1.0911, 1.165, 0.82899999999999996, 0.64639999999999997, 1.0378000000000001, 0.50800000000000001, 1.1259999999999999, 0.80779999999999996, 0.67679999999999996, 0.45789999999999997, 0.4284, 0.4299, 0.49530000000000002, 0.48530000000000001, 0.89729999999999999, 0.099500000000000005, 0.79459999999999997, 0.91849999999999998, 0.46010000000000001, 0.42920000000000003, 0.71819999999999995, 0.59930000000000005, -0.017899999999999999, 0.034299999999999997, 0.2732, 0.54120000000000001, 0.2157, 0.60340000000000005, 0.60819999999999996, 0.39889999999999998, 0.20999999999999999, 0.57630000000000003, 0.20069999999999999, 0.1454, 0.41360000000000002, 0.1734, -0.16930000000000001, 1.5775999999999999, 1.5775999999999999, 1.5760000000000001, 1.5728, 1.5722, 1.5684, 1.5676000000000001, 1.5657000000000001, 1.5654999999999999, 1.5650999999999999, 1.5608, 1.5569, 1.5547, 1.5545, 1.5544, 1.5537000000000001, 1.5527, 1.5525, 1.5516000000000001, 1.5515000000000001, 1.5511999999999999, 1.5502, 1.5497000000000001, 1.5486, 1.5484, 1.5481, 1.5475000000000001, 1.5461, 1.5457000000000001, 1.5449999999999999, 1.5410999999999999, 1.5447, 1.4454, 1.4946999999999999, 1.4908999999999999, 1.3808, 1.4399, 1.3691, 1.413, 0.83889999999999998, 0.87350000000000005, 0.46650000000000003, 0.59050000000000002, 0.78680000000000005, 0.39350000000000002, 0.49370000000000003, 0.59640000000000004, 0.41770000000000002, 0.46200000000000002, 0.42509999999999998, 0.25109999999999999, 0.50329999999999997, 0.47349999999999998, -0.1037, 0.20899999999999999, 0.050999999999999997, 0.45390000000000003, -0.058700000000000002, 0.23599999999999999, 0.14280000000000001, 0.13569999999999999, -0.098799999999999999, 0.20730000000000001, -0.29780000000000001, 0.23760000000000001, 0.1777, 1.7513000000000001, 1.7430000000000001, 1.7377, 1.7244999999999999, 1.7226999999999999, 1.7210000000000001, 1.7145999999999999, 1.7144999999999999, 1.714, 1.7139, 1.7128000000000001, 1.7103999999999999, 1.7101, 1.7083999999999999, 1.7083999999999999, 1.7060999999999999, 1.7053, 1.7053, 1.7022999999999999, 1.7021999999999999, 1.7018, 1.7003999999999999, 1.6981999999999999, 1.6975, 1.6972, 1.6970000000000001, 1.6956, 1.6935, 1.6909000000000001, 1.6897, 1.6894, 1.6588000000000001, 1.6537999999999999, 1.6617999999999999, 1.639, 1.6365000000000001, 1.6347, 1.6265000000000001, 1.4661, 1.5995999999999999, 1.5838000000000001, 0.93089999999999995, 0.5323, 0.12139999999999999, 0.35420000000000001, 0.19350000000000001, 0.66810000000000003, 0.3715, 0.58360000000000001, 0.59350000000000003, 0.022800000000000001, 0.44529999999999997, 0.080199999999999994, 0.5645, 0.0064000000000000003, 0.14979999999999999, 0.025700000000000001, 0.82220000000000004, 0.16800000000000001, 0.1721, 0.012500000000000001, 0.0097999999999999997, 0.28549999999999998, -0.4032, 0.1026, -0.1202, 0.17979999999999999, 0.091600000000000001, 0.1235, 0.0047999999999999996, 1.9396, 1.9339999999999999, 1.9326000000000001, 1.9318, 1.9286000000000001, 1.9274, 1.9252, 1.9241999999999999, 1.9182999999999999, 1.917, 1.9152, 1.9145000000000001, 1.9141999999999999, 1.9137, 1.9137, 1.9108000000000001, 1.9072, 1.9059999999999999, 1.9057999999999999, 1.9034, 1.8995, 1.8993, 1.8968, 1.8942000000000001, 1.8937999999999999, 1.8932, 1.8922000000000001, 1.8906000000000001, 1.8853, 1.8851, 1.8753, 1.8757999999999999, 1.8718999999999999, 1.8026, 1.7027000000000001, 1.6759999999999999, 1.7656000000000001, 1.1913, 1.2253000000000001, 0.73329999999999995, 0.19739999999999999, 0.26500000000000001, 0.2492, 0.0688, 0.051799999999999999, 0.16839999999999999, 0.48010000000000003, 0.45879999999999999, -0.24959999999999999, 0.45240000000000002, 0.35880000000000001, 0.078700000000000006, 0.25729999999999997, 0.75849999999999995, -0.1893, 0.095399999999999999, 0.17130000000000001, -0.26019999999999999, -0.060999999999999999, -0.0020999999999999999, 0.068699999999999997, 1.9839, 1.9832000000000001, 1.982, 1.9741, 1.9736, 1.9715, 1.9679, 1.9674, 1.9655, 1.9635, 1.9584999999999999, 1.9582999999999999, 1.9582999999999999, 1.9494, 1.9466000000000001, 1.9457, 1.9454, 1.9449000000000001, 1.9449000000000001, 1.9429000000000001, 1.9426000000000001, 1.9396, 1.9391, 1.9359999999999999, 1.9358, 1.9348000000000001, 1.9347000000000001, 1.9347000000000001, 1.9346000000000001, 1.9297, 1.9171, 1.9138999999999999, 1.9248000000000001, 1.7149000000000001, 1.8190999999999999, 1.8481000000000001, 1.7334000000000001, 1.3348, 1.5338000000000001, 1.3884000000000001, 1.6338999999999999, 1.5412999999999999, 1.1177999999999999, 1.1456, 1.6345000000000001, 0.26840000000000003, 0.38879999999999998, 0.0224, 0.34360000000000002, -0.3387, 0.24629999999999999, 0.13950000000000001, 0.044900000000000002, -0.14080000000000001, 0.18049999999999999, -0.025600000000000001, 0.3775, 0.18590000000000001, -0.19239999999999999, -0.2591, 0.2329, -0.066900000000000001, 0.13350000000000001, 0.036400000000000002, 2.3115999999999999, 2.3113999999999999, 2.3046000000000002, 2.2949999999999999, 2.2925, 2.2900999999999998, 2.2873000000000001, 2.2871999999999999, 2.2871999999999999, 2.2869999999999999, 2.2845, 2.2835000000000001, 2.2808000000000002, 2.2806000000000002, 2.2768999999999999, 2.2730999999999999, 2.2728000000000002, 2.2683, 2.2673000000000001, 2.2669000000000001, 2.2658, 2.2648999999999999, 2.2610000000000001, 2.2606999999999999, 2.2435, 2.2374000000000001, 2.2364000000000002, 2.2349999999999999, 2.2345000000000002, 2.2339000000000002, 2.2284999999999999, 2.2179000000000002, 2.2282000000000002, 2.1511999999999998, 1.8375999999999999, 2.0933000000000002, 1.8875999999999999, 1.7979000000000001, 1.6558999999999999, 1.5143, 1.4120999999999999, 1.7787999999999999, 1.3357000000000001, 1.2172000000000001, 0.043299999999999998, -0.2777, -0.12189999999999999, 0.78120000000000001, -0.25779999999999997, 0.0201, -0.16800000000000001, 0.12559999999999999, 0.72089999999999999, 0.56799999999999995, 0.31059999999999999, 0.224, 0.1178, 0.15570000000000001, -0.094299999999999995, 0.3417, 0.41210000000000002], \"Freq\": [102.0, 107.0, 65.0, 50.0, 66.0, 54.0, 51.0, 46.0, 132.0, 40.0, 72.0, 65.0, 37.0, 37.0, 47.0, 57.0, 31.0, 113.0, 43.0, 69.0, 27.0, 32.0, 33.0, 64.0, 76.0, 96.0, 32.0, 41.0, 35.0, 30.0, 27.398566066513105, 35.603435697715135, 24.564055372296615, 23.639281475507065, 31.744890619421842, 21.755421850493473, 23.568672704577317, 21.740030532819826, 21.668235385986751, 18.020553525894279, 17.976249367568958, 17.057661469916233, 17.054332076738884, 19.721385118691835, 16.099864118672244, 16.979736219367755, 16.087208304045244, 16.061773200726233, 15.165545966877465, 15.165821288045603, 16.055422852731578, 14.261151200163162, 14.245330648577532, 15.122654283358667, 68.407572633346447, 13.311356992020674, 12.347732998082629, 12.339008821569081, 13.207545664810761, 12.308596874957518, 39.448780473899113, 57.966410451215019, 30.7059449335583, 18.285700912530711, 27.290546331194655, 61.812148980547782, 26.306194268771218, 46.40470233382451, 166.99292814701772, 41.616867361348852, 43.141613451450581, 30.549745308295318, 106.45851338225411, 151.67519748008985, 38.751180582040185, 180.09369876620744, 29.345594420044307, 72.359644122171829, 86.217987405194876, 122.29410239888252, 100.01477396587357, 96.274474267026292, 85.431488062428329, 81.835926050373388, 40.186644047000655, 111.17996942528812, 44.690424543915377, 38.420162971652061, 64.205081979558273, 65.527436124851576, 46.645851029303451, 51.338720694167698, 88.70558462794024, 84.100729029461291, 67.879086439626917, 53.673950325451251, 67.087680603095777, 50.82368605111774, 50.321183666965439, 56.453459279682221, 60.19072478145624, 51.050745320591346, 58.44792136602301, 59.159527532128379, 53.966635695238011, 57.690111067744262, 51.163771228745354, 46.311268932220635, 36.512389936170436, 42.678234291519928, 30.127161298994629, 30.111421369390296, 24.697948120627576, 22.916159503193381, 26.392693246279229, 28.134872343302046, 22.859170705645511, 20.130863934861676, 18.305214697267093, 16.524002163799668, 16.522424569250468, 18.258386639988363, 17.37911171463233, 16.491883666214665, 17.35543933649496, 15.605039082937747, 15.602943866495064, 15.598355337214361, 18.178734996481634, 16.441933895528599, 15.559304572926465, 14.68983212878643, 14.685058971189111, 14.676736372918526, 17.239058349400899, 13.785979531635947, 13.776981757465405, 23.193169817015431, 15.492982314354917, 47.592021099764452, 24.507153554110992, 23.621607345963692, 51.548065946993866, 32.610107162125914, 39.284632914007339, 21.83876398944135, 67.093274303263385, 49.916421870304418, 93.430711413707684, 69.958422731677189, 49.418724191917477, 84.70939455752486, 70.46669410461044, 59.842385196426896, 58.60812342765054, 55.072002559381431, 56.998627579035073, 65.886639608398795, 51.544464892219764, 50.867718835398307, 76.838411822475791, 60.349497924940522, 67.268290677402192, 49.612548971694316, 66.986470652362797, 53.782054560317683, 54.986048746163284, 54.343988293696455, 56.626385101833918, 50.339110210620305, 58.781456627348291, 47.867422270909962, 47.123321000969312, 65.42284535800087, 34.600011651104388, 27.537469074629271, 19.529385642837529, 20.352676616790244, 25.399953219183534, 15.135596381574738, 15.134924239495861, 18.499273921623356, 14.284899224668829, 15.953514513355525, 13.396981681080272, 13.394992299653884, 14.202955853401312, 13.368856520229025, 12.504123169722023, 12.494666886433773, 12.494785976900923, 11.627404289751798, 11.625357036369538, 11.620965404804547, 13.264094055208163, 10.753135296954094, 11.573977005766382, 10.741782819332771, 10.739922797265972, 11.554655678901579, 14.008972845935299, 9.8549284000171653, 38.46886958566418, 34.488086139618723, 31.872157324485375, 22.148545806614425, 16.002479344043294, 19.590362361305832, 18.605590788435389, 18.638335779758826, 17.689494859595992, 39.022475341105569, 19.547483172649653, 19.877642656062189, 35.178947213056517, 55.85397187180709, 75.645207653450129, 57.488369102104301, 65.647258239390723, 37.816744422033373, 50.207275169694164, 40.249629341852462, 39.203371429960015, 61.503279276052865, 41.111390709683334, 53.731335687750736, 36.850319211834176, 51.832663571021847, 46.643768335701161, 49.624763120760178, 29.247907325949278, 40.282992740540742, 39.655897748660905, 42.220534016736671, 41.848691654602945, 37.10949544076518, 48.199452698451218, 39.830272622981759, 42.404431493748476, 37.743804256302752, 37.680862340609799, 36.956118157823603, 36.573977022650006, 64.590215752174984, 39.396240178770896, 36.772340868424465, 36.746352852497829, 31.519437650485724, 32.330160427323882, 29.721809985115382, 26.292764014277861, 21.082054803029976, 21.054362022705533, 21.857837407973715, 19.32300668666554, 20.996119910519393, 18.468732056445546, 19.306167645672048, 18.415639720475788, 15.847561811555419, 16.660229756860694, 16.656782516868393, 14.957290981154355, 14.073817897168775, 14.069790473043552, 14.034213699981905, 12.351653662414719, 12.34908785256123, 12.339048435036224, 12.326454848346907, 11.487183459653966, 10.611226501449972, 23.662066955224553, 20.960060384218842, 20.199619163464938, 19.318629537455372, 21.003246613154484, 28.06711115329724, 25.421718103079701, 18.219176504011042, 37.76291026907203, 31.573656453200087, 39.262037387840067, 60.63519755956176, 52.192422335235378, 52.680392926164245, 59.423633160987919, 47.169702597349776, 40.603408587635137, 35.245630377905321, 35.258155360815799, 46.528769039833357, 34.710443904623304, 33.437212818245065, 36.134531197531757, 34.091067056701668, 28.827301796034845, 35.285508166370036, 32.78516230872566, 32.094818913897967, 33.764184505446423, 31.278225133887922, 30.072425026730357, 29.735038108244673, 53.090964027121522, 50.489054207189618, 45.302048196618152, 31.381456246080493, 29.670359285435215, 27.917041366197051, 25.287514272489727, 26.118782274017008, 22.709111531101488, 20.985078596541001, 19.210973180230134, 24.203030667239315, 19.20924906812154, 14.901350045745799, 14.034120113778128, 96.354853526924131, 14.016096234515546, 14.012459087503091, 13.188622867097303, 13.160971308918731, 13.159539771700427, 13.93751925271132, 12.292869683102952, 11.437872532752056, 11.436973233789777, 11.423943868587539, 11.422852591119856, 11.422814063995254, 11.420578565941915, 11.369515061056614, 24.055867501017008, 18.386256759754534, 12.124922240507296, 27.867627883938081, 17.518112605189206, 15.776789980611076, 23.553680058150086, 67.9346624594979, 31.419003256072894, 38.217459592918352, 23.573135473056134, 25.341499245839227, 46.889553058549438, 40.914027322316691, 20.096314361355422, 69.298363394632432, 41.93426526490407, 48.616947941366902, 33.546320663284042, 40.656061399237494, 33.044651677597273, 33.094052659255986, 33.213360139837825, 34.068208028835855, 31.625633193848788, 31.944038260548567, 29.640419296174741, 30.419188473210472, 31.555601807364901, 31.43361437594811, 29.309980676702608, 29.840527579781359, 28.495831310767706, 28.19923059834387, 48.956729998151339, 26.483578035372226, 23.128241524502062, 16.600961320509903, 15.774376135725728, 14.951734861406941, 14.128993713848613, 18.831794158725682, 14.12553990608729, 14.123919385618484, 14.093637210000615, 13.296519273887807, 12.483414544730355, 14.817990966952028, 11.659764140673257, 10.843918282002255, 11.618523074026376, 12.336234664040253, 10.015863752963558, 10.012285245668064, 11.538708637323337, 9.9940787625564145, 9.1917163160468807, 9.1893342924997388, 15.816675564509698, 28.508417585580581, 7.4893626179057229, 6.7295179499306128, 6.7264610652017698, 6.7223903183286273, 14.100177502353215, 12.489630221964985, 7.435646526004132, 12.451082190530858, 64.416400998970204, 15.691095144937268, 26.320542965869734, 27.279688459225383, 28.764395651313521, 30.099627709479233, 30.043931576414248, 19.112879256520998, 23.93404799843589, 20.229259820963801, 28.382628216209206, 30.708273547116161, 26.914373261050141, 20.016265504804686, 26.105761947577001, 23.761092222346459, 24.468051875193343, 21.273613145307333, 19.014290878774109, 19.331695296023977, 20.191973397083324, 20.380360573852901, 20.650424345013761, 20.434052789887428, 20.536202300093166, 19.232087257714387, 18.832391651197248], \"Total\": [102.0, 107.0, 65.0, 50.0, 66.0, 54.0, 51.0, 46.0, 132.0, 40.0, 72.0, 65.0, 37.0, 37.0, 47.0, 57.0, 31.0, 113.0, 43.0, 69.0, 27.0, 32.0, 33.0, 64.0, 76.0, 96.0, 32.0, 41.0, 35.0, 30.0, 28.242344998268276, 36.708212594538182, 25.413840419303604, 24.468835109098116, 32.945801182459064, 22.582029610844341, 24.467570165165505, 22.582319758505474, 22.576854972010921, 18.811832128747586, 18.808620165814038, 17.86643893061099, 17.866869608021666, 20.689059344701132, 16.922519289116167, 17.859001652853788, 16.920732710266599, 16.92055839805905, 15.977842033126752, 15.979336799399055, 16.918059564772737, 15.038173742362014, 15.036180402217008, 15.975250945740994, 72.344660992820735, 14.093767502608284, 13.148528985416876, 13.147746438661571, 14.087069076304672, 13.145030097475134, 42.307197889518932, 63.792864785316695, 33.717226041403272, 19.713157702964523, 29.989007839125197, 72.8125533748469, 30.844586697869648, 60.29720742915498, 280.44297164893982, 53.644128550366908, 56.564086762718205, 37.201019154973196, 181.40681214729929, 310.23415481178091, 53.588855406775401, 423.02466727332154, 37.157898664490432, 125.9382929850358, 171.07528294005306, 302.04217343646707, 254.39791458991525, 244.53122590904786, 203.23509621714021, 196.64398489394046, 63.955569642635169, 392.92511670272597, 78.81922998751854, 59.864369697648755, 158.2107712555059, 166.54084142412222, 88.802618471269014, 110.07330661027123, 352.55324200486154, 317.26755379082982, 201.64385864779729, 121.96483790417378, 211.10077314346529, 108.51933639089398, 106.93080666344791, 147.89699107281473, 190.47906084451992, 112.00224158636735, 186.6935553575459, 199.7055711498175, 139.31825251113881, 189.36446042131033, 236.59158287668814, 47.455593150311053, 37.415954335205186, 43.803058515602331, 31.019427272914005, 31.022164503042543, 25.543887582281858, 23.718981214055425, 27.368562800754976, 29.180242650673193, 23.719190009633788, 20.979059214111601, 19.150268681050925, 17.324229434386538, 17.327036590566586, 19.148921259474243, 18.239257768669777, 17.326240383839252, 18.236264293498774, 16.411517907477091, 16.41208026618677, 16.412012814440633, 19.144891281407364, 17.324874977345662, 16.412971038805704, 15.499845928877878, 15.498905276108852, 15.498781815023047, 18.230290794952236, 14.585330519037742, 14.585596639592859, 24.650821603575004, 16.407176958671531, 55.660847736503676, 27.282561327308326, 26.39690175404867, 64.309365599961296, 38.350557313613834, 49.587324940888124, 26.383189182721768, 143.90845545870266, 103.42894935181229, 290.83654055733189, 192.36831241546963, 111.67020158597417, 283.64690024343599, 213.46091084186531, 163.5803099845954, 191.55265651694268, 172.20285581358672, 184.91736655734411, 254.39791458991525, 154.65563682666604, 157.23662736826523, 423.02466727332154, 243.03491119304317, 317.26755379082982, 156.39327105187985, 352.55324200486154, 210.80597129094159, 236.59158287668814, 235.49941232592028, 310.23415481178091, 203.07152819201889, 392.92511670272597, 187.32225049459907, 195.79479185563108, 66.583080627560363, 35.509220867533074, 28.409565149233114, 20.416885429707829, 21.315029469600919, 26.645740757666697, 15.98114440459454, 15.982103021205779, 19.544009772700363, 15.093080113447487, 16.873883692588322, 14.203995629021831, 14.206488090136933, 15.089020851816491, 14.203128009922688, 13.315531499012167, 13.314949115639019, 13.315178013661646, 12.427899178741969, 12.428137927031164, 12.427999029380691, 14.20514386812637, 11.541412156753561, 12.431224421175509, 11.540400727511617, 11.540498884754669, 12.433492006745997, 15.106914815995374, 10.654449397296267, 41.640602498900201, 37.341318603943719, 35.583538994987542, 24.851333546505085, 17.812276835384111, 22.307394077473401, 21.239603830088534, 21.315240838770823, 20.397024611084987, 52.823410403393964, 23.154059758065767, 23.919241504601001, 81.324423602254981, 192.36831241546963, 392.92511670272597, 236.59158287668814, 317.26755379082982, 113.70089422662227, 203.07152819201889, 131.68951158708271, 127.00169113184394, 352.55324200486154, 154.46368420988742, 290.83654055733189, 122.8945513250016, 302.04217343646707, 235.49941232592028, 283.64690024343599, 75.376336396667213, 199.7055711498175, 195.79479185563108, 244.53122590904786, 243.03491119304317, 163.5803099845954, 423.02466727332154, 210.80597129094159, 280.44297164893982, 184.91736655734411, 201.64385864779729, 191.55265651694268, 213.46091084186531, 65.771542579279114, 40.344671549532642, 37.710690628315433, 37.713290607201166, 32.453130794081822, 33.327733983814369, 30.704245237022672, 27.190113568936308, 21.93000804580193, 21.93063714252299, 22.807562662107653, 20.176272812899875, 21.930506758023046, 19.299811496898489, 20.175371000006631, 19.300220457711283, 16.668767883452201, 17.546056090931259, 17.54568992237909, 15.792787257110586, 14.917936467759207, 14.916241581250496, 14.916078757755669, 13.161661500653727, 13.164403819887493, 13.161493869806545, 13.161994559057998, 12.285597172017207, 11.408368438138456, 25.446038140704228, 22.761092344928905, 21.924841035782791, 21.049519609262109, 24.527496262332765, 36.222108239059892, 33.694708170371015, 22.079655149618834, 81.273858485953369, 65.680260030877776, 133.57874229981414, 352.55324200486154, 283.64690024343599, 290.83654055733189, 392.92511670272597, 317.26755379082982, 243.03491119304317, 154.46368420988742, 157.84630614824448, 423.02466727332154, 156.39327105187985, 165.44418824761223, 236.59158287668814, 186.6935553575459, 95.636962561815665, 302.04217343646707, 211.10077314346529, 191.55265651694268, 310.23415481178091, 235.49941232592028, 213.46091084186531, 196.64398489394046, 54.149989432240083, 51.530900636747653, 46.290377696997247, 32.322203504957493, 30.57386583560838, 28.827154067129932, 26.206346348327532, 27.082536691044332, 23.590409206050445, 21.843152431673605, 20.098359866107486, 25.324217082312046, 20.100751226235989, 15.731748710224922, 14.857836697329061, 102.1011920635642, 14.856461338189618, 14.8593346927703, 13.985909037284493, 13.984333829981608, 13.987001820783931, 14.859391212837272, 13.112258908024712, 12.237520953195345, 12.239964354171681, 12.238379426796493, 12.237702669544564, 12.238354885391391, 12.237112433489887, 12.241257703410003, 26.228960123684196, 20.112396390178009, 13.119591708081371, 37.194975965978152, 21.067704905776768, 18.430545207031656, 30.86180085140229, 132.60299109998994, 50.262014764947175, 70.705891486060978, 34.118965472415319, 40.235313749492995, 113.70089422662227, 96.496235792607635, 29.06713320982756, 392.92511670272597, 210.80597129094159, 352.55324200486154, 176.43969033661401, 423.02466727332154, 191.55265651694268, 213.46091084186531, 235.49941232592028, 290.83654055733189, 195.79479185563108, 243.03491119304317, 150.69492895587001, 187.32225049459907, 283.64690024343599, 302.04217343646707, 172.20285581358672, 236.59158287668814, 184.91736655734411, 201.64385864779729, 50.630898204819133, 27.39490738546618, 24.086367586360961, 17.456013274816399, 16.628578300500653, 15.798596265895007, 14.971198485281571, 19.957083300871574, 14.97023269795238, 14.971506516419451, 14.975758952193821, 14.143269402902622, 13.313746730321821, 15.807811161973834, 12.484745073683627, 11.654908149121157, 12.491427595931402, 13.323375617956131, 10.828110976079225, 10.828563090785281, 12.492961359774768, 10.829624949070592, 9.9995619124523127, 10.000361752351374, 17.511051449646438, 31.754787779822699, 8.3500966331519368, 7.5136540816215058, 7.5142389639619562, 7.5142662779783791, 15.8454533843103, 14.186254005616149, 8.3588995916958666, 15.116683040213683, 107.01538136848181, 20.185854992227227, 41.593231843340831, 47.156618155583025, 57.311531565739287, 69.090026140317889, 76.386406965813237, 33.676951045501895, 65.680260030877776, 62.500392506197528, 283.64690024343599, 423.02466727332154, 317.26755379082982, 95.636962561815665, 352.55324200486154, 243.03491119304317, 302.04217343646707, 195.79479185563108, 96.496235792607635, 114.31197278151384, 154.46368420988742, 169.99619749041429, 191.55265651694268, 182.49216389038594, 235.49941232592028, 142.6162822613482, 130.15124656596382], \"logprob\": [30.0, 29.0, 28.0, 27.0, 26.0, 25.0, 24.0, 23.0, 22.0, 21.0, 20.0, 19.0, 18.0, 17.0, 16.0, 15.0, 14.0, 13.0, 12.0, 11.0, 10.0, 9.0, 8.0, 7.0, 6.0, 5.0, 4.0, 3.0, 2.0, 1.0, -7.2408999999999999, -6.9790000000000001, -7.3501000000000003, -7.3884999999999996, -7.0937000000000001, -7.4714999999999998, -7.3914999999999997, -7.4722, -7.4756, -7.6599000000000004, -7.6623000000000001, -7.7148000000000003, -7.7149999999999999, -7.5697000000000001, -7.7725999999999997, -7.7194000000000003, -7.7733999999999996, -7.7750000000000004, -7.8323999999999998, -7.8323999999999998, -7.7754000000000003, -7.8939000000000004, -7.8949999999999996, -7.8352000000000004, -6.3258999999999999, -7.9627999999999997, -8.0379000000000005, -8.0386000000000006, -7.9706000000000001, -8.0411000000000001, -6.8764000000000003, -6.4915000000000003, -7.1269, -7.6452999999999998, -7.2449000000000003, -6.4272999999999998, -7.2816000000000001, -6.7140000000000004, -5.4333999999999998, -6.8228999999999997, -6.7869000000000002, -7.1319999999999997, -5.8836000000000004, -5.5297000000000001, -6.8941999999999997, -5.3578999999999999, -7.1722999999999999, -6.2698, -6.0945, -5.7450000000000001, -5.9461000000000004, -5.9842000000000004, -6.1036999999999999, -6.1467000000000001, -6.8578999999999999, -5.8402000000000003, -6.7515999999999998, -6.9028, -6.3893000000000004, -6.3689, -6.7088000000000001, -6.6130000000000004, -6.0660999999999996, -6.1193999999999997, -6.3337000000000003, -6.5685000000000002, -6.3453999999999997, -6.6230000000000002, -6.633, -6.5179999999999998, -6.4539, -6.6185999999999998, -6.4832999999999998, -6.4711999999999996, -6.5629999999999997, -6.4962999999999997, -6.6163999999999996, -6.476, -6.7137000000000002, -6.5576999999999996, -6.9058999999999999, -6.9065000000000003, -7.1045999999999996, -7.1795, -7.0382999999999996, -6.9744000000000002, -7.1820000000000004, -7.3090999999999999, -7.4042000000000003, -7.5065, -7.5065999999999997, -7.4066999999999998, -7.4561000000000002, -7.5084999999999997, -7.4574999999999996, -7.5637999999999996, -7.5639000000000003, -7.5641999999999996, -7.4111000000000002, -7.5114999999999998, -7.5667, -7.6242000000000001, -7.6245000000000003, -7.6250999999999998, -7.4641999999999999, -7.6877000000000004, -7.6883999999999997, -7.1675000000000004, -7.5709999999999997, -6.4486999999999997, -7.1124000000000001, -7.1492000000000004, -6.3688000000000002, -6.8266999999999998, -6.6405000000000003, -7.2276999999999996, -6.1052999999999997, -6.4009999999999998, -5.7740999999999998, -6.0635000000000003, -6.4109999999999996, -5.8720999999999997, -6.0561999999999996, -6.2195999999999998, -6.2404999999999999, -6.3026999999999997, -6.2683, -6.1234000000000002, -6.3689, -6.3821000000000003, -5.9696999999999996, -6.2111999999999998, -6.1026999999999996, -6.4070999999999998, -6.1069000000000004, -6.3263999999999996, -6.3042999999999996, -6.3159999999999998, -6.2748999999999997, -6.3925999999999998, -6.2374999999999998, -6.4428999999999998, -6.4585999999999997, -5.9635999999999996, -6.6006, -6.8289, -7.1725000000000003, -7.1313000000000004, -6.9097, -7.4273999999999996, -7.4275000000000002, -7.2267000000000001, -7.4852999999999996, -7.3747999999999996, -7.5494000000000003, -7.5495999999999999, -7.4909999999999997, -7.5514999999999999, -7.6184000000000003, -7.6192000000000002, -7.6192000000000002, -7.6910999999999996, -7.6913, -7.6917, -7.5594000000000001, -7.7693000000000003, -7.6957000000000004, -7.7702999999999998, -7.7705000000000002, -7.6974, -7.5048000000000004, -7.8564999999999996, -6.4946000000000002, -6.6039000000000003, -6.6826999999999996, -7.0467000000000004, -7.3716999999999997, -7.1694000000000004, -7.2210000000000001, -7.2191999999999998, -7.2714999999999996, -6.4802999999999997, -7.1715999999999998, -7.1548999999999996, -6.5839999999999996, -6.1216999999999997, -5.8183999999999996, -6.0929000000000002, -5.9602000000000004, -6.5117000000000003, -6.2282999999999999, -6.4493999999999998, -6.4756999999999998, -6.0254000000000003, -6.4282000000000004, -6.1604999999999999, -6.5376000000000003, -6.1963999999999997, -6.3018999999999998, -6.2400000000000002, -6.7686999999999999, -6.4485000000000001, -6.4641999999999999, -6.4016000000000002, -6.4104000000000001, -6.5305999999999997, -6.2690999999999999, -6.4598000000000004, -6.3971999999999998, -6.5136000000000003, -6.5152999999999999, -6.5347, -6.5450999999999997, -5.7876000000000003, -6.282, -6.3509000000000002, -6.3516000000000004, -6.5049999999999999, -6.4795999999999996, -6.5637999999999996, -6.6863000000000001, -6.9071999999999996, -6.9085000000000001, -6.8711000000000002, -6.9943, -6.9112999999999998, -7.0396000000000001, -6.9951999999999996, -7.0423999999999998, -7.1925999999999997, -7.1425999999999998, -7.1428000000000003, -7.2504, -7.3113000000000001, -7.3116000000000003, -7.3140999999999998, -7.4417999999999997, -7.4420999999999999, -7.4428999999999998, -7.4439000000000002, -7.5144000000000002, -7.5937000000000001, -6.7918000000000003, -6.9130000000000003, -6.9500000000000002, -6.9946000000000002, -6.9109999999999996, -6.6210000000000004, -6.7199999999999998, -7.0532000000000004, -6.3243, -6.5033000000000003, -6.2854000000000001, -5.8507999999999996, -6.0007000000000001, -5.9913999999999996, -5.8708999999999998, -6.1018999999999997, -6.2518000000000002, -6.3933, -6.3929, -6.1155999999999997, -6.4085999999999999, -6.4459999999999997, -6.3684000000000003, -6.4265999999999996, -6.5942999999999996, -6.3921999999999999, -6.4657, -6.4869000000000003, -6.4362000000000004, -6.5126999999999997, -6.5519999999999996, -6.5632999999999999, -5.9378000000000002, -5.9880000000000004, -6.0964, -6.4635999999999996, -6.5195999999999996, -6.5804999999999998, -6.6795, -6.6471, -6.7869999999999999, -6.8659999999999997, -6.9542999999999999, -6.7233000000000001, -6.9543999999999997, -7.2083000000000004, -7.2683, -5.3417000000000003, -7.2695999999999996, -7.2698, -7.3304, -7.3324999999999996, -7.3326000000000002, -7.2751999999999999, -7.4008000000000003, -7.4728000000000003, -7.4729000000000001, -7.4741, -7.4741999999999997, -7.4741999999999997, -7.4744000000000002, -7.4787999999999997, -6.7294, -6.9981999999999998, -7.4145000000000003, -6.5823, -7.0465, -7.1512000000000002, -6.7504999999999997, -5.6912000000000003, -6.4623999999999997, -6.2664999999999997, -6.7496999999999998, -6.6772999999999998, -6.0620000000000003, -6.1982999999999997, -6.9092000000000002, -5.6714000000000002, -6.1737000000000002, -6.0258000000000003, -6.3967999999999998, -6.2046000000000001, -6.4119000000000002, -6.4104000000000001, -6.4067999999999996, -6.3814000000000002, -6.4558, -6.4458000000000002, -6.5206, -6.4946999999999999, -6.4580000000000002, -6.4619, -6.5317999999999996, -6.5138999999999996, -6.5599999999999996, -6.5705, -5.6772, -6.2915999999999999, -6.4271000000000003, -6.7587000000000002, -6.8098000000000001, -6.8632999999999997, -6.9199000000000002, -6.6326000000000001, -6.9202000000000004, -6.9203000000000001, -6.9223999999999997, -6.9806999999999997, -7.0438000000000001, -6.8723000000000001, -7.1120000000000001, -7.1845999999999997, -7.1155999999999997, -7.0556000000000001, -7.2640000000000002, -7.2643000000000004, -7.1224999999999996, -7.2662000000000004, -7.3498999999999999, -7.3501000000000003, -6.8071000000000002, -6.218, -7.5547000000000004, -7.6616999999999997, -7.6620999999999997, -7.6627000000000001, -6.9219999999999997, -7.0433000000000003, -7.5618999999999996, -7.0464000000000002, -5.4028, -6.8151000000000002, -6.2977999999999996, -6.2619999999999996, -6.2089999999999996, -6.1635999999999997, -6.1654999999999998, -6.6177999999999999, -6.3929, -6.5609999999999999, -6.2224000000000004, -6.1436000000000002, -6.2755000000000001, -6.5716000000000001, -6.306, -6.4001000000000001, -6.3708, -6.5106999999999999, -6.6230000000000002, -6.6063999999999998, -6.5629, -6.5536000000000003, -6.5404, -6.5510000000000002, -6.5460000000000003, -6.6116000000000001, -6.6326000000000001]}};\n",
       "\n",
       "function LDAvis_load_lib(url, callback){\n",
       "  var s = document.createElement('script');\n",
       "  s.src = url;\n",
       "  s.async = true;\n",
       "  s.onreadystatechange = s.onload = callback;\n",
       "  s.onerror = function(){console.warn(\"failed to load library \" + url);};\n",
       "  document.getElementsByTagName(\"head\")[0].appendChild(s);\n",
       "}\n",
       "\n",
       "if(typeof(LDAvis) !== \"undefined\"){\n",
       "   // already loaded: just create the visualization\n",
       "   !function(LDAvis){\n",
       "       new LDAvis(\"#\" + \"ldavis_el305047227861282395580214\", ldavis_el305047227861282395580214_data);\n",
       "   }(LDAvis);\n",
       "}else if(typeof define === \"function\" && define.amd){\n",
       "   // require.js is available: use it to load d3/LDAvis\n",
       "   require.config({paths: {d3: \"https://cdnjs.cloudflare.com/ajax/libs/d3/3.5.5/d3.min\"}});\n",
       "   require([\"d3\"], function(d3){\n",
       "      window.d3 = d3;\n",
       "      LDAvis_load_lib(\"https://cdn.rawgit.com/bmabey/pyLDAvis/files/ldavis.v1.0.0.js\", function(){\n",
       "        new LDAvis(\"#\" + \"ldavis_el305047227861282395580214\", ldavis_el305047227861282395580214_data);\n",
       "      });\n",
       "    });\n",
       "}else{\n",
       "    // require.js not available: dynamically load d3 & LDAvis\n",
       "    LDAvis_load_lib(\"https://cdnjs.cloudflare.com/ajax/libs/d3/3.5.5/d3.min.js\", function(){\n",
       "         LDAvis_load_lib(\"https://cdn.rawgit.com/bmabey/pyLDAvis/files/ldavis.v1.0.0.js\", function(){\n",
       "                 new LDAvis(\"#\" + \"ldavis_el305047227861282395580214\", ldavis_el305047227861282395580214_data);\n",
       "            })\n",
       "         });\n",
       "}\n",
       "</script>"
      ],
      "text/plain": [
       "<IPython.core.display.HTML object>"
      ]
     },
     "execution_count": 352,
     "metadata": {},
     "output_type": "execute_result"
    }
   ],
   "source": [
    "pyLDAvis.display(vis_data)\n"
   ]
  },
  {
   "cell_type": "markdown",
   "metadata": {},
   "source": [
    "### Clustering"
   ]
  },
  {
   "cell_type": "code",
   "execution_count": 171,
   "metadata": {
    "collapsed": true
   },
   "outputs": [],
   "source": [
    "def tokenize_and_stem(text):\n",
    "    # first tokenize by sentence, then by word to ensure that punctuation is caught as it's own token\n",
    "    tokens = [word for sent in nltk.sent_tokenize(text) for word in nltk.word_tokenize(sent)]\n",
    "    filtered_tokens = []\n",
    "    # filter out any tokens not containing letters (e.g., numeric tokens, raw punctuation)\n",
    "    for token in tokens:\n",
    "        if re.search('[a-zA-Z]', token):\n",
    "            filtered_tokens.append(token)\n",
    "    stems = [stemmer.stem(t) for t in filtered_tokens]\n",
    "    return stems\n",
    "\n",
    "\n",
    "def tokenize_only(text):\n",
    "    # first tokenize by sentence, then by word to ensure that punctuation is caught as it's own token\n",
    "    tokens = [word.lower() for sent in nltk.sent_tokenize(text) for word in nltk.word_tokenize(sent)]\n",
    "    filtered_tokens = []\n",
    "    # filter out any tokens not containing letters (e.g., numeric tokens, raw punctuation)\n",
    "    for token in tokens:\n",
    "        if re.search('[a-zA-Z]', token):\n",
    "            filtered_tokens.append(token)\n",
    "    return filtered_tokens"
   ]
  },
  {
   "cell_type": "code",
   "execution_count": 172,
   "metadata": {
    "collapsed": false
   },
   "outputs": [],
   "source": [
    "totalvocab_stemmed = []\n",
    "totalvocab_tokenized = []\n",
    "for i in cliff_syn:\n",
    "    allwords_stemmed = tokenize_and_stem(i) #for each item in 'synopses', tokenize/stem\n",
    "    totalvocab_stemmed.extend(allwords_stemmed) #extend the 'totalvocab_stemmed' list\n",
    "    \n",
    "    allwords_tokenized = tokenize_only(i)\n",
    "    totalvocab_tokenized.extend(allwords_tokenized)"
   ]
  },
  {
   "cell_type": "code",
   "execution_count": 173,
   "metadata": {
    "collapsed": false
   },
   "outputs": [
    {
     "name": "stdout",
     "output_type": "stream",
     "text": [
      "there are 326441 items in vocab_frame\n"
     ]
    }
   ],
   "source": [
    "vocab_frame = pd.DataFrame({'words': totalvocab_tokenized}, index = totalvocab_stemmed)\n",
    "print 'there are ' + str(vocab_frame.shape[0]) + ' items in vocab_frame'"
   ]
  },
  {
   "cell_type": "code",
   "execution_count": 174,
   "metadata": {
    "collapsed": true
   },
   "outputs": [],
   "source": [
    "k_stop = stopwords.words('english')\n",
    "k_stop += ['.', ',', '(', ')', \"'\", '\"',u'novel',u'books',\n",
    "               u'published',u'characters',u'works',u'mr.',u'ms.'\n",
    "              ,u\"'s\",u\"time\",u\"only\",u\"n't\",u\"book\",u'life',u'one',\n",
    "          u'story',u'one',u'story',u'tells',u'things','']"
   ]
  },
  {
   "cell_type": "code",
   "execution_count": 175,
   "metadata": {
    "collapsed": false
   },
   "outputs": [
    {
     "name": "stdout",
     "output_type": "stream",
     "text": [
      "CPU times: user 16.4 s, sys: 190 ms, total: 16.6 s\n",
      "Wall time: 16.5 s\n",
      "(325, 1278)\n"
     ]
    }
   ],
   "source": [
    "from sklearn.feature_extraction.text import TfidfVectorizer\n",
    "\n",
    "#define vectorizer parameters\n",
    "tfidf_vectorizer = TfidfVectorizer(max_df=0.4,\n",
    "                                 min_df=0.05, stop_words=k_stop,\n",
    "                                 use_idf=True, tokenizer=tokenize_and_stem)\n",
    "\n",
    "%time tfidf_matrix = tfidf_vectorizer.fit_transform(cliff_syn) #fit the vectorizer to synopses\n",
    "\n",
    "print(tfidf_matrix.shape)"
   ]
  },
  {
   "cell_type": "code",
   "execution_count": 176,
   "metadata": {
    "collapsed": false
   },
   "outputs": [],
   "source": [
    "terms = tfidf_vectorizer.get_feature_names()"
   ]
  },
  {
   "cell_type": "code",
   "execution_count": 177,
   "metadata": {
    "collapsed": false
   },
   "outputs": [],
   "source": [
    "from sklearn.metrics.pairwise import cosine_similarity\n",
    "dist = 1 - cosine_similarity(tfidf_matrix)\n"
   ]
  },
  {
   "cell_type": "code",
   "execution_count": 178,
   "metadata": {
    "collapsed": true
   },
   "outputs": [],
   "source": [
    "from sklearn import cluster"
   ]
  },
  {
   "cell_type": "code",
   "execution_count": 179,
   "metadata": {
    "collapsed": true
   },
   "outputs": [],
   "source": [
    "dbscan = cluster.DBSCAN(eps=.8)"
   ]
  },
  {
   "cell_type": "code",
   "execution_count": 180,
   "metadata": {
    "collapsed": false
   },
   "outputs": [
    {
     "data": {
      "text/plain": [
       "DBSCAN(algorithm='auto', eps=0.8, leaf_size=30, metric='euclidean',\n",
       "    min_samples=5, p=None, random_state=None)"
      ]
     },
     "execution_count": 180,
     "metadata": {},
     "output_type": "execute_result"
    }
   ],
   "source": [
    "dbscan.fit(tfidf_matrix)"
   ]
  },
  {
   "cell_type": "code",
   "execution_count": 181,
   "metadata": {
    "collapsed": true
   },
   "outputs": [],
   "source": [
    "clusters=dbscan.labels_.tolist()"
   ]
  },
  {
   "cell_type": "code",
   "execution_count": 182,
   "metadata": {
    "collapsed": false
   },
   "outputs": [],
   "source": [
    "films = { 'title': cliff_title,'synopsis': cliff_syn, 'cluster': clusters }\n",
    "\n",
    "frame = pd.DataFrame(films, index = [clusters] , columns = [ 'title', 'cluster'])"
   ]
  },
  {
   "cell_type": "code",
   "execution_count": 183,
   "metadata": {
    "collapsed": false
   },
   "outputs": [
    {
     "data": {
      "text/plain": [
       "-1    319\n",
       " 0      6\n",
       "Name: cluster, dtype: int64"
      ]
     },
     "execution_count": 183,
     "metadata": {},
     "output_type": "execute_result"
    }
   ],
   "source": [
    "frame['cluster'].value_counts()"
   ]
  },
  {
   "cell_type": "code",
   "execution_count": 184,
   "metadata": {
    "collapsed": true
   },
   "outputs": [],
   "source": [
    "#affinity propagation"
   ]
  },
  {
   "cell_type": "code",
   "execution_count": 192,
   "metadata": {
    "collapsed": true
   },
   "outputs": [],
   "source": [
    "affinity_propagation = cluster.AffinityPropagation()"
   ]
  },
  {
   "cell_type": "code",
   "execution_count": 193,
   "metadata": {
    "collapsed": false
   },
   "outputs": [
    {
     "name": "stdout",
     "output_type": "stream",
     "text": [
      "CPU times: user 332 ms, sys: 3.65 ms, total: 335 ms\n",
      "Wall time: 334 ms\n"
     ]
    },
    {
     "data": {
      "text/plain": [
       "AffinityPropagation(affinity='euclidean', convergence_iter=15, copy=True,\n",
       "          damping=0.5, max_iter=200, preference=None, verbose=False)"
      ]
     },
     "execution_count": 193,
     "metadata": {},
     "output_type": "execute_result"
    }
   ],
   "source": [
    "%time affinity_propagation.fit(tfidf_matrix)"
   ]
  },
  {
   "cell_type": "code",
   "execution_count": 243,
   "metadata": {
    "collapsed": true
   },
   "outputs": [],
   "source": [
    "yo=affinity_propagation.labels_.tolist()"
   ]
  },
  {
   "cell_type": "code",
   "execution_count": 251,
   "metadata": {
    "collapsed": false
   },
   "outputs": [],
   "source": [
    "co=affinity_propagation.cluster_centers_indices_\n"
   ]
  },
  {
   "cell_type": "code",
   "execution_count": 254,
   "metadata": {
    "collapsed": false
   },
   "outputs": [
    {
     "data": {
      "text/plain": [
       "array([  1,   7,  14, 100, 119, 175, 193, 199, 234, 303])"
      ]
     },
     "execution_count": 254,
     "metadata": {},
     "output_type": "execute_result"
    }
   ],
   "source": [
    "co"
   ]
  },
  {
   "cell_type": "code",
   "execution_count": 249,
   "metadata": {
    "collapsed": false
   },
   "outputs": [],
   "source": [
    "#yo"
   ]
  },
  {
   "cell_type": "code",
   "execution_count": 255,
   "metadata": {
    "collapsed": false,
    "scrolled": true
   },
   "outputs": [
    {
     "name": "stdout",
     "output_type": "stream",
     "text": [
      "12 Years a Slave\n",
      "The Adventures of Tom Sawyer\n",
      "All the Light We Cannot See\n",
      "A Farewell to Arms\n",
      "Go Set a Watchman\n",
      "Life of Pi\n",
      "The Metamorphosis and Other Stories\n",
      "Mockingjay (Book 3 of The Hunger Games Trilogy)\n",
      "The Plague\n",
      "Unbroken\n"
     ]
    }
   ],
   "source": [
    "for i in co:\n",
    "    print cliff_title[i]\n",
    "    "
   ]
  },
  {
   "cell_type": "code",
   "execution_count": 194,
   "metadata": {
    "collapsed": false
   },
   "outputs": [],
   "source": [
    "clusters=affinity_propagation.labels_.tolist()"
   ]
  },
  {
   "cell_type": "code",
   "execution_count": 195,
   "metadata": {
    "collapsed": false
   },
   "outputs": [],
   "source": [
    "films = { 'title': cliff_title,'synopsis': cliff_syn, 'cluster': clusters }\n",
    "\n",
    "frame = pd.DataFrame(films, index = [clusters] , columns = [ 'title', 'cluster'])"
   ]
  },
  {
   "cell_type": "code",
   "execution_count": 196,
   "metadata": {
    "collapsed": false
   },
   "outputs": [
    {
     "data": {
      "text/plain": [
       "0    76\n",
       "5    58\n",
       "2    54\n",
       "4    52\n",
       "7    41\n",
       "9    31\n",
       "1     6\n",
       "3     3\n",
       "8     2\n",
       "6     2\n",
       "Name: cluster, dtype: int64"
      ]
     },
     "execution_count": 196,
     "metadata": {},
     "output_type": "execute_result"
    }
   ],
   "source": [
    "frame['cluster'].value_counts()"
   ]
  },
  {
   "cell_type": "code",
   "execution_count": null,
   "metadata": {
    "collapsed": true
   },
   "outputs": [],
   "source": []
  },
  {
   "cell_type": "code",
   "execution_count": 327,
   "metadata": {
    "collapsed": true
   },
   "outputs": [],
   "source": [
    "#kmeans"
   ]
  },
  {
   "cell_type": "code",
   "execution_count": 315,
   "metadata": {
    "collapsed": false
   },
   "outputs": [
    {
     "name": "stdout",
     "output_type": "stream",
     "text": [
      "CPU times: user 199 ms, sys: 3.82 ms, total: 203 ms\n",
      "Wall time: 352 ms\n"
     ]
    }
   ],
   "source": [
    "from sklearn.cluster import KMeans\n",
    "\n",
    "num_clusters = 5\n",
    "\n",
    "km = KMeans(n_clusters=num_clusters)\n",
    "\n",
    "%time km.fit(tfidf_matrix)\n",
    "\n",
    "clusters = km.labels_.tolist()"
   ]
  },
  {
   "cell_type": "code",
   "execution_count": 316,
   "metadata": {
    "collapsed": true
   },
   "outputs": [],
   "source": [
    "\n",
    "clusters = km.labels_.tolist()"
   ]
  },
  {
   "cell_type": "code",
   "execution_count": 344,
   "metadata": {
    "collapsed": false
   },
   "outputs": [],
   "source": [
    "films = { 'title': cliff_title,'synopsis': cliff_syn, 'cluster': clusters }\n",
    "\n",
    "frame = pd.DataFrame(films, index = [clusters] , columns = [ 'title', 'cluster'])"
   ]
  },
  {
   "cell_type": "code",
   "execution_count": 345,
   "metadata": {
    "collapsed": true
   },
   "outputs": [],
   "source": [
    "order_centroids = km.cluster_centers_.argsort()[:, ::-1] \n",
    "clusterd=[]\n",
    "for i in range(num_clusters):    \n",
    "    yo=[]\n",
    "    for ind in order_centroids[i, :6]: #replace 6 with n words per cluster\n",
    "        yo.append(vocab_frame.ix[terms[ind].split(' ')].values.tolist()[0][0].encode('utf-8', 'ignore'))    \n",
    "    clusterd.append(yo)"
   ]
  },
  {
   "cell_type": "code",
   "execution_count": 346,
   "metadata": {
    "collapsed": true
   },
   "outputs": [],
   "source": [
    "cliff_cluster=pd.DataFrame()"
   ]
  },
  {
   "cell_type": "code",
   "execution_count": 347,
   "metadata": {
    "collapsed": false
   },
   "outputs": [],
   "source": [
    "cliff_cluster['cluster']=range(0,5)\n",
    "cliff_cluster['words']=clusterd"
   ]
  },
  {
   "cell_type": "code",
   "execution_count": 348,
   "metadata": {
    "collapsed": true
   },
   "outputs": [],
   "source": [
    "frame=frame.merge(cliff_cluster,on='cluster')"
   ]
  },
  {
   "cell_type": "code",
   "execution_count": 349,
   "metadata": {
    "collapsed": false
   },
   "outputs": [
    {
     "data": {
      "text/html": [
       "<div>\n",
       "<table border=\"1\" class=\"dataframe\">\n",
       "  <thead>\n",
       "    <tr style=\"text-align: right;\">\n",
       "      <th></th>\n",
       "      <th>title</th>\n",
       "      <th>cluster</th>\n",
       "      <th>words</th>\n",
       "    </tr>\n",
       "  </thead>\n",
       "  <tbody>\n",
       "    <tr>\n",
       "      <th>0</th>\n",
       "      <td>100 Years of Solitude</td>\n",
       "      <td>1</td>\n",
       "      <td>[world, characters, published, writing, wars, ...</td>\n",
       "    </tr>\n",
       "    <tr>\n",
       "      <th>1</th>\n",
       "      <td>The 1990s Newbery Medal Winners</td>\n",
       "      <td>1</td>\n",
       "      <td>[world, characters, published, writing, wars, ...</td>\n",
       "    </tr>\n",
       "    <tr>\n",
       "      <th>2</th>\n",
       "      <td>Absalom, Absalom!</td>\n",
       "      <td>1</td>\n",
       "      <td>[world, characters, published, writing, wars, ...</td>\n",
       "    </tr>\n",
       "    <tr>\n",
       "      <th>3</th>\n",
       "      <td>Alice's Adventures in Wonderland</td>\n",
       "      <td>1</td>\n",
       "      <td>[world, characters, published, writing, wars, ...</td>\n",
       "    </tr>\n",
       "    <tr>\n",
       "      <th>4</th>\n",
       "      <td>American Poets of the 20th Century</td>\n",
       "      <td>1</td>\n",
       "      <td>[world, characters, published, writing, wars, ...</td>\n",
       "    </tr>\n",
       "  </tbody>\n",
       "</table>\n",
       "</div>"
      ],
      "text/plain": [
       "                                title  cluster  \\\n",
       "0               100 Years of Solitude        1   \n",
       "1     The 1990s Newbery Medal Winners        1   \n",
       "2                   Absalom, Absalom!        1   \n",
       "3    Alice's Adventures in Wonderland        1   \n",
       "4  American Poets of the 20th Century        1   \n",
       "\n",
       "                                               words  \n",
       "0  [world, characters, published, writing, wars, ...  \n",
       "1  [world, characters, published, writing, wars, ...  \n",
       "2  [world, characters, published, writing, wars, ...  \n",
       "3  [world, characters, published, writing, wars, ...  \n",
       "4  [world, characters, published, writing, wars, ...  "
      ]
     },
     "execution_count": 349,
     "metadata": {},
     "output_type": "execute_result"
    }
   ],
   "source": [
    "frame.head()"
   ]
  },
  {
   "cell_type": "code",
   "execution_count": 350,
   "metadata": {
    "collapsed": true
   },
   "outputs": [],
   "source": [
    "frame.to_csv('cliff_cluster.csv')"
   ]
  },
  {
   "cell_type": "code",
   "execution_count": 326,
   "metadata": {
    "collapsed": false
   },
   "outputs": [
    {
     "data": {
      "text/plain": [
       "1    115\n",
       "2    112\n",
       "0     47\n",
       "4     40\n",
       "3     11\n",
       "Name: cluster, dtype: int64"
      ]
     },
     "execution_count": 326,
     "metadata": {},
     "output_type": "execute_result"
    }
   ],
   "source": [
    "frame['cluster'].value_counts()"
   ]
  },
  {
   "cell_type": "code",
   "execution_count": null,
   "metadata": {
    "collapsed": true
   },
   "outputs": [],
   "source": [
    "for title in frame.ix[i]['title'].values.tolist():\n",
    "        print(' %s,' % title, end='')"
   ]
  },
  {
   "cell_type": "code",
   "execution_count": 317,
   "metadata": {
    "collapsed": false
   },
   "outputs": [
    {
     "data": {
      "text/plain": [
       "5"
      ]
     },
     "execution_count": 317,
     "metadata": {},
     "output_type": "execute_result"
    }
   ],
   "source": [
    "len(km.cluster_centers_)"
   ]
  },
  {
   "cell_type": "code",
   "execution_count": 259,
   "metadata": {
    "collapsed": false
   },
   "outputs": [
    {
     "data": {
      "text/plain": [
       "1278"
      ]
     },
     "execution_count": 259,
     "metadata": {},
     "output_type": "execute_result"
    }
   ],
   "source": [
    "len(order_centroids[0])"
   ]
  },
  {
   "cell_type": "code",
   "execution_count": 325,
   "metadata": {
    "collapsed": false
   },
   "outputs": [
    {
     "data": {
      "text/plain": [
       "[0, 1, 2, 3, 4, 5, 6, 7, 8, 9, 10, 11, 12, 13]"
      ]
     },
     "execution_count": 325,
     "metadata": {},
     "output_type": "execute_result"
    }
   ],
   "source": []
  },
  {
   "cell_type": "code",
   "execution_count": 323,
   "metadata": {
    "collapsed": false
   },
   "outputs": [
    {
     "name": "stdout",
     "output_type": "stream",
     "text": [
      "Top terms per cluster:\n",
      "Cluster 0 words:\n",
      " mrs.\n",
      " de\n",
      " daughter\n",
      " lady\n",
      " marry\n",
      " duke\n",
      " The Age of Innocence,\n",
      " All's Well That Ends Well,\n",
      " The Ambassadors,\n",
      " The American,\n",
      " As You Like It,\n",
      " Bleak House,\n",
      " Comedy of Errors,\n",
      " The Count of Monte Cristo,\n",
      " The Crucible,\n",
      " Cyrano de Bergerac,\n",
      " A Doll's House,\n",
      " Don Quixote,\n",
      " Dream of the Red Chamber,\n",
      " Emma,\n",
      " Hedda Gabler,\n",
      " The House of Mirth,\n",
      " The Importance of Being Earnest,\n",
      " Ivanhoe,\n",
      " Le Père Goriot,\n",
      " Les Miserables,\n",
      " Madame Bovary,\n",
      " Major Barbara,\n",
      " The Mayor of Casterbridge,\n",
      " Measure for  Measure,\n",
      " The Merchant of Venice,\n",
      " The Merry Wives of Windsor,\n",
      " The Misanthrope,\n",
      " Mrs. Dalloway,\n",
      " Nana,\n",
      " Othello,\n",
      " Our Town,\n",
      " Phaedra,\n",
      " The Pickwick Papers,\n",
      " The Portrait of a Lady,\n",
      " Pride and Prejudice,\n",
      " The Red and the Black,\n",
      " The Return of the Native,\n",
      " Sense and Sensibility,\n",
      " St. Joan,\n",
      " The Taming of the Shrew,\n",
      " Tartuffe,\n",
      " The Three Musketeers,\n",
      " Two Gentlemen of Verona,\n",
      " Vanity Fair,\n",
      " Volpone,\n",
      " The Way of the World,\n",
      " The Wild Duck,\n",
      "Cluster 1 words:\n",
      " world\n",
      " characters\n",
      " published\n",
      " writing\n",
      " wars\n",
      " human\n",
      " 100 Years of Solitude,\n",
      " The 1990s Newbery Medal Winners,\n",
      " Absalom, Absalom!,\n",
      " Alice's Adventures in Wonderland,\n",
      " American Poets of the 20th Century,\n",
      " An American Tragedy,\n",
      " Anna Karenina,\n",
      " Anthem,\n",
      " Antony and Cleopatra,\n",
      " Arrowsmith,\n",
      " The Assistant,\n",
      " Atlas Shrugged,\n",
      " The Autobiography of Benjamin Franklin,\n",
      " The Autobiography of Malcolm X,\n",
      " Babbitt,\n",
      " The Bean Trees,\n",
      " Bless Me, Ultima,\n",
      " Bradbury's Short Stories,\n",
      " Brave New World,\n",
      " The Canterbury Tales,\n",
      " Catch-22,\n",
      " Catching Fire (Book 2 of The Hunger Games Trilogy),\n",
      " The Chosen,\n",
      " Concerning the Principles of Morals,\n",
      " Cry, the Beloved Country,\n",
      " The Day of the Locust,\n",
      " Demian,\n",
      " The Devil in the White City,\n",
      " The Diary of Anne Frank,\n",
      " A Different Drummer,\n",
      " The Divine Comedy: Inferno,\n",
      " Doctor Faustus,\n",
      " Dubliners,\n",
      " The Education of Henry Adams,\n",
      " Emerson's Essays,\n",
      " Emily Dickinson's Poems,\n",
      " An Essay Concerning Human Understanding,\n",
      " Ethics,\n",
      " Euthyphro, Apology, Crito, and Phaedo,\n",
      " Faulkner's Short Stories,\n",
      " Faust, Parts 1 and 2,\n",
      " The Federalist,\n",
      " The Flies,\n",
      " Flowers for Algernon,\n",
      " For Whom the Bell Tolls,\n",
      " The Fountainhead,\n",
      " The French Lieutenant's Woman,\n",
      " Gallic Wars,\n",
      " The Girl with the Dragon Tattoo,\n",
      " The Grapes of Wrath,\n",
      " The Guernsey Literary and Potato Peel Pie Society,\n",
      " Hard Times,\n",
      " Hemingway's Short Stories,\n",
      " Herzog,\n",
      " I Know Why the Caged Bird Sings,\n",
      " Idylls of the King,\n",
      " In Cold Blood,\n",
      " Incidents in the Life of a Slave Girl,\n",
      " Inherit the Wind,\n",
      " Ishmael,\n",
      " Jane Eyre,\n",
      " Joseph Andrews,\n",
      " The Joy Luck Club,\n",
      " The Jungle,\n",
      " Keats' Poems,\n",
      " The Killer Angels,\n",
      " The Kite Runner,\n",
      " Leaves of Grass,\n",
      " The Magic Mountain,\n",
      " Main Street,\n",
      " Man and Superman,\n",
      " The Metamorphosis and Other Stories,\n",
      " Miss Lonelyhearts,\n",
      " Much Ado About Nothing,\n",
      " Mythology,\n",
      " New Testament of the Bible,\n",
      " No Exit,\n",
      " Notes from Underground,\n",
      " O'Connor's Short Stories,\n",
      " Old Testament of the Bible,\n",
      " One Flew Over the Cuckoo's Nest,\n",
      " The Ox-Bow Incident,\n",
      " Paradise Lost,\n",
      " The Plague,\n",
      " Poe's Short Stories,\n",
      " A Portrait of the Artist as a Young Man,\n",
      " The Power and the Glory,\n",
      " The Prelude,\n",
      " The Prince,\n",
      " The Red Pony, Chrysanthemums, and Flight,\n",
      " Republic,\n",
      " The Rise of Silas Lapham,\n",
      " Shakespeare's Sonnets,\n",
      " Shelley's Poems,\n",
      " Siddhartha,\n",
      " Slaughterhouse-Five,\n",
      " Snow Falling on Cedars,\n",
      " Something Wicked This Way Comes,\n",
      " St. Augustine's Confessions,\n",
      " Steppenwolf,\n",
      " The Stranger,\n",
      " Tender Is the Night,\n",
      " Their Eyes Were Watching God,\n",
      " The Things They Carried,\n",
      " Thoreau, Emerson, and Transcendentalism,\n",
      " The Trial,\n",
      " Ulysses,\n",
      " The Unvanquished,\n",
      " Utopia & Utopian Literature,\n",
      " Waiting for Godot,\n",
      " Walden,\n",
      " War and Peace,\n",
      " Who's Afraid of Virginia Woolf,\n",
      " Winesburg, Ohio,\n",
      " The Worldly Philosophers,\n",
      "Cluster 2 words:\n",
      " mother\n",
      " boy\n",
      " house\n",
      " tom\n",
      " go\n",
      " black\n",
      " 12 Years a Slave,\n",
      " Adam Bede,\n",
      " The Adventures of Tom Sawyer,\n",
      " The Alchemist,\n",
      " All the Light We Cannot See,\n",
      " All the Pretty Horses,\n",
      " All Quiet on the Western Front,\n",
      " Arms and the Man,\n",
      " As I Lay Dying,\n",
      " The Awakening,\n",
      " Bartleby, the Scrivener,\n",
      " The Bell Jar,\n",
      " Beloved,\n",
      " Black Boy,\n",
      " Black Elk Speaks,\n",
      " The Bluest Eye,\n",
      " The Book Thief,\n",
      " The Brothers Karamazov,\n",
      " The Call of the Wild,\n",
      " The Color Purple,\n",
      " The Contender,\n",
      " Crime and Punishment,\n",
      " Daisy Miller,\n",
      " David Copperfield,\n",
      " Death Comes for the Archbishop,\n",
      " Death of a Salesman,\n",
      " The Deerslayer,\n",
      " Don Juan,\n",
      " Dr. Jekyll and Mr. Hyde,\n",
      " An Enemy of the People,\n",
      " Ethan Frome,\n",
      " Fahrenheit 451,\n",
      " Far from the Madding Crowd,\n",
      " A Farewell to Arms,\n",
      " Farewell to Manzanar,\n",
      " Fathers and Sons,\n",
      " Ghosts,\n",
      " Giants in the Earth,\n",
      " The Giver,\n",
      " The Glass Castle,\n",
      " The Glass Menagerie,\n",
      " Go Set a Watchman,\n",
      " Go Tell It on the Mountain,\n",
      " The Good Earth,\n",
      " Green Mansions,\n",
      " The Handmaid's Tale,\n",
      " The Help,\n",
      " Hiroshima,\n",
      " The Hobbit,\n",
      " House Made of Dawn,\n",
      " The House of the Seven Gables,\n",
      " The House on Mango Street & Woman Hollering Creek & Other Stories,\n",
      " The Idiot,\n",
      " Into the Wild,\n",
      " Invisible Man,\n",
      " Jude the Obscure,\n",
      " Julius Caesar,\n",
      " The Kitchen God's Wife,\n",
      " The Last of the Mohicans,\n",
      " The Last Song,\n",
      " A Lesson Before Dying,\n",
      " Life of Pi,\n",
      " Light in August,\n",
      " The Light in the Forest,\n",
      " A Long Way Gone,\n",
      " Lord Jim,\n",
      " The Lord of the Rings,\n",
      " A Midsummer Night's Dream,\n",
      " The Mill on the Floss,\n",
      " Mockingjay (Book 3 of The Hunger Games Trilogy),\n",
      " Moll Flanders,\n",
      " My Ántonia,\n",
      " Night,\n",
      " The Notebook,\n",
      " The Old Man and the Sea,\n",
      " Oliver Twist,\n",
      " One Day in the Life of Ivan Denisovich,\n",
      " The Outsiders,\n",
      " A Passage to India,\n",
      " The Pearl,\n",
      " The Picture of Dorian Gray,\n",
      " The Pilgrim's Progress,\n",
      " The Poisonwood Bible,\n",
      " The Prince and the Pauper,\n",
      " Pygmalion,\n",
      " A Raisin in the Sun,\n",
      " The Red Badge of Courage,\n",
      " The Road,\n",
      " The Secret Life of Bees,\n",
      " A Separate Peace,\n",
      " Silas Marner,\n",
      " Sister Carrie,\n",
      " Song of Solomon,\n",
      " The Sound and the Fury,\n",
      " Speak,\n",
      " A Streetcar Named Desire,\n",
      " Sula,\n",
      " The Sun Also Rises,\n",
      " Tess of the d'Urbervilles,\n",
      " Things Fall Apart,\n",
      " A Thousand Splendid Suns,\n",
      " A Tree Grows in Brooklyn,\n",
      " Tristram Shandy,\n",
      " The Turn of the Screw,\n",
      " Unbroken,\n",
      " Uncle Tom's Cabin,\n",
      " Victory,\n",
      " A Walk to Remember,\n",
      " The Way of All Flesh,\n",
      " White Fang,\n",
      " The Woman Warrior,\n",
      " A Yellow Raft in Blue Water,\n",
      "Cluster 3 words:\n",
      " ships\n",
      " captain\n",
      " island\n",
      " slave\n",
      " sea\n",
      " england\n",
      " Benito Cereno,\n",
      " Billy Budd,\n",
      " Candide,\n",
      " Dracula,\n",
      " Gulliver's Travels,\n",
      " Moby-Dick,\n",
      " The Mutiny on the Bounty,\n",
      " Narrative of the Life of Frederick Douglass: An American Slave,\n",
      " Robinson Crusoe,\n",
      " The Secret Sharer,\n",
      " Treasure Island,\n",
      "Cluster 4 words:\n",
      " king\n",
      " major\n",
      " sir\n",
      " genres\n",
      " motifs\n",
      " thematic\n",
      " 1984,\n",
      " The Adventures of Huckleberry Finn,\n",
      " Aeneid,\n",
      " Agamemnon, The Choephori, and The Eumenides,\n",
      " All the King's Men,\n",
      " Andromache,\n",
      " Animal Farm,\n",
      " Beowulf,\n",
      " The Catcher in the Rye,\n",
      " A Connecticut Yankee in King Arthur's Court,\n",
      " Frankenstein,\n",
      " Great Expectations,\n",
      " The Great Gatsby,\n",
      " Hamlet,\n",
      " Heart of Darkness,\n",
      " Henry V,\n",
      " The Hunger Games,\n",
      " The Iliad,\n",
      " King Henry IV, Part 1,\n",
      " King Lear,\n",
      " Le Morte d'Arthur,\n",
      " Lord of the Flies,\n",
      " Love's Labour's Lost,\n",
      " Macbeth,\n",
      " The Odyssey,\n",
      " The Oedipus Trilogy,\n",
      " Of Mice and Men,\n",
      " The Once and Future King,\n",
      " Richard II,\n",
      " Richard III,\n",
      " Romeo and Juliet,\n",
      " The Scarlet Letter,\n",
      " Sir Gawain and the Green Knight,\n",
      " A Tale of Two Cities,\n",
      " The Tempest,\n",
      " Three Weeks with My Brother,\n",
      " To Kill a Mockingbird,\n",
      " Twelfth Night,\n",
      " The Winter's Tale,\n",
      " Wuthering Heights,\n"
     ]
    }
   ],
   "source": [
    "print(\"Top terms per cluster:\")\n",
    "#sort cluster centers by proximity to centroid\n",
    "order_centroids = km.cluster_centers_.argsort()[:, ::-1] \n",
    "\n",
    "for i in range(num_clusters):\n",
    "    print \"Cluster %d words:\" % i\n",
    "    \n",
    "    for ind in order_centroids[i, :6]: #replace 6 with n words per cluster\n",
    "        print ' %s' % vocab_frame.ix[terms[ind].split(' ')].values.tolist()[0][0].encode('utf-8', 'ignore')\n",
    "    \n",
    "    for title in frame.ix[i]['title'].values.tolist():\n",
    "        print ' %s,' % title"
   ]
  },
  {
   "cell_type": "code",
   "execution_count": null,
   "metadata": {
    "collapsed": true
   },
   "outputs": [],
   "source": [
    "#ward hierarchal clustering"
   ]
  },
  {
   "cell_type": "code",
   "execution_count": 203,
   "metadata": {
    "collapsed": true
   },
   "outputs": [],
   "source": [
    "from sklearn.neighbors import kneighbors_graph\n"
   ]
  },
  {
   "cell_type": "code",
   "execution_count": 218,
   "metadata": {
    "collapsed": false
   },
   "outputs": [],
   "source": [
    "connectivity = kneighbors_graph(tfidf_matrix, n_neighbors=5, include_self=False)"
   ]
  },
  {
   "cell_type": "code",
   "execution_count": 225,
   "metadata": {
    "collapsed": false
   },
   "outputs": [],
   "source": [
    "ward = cluster.AgglomerativeClustering(n_clusters=6, linkage='ward',connectivity=connectivity)"
   ]
  },
  {
   "cell_type": "code",
   "execution_count": 226,
   "metadata": {
    "collapsed": false
   },
   "outputs": [],
   "source": [
    "y=tfidf_matrix.todense()"
   ]
  },
  {
   "cell_type": "code",
   "execution_count": 227,
   "metadata": {
    "collapsed": false
   },
   "outputs": [
    {
     "data": {
      "text/plain": [
       "AgglomerativeClustering(affinity='euclidean', compute_full_tree='auto',\n",
       "            connectivity=<325x325 sparse matrix of type '<type 'numpy.float64'>'\n",
       "\twith 1625 stored elements in Compressed Sparse Row format>,\n",
       "            linkage='ward', memory=Memory(cachedir=None), n_clusters=6,\n",
       "            n_components=None, pooling_func=<function mean at 0x106642cf8>)"
      ]
     },
     "execution_count": 227,
     "metadata": {},
     "output_type": "execute_result"
    }
   ],
   "source": [
    "ward.fit(y)\n"
   ]
  },
  {
   "cell_type": "code",
   "execution_count": 228,
   "metadata": {
    "collapsed": false
   },
   "outputs": [],
   "source": [
    "clusters = ward.labels_.tolist()"
   ]
  },
  {
   "cell_type": "code",
   "execution_count": 229,
   "metadata": {
    "collapsed": true
   },
   "outputs": [],
   "source": [
    "films = { 'title': cliff_title,'synopsis': cliff_syn, 'cluster': clusters }\n",
    "\n",
    "frame = pd.DataFrame(films, index = [clusters] , columns = [ 'title', 'cluster'])"
   ]
  },
  {
   "cell_type": "code",
   "execution_count": 230,
   "metadata": {
    "collapsed": false
   },
   "outputs": [
    {
     "data": {
      "text/plain": [
       "0    303\n",
       "2      6\n",
       "1      6\n",
       "4      4\n",
       "5      3\n",
       "3      3\n",
       "Name: cluster, dtype: int64"
      ]
     },
     "execution_count": 230,
     "metadata": {},
     "output_type": "execute_result"
    }
   ],
   "source": [
    "frame['cluster'].value_counts()"
   ]
  },
  {
   "cell_type": "code",
   "execution_count": null,
   "metadata": {
    "collapsed": true
   },
   "outputs": [],
   "source": [
    "#cosine linkage"
   ]
  },
  {
   "cell_type": "code",
   "execution_count": 232,
   "metadata": {
    "collapsed": true
   },
   "outputs": [],
   "source": [
    "agglo_cluster = cluster.AgglomerativeClustering(linkage=\"average\", affinity=\"cosine\", n_clusters=4,connectivity=connectivity)"
   ]
  },
  {
   "cell_type": "code",
   "execution_count": 233,
   "metadata": {
    "collapsed": false
   },
   "outputs": [
    {
     "data": {
      "text/plain": [
       "AgglomerativeClustering(affinity='cosine', compute_full_tree='auto',\n",
       "            connectivity=<325x325 sparse matrix of type '<type 'numpy.float64'>'\n",
       "\twith 1625 stored elements in Compressed Sparse Row format>,\n",
       "            linkage='average', memory=Memory(cachedir=None), n_clusters=4,\n",
       "            n_components=None, pooling_func=<function mean at 0x106642cf8>)"
      ]
     },
     "execution_count": 233,
     "metadata": {},
     "output_type": "execute_result"
    }
   ],
   "source": [
    "agglo_cluster.fit(y)"
   ]
  },
  {
   "cell_type": "code",
   "execution_count": 234,
   "metadata": {
    "collapsed": false
   },
   "outputs": [],
   "source": [
    "clusters = agglo_cluster.labels_.tolist()"
   ]
  },
  {
   "cell_type": "code",
   "execution_count": 235,
   "metadata": {
    "collapsed": true
   },
   "outputs": [],
   "source": [
    "films = { 'title': cliff_title,'synopsis': cliff_syn, 'cluster': clusters }\n",
    "\n",
    "frame = pd.DataFrame(films, index = [clusters] , columns = [ 'title', 'cluster'])"
   ]
  },
  {
   "cell_type": "code",
   "execution_count": 236,
   "metadata": {
    "collapsed": false
   },
   "outputs": [
    {
     "data": {
      "text/plain": [
       "0    322\n",
       "3      1\n",
       "2      1\n",
       "1      1\n",
       "Name: cluster, dtype: int64"
      ]
     },
     "execution_count": 236,
     "metadata": {},
     "output_type": "execute_result"
    }
   ],
   "source": [
    "frame['cluster'].value_counts()"
   ]
  },
  {
   "cell_type": "code",
   "execution_count": null,
   "metadata": {
    "collapsed": false
   },
   "outputs": [],
   "source": []
  },
  {
   "cell_type": "code",
   "execution_count": null,
   "metadata": {
    "collapsed": true
   },
   "outputs": [],
   "source": []
  }
 ],
 "metadata": {
  "kernelspec": {
   "display_name": "Python 2",
   "language": "python",
   "name": "python2"
  },
  "language_info": {
   "codemirror_mode": {
    "name": "ipython",
    "version": 2
   },
   "file_extension": ".py",
   "mimetype": "text/x-python",
   "name": "python",
   "nbconvert_exporter": "python",
   "pygments_lexer": "ipython2",
   "version": "2.7.11"
  }
 },
 "nbformat": 4,
 "nbformat_minor": 0
}
