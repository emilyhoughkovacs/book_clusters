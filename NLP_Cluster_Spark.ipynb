{
 "cells": [
  {
   "cell_type": "code",
   "execution_count": 4,
   "metadata": {
    "collapsed": true
   },
   "outputs": [],
   "source": [
    "\n",
    "import pandas as pd\n",
    "import nltk\n",
    "import datetime\n",
    "import sys\n",
    "from nltk import sent_tokenize, word_tokenize, pos_tag\n",
    "from nltk.tokenize import TreebankWordTokenizer\n",
    "from nltk.tokenize import wordpunct_tokenize\n",
    "from nltk.chunk import ne_chunk\n",
    "from nltk.corpus import treebank_chunk\n",
    "from textblob import TextBlob\n",
    "import re\n",
    "from nltk.corpus import stopwords\n",
    "from nltk.util import ngrams\n",
    "from collections import defaultdict\n",
    "from operator import itemgetter\n",
    "from nltk.stem.snowball import SnowballStemmer\n",
    "from __future__ import division\n",
    "%matplotlib inline  \n",
    "from sklearn.feature_extraction.text import TfidfVectorizer\n",
    "from sklearn.cluster import KMeans\n",
    "from sklearn.feature_extraction.text import CountVectorizer\n",
    "import math\n",
    "from sklearn.feature_extraction.text import TfidfTransformer\n",
    "\n",
    "from collections import defaultdict\n",
    "\n",
    "from gensim import corpora, models, similarities\n",
    "\n",
    "from __future__ import division\n",
    "\n",
    "import pandas as pd\n",
    "import pyLDAvis\n",
    "import graphlab as gl\n",
    "import pyLDAvis.graphlab\n",
    "import pyLDAvis.gensim as gensimvis\n",
    "from nltk.stem.snowball import SnowballStemmer\n",
    "stemmer = SnowballStemmer(\"english\")"
   ]
  },
  {
   "cell_type": "code",
   "execution_count": 5,
   "metadata": {
    "collapsed": true
   },
   "outputs": [],
   "source": [
    "##Import and clean data"
   ]
  },
  {
   "cell_type": "code",
   "execution_count": null,
   "metadata": {
    "collapsed": true
   },
   "outputs": [],
   "source": []
  },
  {
   "cell_type": "code",
   "execution_count": 435,
   "metadata": {
    "collapsed": true
   },
   "outputs": [],
   "source": [
    "url='<option value=*>'\n"
   ]
  },
  {
   "cell_type": "code",
   "execution_count": 439,
   "metadata": {
    "collapsed": false
   },
   "outputs": [
    {
     "data": {
      "text/plain": [
       "'<option value=1984>'"
      ]
     },
     "execution_count": 439,
     "metadata": {},
     "output_type": "execute_result"
    }
   ],
   "source": [
    "urls[0]"
   ]
  },
  {
   "cell_type": "code",
   "execution_count": 436,
   "metadata": {
    "collapsed": true
   },
   "outputs": [],
   "source": [
    "urls=[]"
   ]
  },
  {
   "cell_type": "code",
   "execution_count": 438,
   "metadata": {
    "collapsed": false
   },
   "outputs": [],
   "source": [
    "for i in spark_title:\n",
    "    urls.append(url.replace('*',i))"
   ]
  },
  {
   "cell_type": "code",
   "execution_count": null,
   "metadata": {
    "collapsed": true
   },
   "outputs": [],
   "source": []
  },
  {
   "cell_type": "code",
   "execution_count": 431,
   "metadata": {
    "collapsed": false
   },
   "outputs": [],
   "source": [
    "q=pd.DataFrame()"
   ]
  },
  {
   "cell_type": "code",
   "execution_count": 432,
   "metadata": {
    "collapsed": true
   },
   "outputs": [],
   "source": [
    "q['d']=urls"
   ]
  },
  {
   "cell_type": "code",
   "execution_count": 433,
   "metadata": {
    "collapsed": true
   },
   "outputs": [],
   "source": [
    "q.to_csv('names.csv')"
   ]
  },
  {
   "cell_type": "code",
   "execution_count": 447,
   "metadata": {
    "collapsed": false
   },
   "outputs": [],
   "source": [
    "book_spark=pd.read_csv('spark.csv',index_col=0)"
   ]
  },
  {
   "cell_type": "code",
   "execution_count": 448,
   "metadata": {
    "collapsed": false
   },
   "outputs": [],
   "source": [
    "book_spark['spark_title']=book_spark['spark_title'].astype(str)"
   ]
  },
  {
   "cell_type": "code",
   "execution_count": 7,
   "metadata": {
    "collapsed": false
   },
   "outputs": [],
   "source": [
    "spark_title=list(book_spark['spark_title'])"
   ]
  },
  {
   "cell_type": "code",
   "execution_count": 8,
   "metadata": {
    "collapsed": false
   },
   "outputs": [],
   "source": [
    "spark_syn=list(book_spark['spark_summary'])"
   ]
  },
  {
   "cell_type": "code",
   "execution_count": 450,
   "metadata": {
    "collapsed": false
   },
   "outputs": [],
   "source": [
    "book_spark.to_csv('sparks.csv')"
   ]
  },
  {
   "cell_type": "code",
   "execution_count": 491,
   "metadata": {
    "collapsed": false
   },
   "outputs": [],
   "source": [
    "#book_spark"
   ]
  },
  {
   "cell_type": "code",
   "execution_count": 9,
   "metadata": {
    "collapsed": false
   },
   "outputs": [],
   "source": [
    "stop_books = stopwords.words('english')\n",
    "#stop_books+=stopwords.words('spanish')\n",
    "stop_books += ['.', ',', '(', ')', \"'\", '\"',u'novel',u'books',\n",
    "               u'published',u'characters',u'works',u'mr.',u'ms.'\n",
    "              ,u\"'s\",u\"time\",u\"only\",u\"n't\",u\"book\",u'life',u'one',\n",
    "          u'story',u'one',u'story',u'tells',u'things','..',\"&\",\"must\",'new','like',\"she's\",\"he's\",\"gets\",\"-\",\"--\",\"/\",\":\",\"shes\",\"hes\",\n",
    "              \"get\",\"like\",\"--the\",'\"the','says','two','him.']"
   ]
  },
  {
   "cell_type": "code",
   "execution_count": 10,
   "metadata": {
    "collapsed": false
   },
   "outputs": [],
   "source": [
    "texts=[[word for word in document.lower().split() \n",
    "        if word not in stop_books] for document in spark_syn]"
   ]
  },
  {
   "cell_type": "code",
   "execution_count": 11,
   "metadata": {
    "collapsed": true
   },
   "outputs": [],
   "source": [
    "frequency=defaultdict(int)"
   ]
  },
  {
   "cell_type": "code",
   "execution_count": 12,
   "metadata": {
    "collapsed": true
   },
   "outputs": [],
   "source": [
    "for text in texts:\n",
    "    for token in text:\n",
    "        frequency[token] += 1"
   ]
  },
  {
   "cell_type": "code",
   "execution_count": 13,
   "metadata": {
    "collapsed": true
   },
   "outputs": [],
   "source": [
    "texts=[[token for token in text if frequency[token]>1] for text in texts]"
   ]
  },
  {
   "cell_type": "code",
   "execution_count": 14,
   "metadata": {
    "collapsed": true
   },
   "outputs": [],
   "source": [
    "dictionary = corpora.Dictionary(texts)"
   ]
  },
  {
   "cell_type": "code",
   "execution_count": 15,
   "metadata": {
    "collapsed": true
   },
   "outputs": [],
   "source": [
    "corpus = [dictionary.doc2bow(text) for text in texts]"
   ]
  },
  {
   "cell_type": "code",
   "execution_count": 125,
   "metadata": {
    "collapsed": true
   },
   "outputs": [],
   "source": [
    "#Models"
   ]
  },
  {
   "cell_type": "code",
   "execution_count": 16,
   "metadata": {
    "collapsed": true
   },
   "outputs": [],
   "source": [
    "lsi = models.LsiModel(corpus, id2word=dictionary,num_topics=14) #num_topics=\n"
   ]
  },
  {
   "cell_type": "code",
   "execution_count": 17,
   "metadata": {
    "collapsed": true
   },
   "outputs": [],
   "source": [
    "tfidf=models.TfidfModel(corpus,id2word=dictionary)\n"
   ]
  },
  {
   "cell_type": "code",
   "execution_count": 18,
   "metadata": {
    "collapsed": false
   },
   "outputs": [
    {
     "name": "stderr",
     "output_type": "stream",
     "text": [
      "[WARNING] too few updates, training might not converge; consider increasing the number of passes or iterations to improve accuracy\n"
     ]
    },
    {
     "name": "stdout",
     "output_type": "stream",
     "text": [
      "CPU times: user 3 µs, sys: 0 ns, total: 3 µs\n",
      "Wall time: 5.96 µs\n"
     ]
    }
   ],
   "source": [
    "lda = models.LdaModel(corpus,id2word=dictionary,passes=5,num_topics=4) #num_topics=\n",
    "\n",
    "%time"
   ]
  },
  {
   "cell_type": "code",
   "execution_count": 240,
   "metadata": {
    "collapsed": true
   },
   "outputs": [],
   "source": [
    "#Search/comparison"
   ]
  },
  {
   "cell_type": "code",
   "execution_count": null,
   "metadata": {
    "collapsed": true
   },
   "outputs": [],
   "source": []
  },
  {
   "cell_type": "code",
   "execution_count": 598,
   "metadata": {
    "collapsed": false
   },
   "outputs": [
    {
     "data": {
      "text/plain": [
       "'The Great Gatsby'"
      ]
     },
     "execution_count": 598,
     "metadata": {},
     "output_type": "execute_result"
    }
   ],
   "source": [
    "spark_title[196]"
   ]
  },
  {
   "cell_type": "code",
   "execution_count": 599,
   "metadata": {
    "collapsed": false
   },
   "outputs": [
    {
     "data": {
      "text/plain": [
       "'Nick Carraway, a young man from Minnesota, moves to New York in the summer of 1922 to learn about the bond business. He rents a house in the West Egg district of Long Island, a wealthy but unfashionable area populated by the new rich, a group who have made their fortunes too recently to have established social connections and who are prone to garish displays of wealth. Nick s next-door neighbor in West Egg is a mysterious man named Jay Gatsby, who lives in a gigantic Gothic mansion and throws extravagant parties every Saturday night.,Nick is unlike the other inhabitants of West Egg he was educated at Yale and has social connections in East Egg, a fashionable area of Long Island home to the established upper class. Nick drives out to East Egg one evening for dinner with his cousin, Daisy Buchanan, and her husband, Tom, an erstwhile classmate of Nick s at Yale. Daisy and Tom introduce Nick to Jordan Baker, a beautiful, cynical young woman with whom Nick begins a romantic relationship. Nick also learns a bit about Daisy and Tom s marriage: Jordan tells him that Tom has a lover, Myrtle Wilson, who lives in the valley of ashes, a gray industrial dumping ground between West Egg and New York City. Not long after this revelation, Nick travels to New York City with Tom and Myrtle. At a vulgar, gaudy party in the apartment that Tom keeps for the affair, Myrtle begins to taunt Tom about Daisy, and Tom responds by breaking her nose.,As the summer progresses, Nick eventually garners an invitation to one of Gatsby s legendary parties. He encounters Jordan Baker at the party, and they meet Gatsby himself, a surprisingly young man who affects an English accent, has a remarkable smile, and calls everyone  old sport.  Gatsby asks to speak to Jordan alone, and, through Jordan, Nick later learns more about his mysterious neighbor. Gatsby tells Jordan that he knew Daisy in Louisville in 1917 and is deeply in love with her. He spends many nights staring at the green light at the end of her dock, across the bay from his mansion. Gatsby s extravagant lifestyle and wild parties are simply an attempt to impress Daisy. Gatsby now wants Nick to arrange a reunion between himself and Daisy, but he is afraid that Daisy will refuse to see him if she knows that he still loves her. Nick invites Daisy to have tea at his house, without telling her that Gatsby will also be there. After an initially awkward reunion, Gatsby and Daisy reestablish their connection. Their love rekindled, they begin an affair.,After a short time, Tom grows increasingly suspicious of his wife s relationship with Gatsby. At a luncheon at the Buchanans  house, Gatsby stares at Daisy with such undisguised passion that Tom realizes Gatsby is in love with her. Though Tom is himself involved in an extramarital affair, he is deeply outraged by the thought that his wife could be unfaithful to him. He forces the group to drive into New York City, where he confronts Gatsby in a suite at the Plaza Hotel. Tom asserts that he and Daisy have a history that Gatsby could never understand, and he announces to his wife that Gatsby is a criminal his fortune comes from bootlegging alcohol and other illegal activities. Daisy realizes that her allegiance is to Tom, and Tom contemptuously sends her back to East Egg with Gatsby, attempting to prove that Gatsby cannot hurt him.,When Nick, Jordan, and Tom drive through the valley of ashes, however, they discover that Gatsby s car has struck and killed Myrtle, Tom s lover. They rush back to Long Island, where Nick learns from Gatsby that Daisy was driving the car when it struck Myrtle, but that Gatsby intends to take the blame. The next day, Tom tells Myrtle s husband, George, that Gatsby was the driver of the car. George, who has leapt to the conclusion that the driver of the car that killed Myrtle must have been her lover, finds Gatsby in the pool at his mansion and shoots him dead. He then fatally shoots himself.,Nick stages a small funeral for Gatsby, ends his relationship with Jordan, and moves back to the Midwest to escape the disgust he feels for the people surrounding Gatsby s life and for the emptiness and moral decay of life among the wealthy on the East Coast. Nick reflects that just as Gatsby s dream of Daisy was corrupted by money and dishonesty, the American dream of happiness and individualism has disintegrated into the mere pursuit of wealth. Though Gatsby s power to transform his dreams into reality is what makes him  great,  Nick reflects that the era of dreaming both Gatsby s dream and the American dream is over.'"
      ]
     },
     "execution_count": 599,
     "metadata": {},
     "output_type": "execute_result"
    }
   ],
   "source": [
    "spark_syn[196]"
   ]
  },
  {
   "cell_type": "code",
   "execution_count": 611,
   "metadata": {
    "collapsed": false
   },
   "outputs": [],
   "source": [
    "query=spark_syn[196]"
   ]
  },
  {
   "cell_type": "code",
   "execution_count": 612,
   "metadata": {
    "collapsed": true
   },
   "outputs": [],
   "source": [
    "search = query"
   ]
  },
  {
   "cell_type": "code",
   "execution_count": 613,
   "metadata": {
    "collapsed": true
   },
   "outputs": [],
   "source": [
    "search_vec = dictionary.doc2bow(search.lower().split())"
   ]
  },
  {
   "cell_type": "code",
   "execution_count": 614,
   "metadata": {
    "collapsed": false
   },
   "outputs": [
    {
     "name": "stderr",
     "output_type": "stream",
     "text": [
      "[WARNING] scanning corpus to determine the number of features (consider setting `num_features` explicitly)\n"
     ]
    }
   ],
   "source": [
    "#lsi vector search,index\n",
    "vec_lsi = lsi[search_vec]\n",
    "index_lsi = similarities.MatrixSimilarity(lsi[corpus])\n",
    "sims_lsi = index_lsi[vec_lsi]"
   ]
  },
  {
   "cell_type": "code",
   "execution_count": 615,
   "metadata": {
    "collapsed": false
   },
   "outputs": [
    {
     "name": "stderr",
     "output_type": "stream",
     "text": [
      "[WARNING] scanning corpus to determine the number of features (consider setting `num_features` explicitly)\n"
     ]
    }
   ],
   "source": [
    "#tfidf vector,search and index\n",
    "vec_tfidf=tfidf[search_vec]\n",
    "index_tfidf = similarities.MatrixSimilarity(tfidf[corpus])\n",
    "sims_tfidf=index_tfidf[vec_tfidf]"
   ]
  },
  {
   "cell_type": "code",
   "execution_count": 616,
   "metadata": {
    "collapsed": false
   },
   "outputs": [
    {
     "name": "stderr",
     "output_type": "stream",
     "text": [
      "[WARNING] scanning corpus to determine the number of features (consider setting `num_features` explicitly)\n"
     ]
    }
   ],
   "source": [
    "#lda model and vector\n",
    "vec_lda=lda[search_vec]\n",
    "index_lda=similarities.MatrixSimilarity(lda[corpus])\n",
    "sims_lda=index_lda[vec_lda]\n"
   ]
  },
  {
   "cell_type": "code",
   "execution_count": 617,
   "metadata": {
    "collapsed": false
   },
   "outputs": [
    {
     "name": "stderr",
     "output_type": "stream",
     "text": [
      "[WARNING] scanning corpus to determine the number of features (consider setting `num_features` explicitly)\n"
     ]
    }
   ],
   "source": [
    "#index and search regular model\n",
    "index = similarities.MatrixSimilarity(corpus)\n",
    "sims=index[search_vec]"
   ]
  },
  {
   "cell_type": "code",
   "execution_count": 618,
   "metadata": {
    "collapsed": true
   },
   "outputs": [],
   "source": [
    "#get top results"
   ]
  },
  {
   "cell_type": "code",
   "execution_count": 619,
   "metadata": {
    "collapsed": false
   },
   "outputs": [],
   "source": [
    "lda_top = sorted(enumerate(sims_lda), key=lambda item: -item[1])\n",
    "lsi_top = sorted(enumerate(sims_lsi), key=lambda item: -item[1])\n",
    "tfidf_top = sorted(enumerate(sims_tfidf), key=lambda item: -item[1])\n",
    "bag_top = sorted(enumerate(sims), key=lambda item: -item[1])"
   ]
  },
  {
   "cell_type": "code",
   "execution_count": 620,
   "metadata": {
    "collapsed": false
   },
   "outputs": [],
   "source": [
    "combined=(sims_lsi*5+sims_lda*.5+sims_tfidf)/2\n",
    "comb_top= sorted(enumerate(combined), key=lambda item: -item[1])"
   ]
  },
  {
   "cell_type": "code",
   "execution_count": 621,
   "metadata": {
    "collapsed": false,
    "scrolled": true
   },
   "outputs": [
    {
     "name": "stdout",
     "output_type": "stream",
     "text": [
      "('The Great Gatsby', 3.25, 196)\n",
      "(\"Who's Afraid of Virginia Woolf?\", 2.6949365, 547)\n",
      "('The Grapes of Wrath', 2.6944606, 194)\n",
      "('The Glass Menagerie', 2.6859775, 185)\n",
      "('The Adventures of Tom Sawyer', 2.6859412, 7)\n",
      "('The Hours', 2.6734965, 229)\n",
      "('Native Son', 2.6611631, 358)\n",
      "('When the Legends Die', 2.6544785, 542)\n",
      "('Lolita', 2.6443386, 298)\n",
      "('A Streetcar Named Desire', 2.642144, 483)\n"
     ]
    }
   ],
   "source": [
    "for i in range(0,10):\n",
    "    print (spark_title[comb_top[i][0]],comb_top[i][1],comb_top[i][0])\n"
   ]
  },
  {
   "cell_type": "code",
   "execution_count": null,
   "metadata": {
    "collapsed": false
   },
   "outputs": [],
   "source": []
  },
  {
   "cell_type": "code",
   "execution_count": 625,
   "metadata": {
    "collapsed": false
   },
   "outputs": [
    {
     "name": "stdout",
     "output_type": "stream",
     "text": [
      "('The Great Gatsby', 1.0, 196)\n",
      "('Daisy Miller', 0.18214376, 122)\n",
      "('When the Legends Die', 0.16498812, 542)\n",
      "('In Our Time', 0.13086538, 253)\n",
      "('Tom Jones', 0.10730635, 508)\n",
      "('Uncle Tom\\xe2\\x80\\x99s Cabin', 0.10617765, 525)\n",
      "('The Adventures of Tom Sawyer', 0.1004753, 7)\n",
      "('For Whom the Bell Tolls', 0.091569677, 172)\n",
      "('The Grapes of Wrath', 0.088610545, 194)\n",
      "(\"Who's Afraid of Virginia Woolf?\", 0.069454931, 547)\n"
     ]
    }
   ],
   "source": [
    "model_top=tfidf_top\n",
    "for i in range(0,10):\n",
    "    print (spark_title[model_top[i][0]],model_top[i][1],model_top[i][0])\n"
   ]
  },
  {
   "cell_type": "code",
   "execution_count": 492,
   "metadata": {
    "collapsed": false
   },
   "outputs": [],
   "source": [
    "#sims_lsi"
   ]
  },
  {
   "cell_type": "code",
   "execution_count": 36,
   "metadata": {
    "collapsed": true
   },
   "outputs": [],
   "source": [
    "df_rec=pd.DataFrame()"
   ]
  },
  {
   "cell_type": "code",
   "execution_count": 37,
   "metadata": {
    "collapsed": false
   },
   "outputs": [],
   "source": [
    "df_rec['lda']=sims_lda\n",
    "df_rec['lsi']=sims_lsi\n",
    "df_rec['tfidf']=sims_tfidf\n"
   ]
  },
  {
   "cell_type": "code",
   "execution_count": 38,
   "metadata": {
    "collapsed": false
   },
   "outputs": [],
   "source": [
    "#df_rec=df_rec.drop(df_rec.index[204])"
   ]
  },
  {
   "cell_type": "code",
   "execution_count": 39,
   "metadata": {
    "collapsed": false
   },
   "outputs": [],
   "source": [
    "df_norm = (df_rec - df_rec.mean()) / (df_rec.max() - df_rec.min())"
   ]
  },
  {
   "cell_type": "code",
   "execution_count": 40,
   "metadata": {
    "collapsed": false
   },
   "outputs": [],
   "source": [
    "df_norm['total']=df_norm['lda']+df_norm['lsi']+df_norm['tfidf']"
   ]
  },
  {
   "cell_type": "code",
   "execution_count": 41,
   "metadata": {
    "collapsed": false
   },
   "outputs": [],
   "source": [
    "df_norm['title']=spark_title"
   ]
  },
  {
   "cell_type": "code",
   "execution_count": 42,
   "metadata": {
    "collapsed": false
   },
   "outputs": [],
   "source": [
    "df_norm=df_norm.sort_values(by=\"total\",ascending=False)"
   ]
  },
  {
   "cell_type": "code",
   "execution_count": 519,
   "metadata": {
    "collapsed": false
   },
   "outputs": [],
   "source": [
    "dd=list(df_norm['title'])"
   ]
  },
  {
   "cell_type": "code",
   "execution_count": 520,
   "metadata": {
    "collapsed": false
   },
   "outputs": [
    {
     "data": {
      "text/plain": [
       "'A Clockwork Orange'"
      ]
     },
     "execution_count": 520,
     "metadata": {},
     "output_type": "execute_result"
    }
   ],
   "source": [
    "dd[0]"
   ]
  },
  {
   "cell_type": "code",
   "execution_count": 43,
   "metadata": {
    "collapsed": false
   },
   "outputs": [
    {
     "data": {
      "text/html": [
       "<div>\n",
       "<table border=\"1\" class=\"dataframe\">\n",
       "  <thead>\n",
       "    <tr style=\"text-align: right;\">\n",
       "      <th></th>\n",
       "      <th>lda</th>\n",
       "      <th>lsi</th>\n",
       "      <th>tfidf</th>\n",
       "      <th>total</th>\n",
       "      <th>title</th>\n",
       "    </tr>\n",
       "  </thead>\n",
       "  <tbody>\n",
       "    <tr>\n",
       "      <th>101</th>\n",
       "      <td>0.688148</td>\n",
       "      <td>0.191981</td>\n",
       "      <td>0.993274</td>\n",
       "      <td>1.873403</td>\n",
       "      <td>A Clockwork Orange</td>\n",
       "    </tr>\n",
       "    <tr>\n",
       "      <th>377</th>\n",
       "      <td>0.688148</td>\n",
       "      <td>0.177333</td>\n",
       "      <td>-0.002967</td>\n",
       "      <td>0.862514</td>\n",
       "      <td>Of Mice and Men</td>\n",
       "    </tr>\n",
       "    <tr>\n",
       "      <th>413</th>\n",
       "      <td>0.688148</td>\n",
       "      <td>0.169396</td>\n",
       "      <td>-0.000022</td>\n",
       "      <td>0.857522</td>\n",
       "      <td>The Power and the Glory</td>\n",
       "    </tr>\n",
       "    <tr>\n",
       "      <th>438</th>\n",
       "      <td>0.688148</td>\n",
       "      <td>0.160163</td>\n",
       "      <td>0.005968</td>\n",
       "      <td>0.854279</td>\n",
       "      <td>Rita Hayworth and the Shawshank Redemption</td>\n",
       "    </tr>\n",
       "    <tr>\n",
       "      <th>383</th>\n",
       "      <td>0.688148</td>\n",
       "      <td>0.161798</td>\n",
       "      <td>0.003054</td>\n",
       "      <td>0.853000</td>\n",
       "      <td>One Day in the Life of Ivan Denisovich</td>\n",
       "    </tr>\n",
       "  </tbody>\n",
       "</table>\n",
       "</div>"
      ],
      "text/plain": [
       "          lda       lsi     tfidf     total  \\\n",
       "101  0.688148  0.191981  0.993274  1.873403   \n",
       "377  0.688148  0.177333 -0.002967  0.862514   \n",
       "413  0.688148  0.169396 -0.000022  0.857522   \n",
       "438  0.688148  0.160163  0.005968  0.854279   \n",
       "383  0.688148  0.161798  0.003054  0.853000   \n",
       "\n",
       "                                          title  \n",
       "101                          A Clockwork Orange  \n",
       "377                             Of Mice and Men  \n",
       "413                     The Power and the Glory  \n",
       "438  Rita Hayworth and the Shawshank Redemption  \n",
       "383      One Day in the Life of Ivan Denisovich  "
      ]
     },
     "execution_count": 43,
     "metadata": {},
     "output_type": "execute_result"
    }
   ],
   "source": [
    "df_norm.head()"
   ]
  },
  {
   "cell_type": "code",
   "execution_count": 635,
   "metadata": {
    "collapsed": false
   },
   "outputs": [],
   "source": [
    "lda = models.LdaModel(corpus,id2word=dictionary,passes=10,num_topics=4) #num_topics=\n"
   ]
  },
  {
   "cell_type": "code",
   "execution_count": 879,
   "metadata": {
    "collapsed": false
   },
   "outputs": [],
   "source": [
    "pyLDAvis.save_html(vis_data,'cliff_lda.html')"
   ]
  },
  {
   "cell_type": "code",
   "execution_count": 634,
   "metadata": {
    "collapsed": false
   },
   "outputs": [
    {
     "data": {
      "text/plain": [
       "u'\\n<link rel=\"stylesheet\" type=\"text/css\" href=\"https://cdn.rawgit.com/bmabey/pyLDAvis/files/ldavis.v1.0.0.css\">\\n\\n\\n<div id=\"ldavis_el239247146747682409335067\"></div>\\n<script type=\"text/javascript\">\\n\\nvar ldavis_el239247146747682409335067_data = {\"plot.opts\": {\"xlab\": \"PC1\", \"ylab\": \"PC2\"}, \"topic.order\": [1, 5, 2, 4, 3], \"token.table\": {\"Topic\": [1, 2, 4, 5, 1, 3, 5, 1, 2, 3, 4, 5, 1, 2, 3, 4, 5, 2, 3, 1, 1, 2, 3, 4, 5, 1, 3, 5, 1, 2, 3, 4, 5, 3, 5, 2, 3, 5, 5, 5, 3, 1, 3, 4, 5, 3, 1, 2, 3, 4, 5, 4, 3, 1, 2, 3, 4, 5, 5, 1, 2, 3, 4, 5, 1, 2, 3, 4, 5, 1, 2, 3, 5, 1, 1, 1, 2, 4, 1, 2, 1, 2, 3, 1, 1, 3, 4, 5, 1, 2, 3, 4, 5, 1, 2, 3, 4, 1, 3, 5, 5, 5, 4, 5, 1, 3, 4, 5, 1, 1, 1, 4, 4, 4, 4, 3, 2, 3, 4, 5, 1, 2, 3, 4, 5, 1, 3, 4, 5, 4, 4, 1, 1, 2, 3, 4, 5, 1, 2, 3, 4, 5, 2, 3, 5, 3, 5, 1, 2, 3, 4, 5, 5, 4, 1, 4, 2, 5, 1, 2, 3, 4, 5, 1, 2, 3, 4, 5, 1, 2, 3, 4, 5, 3, 4, 2, 5, 2, 2, 2, 5, 5, 2, 5, 1, 2, 3, 4, 1, 2, 4, 5, 1, 5, 3, 4, 3, 5, 2, 1, 1, 2, 3, 4, 5, 1, 2, 3, 4, 5, 2, 1, 2, 3, 4, 5, 1, 2, 3, 4, 5, 2, 1, 1, 2, 3, 4, 5, 3, 1, 3, 2, 2, 1, 2, 3, 4, 5, 5, 1, 1, 2, 3, 4, 5, 1, 2, 3, 4, 5, 1, 2, 3, 4, 5, 1, 3, 4, 5, 1, 2, 3, 4, 5, 1, 3, 5, 2, 1, 2, 3, 5, 4, 5, 1, 3, 4, 5, 1, 1, 2, 3, 4, 5, 5, 1, 2, 3, 4, 4, 1, 2, 3, 4, 5, 1, 2, 3, 4, 5, 1, 2, 3, 4, 5, 2, 5, 1, 2, 3, 4, 5, 5, 1, 2, 3, 4, 5, 1, 2, 3, 4, 5, 1, 2, 3, 4, 5, 2, 1, 2, 3, 4, 5, 1, 3, 4, 4, 4, 4, 1, 2, 3, 4, 5, 1, 5, 5, 3, 2, 2, 4, 5, 2, 3, 4, 5, 1, 2, 3, 4, 5, 2, 3, 4, 3, 1, 3, 4, 3, 1, 1, 2, 3, 4, 5, 2, 2, 4, 1, 3, 4, 2, 1, 2, 3, 4, 5, 5, 1, 2, 1, 1, 2, 3, 4, 5, 3, 1, 2, 3, 4, 5, 1, 2, 3, 4, 5, 1, 2, 3, 4, 5, 2, 4, 4, 2, 3, 5, 4, 1, 2, 3, 4, 5, 3, 5, 1, 2, 3, 4, 5, 4, 1, 1, 1, 2, 3, 4, 5, 3, 4, 1, 2, 3, 4, 4, 5, 1, 2, 3, 4, 5, 1, 2, 3, 4, 5, 1, 2, 3, 4, 5, 1, 2, 3, 4, 5, 4, 2, 1, 2, 3, 4, 5, 2, 5, 5, 2, 5, 2, 3, 4, 5, 3, 1, 5, 1, 2, 3, 4, 5, 2, 4, 1, 4, 1, 1, 2, 3, 4, 5, 4, 5, 5, 1, 5, 3, 5, 2, 1, 3, 4, 3, 5, 1, 2, 2, 3, 4, 1, 2, 3, 4, 5, 1, 2, 3, 4, 5, 4, 3, 1, 4, 1, 2, 3, 4, 5, 5, 5, 2, 5, 1, 2, 3, 4, 2, 3, 1, 3, 4, 1, 2, 3, 4, 5, 3, 4, 2, 3, 3, 1, 2, 3, 4, 5, 1, 3, 1, 2, 3, 4, 5, 1, 1, 2, 3, 4, 5, 3, 1, 2, 3, 4, 5, 1, 2, 3, 4, 5, 2, 4, 5, 2, 2, 1, 2, 3, 4, 5, 3, 3, 5, 1, 3, 1, 2, 3, 4, 5, 3, 2, 1, 2, 3, 4, 5, 1, 1, 2, 3, 4, 5, 1, 3, 4, 4, 4, 3, 1, 3, 5, 1, 2, 3, 4, 5, 2, 5, 1, 2, 3, 4, 5, 1, 2, 3, 4, 5, 1, 2, 3, 4, 5, 1, 2, 3, 4, 5, 1, 2, 3, 4, 5], \"Freq\": [0.0078559743228793361, 0.0078559743228793361, 0.12569558916606938, 0.84844522687096835, 0.026616241307321101, 0.95818468706355964, 0.95440886876270581, 0.065818519804137984, 0.3051585918191852, 0.035901010802257084, 0.47269664222971824, 0.1196700360075236, 0.21765770527352382, 0.1797173713267628, 0.22364828431774925, 0.19968596814084755, 0.1797173713267628, 0.95962216438869263, 0.9676537906824626, 0.98560893150520024, 0.61329442579743065, 0.038330901612339416, 0.009582725403084854, 0.15332360644935766, 0.19165450806169709, 0.059986033784217581, 0.019995344594739194, 0.89979050676326366, 0.21191534562098746, 0.21481829556100099, 0.20030354586093335, 0.15385634682071694, 0.22062419544102804, 0.96714520860613795, 0.03119823253568187, 0.79523321319581852, 0.17456338826249673, 0.019395932029166306, 0.97887834776379434, 0.95092254542972521, 0.97974899858463338, 0.045461524989579997, 0.88649973729680986, 0.045461524989579997, 0.022730762494789999, 0.98771686481726317, 0.27613558049533315, 0.16220551581544046, 0.24523929176858258, 0.16606755190628428, 0.15061940754290898, 0.97540563141480241, 0.95939129887127594, 0.20055215664837989, 0.24161007848190647, 0.22108111756514318, 0.17054829069311045, 0.16581083817385739, 0.95439330947286172, 0.25698157134208505, 0.18052424433121678, 0.20813383464069699, 0.19326713216636149, 0.15928609793930892, 0.22941675461362626, 0.18523278705840934, 0.24471120492120135, 0.20392600410100112, 0.13765005276817577, 0.068524847479035339, 0.1233447254622636, 0.1233447254622636, 0.67154350529454632, 0.96776430135169655, 0.98307773335778392, 0.016203476106057952, 0.77776685309078164, 0.19444171327269541, 0.13076937659124191, 0.85934161759958971, 0.90098341528690862, 0.025027317091303018, 0.050054634182606035, 0.9649535086441059, 0.030573337101823195, 0.010191112367274399, 0.010191112367274399, 0.94777345015651904, 0.1671446500525344, 0.32686064899162282, 0.2191452078466562, 0.096572464474797642, 0.18943060339287229, 0.044472314933110116, 0.044472314933110116, 0.022236157466555058, 0.88944629866220237, 0.050740751655648217, 0.93870390562949202, 0.94377276485108141, 0.95092454968725992, 0.97410298603827039, 0.056445579678268291, 0.93135206469142673, 0.033345873952849624, 0.016672936976424812, 0.016672936976424812, 0.93368447067978944, 0.9744854745784004, 0.97512828978247901, 0.15969293308979449, 0.82840709040330884, 0.98332573263451051, 0.96439573285195201, 0.96906274754685895, 0.97040684691196299, 0.021149333836380509, 0.084597335345522037, 0.063448001509141524, 0.82482401961883978, 0.19908396611117052, 0.31455266645564939, 0.21501068340006416, 0.16723053153338324, 0.10750534170003208, 0.22717888958930482, 0.095654269300759931, 0.58588239946715459, 0.095654269300759931, 0.96902353488986581, 0.9754196436383431, 0.97975081896247873, 0.25150924333094754, 0.23257844006947836, 0.20553443541023669, 0.15685522702360169, 0.15415082655767753, 0.26512004544344797, 0.19884003408258596, 0.19884003408258596, 0.19088643271928254, 0.14581602499389637, 0.013646941285751406, 0.96893283128834984, 0.013646941285751406, 0.96765093396201896, 0.97025162201072801, 0.091575057822406589, 0.15567759829809119, 0.63186789897460538, 0.036630023128962637, 0.073260046257925274, 0.96352120315497702, 0.98537184613699058, 0.97743927617406068, 0.97542793725790411, 0.037951447306321155, 0.91083473535170767, 0.74334573074593369, 0.027195575515095133, 0.0090651918383650443, 0.20849941228239602, 0.0090651918383650443, 0.25654967693035829, 0.18404650736308312, 0.20077800803245432, 0.18404650736308312, 0.17289217358350234, 0.14622897486873682, 0.57447097269860892, 0.11489419453972177, 0.03133478032901503, 0.12533912131606012, 0.95935646085927906, 0.95935563436535487, 0.98143854411614395, 0.95443461461315127, 0.96425274383297133, 0.96431826773459173, 0.84823778107520476, 0.13253715329300073, 0.98733383616560511, 0.96437129203059535, 0.030136602875956105, 0.086112401354769011, 0.74056665165101343, 0.12055736189667661, 0.051667440812861405, 0.69139222297073999, 0.10916719310064317, 0.13342656934523053, 0.060648440611468422, 0.96585485697977602, 0.021951246749540364, 0.96766649003948568, 0.98638631282055889, 0.97962085003248522, 0.9789326835279063, 0.94493405165841571, 0.96779990707284913, 0.27790424948939202, 0.25652699952866953, 0.14964074972505723, 0.14964074972505723, 0.16745512469232596, 0.24757076956671836, 0.15168068276270774, 0.16039796338125414, 0.25628805018526479, 0.18306289298947484, 0.94920507409644694, 0.22254518368084986, 0.24334379897812555, 0.1539097531998401, 0.20174656838357419, 0.18094795308629849, 0.22779715325542882, 0.18826211012845356, 0.2165014266477216, 0.18073162572331541, 0.18637948902716903, 0.95331601140239608, 0.97759793958314412, 0.2150027788132724, 0.18115974881488692, 0.1771782158739004, 0.18514128175587344, 0.24088274292968481, 0.97801830903783327, 0.97760508612398389, 0.95520948296479746, 0.94923134534596398, 0.9642359743082316, 0.17767026920207124, 0.75509864410880279, 0.008883513460103562, 0.017767026920207124, 0.035534053840414248, 0.96900468403100914, 0.96014137082607265, 0.28390046194239116, 0.15926123474817064, 0.23773778520379096, 0.16156936858510065, 0.15695310091124065, 0.14175945760997491, 0.067149216762619701, 0.15668150577944595, 0.52227168593148654, 0.11937638535576835, 0.22288416311171805, 0.19856952713589426, 0.21883172378241408, 0.18438598948333038, 0.17628111082472245, 0.90085536207797634, 0.021972082001901861, 0.043944164003803722, 0.021972082001901861, 0.1127867517160135, 0.69081885426058265, 0.1268850956805152, 0.028196687929003376, 0.056393375858006752, 0.87117326955022256, 0.068776837069754404, 0.04585122471316961, 0.97628750799277642, 0.98309046997911187, 0.068696732073272135, 0.11449455345545356, 0.80146187418817494, 0.92664879111272946, 0.95748500793087166, 0.029463107586419835, 0.029463107586419835, 0.88389322759259503, 0.029463107586419835, 0.98973630354391373, 0.019858770359225928, 0.04368929479029704, 0.011915262215535556, 0.019858770359225928, 0.90555992838070232, 0.9740243743275051, 0.070025345385848578, 0.71775979020494796, 0.14005069077169716, 0.052519009039386437, 0.94797097060215452, 0.21442766014597589, 0.23307354363693031, 0.26415001612185435, 0.14605942067914299, 0.1429517734306506, 0.70423662110214724, 0.046949108073476485, 0.059753410275333707, 0.13231112275252463, 0.055485309541381297, 0.26523318232683796, 0.20366119357239343, 0.19655673333149598, 0.18945227309059853, 0.14445735823158137, 0.089796171556558987, 0.89796171556558979, 0.21767657523931908, 0.17809901610489742, 0.25725413437374073, 0.16490649639342353, 0.18139714603276588, 0.97328914107573516, 0.19532695334665701, 0.23181660397185666, 0.20605920353053925, 0.18888760323632767, 0.17600890301566896, 0.22745941682143497, 0.22223046471059738, 0.16471199149138394, 0.21961598865517859, 0.16471199149138394, 0.23236303367176275, 0.20974362331433452, 0.21591255341181495, 0.16656111263197151, 0.17273004272945194, 0.97838897790820867, 0.04196093817644217, 0.04196093817644217, 0.83921876352884339, 0.04196093817644217, 0.020980469088221085, 0.97739961708624112, 0.040379925640346696, 0.92873828972797412, 0.97340714299083697, 0.97742403459305538, 0.95392304645751136, 0.042633836970911734, 0.080530580945055497, 0.052108022964447678, 0.80056871645378702, 0.023685464983839853, 0.14526935096291982, 0.83933402778575883, 0.96900706505804446, 0.96691636345814358, 0.97256168323962744, 0.9546250967360751, 0.92664373055399463, 0.95437871249968831, 0.50277221504335079, 0.061985615553289818, 0.37880098393677109, 0.061985615553289818, 0.35227465289322601, 0.19840756312377097, 0.117424884297742, 0.22270236677157965, 0.11337575035644055, 0.12670536244814409, 0.076023217468886461, 0.78557324717849342, 0.96694718131365631, 0.9560512892343016, 0.029876602788571925, 0.95388989676380886, 0.97972133668584249, 0.98909455501632426, 0.43171659068761042, 0.1734575587584149, 0.14262065942358557, 0.22356752017751252, 0.026982286917975652, 0.96431918171480924, 0.94331084184926262, 0.92664322170375479, 0.87630658466967515, 0.050074661981124292, 0.050074661981124292, 0.96427808493729006, 0.97445248607999779, 0.080138982441731066, 0.032055592976692422, 0.86550101037069549, 0.016027796488346211, 0.97543915544594062, 0.037392692297898045, 0.93481730744745117, 0.97735056470907855, 0.25545962370151687, 0.21092996452418825, 0.14999464143942276, 0.20155529943422432, 0.18280596925429649, 0.97529424823439581, 0.10657290557014537, 0.05920716976119187, 0.61575456551639551, 0.20130437718805236, 0.011841433952238375, 0.25590832168965794, 0.21418413880547457, 0.13908060961394453, 0.19471285345952233, 0.19749446565180123, 0.1857852614718444, 0.23867303663536216, 0.23324864943910392, 0.12069261511674563, 0.22104377824752289, 0.96433459661100041, 0.98117790062517374, 0.97337889189056026, 0.89090778784166968, 0.027840868370052178, 0.055681736740104355, 0.96902805676396386, 0.16463803444298183, 0.18057074745359297, 0.39831782526527865, 0.13277260842175956, 0.12746170408488916, 0.98251464190089999, 0.98733624482848836, 0.19968754286464277, 0.18542414694573972, 0.16097261108476305, 0.30156894228537889, 0.15078447114268945, 0.9847007866316374, 0.97955283318229169, 0.96012409113789388, 0.52123006706335107, 0.17702153221019468, 0.19177332656104423, 0.083593501321480829, 0.029503588701699113, 0.047403302202219999, 0.92436439294328998, 0.76999220738409047, 0.076999220738409049, 0.076999220738409049, 0.076999220738409049, 0.89863992038918705, 0.096282848613127178, 0.2566299031087439, 0.20978476206508431, 0.20163778101401308, 0.13849867786821099, 0.19349079996294183, 0.1744795704934845, 0.22269103076142102, 0.23416994987283449, 0.23416994987283449, 0.13315546169239609, 0.22473729629976744, 0.22712811860082879, 0.21995565169764472, 0.15540344956898811, 0.17213920567641761, 0.27807772764140726, 0.094799225332297926, 0.21487824408654196, 0.30651749524109662, 0.11059909622101424, 0.92663723762293249, 0.98383937993291215, 0.1915403078257335, 0.28092578481107583, 0.15833998780260636, 0.19920192013876284, 0.17366321242866506, 0.96425247007771797, 0.94376830648474352, 0.95916985919212916, 0.96683934994477017, 0.96348971629198987, 0.073274045995057491, 0.097698727993409992, 0.024424681998352498, 0.8060145059456324, 0.98876709431524989, 0.97277061842861401, 0.96778143883143175, 0.21532763387575898, 0.2384811428946578, 0.19912017756252981, 0.14586710681906254, 0.2014355284644197, 0.9572671695952395, 0.021272603768783101, 0.96009966827693227, 0.96908824367486357, 0.98238286960410603, 0.013551222121722682, 0.0067756110608613411, 0.23037077606928558, 0.71143916139044083, 0.040653666365168047, 0.059498179603944698, 0.92222178386114284, 0.95438379723793509, 0.96011276169715953, 0.96347807204723013, 0.95543432758617575, 0.027298123645319305, 0.97980403844751329, 0.97027181328975831, 0.95936622056946297, 0.98469974941455507, 0.94324496754784859, 0.049644471976202559, 0.96015210723904421, 0.96430161872613496, 0.98245658254149049, 0.020467845469614384, 0.97839987850993571, 0.18300001761741239, 0.23485002260901258, 0.18300001761741239, 0.18605001791103593, 0.21655002084727135, 0.14559825310222926, 0.21588706494468476, 0.1782323443147979, 0.2485211561572534, 0.2108664355273665, 0.98877833354906708, 0.99065632727834219, 0.96405664869961449, 0.95936793709707047, 0.031556624724684984, 0.45757105850793223, 0.18408031089399574, 0.22089637307279486, 0.10518874908228328, 0.96362342521995137, 0.9634898162779969, 0.96746571371004053, 0.95747729331569686, 0.016530010850309362, 0.04959003255092808, 0.80997053166515864, 0.1322400868024749, 0.9492099018759611, 0.95936953435633776, 0.95127160017779078, 0.97681802977318655, 0.94797953697904336, 0.23766816046743955, 0.16204647304598152, 0.23766816046743955, 0.15664492394444879, 0.20525886585824327, 0.96326943479722615, 0.97235375669377, 0.98616580412069954, 0.98680432235891324, 0.97369934280653159, 0.10728211535187487, 0.085825692281499902, 0.23602065377412473, 0.053641057675937437, 0.50422594215381189, 0.02598505508465531, 0.96144703813224652, 0.17142004424956853, 0.23439067274941003, 0.29386293299926031, 0.18891188549952451, 0.10844941574972702, 0.96773771667816844, 0.20992264564260998, 0.25600322639342682, 0.2022425488508072, 0.14848187130818755, 0.18432232300326731, 0.97042117163537056, 0.25092248268402928, 0.24395241372058404, 0.16263494248038937, 0.16263494248038937, 0.18122179304957672, 0.22330424192436663, 0.18644820199510223, 0.22113623957558637, 0.17344018790242066, 0.19512021139022326, 0.95462297023693221, 0.31109384982312577, 0.67708661432092077, 0.96683184005278278, 0.97977282058945936, 0.18489913273008068, 0.18783403959881212, 0.17609441212388638, 0.25827180444836667, 0.19370385333627502, 0.95523913005113048, 0.95083467653071907, 0.96363623102879625, 0.94111202923607828, 0.033611143901288512, 0.036785469078750542, 0.86905670698548154, 0.03218728544390672, 0.03218728544390672, 0.027589101809062905, 0.97039511535165923, 0.95716705234811139, 0.33492602164208141, 0.23868291197481661, 0.080844212120502398, 0.19248621933452953, 0.15398897546762363, 0.98562992953667206, 0.2317064037311917, 0.18771151694678823, 0.24637136599265955, 0.14958261506697185, 0.18477852449449464, 0.96777562191050803, 0.89663952270965852, 0.097460817685832438, 0.94151171580004844, 0.96194372103482051, 0.98256549660594328, 0.97750231178101332, 0.84753143450835378, 0.13382075281710848, 0.1574712149009945, 0.22705151915957347, 0.30395606597168706, 0.25634848937371196, 0.054931819151509714, 0.98607774960379857, 0.97411321848863841, 0.24423031498000583, 0.35027768858974523, 0.14139649814631916, 0.13496938459421376, 0.12854227104210833, 0.26941312003525331, 0.15266743468664357, 0.1391967786848809, 0.33227618137681242, 0.10776524801410133, 0.23544271992714835, 0.13018597454795261, 0.21328340511047555, 0.21605331946255965, 0.20497366205422327, 0.56427624347923189, 0.11100516265165218, 0.055502581325826091, 0.14800688353553623, 0.1202555928726232, 0.23377798960711502, 0.23611576950318616, 0.19871129116604777, 0.20338685095819006, 0.12624011438784211], \"Term\": [\"adam\", \"adam\", \"adam\", \"adam\", \"ahmed\", \"ahmed\", \"alceste\", \"alice\", \"alice\", \"alice\", \"alice\", \"alice\", \"also\", \"also\", \"also\", \"also\", \"also\", \"alyosha\", \"amir\", \"andy\", \"anne\", \"anne\", \"anne\", \"anne\", \"anne\", \"annie\", \"annie\", \"annie\", \"another\", \"another\", \"another\", \"another\", \"another\", \"antigone\", \"antigone\", \"antonio\", \"antonio\", \"antonio\", \"antony\", \"arnold\", \"arnoux\", \"artist\", \"artist\", \"artist\", \"artist\", \"asher\", \"asks\", \"asks\", \"asks\", \"asks\", \"asks\", \"aylmer\", \"aziz\", \"back\", \"back\", \"back\", \"back\", \"back\", \"barabas\", \"becomes\", \"becomes\", \"becomes\", \"becomes\", \"becomes\", \"begins\", \"begins\", \"begins\", \"begins\", \"begins\", \"ben\", \"ben\", \"ben\", \"ben\", \"beowulf\", \"berenger\", \"bernard\", \"bernard\", \"bernard\", \"biff\", \"biff\", \"bigger\", \"bigger\", \"bigger\", \"bilbo\", \"billy\", \"billy\", \"billy\", \"billy\", \"black\", \"black\", \"black\", \"black\", \"black\", \"blanche\", \"blanche\", \"blanche\", \"blanche\", \"bloom\", \"bloom\", \"bradley\", \"brett\", \"brien\", \"brutus\", \"brutus\", \"caesar\", \"caesar\", \"caesar\", \"caesar\", \"candide\", \"cassio\", \"catherine\", \"catherine\", \"cecilia\", \"cecily\", \"celie\", \"chad\", \"charlie\", \"charlie\", \"charlie\", \"charlie\", \"children\", \"children\", \"children\", \"children\", \"children\", \"christine\", \"christine\", \"christine\", \"christine\", \"claudius\", \"clive\", \"clov\", \"come\", \"come\", \"come\", \"come\", \"come\", \"comes\", \"comes\", \"comes\", \"comes\", \"comes\", \"creon\", \"creon\", \"creon\", \"crusoe\", \"cyrano\", \"d\", \"d\", \"d\", \"d\", \"d\", \"dana\", \"danny\", \"dant\", \"das\", \"dave\", \"dave\", \"david\", \"david\", \"david\", \"david\", \"david\", \"day\", \"day\", \"day\", \"day\", \"day\", \"de\", \"de\", \"de\", \"de\", \"de\", \"dee\", \"dexter\", \"dicey\", \"dixon\", \"dmitri\", \"douglass\", \"edna\", \"edna\", \"ego\", \"electra\", \"electra\", \"ellen\", \"ellen\", \"ellen\", \"ellen\", \"emily\", \"emily\", \"emily\", \"emily\", \"emma\", \"emma\", \"ender\", \"ennis\", \"esi\", \"esteban\", \"ethan\", \"falstaff\", \"family\", \"family\", \"family\", \"family\", \"family\", \"father\", \"father\", \"father\", \"father\", \"father\", \"fermina\", \"find\", \"find\", \"find\", \"find\", \"find\", \"finds\", \"finds\", \"finds\", \"finds\", \"finds\", \"finny\", \"firdaus\", \"first\", \"first\", \"first\", \"first\", \"first\", \"fr\", \"francie\", \"frog\", \"gatsby\", \"gawain\", \"george\", \"george\", \"george\", \"george\", \"george\", \"gilgamesh\", \"gloucester\", \"go\", \"go\", \"go\", \"go\", \"go\", \"god\", \"god\", \"god\", \"god\", \"god\", \"goes\", \"goes\", \"goes\", \"goes\", \"goes\", \"governess\", \"governess\", \"governess\", \"governess\", \"grandmother\", \"grandmother\", \"grandmother\", \"grandmother\", \"grandmother\", \"granny\", \"granny\", \"granny\", \"gregor\", \"grendel\", \"gus\", \"gus\", \"gus\", \"gwendolen\", \"hagrid\", \"hamlet\", \"hamlet\", \"hamlet\", \"hamlet\", \"hamm\", \"harry\", \"harry\", \"harry\", \"harry\", \"harry\", \"harry\\'s\", \"hazel\", \"hazel\", \"hazel\", \"hazel\", \"heathcliff\", \"help\", \"help\", \"help\", \"help\", \"help\", \"henry\", \"henry\", \"henry\", \"henry\", \"henry\", \"her.\", \"her.\", \"her.\", \"her.\", \"her.\", \"hermione\", \"hermione\", \"him,\", \"him,\", \"him,\", \"him,\", \"him,\", \"holden\", \"home\", \"home\", \"home\", \"home\", \"home\", \"house\", \"house\", \"house\", \"house\", \"house\", \"however,\", \"however,\", \"however,\", \"however,\", \"however,\", \"huck\", \"hunger\", \"hunger\", \"hunger\", \"hunger\", \"hunger\", \"iago\", \"ida\", \"ida\", \"inman\", \"isabel\", \"isabella\", \"jack\", \"jack\", \"jack\", \"jack\", \"jack\", \"jake\", \"jake\", \"janie\", \"jeanette\", \"jekyll\", \"jerry\", \"jethro\", \"jody\", \"joe\", \"joe\", \"joe\", \"joe\", \"john\", \"john\", \"john\", \"john\", \"john\", \"jordan\", \"jordan\", \"jordan\", \"juliet\", \"jurgis\", \"jurgis\", \"kapasi\", \"katagiri\", \"katniss\", \"king\", \"king\", \"king\", \"king\", \"king\", \"kino\", \"kumalo\", \"kurtz\", \"lavinia\", \"lavinia\", \"lavinia\", \"lennie\", \"liesel\", \"lily\", \"lily\", \"lily\", \"lily\", \"lim\", \"linda\", \"linda\", \"lonelyhearts\", \"love\", \"love\", \"love\", \"love\", \"love\", \"lyra\", \"madame\", \"madame\", \"madame\", \"madame\", \"madame\", \"make\", \"make\", \"make\", \"make\", \"make\", \"man\", \"man\", \"man\", \"man\", \"man\", \"marcus\", \"margery\", \"marius\", \"martha\", \"martha\", \"martha\", \"martine\", \"may\", \"may\", \"may\", \"may\", \"may\", \"maya\", \"mel\", \"men\", \"men\", \"men\", \"men\", \"men\", \"meridian\", \"meursault\", \"milkman\", \"miss\", \"miss\", \"miss\", \"miss\", \"miss\", \"mitch\", \"mitch\", \"molly\", \"molly\", \"molly\", \"molly\", \"morrie\", \"morrie\", \"mother\", \"mother\", \"mother\", \"mother\", \"mother\", \"mrs.\", \"mrs.\", \"mrs.\", \"mrs.\", \"mrs.\", \"named\", \"named\", \"named\", \"named\", \"named\", \"narrator\", \"narrator\", \"narrator\", \"narrator\", \"narrator\", \"nettie\", \"newman\", \"next\", \"next\", \"next\", \"next\", \"next\", \"nisa\", \"nnaife\", \"nnu\", \"nora\", \"norma\", \"o\", \"o\", \"o\", \"o\", \"oedipus\", \"offred\", \"okonkwo\", \"old\", \"old\", \"old\", \"old\", \"old\", \"orestes\", \"orestes\", \"orin\", \"orlando\", \"othello\", \"paul\", \"paul\", \"paul\", \"paul\", \"paul\", \"pedro\", \"pedro\", \"peekay\", \"peeta\", \"pericles\", \"pip\", \"pip\", \"poirot\", \"ponyboy\", \"prejean\", \"prometheus\", \"prospero\", \"prospero\", \"quoyle\", \"rainsford\", \"raskolnikov\", \"raskolnikov\", \"rayona\", \"return\", \"return\", \"return\", \"return\", \"return\", \"returns\", \"returns\", \"returns\", \"returns\", \"returns\", \"reuven\", \"ric\", \"rigoberta\", \"roark\", \"robert\", \"robert\", \"robert\", \"robert\", \"robert\", \"ron\", \"ron,\", \"rowlandson\", \"roxane\", \"roy\", \"roy\", \"roy\", \"roy\", \"rukmani\", \"saleem\", \"salom\", \"scarlett\", \"scrooge\", \"see\", \"see\", \"see\", \"see\", \"see\", \"sethe\", \"shane\", \"shukhov\", \"siddhartha\", \"sinclair\", \"sir\", \"sir\", \"sir\", \"sir\", \"sir\", \"solange\", \"solange\", \"son\", \"son\", \"son\", \"son\", \"son\", \"sonny\", \"soon\", \"soon\", \"soon\", \"soon\", \"soon\", \"strether\", \"take\", \"take\", \"take\", \"take\", \"take\", \"takes\", \"takes\", \"takes\", \"takes\", \"takes\", \"tambu\", \"taylor\", \"taylor\", \"tayo\", \"tess\", \"three\", \"three\", \"three\", \"three\", \"three\", \"timon\", \"tiresias\", \"tita\", \"tod\", \"tod\", \"tom\", \"tom\", \"tom\", \"tom\", \"tom\", \"tommo\", \"torvald\", \"town\", \"town\", \"town\", \"town\", \"town\", \"treplev\", \"tries\", \"tries\", \"tries\", \"tries\", \"tries\", \"trigorin\", \"troy\", \"troy\", \"truman\", \"valjean\", \"volpone\", \"voynitsky\", \"waiter\", \"waiter\", \"white\", \"white\", \"white\", \"white\", \"white\", \"willy\", \"winston\", \"woman\", \"woman\", \"woman\", \"woman\", \"woman\", \"women\", \"women\", \"women\", \"women\", \"women\", \"years\", \"years\", \"years\", \"years\", \"years\", \"york\", \"york\", \"york\", \"york\", \"york\", \"young\", \"young\", \"young\", \"young\", \"young\"]}, \"mdsDat\": {\"y\": [0.029262303134999425, 0.043775516064316032, -0.052894867440149505, 0.04764242480653879, -0.067785376565704811], \"cluster\": [1, 1, 1, 1, 1], \"Freq\": [22.635260662393691, 20.422099245919846, 19.988359354641574, 19.458338990805068, 17.495941746239815], \"topics\": [1, 2, 3, 4, 5], \"x\": [0.00069446994658443428, 0.0037263792515343959, -0.086817544187800452, 0.0070142767326795384, 0.075382418257002065]}, \"R\": 30, \"lambda.step\": 0.01, \"tinfo\": {\"Category\": [\"Default\", \"Default\", \"Default\", \"Default\", \"Default\", \"Default\", \"Default\", \"Default\", \"Default\", \"Default\", \"Default\", \"Default\", \"Default\", \"Default\", \"Default\", \"Default\", \"Default\", \"Default\", \"Default\", \"Default\", \"Default\", \"Default\", \"Default\", \"Default\", \"Default\", \"Default\", \"Default\", \"Default\", \"Default\", \"Default\", \"Topic1\", \"Topic1\", \"Topic1\", \"Topic1\", \"Topic1\", \"Topic1\", \"Topic1\", \"Topic1\", \"Topic1\", \"Topic1\", \"Topic1\", \"Topic1\", \"Topic1\", \"Topic1\", \"Topic1\", \"Topic1\", \"Topic1\", \"Topic1\", \"Topic1\", \"Topic1\", \"Topic1\", \"Topic1\", \"Topic1\", \"Topic1\", \"Topic1\", \"Topic1\", \"Topic1\", \"Topic1\", \"Topic1\", \"Topic1\", \"Topic1\", \"Topic1\", \"Topic1\", \"Topic1\", \"Topic1\", \"Topic1\", \"Topic1\", \"Topic1\", \"Topic1\", \"Topic1\", \"Topic1\", \"Topic1\", \"Topic1\", \"Topic1\", \"Topic1\", \"Topic1\", \"Topic1\", \"Topic1\", \"Topic1\", \"Topic1\", \"Topic1\", \"Topic1\", \"Topic1\", \"Topic1\", \"Topic1\", \"Topic1\", \"Topic1\", \"Topic1\", \"Topic1\", \"Topic1\", \"Topic1\", \"Topic1\", \"Topic1\", \"Topic1\", \"Topic1\", \"Topic1\", \"Topic1\", \"Topic1\", \"Topic1\", \"Topic1\", \"Topic1\", \"Topic1\", \"Topic1\", \"Topic1\", \"Topic1\", \"Topic1\", \"Topic2\", \"Topic2\", \"Topic2\", \"Topic2\", \"Topic2\", \"Topic2\", \"Topic2\", \"Topic2\", \"Topic2\", \"Topic2\", \"Topic2\", \"Topic2\", \"Topic2\", \"Topic2\", \"Topic2\", \"Topic2\", \"Topic2\", \"Topic2\", \"Topic2\", \"Topic2\", \"Topic2\", \"Topic2\", \"Topic2\", \"Topic2\", \"Topic2\", \"Topic2\", \"Topic2\", \"Topic2\", \"Topic2\", \"Topic2\", \"Topic2\", \"Topic2\", \"Topic2\", \"Topic2\", \"Topic2\", \"Topic2\", \"Topic2\", \"Topic2\", \"Topic2\", \"Topic2\", \"Topic2\", \"Topic2\", \"Topic2\", \"Topic2\", \"Topic2\", \"Topic2\", \"Topic2\", \"Topic2\", \"Topic2\", \"Topic2\", \"Topic2\", \"Topic2\", \"Topic2\", \"Topic2\", \"Topic2\", \"Topic2\", \"Topic2\", \"Topic2\", \"Topic2\", \"Topic2\", \"Topic2\", \"Topic2\", \"Topic2\", \"Topic2\", \"Topic2\", \"Topic2\", \"Topic2\", \"Topic2\", \"Topic2\", \"Topic2\", \"Topic2\", \"Topic2\", \"Topic2\", \"Topic2\", \"Topic2\", \"Topic2\", \"Topic3\", \"Topic3\", \"Topic3\", \"Topic3\", \"Topic3\", \"Topic3\", \"Topic3\", \"Topic3\", \"Topic3\", \"Topic3\", \"Topic3\", \"Topic3\", \"Topic3\", \"Topic3\", \"Topic3\", \"Topic3\", \"Topic3\", \"Topic3\", \"Topic3\", \"Topic3\", \"Topic3\", \"Topic3\", \"Topic3\", \"Topic3\", \"Topic3\", \"Topic3\", \"Topic3\", \"Topic3\", \"Topic3\", \"Topic3\", \"Topic3\", \"Topic3\", \"Topic3\", \"Topic3\", \"Topic3\", \"Topic3\", \"Topic3\", \"Topic3\", \"Topic3\", \"Topic3\", \"Topic3\", \"Topic3\", \"Topic3\", \"Topic3\", \"Topic3\", \"Topic3\", \"Topic3\", \"Topic3\", \"Topic3\", \"Topic3\", \"Topic3\", \"Topic3\", \"Topic3\", \"Topic3\", \"Topic3\", \"Topic3\", \"Topic3\", \"Topic3\", \"Topic3\", \"Topic3\", \"Topic3\", \"Topic3\", \"Topic3\", \"Topic3\", \"Topic3\", \"Topic3\", \"Topic3\", \"Topic3\", \"Topic3\", \"Topic3\", \"Topic3\", \"Topic3\", \"Topic3\", \"Topic4\", \"Topic4\", \"Topic4\", \"Topic4\", \"Topic4\", \"Topic4\", \"Topic4\", \"Topic4\", \"Topic4\", \"Topic4\", \"Topic4\", \"Topic4\", \"Topic4\", \"Topic4\", \"Topic4\", \"Topic4\", \"Topic4\", \"Topic4\", \"Topic4\", \"Topic4\", \"Topic4\", \"Topic4\", \"Topic4\", \"Topic4\", \"Topic4\", \"Topic4\", \"Topic4\", \"Topic4\", \"Topic4\", \"Topic4\", \"Topic4\", \"Topic4\", \"Topic4\", \"Topic4\", \"Topic4\", \"Topic4\", \"Topic4\", \"Topic4\", \"Topic4\", \"Topic4\", \"Topic4\", \"Topic4\", \"Topic4\", \"Topic4\", \"Topic4\", \"Topic4\", \"Topic4\", \"Topic4\", \"Topic4\", \"Topic4\", \"Topic4\", \"Topic4\", \"Topic4\", \"Topic4\", \"Topic4\", \"Topic4\", \"Topic4\", \"Topic4\", \"Topic4\", \"Topic4\", \"Topic4\", \"Topic4\", \"Topic4\", \"Topic4\", \"Topic4\", \"Topic4\", \"Topic4\", \"Topic4\", \"Topic4\", \"Topic4\", \"Topic4\", \"Topic4\", \"Topic5\", \"Topic5\", \"Topic5\", \"Topic5\", \"Topic5\", \"Topic5\", \"Topic5\", \"Topic5\", \"Topic5\", \"Topic5\", \"Topic5\", \"Topic5\", \"Topic5\", \"Topic5\", \"Topic5\", \"Topic5\", \"Topic5\", \"Topic5\", \"Topic5\", \"Topic5\", \"Topic5\", \"Topic5\", \"Topic5\", \"Topic5\", \"Topic5\", \"Topic5\", \"Topic5\", \"Topic5\", \"Topic5\", \"Topic5\", \"Topic5\", \"Topic5\", \"Topic5\", \"Topic5\", \"Topic5\", \"Topic5\", \"Topic5\", \"Topic5\", \"Topic5\", \"Topic5\", \"Topic5\", \"Topic5\", \"Topic5\", \"Topic5\", \"Topic5\", \"Topic5\", \"Topic5\", \"Topic5\", \"Topic5\", \"Topic5\", \"Topic5\", \"Topic5\", \"Topic5\", \"Topic5\", \"Topic5\", \"Topic5\", \"Topic5\", \"Topic5\", \"Topic5\", \"Topic5\", \"Topic5\", \"Topic5\", \"Topic5\", \"Topic5\", \"Topic5\", \"Topic5\", \"Topic5\", \"Topic5\", \"Topic5\", \"Topic5\", \"Topic5\", \"Topic5\", \"Topic5\", \"Topic5\", \"Topic5\"], \"Term\": [\"harry\", \"tom\", \"jack\", \"adam\", \"billy\", \"oedipus\", \"willy\", \"paul\", \"catherine\", \"henry\", \"charlie\", \"creon\", \"lyra\", \"clov\", \"antigone\", \"george\", \"caesar\", \"david\", \"hamm\", \"joe\", \"jake\", \"orlando\", \"ric\", \"othello\", \"danny\", \"linda\", \"cecilia\", \"raskolnikov\", \"siddhartha\", \"lonelyhearts\", \"clov\", \"hamm\", \"othello\", \"lonelyhearts\", \"katniss\", \"meursault\", \"iago\", \"cassio\", \"offred\", \"ponyboy\", \"andy\", \"dant\", \"berenger\", \"treplev\", \"grendel\", \"voynitsky\", \"liesel\", \"sonny\", \"candide\", \"bilbo\", \"beowulf\", \"rigoberta\", \"orin\", \"trigorin\", \"peeta\", \"salom\", \"falstaff\", \"gloucester\", \"quoyle\", \"milkman\", \"emma\", \"firdaus\", \"francie\", \"jurgis\", \"tod\", \"governess\", \"henry\", \"bigger\", \"david\", \"molly\", \"lavinia\", \"granny\", \"miss\", \"emily\", \"anne\", \"king\", \"family\", \"york\", \"asks\", \"go\", \"father\", \"mother\", \"begins\", \"becomes\", \"john\", \"her.\", \"finds\", \"love\", \"man\", \"take\", \"back\", \"however,\", \"town\", \"comes\", \"goes\", \"also\", \"find\", \"first\", \"takes\", \"young\", \"day\", \"come\", \"men\", \"named\", \"make\", \"old\", \"willy\", \"huck\", \"tayo\", \"nora\", \"newman\", \"gregor\", \"dicey\", \"gawain\", \"raskolnikov\", \"rowlandson\", \"torvald\", \"shukhov\", \"nisa\", \"kino\", \"poirot\", \"jekyll\", \"tess\", \"lennie\", \"dmitri\", \"alyosha\", \"electra\", \"rukmani\", \"jerry\", \"finny\", \"fermina\", \"tambu\", \"ethan\", \"gatsby\", \"douglass\", \"kumalo\", \"orestes\", \"linda\", \"tom\", \"rainsford\", \"marcus\", \"biff\", \"george\", \"martha\", \"bernard\", \"antonio\", \"edna\", \"ellen\", \"grandmother\", \"robert\", \"joe\", \"hazel\", \"woman\", \"man\", \"de\", \"back\", \"family\", \"next\", \"black\", \"find\", \"take\", \"home\", \"soon\", \"old\", \"young\", \"children\", \"mother\", \"however,\", \"mrs.\", \"begins\", \"named\", \"finds\", \"goes\", \"love\", \"come\", \"house\", \"returns\", \"men\", \"first\", \"also\", \"father\", \"her.\", \"oedipus\", \"ric\", \"fr\", \"lyra\", \"strether\", \"ender\", \"amir\", \"arnoux\", \"siddhartha\", \"crusoe\", \"asher\", \"katagiri\", \"volpone\", \"sinclair\", \"chad\", \"scarlett\", \"juliet\", \"jeanette\", \"sethe\", \"timon\", \"dee\", \"saleem\", \"prejean\", \"frog\", \"creon\", \"maya\", \"esi\", \"aziz\", \"tiresias\", \"tommo\", \"antigone\", \"solange\", \"ahmed\", \"pip\", \"prospero\", \"troy\", \"bloom\", \"artist\", \"roy\", \"hunger\", \"d\", \"waiter\", \"man\", \"begins\", \"madame\", \"back\", \"asks\", \"may\", \"finds\", \"also\", \"go\", \"goes\", \"mrs.\", \"however,\", \"son\", \"white\", \"takes\", \"becomes\", \"mother\", \"help\", \"home\", \"named\", \"see\", \"tries\", \"old\", \"him,\", \"young\", \"father\", \"first\", \"her.\", \"family\", \"soon\", \"men\", \"danny\", \"orlando\", \"cecilia\", \"reuven\", \"ennis\", \"shane\", \"das\", \"rayona\", \"valjean\", \"prometheus\", \"celie\", \"meridian\", \"margery\", \"isabel\", \"marius\", \"roark\", \"inman\", \"cecily\", \"dexter\", \"kapasi\", \"isabella\", \"heathcliff\", \"scrooge\", \"truman\", \"gwendolen\", \"aylmer\", \"claudius\", \"jethro\", \"nettie\", \"martine\", \"clive\", \"kurtz\", \"mitch\", \"jack\", \"blanche\", \"catherine\", \"lily\", \"ida\", \"hamlet\", \"paul\", \"morrie\", \"jordan\", \"god\", \"alice\", \"men\", \"christine\", \"father\", \"narrator\", \"returns\", \"women\", \"begins\", \"mrs.\", \"three\", \"also\", \"find\", \"back\", \"finds\", \"becomes\", \"first\", \"house\", \"young\", \"goes\", \"home\", \"love\", \"years\", \"asks\", \"her.\", \"next\", \"man\", \"family\", \"however,\", \"takes\", \"holden\", \"cyrano\", \"antony\", \"lim\", \"tita\", \"esteban\", \"ron\", \"dixon\", \"mel\", \"okonkwo\", \"nnu\", \"ego\", \"alceste\", \"barabas\", \"peekay\", \"dana\", \"jody\", \"winston\", \"brien\", \"gilgamesh\", \"janie\", \"ron,\", \"norma\", \"hagrid\", \"pericles\", \"roxane\", \"arnold\", \"bradley\", \"brett\", \"nnaife\", \"billy\", \"harry\\'s\", \"harry\", \"caesar\", \"adam\", \"annie\", \"brutus\", \"hermione\", \"charlie\", \"pedro\", \"jake\", \"dave\", \"gus\", \"ben\", \"o\", \"man\", \"first\", \"taylor\", \"sir\", \"father\", \"finds\", \"mother\", \"back\", \"takes\", \"old\", \"returns\", \"family\", \"also\", \"find\", \"goes\", \"another\", \"however,\", \"see\", \"home\", \"love\", \"take\", \"years\", \"return\", \"make\", \"begins\", \"asks\", \"becomes\", \"men\", \"soon\", \"named\"], \"loglift\": [30.0, 29.0, 28.0, 27.0, 26.0, 25.0, 24.0, 23.0, 22.0, 21.0, 20.0, 19.0, 18.0, 17.0, 16.0, 15.0, 14.0, 13.0, 12.0, 11.0, 10.0, 9.0, 8.0, 7.0, 6.0, 5.0, 4.0, 3.0, 2.0, 1.0, 1.4709000000000001, 1.4678, 1.4673, 1.4664999999999999, 1.4649000000000001, 1.464, 1.4628000000000001, 1.4621, 1.4621, 1.4610000000000001, 1.4589000000000001, 1.4587000000000001, 1.4579, 1.4574, 1.4573, 1.4565999999999999, 1.4560999999999999, 1.4558, 1.4552, 1.4550000000000001, 1.4548000000000001, 1.4541999999999999, 1.4530000000000001, 1.4528000000000001, 1.4515, 1.4509000000000001, 1.4509000000000001, 1.4508000000000001, 1.4507000000000001, 1.4502999999999999, 1.4466000000000001, 1.4489000000000001, 1.4466000000000001, 1.4376, 1.4379, 1.3795999999999999, 1.1335999999999999, 1.3892, 1.1902999999999999, 1.2282, 1.3640000000000001, 1.3382000000000001, 0.83730000000000004, 1.1236999999999999, 0.99129999999999996, 0.64280000000000004, 0.20399999999999999, 0.91279999999999994, 0.20039999999999999, 0.22639999999999999, 0.090800000000000006, 0.12839999999999999, 0.017000000000000001, 0.1295, 0.44280000000000003, 0.15870000000000001, 0.0033999999999999998, 0.11840000000000001, -0.19750000000000001, 0.10440000000000001, -0.1202, 0.030300000000000001, 0.39140000000000003, 0.16250000000000001, -0.019199999999999998, -0.039800000000000002, -0.0177, -0.051900000000000002, -0.0103, 0.035299999999999998, 0.1265, 0.10340000000000001, -0.12139999999999999, -0.0118, 0.1183, -0.052299999999999999, 1.5748, 1.5694999999999999, 1.5666, 1.5664, 1.5645, 1.5639000000000001, 1.5639000000000001, 1.5622, 1.5620000000000001, 1.5600000000000001, 1.5596000000000001, 1.5591999999999999, 1.5580000000000001, 1.5579000000000001, 1.5577000000000001, 1.5570999999999999, 1.5561, 1.5536000000000001, 1.5533999999999999, 1.5528, 1.5522, 1.5518000000000001, 1.5517000000000001, 1.5508999999999999, 1.5503, 1.5502, 1.5491999999999999, 1.5489999999999999, 1.5488999999999999, 1.5485, 1.5439000000000001, 1.5306, 1.4483999999999999, 1.5449999999999999, 1.5426, 1.4382999999999999, 1.3042, 1.4806999999999999, 1.3351999999999999, 1.3684000000000001, 1.4329000000000001, 1.2967, 1.2096, 0.80459999999999998, 0.89570000000000005, 1.2666999999999999, 0.54049999999999998, 0.15440000000000001, 1.0350999999999999, 0.1706, 0.22470000000000001, 0.31609999999999999, 0.47489999999999999, 0.1714, 0.17829999999999999, 0.1298, 0.22159999999999999, 0.1522, 0.1444, 0.43409999999999999, 0.0258, 0.030300000000000001, 0.089899999999999994, -0.098900000000000002, 0.1094, -0.078299999999999995, -0.032199999999999999, 0.032099999999999997, 0.127, 0.087800000000000003, 0.058700000000000002, -0.095299999999999996, -0.1154, -0.12939999999999999, -0.29310000000000003, -0.0057999999999999996, 1.5952, 1.5927, 1.5905, 1.5896999999999999, 1.5886, 1.5874999999999999, 1.5868, 1.5862000000000001, 1.5862000000000001, 1.5859000000000001, 1.5854999999999999, 1.585, 1.5848, 1.5846, 1.5840000000000001, 1.5832999999999999, 1.5831999999999999, 1.5826, 1.5818000000000001, 1.5814999999999999, 1.5811999999999999, 1.5806, 1.5804, 1.5795999999999999, 1.5789, 1.5780000000000001, 1.5775999999999999, 1.5770999999999999, 1.5769, 1.5767, 1.5709, 1.5670999999999999, 1.5586, 1.5551999999999999, 1.5407, 1.4958, 1.5367999999999999, 1.4824999999999999, 1.391, 1.4412, 1.1546000000000001, 1.4524999999999999, 0.15629999999999999, 0.1991, 1.1339999999999999, 0.1021, 0.2046, 0.68799999999999994, 0.078700000000000006, 0.1096, 0.17019999999999999, 0.092600000000000002, 0.15690000000000001, 0.076700000000000004, 0.38840000000000002, 0.41439999999999999, 0.1011, 0.045499999999999999, 0.0097999999999999997, 0.2762, 0.033799999999999997, 0.0998, 0.16950000000000001, 0.21479999999999999, 0.00089999999999999998, 0.24829999999999999, -0.0058999999999999999, -0.22020000000000001, -0.12520000000000001, -0.0132, -0.29039999999999999, 0.013899999999999999, -0.21479999999999999, 1.6168, 1.6148, 1.6141000000000001, 1.6137999999999999, 1.6132, 1.6128, 1.6107, 1.6097999999999999, 1.6073, 1.6052999999999999, 1.6052, 1.6045, 1.6042000000000001, 1.6037999999999999, 1.6015999999999999, 1.6001000000000001, 1.5999000000000001, 1.5995999999999999, 1.599, 1.5978000000000001, 1.5971, 1.5963000000000001, 1.5948, 1.5926, 1.5895999999999999, 1.5895999999999999, 1.5881000000000001, 1.587, 1.5868, 1.5854999999999999, 1.5853999999999999, 1.5847, 1.5670999999999999, 1.4169, 1.5206999999999999, 1.4532, 1.4886999999999999, 1.5628, 1.5264, 1.3002, 1.5148999999999999, 1.4016999999999999, 0.98350000000000004, 0.88260000000000005, 0.43919999999999998, 1.0926, 0.27550000000000002, 0.45329999999999998, 0.2462, 0.53490000000000004, 0.046600000000000003, 0.18459999999999999, 0.28029999999999999, 0.030800000000000001, 0.032099999999999997, -0.13450000000000001, -0.069199999999999998, -0.0058999999999999999, -0.045499999999999999, 0.11940000000000001, 0.046399999999999997, -0.055399999999999998, -0.0241, 0.0304, 0.10730000000000001, -0.16370000000000001, -0.0281, 0.019199999999999998, -0.47449999999999998, -0.2621, -0.1527, -0.11550000000000001, 1.7193000000000001, 1.7181999999999999, 1.7151000000000001, 1.7148000000000001, 1.7146999999999999, 1.7144999999999999, 1.7139, 1.7125999999999999, 1.7123999999999999, 1.7122999999999999, 1.7122999999999999, 1.7118, 1.7114, 1.71, 1.7088000000000001, 1.7088000000000001, 1.7079, 1.7061999999999999, 1.7059, 1.7045999999999999, 1.7042999999999999, 1.7041999999999999, 1.7038, 1.7028000000000001, 1.7018, 1.7015, 1.7007000000000001, 1.6998, 1.6997, 1.6995, 1.6887000000000001, 1.6978, 1.6445000000000001, 1.6757, 1.5823, 1.6435999999999999, 1.6577, 1.6339999999999999, 1.5542, 1.6600999999999999, 1.5644, 1.6698999999999999, 1.5213000000000001, 1.3432999999999999, 1.5137, 0.23419999999999999, 0.31950000000000001, 1.3573999999999999, 1.0670999999999999, 0.045499999999999999, 0.062300000000000001, 0.097000000000000003, -0.054899999999999997, 0.11210000000000001, 0.13880000000000001, 0.18160000000000001, -0.043499999999999997, 0.024799999999999999, 0.033099999999999997, 0.010500000000000001, 0.2291, -0.0092999999999999992, 0.1638, -0.0, 0.0441, 0.036999999999999998, 0.15709999999999999, 0.20730000000000001, 0.12529999999999999, -0.2447, -0.15359999999999999, -0.099400000000000002, -0.14910000000000001, 0.049500000000000002, -0.021100000000000001], \"Freq\": [251.0, 217.0, 211.0, 127.0, 98.0, 97.0, 91.0, 147.0, 100.0, 234.0, 94.0, 73.0, 68.0, 73.0, 64.0, 112.0, 59.0, 110.0, 58.0, 145.0, 61.0, 49.0, 49.0, 53.0, 47.0, 53.0, 46.0, 48.0, 47.0, 51.0, 72.41411842543863, 57.564491121454012, 52.971237667028667, 50.187225465960196, 45.550541017300546, 40.960372598982616, 39.999462532963669, 39.062172697761866, 38.152391818739481, 37.204027243494942, 32.596216972752529, 39.832953769623316, 31.660928591660284, 32.546604360151861, 31.638911620561053, 29.810417967439317, 28.892944732507377, 27.07956878799094, 28.866805751844488, 35.176489808437083, 27.05064998983319, 26.135060359543811, 25.201676771298889, 26.997117752636179, 25.165247459156365, 23.352457663232151, 26.945164934596754, 25.145420601876189, 25.142869058370479, 25.132648704807742, 43.810148462008414, 29.580077967041191, 29.510660988027432, 31.900227269568273, 28.363616043521688, 40.932461553116504, 164.77385991177647, 36.282074091338899, 82.105107209630319, 60.233610482044291, 35.366542438541352, 37.640257146327137, 106.33618428651468, 57.405400009116704, 63.655243051277829, 111.68352106356893, 155.82148648471758, 60.957843694438886, 143.22543280417355, 122.98727548944399, 142.17071690833444, 126.3646408191541, 135.4835957779311, 121.31004373064856, 87.046165965611749, 112.02195004278251, 120.63783295526875, 108.72232190177752, 136.99661172188669, 108.14649357663986, 127.10708962556892, 113.4644989909239, 86.965343763476355, 100.44268511884249, 109.59062948601398, 108.93060360855571, 106.92034116395416, 107.9479054767716, 103.33844478831429, 100.30468959984574, 92.121498615462826, 92.819010915337401, 98.38661542683019, 93.567360746120457, 91.594422453825274, 92.779391350123035, 90.023967363007898, 46.129967815881116, 41.487448104798354, 41.477540638597866, 38.696723102748962, 35.977475520810295, 37.774383362961522, 32.325010801648823, 47.578863580102698, 33.149615027010285, 30.447664871508653, 29.540900391930787, 32.186783987165484, 32.182233191013609, 27.707849209033864, 25.905593978375233, 27.664489338815727, 24.033830064789871, 24.029588847173429, 23.125423194698648, 31.996341700588978, 21.32623339450021, 22.212762105756259, 29.296382644284357, 21.292504017170689, 22.178560223833191, 27.471357723255807, 21.264404148123102, 23.921218740392344, 20.369725483530697, 44.957851387949447, 50.474083241287488, 189.03917964798691, 23.828912001082696, 23.768916437152495, 46.063693272971555, 84.707817711595652, 32.245377340206247, 47.9041276684246, 41.370037856298879, 32.286632080769799, 43.36810858120888, 48.557128069004207, 86.817323135256558, 72.621213783631461, 41.402793626985797, 109.10462237710651, 175.73607329803616, 55.047679352422811, 153.37209394327817, 143.52684287662944, 109.6948466742256, 88.403080673553518, 116.5486047374133, 105.05611584301255, 108.32894458039223, 99.562845865261622, 102.69922000995051, 100.93058104817825, 79.171386892688318, 102.88649330739393, 102.37017590958492, 97.323411570031638, 108.86090664938931, 95.290717777045018, 100.31133335407466, 97.597286354430096, 89.97891053137576, 85.741420863192943, 85.278464408183481, 86.266960068963812, 91.112560610521882, 91.406059585266732, 89.856915517901456, 87.379408126769817, 85.737734318977843, 95.663614704626895, 48.614345301412499, 43.116475194492615, 67.312618472910884, 40.34682350813371, 39.406912498624749, 39.376735871455622, 34.883324492449226, 46.5073128601557, 39.341810610276156, 37.538998390548571, 34.841847399996027, 35.727099583002882, 33.040786246427956, 32.128528402562821, 33.890478382920683, 31.210361650729041, 31.193573662683299, 30.27836339799228, 28.488349686346158, 29.368518527290494, 29.351419282517938, 29.344893946372974, 28.434208221631764, 71.032725410229332, 26.615622792746052, 34.587067675858229, 29.249307571359868, 27.47148787031534, 23.921190015067655, 61.648395877074719, 36.866894940781158, 35.687804738580283, 34.67765383821262, 37.587706283437939, 45.766929660341383, 36.632703675363928, 38.725898035603365, 48.598323984296435, 40.258835608014579, 69.2498858645464, 38.301013777311681, 172.33683774596662, 143.52725984018343, 52.46261376727891, 140.18330531619736, 127.0097786059884, 74.890142234124937, 114.86144826150979, 111.69125927595978, 102.66972126636867, 108.22440959396133, 101.85705982989879, 104.95714842364204, 84.254902016198542, 82.605991958290844, 102.00772258543604, 98.494647492111923, 99.100789404120746, 84.781683721324185, 96.320373163178957, 92.3792970260305, 87.679444540129168, 84.477248048449056, 86.406586190457972, 77.684111412781789, 84.994712732305288, 91.98567583186076, 88.590473311076892, 83.297351999732797, 83.926721058276669, 79.16963344047042, 79.131238124634208, 46.748767395748452, 48.446830061595968, 45.725893296756851, 38.542948202449914, 37.623956382109355, 33.131253114525748, 33.955807300865146, 34.815408018301454, 30.277463129080886, 27.549965795089815, 31.990803515211468, 27.529522334854967, 26.633657866378215, 25.733636004299843, 24.79200114078342, 22.103132241994455, 24.750324557895123, 22.975896260867447, 22.078731381059175, 21.17011895099424, 21.15644107112869, 20.257875648930078, 20.228464065201418, 19.306450352246188, 17.498691161757332, 16.623213371899961, 15.724957207754137, 17.45226439256643, 17.450094452310854, 15.684718257931976, 16.554232537340219, 17.41324073019641, 39.346653845718087, 169.42061886375342, 40.038606468779584, 83.379616958456097, 53.800313726869845, 22.996098091830532, 30.390463791743869, 105.39262822433382, 27.580203665079445, 31.191661224510888, 69.730884377789096, 78.606837015395413, 148.16260722948621, 48.527915948074288, 147.00924276077987, 96.896711329317114, 99.151023551213925, 73.985822358430042, 119.96742350295676, 101.94372526468274, 87.750823862184816, 100.49447561758302, 96.604253755915366, 107.7170255960785, 96.451840898962544, 91.076618205422832, 93.399969060114614, 83.864923352578003, 87.190981353381119, 90.856604106756251, 88.497803465856236, 85.588208060319545, 78.20285290689138, 85.553643200724423, 79.886192221282201, 77.670931343591064, 89.281638536344275, 84.040999262507924, 81.223276725089022, 79.965894018297632, 38.121306065809001, 37.192285886057235, 39.73102329862747, 30.890926375115313, 28.241060899561798, 31.763568487038665, 28.216855354216754, 26.419795445001306, 25.535840739917187, 29.054648473071062, 27.293616001620727, 25.518286148112068, 26.388034463567486, 26.351907384005834, 26.32251059556982, 28.077393480245124, 26.297969099935379, 22.754590962755877, 22.747629202299379, 21.844095429543088, 21.837745892615104, 20.961441969743419, 20.954202068245678, 20.061722106433251, 20.91247603293764, 20.035335552083534, 19.14892754482673, 18.262939202798922, 19.130445777901844, 18.257070778607119, 92.91573435786789, 22.565822606804087, 228.11623422706475, 56.060473756899576, 108.36889477422952, 45.272237838679736, 32.528726340302462, 39.938164078875701, 78.282522904861125, 30.9348608444962, 51.810712032025123, 24.487885583397858, 34.978378569825217, 48.916563396939161, 32.545722414358139, 163.05932494757158, 120.97468163211128, 37.154476336602585, 47.405660686881255, 105.02832389265664, 98.911873404798257, 94.648815906019721, 104.87221475689283, 90.275575129527567, 86.814876165985197, 83.578372645906072, 94.028371234881931, 89.813060266567632, 86.947530710505163, 87.260976147399091, 75.785707452504852, 84.292890573848638, 76.30721976717723, 81.507159085663503, 78.014427051031873, 78.146570279708726, 73.907899445332546, 70.576713823814643, 71.291985213526189, 80.609553413219018, 77.703646603537521, 74.581996503271242, 73.973696422411464, 71.807978209134674, 71.653810077083179], \"Total\": [251.0, 217.0, 211.0, 127.0, 98.0, 97.0, 91.0, 147.0, 100.0, 234.0, 94.0, 73.0, 68.0, 73.0, 64.0, 112.0, 59.0, 110.0, 58.0, 145.0, 61.0, 49.0, 49.0, 53.0, 47.0, 53.0, 46.0, 48.0, 47.0, 51.0, 73.48807330035757, 58.601467676108733, 53.950452150451952, 51.158716028248442, 46.507181509295442, 41.85583320381253, 40.92491883641754, 39.994737521869759, 39.063679844056267, 38.133644091493835, 33.481839444781741, 40.923258329223174, 32.550833890521893, 33.481126141849956, 32.55041217181153, 30.690464501654091, 29.760301722519532, 27.900121628698635, 29.75929427018551, 36.271177509038623, 27.899355206932658, 26.96936952311939, 26.038963272289113, 27.899028854124968, 26.038608169115811, 24.178163203549172, 27.898328779202529, 26.03783230222739, 26.037541147400592, 26.038300914177849, 45.555499029727727, 30.687462386420588, 30.687238053296376, 33.471007633522149, 29.752037090343247, 45.512300560021664, 234.29625079958356, 39.95634036008996, 110.31206154599761, 77.922866523336864, 39.940359472699036, 43.619336506524121, 203.36509096110262, 82.442350530188506, 104.35444593644327, 259.42945537861681, 561.34442091701351, 108.10308019328319, 517.86155099421092, 433.25043981421578, 573.57336752040158, 490.97941616963078, 588.44873918367966, 470.8508838516243, 246.96639194864125, 422.26994004839923, 531.17432887461405, 426.68190933905606, 737.41048624980533, 430.41181023223623, 633.25172923801586, 486.30799062308853, 259.75885532409461, 377.18762394121092, 493.52990568856075, 500.78631428656757, 480.80123878775009, 502.31908906534107, 461.25411283000261, 427.75626639641746, 358.60501210053701, 369.76772212552953, 490.76671781388399, 418.26613360435482, 359.50374490583835, 431.89997645011829, 91.27069344801825, 47.016065224229934, 42.406547138292076, 42.406217746869828, 39.640616949749869, 36.874383524598336, 38.718674977475779, 33.186897038308125, 48.857120867194041, 34.109735913484208, 31.342491288646364, 30.42084796962623, 33.186329299649941, 33.18403346814663, 28.577142878861405, 26.733522868589009, 28.578053413600919, 24.88908580926714, 24.889739908437637, 23.967766537209645, 33.182240351245106, 22.123663015416156, 23.04569623742286, 30.420133149068718, 22.123775539221601, 23.045747573557463, 28.573422613581748, 22.123163234086189, 24.888048689963732, 21.201918935641707, 47.008819929578607, 53.486386700013732, 217.47717781914253, 24.888478390925613, 24.887627265830925, 53.529352073617019, 112.56807393730703, 35.918419882178618, 61.715152566931771, 51.557202742114526, 37.725270807246538, 58.063646133857283, 70.930316533481275, 190.13440291371009, 145.19497660328284, 57.122174520660913, 311.18168113660181, 737.41048624980533, 95.740259497593911, 633.25172923801586, 561.34442091701351, 391.56249069118246, 269.22788127443073, 480.80123878775009, 430.41181023223623, 465.88552394250229, 390.6200769763721, 431.89997645011829, 427.75626639641746, 251.15031098023982, 490.97941616963078, 486.30799062308853, 435.58108141284094, 588.44873918367966, 418.26613360435482, 531.17432887461405, 493.52990568856075, 426.68190933905606, 369.76772212552953, 382.48581314309178, 398.35642780189346, 490.76671781388399, 502.31908906534107, 500.78631428656757, 573.57336752040158, 422.26994004839923, 97.090609661199139, 49.462158218500527, 43.966457072059377, 68.697216374742382, 41.219216118905678, 40.303142044743744, 40.303670977710169, 35.723435339624494, 47.628490203253797, 40.303789963097145, 38.472563700762926, 35.72444397138112, 36.638778915353832, 33.891365177348085, 32.975859663223396, 34.806892341959198, 32.059662201904992, 32.060684017312056, 31.143934309838425, 29.31203205473928, 30.228597172343218, 30.228185241943024, 30.228289654378397, 29.312941819937826, 73.276493176099976, 27.480506496841926, 35.728108480785565, 30.22749949277058, 28.39610361973131, 24.732193742857717, 64.106195686328419, 38.483659039480727, 37.571045004199696, 36.6325544199616, 40.286459305251846, 51.302668279652998, 39.416049915322247, 43.993244847338708, 60.496028045939539, 47.663376628762933, 109.20004024887659, 44.836095102529733, 737.41048624980533, 588.44873918367966, 84.44923174283052, 633.25172923801586, 517.86155099421092, 188.2918494798725, 531.17432887461405, 500.78631428656757, 433.25043981421578, 493.52990568856075, 435.58108141284094, 486.30799062308853, 285.84755192724981, 273.0657792094575, 461.25411283000261, 470.8508838516243, 490.97941616963078, 321.78684388491149, 465.88552394250229, 418.26613360435482, 370.26415245072747, 340.94871236985682, 431.89997645011829, 303.20212419475064, 427.75626639641746, 573.57336752040158, 502.31908906534107, 422.26994004839923, 561.34442091701351, 390.6200769763721, 490.76671781388399, 47.697729729397871, 49.531093079800442, 46.780022604267195, 39.442611833954253, 38.524459946468127, 33.938265546695384, 34.85649600684993, 35.772694548269584, 31.186855679797151, 28.43506359846965, 33.021597498208074, 28.4350336469005, 27.517945504883979, 26.600532706181042, 25.683729335288298, 22.931764914480357, 25.682983918924595, 23.849130825147292, 22.932058990359419, 22.015119429658636, 22.01435438423005, 21.097692461295445, 21.097501812892119, 20.180311812535198, 18.34567763217629, 17.42864655737317, 16.511466877652747, 18.345777821036503, 18.345906369583698, 16.51138982851689, 17.428396189141235, 18.345787895305893, 42.191153508000454, 211.09992999552281, 44.97179881479429, 100.19228584776063, 62.391608274231494, 24.764780621607258, 33.940751058483762, 147.58816452384684, 31.158197365496108, 39.461628958650572, 134.02985818607607, 167.12621360574011, 490.76671781388399, 83.634531511040919, 573.57336752040158, 316.45828217310395, 398.35642780189346, 222.70630321251193, 588.44873918367966, 435.58108141284094, 340.72631423300732, 500.78631428656757, 480.80123878775009, 633.25172923801586, 531.17432887461405, 470.8508838516243, 502.31908906534107, 382.48581314309178, 427.75626639641746, 493.52990568856075, 465.88552394250229, 426.68190933905606, 361.02199306184133, 517.86155099421092, 422.26994004839923, 391.56249069118246, 737.41048624980533, 561.34442091701351, 486.30799062308853, 461.25411283000261, 39.042868553942988, 38.134437666099458, 40.863096105229303, 31.780557328383807, 29.056607772111963, 32.688662395740494, 29.05699391192039, 27.241258439205126, 26.333480753070599, 29.965443473494041, 28.149341580375587, 26.33354499525025, 27.241993291309583, 27.242437412266156, 27.242708934546176, 29.060076631750423, 27.242854078232064, 23.611218453318074, 23.611466477012094, 22.703708622419803, 22.703652835268212, 21.795767474869546, 21.795769736722189, 20.888055514540188, 21.796033152449962, 20.888223814416509, 19.980596833377039, 19.072387623773221, 19.980554720402075, 19.072477721830531, 98.124715336393535, 23.613372114922559, 251.77792529722845, 59.977435374102313, 127.29165841182186, 50.011641222882531, 35.432358236016235, 44.54532894512726, 94.565626296921678, 33.614473809336531, 61.953880432062107, 26.349456238878169, 43.670199578055488, 72.966233183221789, 40.942191184616135, 737.41048624980533, 502.31908906534107, 54.645889044947211, 93.212181426521795, 573.57336752040158, 531.17432887461405, 490.97941616963078, 633.25172923801586, 461.25411283000261, 431.89997645011829, 398.35642780189346, 561.34442091701351, 500.78631428656757, 480.80123878775009, 493.52990568856075, 344.47717689383933, 486.30799062308853, 370.26415245072747, 465.88552394250229, 426.68190933905606, 430.41181023223623, 361.02199306184133, 327.86882089508072, 359.50374490583835, 588.44873918367966, 517.86155099421092, 470.8508838516243, 490.76671781388399, 390.6200769763721, 418.26613360435482], \"logprob\": [30.0, 29.0, 28.0, 27.0, 26.0, 25.0, 24.0, 23.0, 22.0, 21.0, 20.0, 19.0, 18.0, 17.0, 16.0, 15.0, 14.0, 13.0, 12.0, 11.0, 10.0, 9.0, 8.0, 7.0, 6.0, 5.0, 4.0, 3.0, 2.0, 1.0, -6.6924999999999999, -6.9219999999999997, -7.0050999999999997, -7.0590999999999999, -7.1561000000000003, -7.2622999999999998, -7.2859999999999996, -7.3097000000000003, -7.3333000000000004, -7.3585000000000003, -7.4907000000000004, -7.2901999999999996, -7.5198, -7.4922000000000004, -7.5205000000000002, -7.5800000000000001, -7.6113, -7.6760999999999999, -7.6121999999999996, -7.4145000000000003, -7.6772, -7.7115999999999998, -7.7480000000000002, -7.6791999999999998, -7.7493999999999996, -7.8242000000000003, -7.6810999999999998, -7.7502000000000004, -7.7503000000000002, -7.7507000000000001, -7.1950000000000003, -7.5877999999999997, -7.5900999999999996, -7.5122999999999998, -7.6298000000000004, -7.2629999999999999, -5.8703000000000003, -7.3836000000000004, -6.5669000000000004, -6.8766999999999996, -7.4090999999999996, -7.3468, -6.3083, -6.9246999999999996, -6.8213999999999997, -6.2591999999999999, -5.9261999999999997, -6.8647, -6.0105000000000004, -6.1627999999999998, -6.0179, -6.1356999999999999, -6.0659999999999998, -6.1764999999999999, -6.5084, -6.2561999999999998, -6.1821000000000002, -6.2861000000000002, -6.0548999999999999, -6.2914000000000003, -6.1299000000000001, -6.2434000000000003, -6.5094000000000003, -6.3653000000000004, -6.2781000000000002, -6.2842000000000002, -6.3028000000000004, -6.2931999999999997, -6.3369, -6.3666999999999998, -6.4518000000000004, -6.4442000000000004, -6.3860000000000001, -6.4362000000000004, -6.4574999999999996, -6.4447000000000001, -6.3719000000000001, -7.0404999999999998, -7.1466000000000003, -7.1467999999999998, -7.2161999999999997, -7.2891000000000004, -7.2404000000000002, -7.3962000000000003, -7.0095999999999998, -7.3710000000000004, -7.4560000000000004, -7.4862000000000002, -7.4004000000000003, -7.4005999999999998, -7.5503, -7.6174999999999997, -7.5518000000000001, -7.6924999999999999, -7.6927000000000003, -7.7310999999999996, -7.4063999999999997, -7.8121, -7.7713000000000001, -7.4945000000000004, -7.8136000000000001, -7.7728999999999999, -7.5589000000000004, -7.8150000000000004, -7.6971999999999996, -7.8578999999999999, -7.0663, -6.9504999999999999, -5.6299999999999999, -7.7011000000000003, -7.7035999999999998, -7.0419999999999998, -6.4328000000000003, -7.3986000000000001, -7.0027999999999997, -7.1494, -7.3973000000000004, -7.1022999999999996, -6.9893000000000001, -6.4081999999999999, -6.5867000000000004, -7.1486000000000001, -6.1797000000000004, -5.7030000000000003, -6.8638000000000003, -5.8391000000000002, -5.9055, -6.1742999999999997, -6.3901000000000003, -6.1136999999999997, -6.2175000000000002, -6.1867999999999999, -6.2712000000000003, -6.2401999999999997, -6.2576000000000001, -6.5004, -6.2384000000000004, -6.2434000000000003, -6.2939999999999996, -6.1818999999999997, -6.3151000000000002, -6.2637, -6.2911000000000001, -6.3723999999999998, -6.4207000000000001, -6.4260999999999999, -6.4145000000000003, -6.3598999999999997, -6.3567, -6.3738000000000001, -6.4016999999999999, -6.4207000000000001, -6.2896999999999998, -6.9665999999999997, -7.0865999999999998, -6.6412000000000004, -7.1529999999999996, -7.1765999999999996, -7.1773999999999996, -7.2984999999999998, -7.0109000000000004, -7.1782000000000004, -7.2251000000000003, -7.2996999999999996, -7.2746000000000004, -7.3528000000000002, -7.3807999999999998, -7.3273999999999999, -7.4097999999999997, -7.4103000000000003, -7.4401000000000002, -7.5010000000000003, -7.4706000000000001, -7.4711999999999996, -7.4714, -7.5029000000000003, -6.5873999999999997, -7.569, -7.3070000000000004, -7.4747000000000003, -7.5373999999999999, -7.6757999999999997, -6.7290999999999999, -7.2431999999999999, -7.2756999999999996, -7.3044000000000002, -7.2239000000000004, -7.0270000000000001, -7.2496, -7.194, -6.9668999999999999, -7.1551999999999998, -6.6128, -7.2050999999999998, -5.7011000000000003, -5.8840000000000003, -6.8903999999999996, -5.9076000000000004, -6.0063000000000004, -6.5345000000000004, -6.1067999999999998, -6.1348000000000003, -6.2190000000000003, -6.1662999999999997, -6.2270000000000003, -6.1970000000000001, -6.4166999999999996, -6.4363999999999999, -6.2255000000000003, -6.2605000000000004, -6.2544000000000004, -6.4104000000000001, -6.2827999999999999, -6.3246000000000002, -6.3768000000000002, -6.4139999999999997, -6.3914999999999997, -6.4978999999999996, -6.4078999999999997, -6.3289, -6.3665000000000003, -6.4280999999999997, -6.4206000000000003, -6.4789000000000003, -6.4794, -6.9789000000000003, -6.9432, -7.0010000000000003, -7.1718999999999999, -7.1959999999999997, -7.3231999999999999, -7.2986000000000004, -7.2736000000000001, -7.4132999999999996, -7.5076999999999998, -7.3582000000000001, -7.5084, -7.5415000000000001, -7.5758999999999999, -7.6131000000000002, -7.7279, -7.6147999999999998, -7.6891999999999996, -7.7290000000000001, -7.7710999999999997, -7.7717000000000001, -7.8151000000000002, -7.8166000000000002, -7.8632, -7.9615, -8.0129000000000001, -8.0684000000000005, -7.9641999999999999, -7.9642999999999997, -8.0709999999999997, -8.0169999999999995, -7.9664000000000001, -7.1512000000000002, -5.6913, -7.1337999999999999, -6.4001999999999999, -6.8384, -7.6882999999999999, -7.4095000000000004, -6.1660000000000004, -7.5065999999999997, -7.3834999999999997, -6.5789999999999997, -6.4592000000000001, -5.8253000000000004, -6.9414999999999996, -5.8331999999999997, -6.25, -6.2270000000000003, -6.5198, -6.0364000000000004, -6.1992000000000003, -6.3491999999999997, -6.2135999999999996, -6.2530000000000001, -6.1440999999999999, -6.2545999999999999, -6.3120000000000003, -6.2868000000000004, -6.3944000000000001, -6.3555999999999999, -6.3144, -6.3407, -6.3741000000000003, -6.4642999999999997, -6.3745000000000003, -6.4431000000000003, -6.4711999999999996, -6.3319000000000001, -6.3922999999999996, -6.4264999999999999, -6.4420999999999999, -7.0766, -7.1012000000000004, -7.0351999999999997, -7.2869000000000002, -7.3765999999999998, -7.2590000000000003, -7.3773999999999997, -7.4432, -7.4772999999999996, -7.3482000000000003, -7.4107000000000003, -7.4779999999999998, -7.4443999999999999, -7.4458000000000002, -7.4469000000000003, -7.3823999999999996, -7.4478999999999997, -7.5926, -7.5929000000000002, -7.6334, -7.6337000000000002, -7.6746999999999996, -7.6749999999999998, -7.7184999999999997, -7.6769999999999996, -7.7198000000000002, -7.7651000000000003, -7.8125, -7.7660999999999998, -7.8128000000000002, -6.1856999999999998, -7.6009000000000002, -5.2874999999999996, -6.6909000000000001, -6.0317999999999996, -6.9047000000000001, -7.2351999999999999, -7.0300000000000002, -6.3570000000000002, -7.2854999999999999, -6.7698, -7.5191999999999997, -7.1626000000000003, -6.8272000000000004, -7.2347000000000001, -5.6231999999999998, -5.9218000000000002, -7.1022999999999996, -6.8586, -6.0631000000000004, -6.1231, -6.1672000000000002, -6.0646000000000004, -6.2145000000000001, -6.2535999999999996, -6.2915999999999999, -6.1738, -6.2195999999999998, -6.2519999999999998, -6.2484000000000002, -6.3894000000000002, -6.2830000000000004, -6.3826000000000001, -6.3167, -6.3605, -6.3587999999999996, -6.4145000000000003, -6.4606000000000003, -6.4505999999999997, -6.3277000000000001, -6.3643999999999998, -6.4054000000000002, -6.4135999999999997, -6.4433999999999996, -6.4455]}};\\n\\nfunction LDAvis_load_lib(url, callback){\\n  var s = document.createElement(\\'script\\');\\n  s.src = url;\\n  s.async = true;\\n  s.onreadystatechange = s.onload = callback;\\n  s.onerror = function(){console.warn(\"failed to load library \" + url);};\\n  document.getElementsByTagName(\"head\")[0].appendChild(s);\\n}\\n\\nif(typeof(LDAvis) !== \"undefined\"){\\n   // already loaded: just create the visualization\\n   !function(LDAvis){\\n       new LDAvis(\"#\" + \"ldavis_el239247146747682409335067\", ldavis_el239247146747682409335067_data);\\n   }(LDAvis);\\n}else if(typeof define === \"function\" && define.amd){\\n   // require.js is available: use it to load d3/LDAvis\\n   require.config({paths: {d3: \"https://cdnjs.cloudflare.com/ajax/libs/d3/3.5.5/d3.min\"}});\\n   require([\"d3\"], function(d3){\\n      window.d3 = d3;\\n      LDAvis_load_lib(\"https://cdn.rawgit.com/bmabey/pyLDAvis/files/ldavis.v1.0.0.js\", function(){\\n        new LDAvis(\"#\" + \"ldavis_el239247146747682409335067\", ldavis_el239247146747682409335067_data);\\n      });\\n    });\\n}else{\\n    // require.js not available: dynamically load d3 & LDAvis\\n    LDAvis_load_lib(\"https://cdnjs.cloudflare.com/ajax/libs/d3/3.5.5/d3.min.js\", function(){\\n         LDAvis_load_lib(\"https://cdn.rawgit.com/bmabey/pyLDAvis/files/ldavis.v1.0.0.js\", function(){\\n                 new LDAvis(\"#\" + \"ldavis_el239247146747682409335067\", ldavis_el239247146747682409335067_data);\\n            })\\n         });\\n}\\n</script>'"
      ]
     },
     "execution_count": 634,
     "metadata": {},
     "output_type": "execute_result"
    }
   ],
   "source": [
    "pyLDAvis.prepared_data_to_html(vis_data)"
   ]
  },
  {
   "cell_type": "code",
   "execution_count": 636,
   "metadata": {
    "collapsed": false
   },
   "outputs": [],
   "source": [
    "pyLDAvis.enable_notebook()\n",
    "vis_data = gensimvis.prepare(lda, corpus, dictionary)\n"
   ]
  },
  {
   "cell_type": "code",
   "execution_count": 637,
   "metadata": {
    "collapsed": false
   },
   "outputs": [
    {
     "data": {
      "text/html": [
       "\n",
       "<link rel=\"stylesheet\" type=\"text/css\" href=\"https://cdn.rawgit.com/bmabey/pyLDAvis/files/ldavis.v1.0.0.css\">\n",
       "\n",
       "\n",
       "<div id=\"ldavis_el239246554801446653145411\"></div>\n",
       "<script type=\"text/javascript\">\n",
       "\n",
       "var ldavis_el239246554801446653145411_data = {\"plot.opts\": {\"xlab\": \"PC1\", \"ylab\": \"PC2\"}, \"topic.order\": [2, 4, 3, 1], \"token.table\": {\"Topic\": [1, 3, 4, 1, 4, 1, 2, 3, 4, 1, 2, 3, 4, 4, 1, 4, 1, 2, 3, 4, 1, 2, 3, 1, 2, 3, 4, 2, 1, 2, 3, 4, 1, 1, 2, 3, 4, 1, 4, 1, 2, 3, 4, 1, 2, 3, 4, 1, 2, 3, 4, 1, 2, 3, 1, 3, 2, 3, 1, 1, 3, 4, 1, 2, 3, 4, 1, 3, 2, 2, 3, 3, 1, 2, 2, 3, 3, 3, 2, 3, 4, 2, 4, 4, 4, 4, 1, 2, 3, 1, 1, 4, 1, 2, 3, 4, 1, 2, 3, 4, 1, 2, 3, 4, 1, 2, 4, 2, 1, 2, 3, 4, 3, 4, 2, 3, 1, 2, 3, 4, 1, 3, 1, 1, 4, 2, 2, 3, 1, 2, 1, 2, 3, 4, 1, 1, 2, 3, 4, 1, 4, 4, 4, 3, 1, 2, 3, 4, 1, 2, 3, 4, 1, 2, 3, 4, 1, 2, 3, 4, 1, 2, 3, 4, 1, 1, 1, 2, 3, 4, 2, 3, 1, 2, 3, 4, 2, 4, 3, 1, 2, 3, 4, 3, 1, 2, 3, 4, 1, 2, 3, 4, 1, 2, 3, 4, 1, 4, 2, 3, 1, 2, 3, 4, 1, 2, 3, 4, 1, 2, 3, 4, 1, 2, 3, 4, 1, 3, 1, 3, 1, 2, 3, 4, 1, 2, 3, 4, 1, 2, 3, 4, 3, 3, 1, 2, 3, 4, 3, 2, 2, 2, 4, 1, 3, 4, 1, 2, 3, 4, 3, 3, 1, 2, 3, 4, 2, 3, 2, 1, 4, 2, 4, 1, 1, 2, 3, 4, 1, 3, 2, 4, 1, 2, 3, 4, 1, 1, 1, 2, 3, 4, 1, 2, 3, 4, 2, 1, 2, 3, 4, 4, 1, 2, 3, 4, 2, 3, 1, 2, 3, 4, 3, 2, 1, 2, 3, 4, 1, 2, 3, 4, 1, 2, 3, 4, 1, 2, 3, 4, 1, 2, 3, 4, 1, 2, 3, 4, 4, 1, 2, 3, 4, 1, 3, 2, 2, 4, 1, 1, 1, 2, 3, 4, 1, 2, 3, 3, 3, 2, 1, 2, 3, 4, 1, 4, 3, 4, 4, 4, 2, 4, 3, 3, 4, 4, 3, 1, 1, 2, 3, 4, 4, 1, 2, 1, 2, 3, 4, 2, 1, 2, 3, 4, 4, 1, 2, 3, 4, 1, 3, 3, 1, 1, 2, 3, 4, 2, 4, 1, 2, 3, 4, 1, 2, 1, 2, 3, 4, 2, 1, 1, 1, 2, 3, 4, 2, 1, 1, 2, 3, 4, 3, 1, 2, 3, 4, 2, 3, 4, 4, 1, 2, 3, 4, 1, 2, 3, 4, 4, 2, 1, 2, 4, 1, 2, 3, 4, 1, 2, 3, 4, 2, 2, 1, 2, 3, 4, 3, 2, 4, 1, 1, 2, 3, 4, 1, 3, 1, 4, 2, 1, 4, 1, 2, 3, 4, 1, 2, 3, 4, 1, 2, 3, 4, 1, 3, 4, 2, 1, 2, 3, 4, 1, 2, 3, 4], \"Freq\": [0.97322240186876985, 0.0077239873164188086, 0.0077239873164188086, 0.16131713020442917, 0.83347183938955072, 0.12519533476455025, 0.053655143470521534, 0.81078883466565876, 0.0059616826078357265, 0.24965341820342268, 0.26762846431406911, 0.25564510024030485, 0.22568669005589412, 0.97827366852469688, 0.98292228832427064, 0.98311123407405931, 0.0096121520431124933, 0.81703292366456193, 0.038448608172449973, 0.1345701286035749, 0.11812850410301656, 0.82689952872111594, 0.039376168034338854, 0.98850401219502548, 0.81285103083606158, 0.17418236375058463, 0.019353595972287179, 0.97190730510655554, 0.022575292247228106, 0.88043639764189618, 0.067725876741684315, 0.022575292247228106, 0.97826361062934508, 0.3636650510260061, 0.17602935980514126, 0.19537324549801394, 0.26694562256164278, 0.066933310091796941, 0.90359968623925868, 0.28104275827474418, 0.23051821746130705, 0.28893721777684378, 0.19894037945290882, 0.2761673445199882, 0.23155569655906705, 0.303784078971987, 0.18906841278676115, 0.31578129885479544, 0.26824432913471874, 0.26654658021614458, 0.14940190483452689, 0.98858054141863494, 0.016203810839498782, 0.97222865036992689, 0.018718477729715823, 0.97336084194522288, 0.93201411103581322, 0.050379141137070982, 0.97036481934012353, 0.19369937667296683, 0.030584112106257919, 0.77479750669186731, 0.37021316860764858, 0.39612809041018399, 0.14068100407090645, 0.092553292151912145, 0.94892980428694418, 0.022068134983417306, 0.97478823749030885, 0.025248879567080964, 0.95945742354907659, 0.96938912200814298, 0.97036641978855298, 0.9814819416243965, 0.95567132634175733, 0.03185571087805858, 0.98469326923852551, 0.96045574398427069, 0.64789478433504155, 0.21928746546724484, 0.12957895686700832, 0.93512924100913142, 0.042505874591324155, 0.97824100198786068, 0.98317080830144654, 0.98323852880387674, 0.10431719367693922, 0.10431719367693922, 0.79281067194473809, 0.98609406852450088, 0.014003797744398128, 0.98026584210786893, 0.30020274176710421, 0.25422574528025038, 0.27045292051090469, 0.17579439833208804, 0.27045469829199831, 0.25719711504239057, 0.30757593139090006, 0.16439403229513624, 0.061327597986375895, 0.85858637180926256, 0.061327597986375895, 0.020442532662125298, 0.98656703975808901, 0.88798763973989259, 0.098665293304432508, 0.97981805101833996, 0.20961230363269051, 0.66529122457332202, 0.045567892094063152, 0.082022205769313669, 0.98392456462110656, 0.98052245145694517, 0.95814116099958857, 0.97140354152874009, 0.27572522038303088, 0.23781300258036411, 0.23091987207078835, 0.25849239410909142, 0.9830218880561794, 0.96046098694098925, 0.97828429136790374, 0.97317635542132674, 0.98302548883279028, 0.95310899284376061, 0.96275174754515636, 0.96044761337289075, 0.97577139862747153, 0.97105717670123359, 0.012212893803939206, 0.024425787607878412, 0.89154124768756204, 0.073277362823635242, 0.98295763216520327, 0.14762915026613271, 0.073814575133066357, 0.2214437253991991, 0.56942672245508341, 0.97827574926548977, 0.96430939661650472, 0.98312977791834677, 0.97065487776116699, 0.98064768077392794, 0.23862883203661908, 0.30990757407353126, 0.25412421074029562, 0.1952417716663247, 0.23526046634988765, 0.36001980456573718, 0.2316959138294348, 0.17466307350218932, 0.40392117751979556, 0.2350403403671224, 0.20370162831817276, 0.15669356024474829, 0.29752235408060884, 0.23718565290342244, 0.24966910831939204, 0.21637989387680642, 0.26532694958627218, 0.26720870100177763, 0.27661745807930505, 0.1900568929660531, 0.98301134663555767, 0.98300956771631265, 0.34185771734189463, 0.25838083287468783, 0.2166423906410844, 0.18285412788054828, 0.9701493213092246, 0.98699673382373676, 0.27128109389776861, 0.1061534715252138, 0.023589660338936402, 0.61333116881234639, 0.98148085071955915, 0.96759699754872142, 0.96506911864726952, 0.11581468711852731, 0.57907343559263658, 0.15144997546268957, 0.16035879754873014, 0.97341154991262246, 0.33488598043732204, 0.2194080561485903, 0.24019408252056201, 0.2055507052339425, 0.67562815819920985, 0.11879176407898195, 0.11879176407898195, 0.081669337804300093, 0.29977956802981304, 0.19040053645136776, 0.31800940662622063, 0.19040053645136776, 0.02256463680358509, 0.94771474575057379, 0.97474543494122434, 0.027076262081700674, 0.029337788883435238, 0.029337788883435238, 0.90947145538649232, 0.98331962837337861, 0.87536506363687194, 0.035170917735410034, 0.04689455698054671, 0.04689455698054671, 0.28947693376311912, 0.17714260125802811, 0.095052127504307762, 0.44069622751997234, 0.3410805376128121, 0.23686148445334171, 0.23923009929787514, 0.18238334302907311, 0.88298191372366008, 0.088298191372365997, 0.98078302363875502, 0.025148282657403973, 0.27885151181494677, 0.28314153507363826, 0.24882134900410635, 0.18876102338242551, 0.30846092995186186, 0.22742458394755916, 0.27970609749872216, 0.18559937310662875, 0.28572263973667833, 0.26105593702559821, 0.27133372982188159, 0.18088915321458773, 0.97925502983997181, 0.97713620945127622, 0.020845538503838898, 0.87551261716123374, 0.062536615511516694, 0.041691077007677796, 0.98699093028232388, 0.9670131377759702, 0.94770045479971865, 0.021681240003286216, 0.95397456014459359, 0.5359218886740138, 0.094853431623719259, 0.36518571175131914, 0.82820683126720929, 0.012741643557957065, 0.10193314846365652, 0.063708217789785332, 0.96172250562453421, 0.97342314038057842, 0.11763892611425922, 0.28395602855166019, 0.46244267506984654, 0.13792149958223493, 0.95926079229427763, 0.96506386804728694, 0.97190454393300374, 0.022120902400181712, 0.97331970560799541, 0.039485626065963404, 0.94765502558312176, 0.96112784220124092, 0.10573463143751696, 0.15860194715627543, 0.24167915757146735, 0.49091078881704303, 0.95558698594088232, 0.025147025945812692, 0.96272248505778379, 0.98302286789365168, 0.9799127085037167, 0.82868776355313611, 0.14342672830727354, 0.015936303145252618, 0.95774002901170063, 0.98294605817868286, 0.04530264737832683, 0.022651323689163415, 0.8380989764990463, 0.090605294756653659, 0.2789590578048145, 0.28130325156788016, 0.24145195759576379, 0.1969122760975161, 0.98189850112684018, 0.27270794845692675, 0.28940435346449367, 0.22261873343422592, 0.21427053093044246, 0.98745622947206246, 0.35503687711739707, 0.21952661867564247, 0.19784497732496173, 0.22765723418214776, 0.974727206882536, 0.98702692679953419, 0.28298984814279754, 0.29113344089510823, 0.25041547713355466, 0.1750872441746805, 0.9806548520714069, 0.98671767332354188, 0.46435752790696611, 0.12349934252844844, 0.23711873765462099, 0.1728990795398278, 0.012896660561638908, 0.83828293650652896, 0.14186326617802797, 0.98303037198010301, 0.36455826545418246, 0.22810349570317562, 0.20366383544926395, 0.20366383544926395, 0.14722692246534255, 0.25764711431434945, 0.30135510692124806, 0.2944538449306851, 0.31070087023472009, 0.26051072965834227, 0.23900066941132317, 0.18881052883494528, 0.398760668570323, 0.028482904897880214, 0.3354653243528114, 0.23735754081566846, 0.977510098617689, 0.32676261491124703, 0.27570595633136469, 0.19912096846154115, 0.19912096846154115, 0.030157133586883204, 0.96502827478026254, 0.97828214282330794, 0.024042062000096065, 0.96168248000384249, 0.98934330785659064, 0.97826635660441219, 0.28032514872591874, 0.20850630896969161, 0.2687414648942692, 0.24325736046464022, 0.025242702239061433, 0.050485404478122865, 0.90873728060621151, 0.98515499191501132, 0.99207483687792075, 0.94770062966304547, 0.82855478677590899, 0.0067362177786659269, 0.033681088893329637, 0.12798813779465262, 0.039488842441983259, 0.94773221860759815, 0.9504319257317152, 0.027155197878049004, 0.96325007695304055, 0.97118010366596064, 0.066967229942366008, 0.93754121919312416, 0.98065644330663615, 0.93845610901580401, 0.049392426790305477, 0.9830394820881202, 0.98326818038939634, 0.9703666587727855, 0.31325293528371717, 0.27566258304967112, 0.21050597251065792, 0.20048187858157898, 0.97753502834002415, 0.020054595805012176, 0.9826751944455967, 0.02653028413595113, 0.73400452776131464, 0.044217140226585218, 0.203398845042292, 0.97107082958967905, 0.14731934553399564, 0.56823176134541187, 0.0052614051976427019, 0.27359307027742052, 0.98650470989845718, 0.065664963335996668, 0.78797956003196001, 0.11491368583799416, 0.016416240833999167, 0.030157435522256117, 0.96503793671219573, 0.9693937407919434, 0.9829949337921966, 0.015260072510866919, 0.80878384307594675, 0.16786079761953612, 0.015260072510866919, 0.96898828593278019, 0.96156921096971626, 0.35367858517496803, 0.15929035515513829, 0.27268348933337233, 0.21328708571620211, 0.98591198199113128, 0.96591865532972032, 0.045609975158085049, 0.1976432256850352, 0.29646483852755279, 0.46370141410719795, 0.98461172031650213, 0.97725011530323647, 0.96438856561821096, 0.096788400335342625, 0.11829693374319654, 0.20433106737461221, 0.58073040201205572, 0.97823811608224087, 0.97824924340264408, 0.266094676426332, 0.16805979563768336, 0.32911709979046322, 0.23458346474426636, 0.97714519540928768, 0.29696010188355504, 0.23808008168250536, 0.25344008695234438, 0.20992007202113375, 0.052717897518232727, 0.73805056525525814, 0.19329895756685334, 0.98331341364962843, 0.32990088156689912, 0.248587283997593, 0.23697105577340641, 0.1835364059421481, 0.32491307743613629, 0.25559828758309389, 0.23177132857111057, 0.18844958491295905, 0.98593284491518607, 0.97824603560389511, 0.8882389628629368, 0.064599197299122682, 0.032299598649561341, 0.23565286744836411, 0.347277909923905, 0.18914243308355541, 0.22635078057540237, 0.26965890396175662, 0.29896965439238232, 0.24327922857419346, 0.18465772771294203, 0.9814721360441192, 0.98151064644731978, 0.11071497682563299, 0.041518116309612364, 0.67351610902260062, 0.17529871330725222, 0.9651112222479834, 0.032523555317983906, 0.97570665953951707, 0.9611343601821013, 0.33681191183096071, 0.27530712793139395, 0.23137513943170343, 0.15522635936557319, 0.11626829511576589, 0.87201221336824419, 0.98588619665362853, 0.96786121750864396, 0.98457499063293807, 0.1350629265118452, 0.85539853457501969, 0.27914359479854567, 0.2245982946654965, 0.30481197133174526, 0.18930427693234705, 0.15362444899981165, 0.39137657245190111, 0.33651069780911125, 0.12070492421413773, 0.21831950490527557, 0.20596179708044865, 0.21831950490527557, 0.35837352691998065, 0.010966630777137698, 0.98699676994239272, 0.010966630777137698, 0.95810313936930624, 0.30453555685950012, 0.29623004167242289, 0.17995282905334101, 0.21871189992636828, 0.20349338539542353, 0.29705356258872168, 0.31810460245721378, 0.18010334109709897], \"Term\": [\"adam\", \"adam\", \"adam\", \"ahmed\", \"ahmed\", \"alice\", \"alice\", \"alice\", \"alice\", \"also\", \"also\", \"also\", \"also\", \"alyosha\", \"amir\", \"andy\", \"anne\", \"anne\", \"anne\", \"anne\", \"annie\", \"annie\", \"annie\", \"antigone\", \"antonio\", \"antonio\", \"antonio\", \"arnoux\", \"artist\", \"artist\", \"artist\", \"artist\", \"asher\", \"asks\", \"asks\", \"asks\", \"asks\", \"aziz\", \"aziz\", \"back\", \"back\", \"back\", \"back\", \"becomes\", \"becomes\", \"becomes\", \"becomes\", \"begins\", \"begins\", \"begins\", \"begins\", \"berenger\", \"bernard\", \"bernard\", \"biff\", \"biff\", \"bigger\", \"bigger\", \"bilbo\", \"billy\", \"billy\", \"billy\", \"black\", \"black\", \"black\", \"black\", \"blanche\", \"blanche\", \"blomkvist\", \"bloom\", \"bloom\", \"brady\", \"brutus\", \"candide\", \"carolina\", \"carolina\", \"cassio\", \"cates\", \"catherine\", \"catherine\", \"catherine\", \"cecilia\", \"cecilia\", \"cecily\", \"celie\", \"chad\", \"charlie\", \"charlie\", \"charlie\", \"christine\", \"clov\", \"clov\", \"come\", \"come\", \"come\", \"come\", \"comes\", \"comes\", \"comes\", \"comes\", \"courage\", \"courage\", \"courage\", \"courage\", \"creon\", \"crusoe\", \"crusoe\", \"cyrano\", \"d\", \"d\", \"d\", \"d\", \"dana\", \"dant\", \"dante\", \"das\", \"death\", \"death\", \"death\", \"death\", \"dee\", \"desdemona\", \"dicey\", \"dixon\", \"dmitri\", \"dorian\", \"douglass\", \"drummond\", \"edna\", \"ego\", \"emily\", \"emily\", \"emily\", \"emily\", \"ender\", \"english\", \"english\", \"english\", \"english\", \"ennis\", \"esi\", \"esteban\", \"esther\", \"ethan\", \"even\", \"even\", \"even\", \"even\", \"family\", \"family\", \"family\", \"family\", \"father\", \"father\", \"father\", \"father\", \"find\", \"find\", \"find\", \"find\", \"finds\", \"finds\", \"finds\", \"finds\", \"finny\", \"firdaus\", \"first\", \"first\", \"first\", \"first\", \"fr\", \"francie\", \"frank\", \"frank\", \"frank\", \"frank\", \"frog\", \"gatsby\", \"gawain\", \"george\", \"george\", \"george\", \"george\", \"ginzburg\", \"go\", \"go\", \"go\", \"go\", \"god\", \"god\", \"god\", \"god\", \"goes\", \"goes\", \"goes\", \"goes\", \"governess\", \"governess\", \"gregor\", \"gregor\", \"hamlet\", \"hamlet\", \"hamlet\", \"hamm\", \"harry\", \"harry\", \"harry\", \"harry\", \"henry\", \"henry\", \"henry\", \"henry\", \"her.\", \"her.\", \"her.\", \"her.\", \"hermione\", \"hermione\", \"holden\", \"holden\", \"home\", \"home\", \"home\", \"home\", \"house\", \"house\", \"house\", \"house\", \"however,\", \"however,\", \"however,\", \"however,\", \"huck\", \"humbert\", \"hunger\", \"hunger\", \"hunger\", \"hunger\", \"iago\", \"inman\", \"isabella\", \"ivan\", \"ivan\", \"jack\", \"jack\", \"jack\", \"jane\", \"jane\", \"jane\", \"jane\", \"jeanette\", \"jekyll\", \"john\", \"john\", \"john\", \"john\", \"juliet\", \"jurgis\", \"katagiri\", \"katniss\", \"katniss\", \"kaysen\", \"kaysen\", \"kino\", \"lady\", \"lady\", \"lady\", \"lady\", \"lavinia\", \"lavinia\", \"lennie\", \"levin\", \"liesel\", \"lily\", \"lily\", \"lily\", \"lim\", \"lonelyhearts\", \"louis\", \"louis\", \"louis\", \"louis\", \"love\", \"love\", \"love\", \"love\", \"lyra\", \"make\", \"make\", \"make\", \"make\", \"malcolm\", \"man\", \"man\", \"man\", \"man\", \"maya\", \"melba\", \"men\", \"men\", \"men\", \"men\", \"meridian\", \"meursault\", \"miss\", \"miss\", \"miss\", \"miss\", \"molly\", \"molly\", \"molly\", \"mosca\", \"mother\", \"mother\", \"mother\", \"mother\", \"mrs.\", \"mrs.\", \"mrs.\", \"mrs.\", \"named\", \"named\", \"named\", \"named\", \"narrator\", \"narrator\", \"narrator\", \"narrator\", \"newman\", \"next\", \"next\", \"next\", \"next\", \"nisa\", \"nisa\", \"nnu\", \"nora\", \"nora\", \"oedipus\", \"offred\", \"old\", \"old\", \"old\", \"old\", \"oliver\", \"oliver\", \"oliver\", \"orlando\", \"othello\", \"paine\", \"paul\", \"paul\", \"paul\", \"paul\", \"peeta\", \"peeta\", \"pip\", \"pip\", \"poirot\", \"ponyboy\", \"prejean\", \"prejean\", \"prometheus\", \"prospero\", \"prospero\", \"rainsford\", \"raskolnikov\", \"rayona\", \"returns\", \"returns\", \"returns\", \"returns\", \"reuven\", \"ric\", \"ric\", \"richard\", \"richard\", \"richard\", \"richard\", \"rigoberta\", \"robert\", \"robert\", \"robert\", \"robert\", \"rowlandson\", \"roy\", \"roy\", \"roy\", \"roy\", \"rufus\", \"rufus\", \"sal\", \"saleem\", \"sam\", \"sam\", \"sam\", \"sam\", \"scarlett\", \"scrooge\", \"see\", \"see\", \"see\", \"see\", \"sethe\", \"shane\", \"ship\", \"ship\", \"ship\", \"ship\", \"shukhov\", \"siddhartha\", \"sinclair\", \"sir\", \"sir\", \"sir\", \"sir\", \"snopes\", \"solange\", \"son\", \"son\", \"son\", \"son\", \"sonny\", \"soon\", \"soon\", \"soon\", \"soon\", \"stephen\", \"stephen\", \"stephen\", \"strether\", \"take\", \"take\", \"take\", \"take\", \"takes\", \"takes\", \"takes\", \"takes\", \"tayo\", \"tess\", \"theseus\", \"theseus\", \"theseus\", \"though\", \"though\", \"though\", \"though\", \"three\", \"three\", \"three\", \"three\", \"timon\", \"tita\", \"tom\", \"tom\", \"tom\", \"tom\", \"tommo\", \"torvald\", \"torvald\", \"treplev\", \"tries\", \"tries\", \"tries\", \"tries\", \"troy\", \"troy\", \"valjean\", \"volpone\", \"voynitsky\", \"waiter\", \"waiter\", \"way\", \"way\", \"way\", \"way\", \"white\", \"white\", \"white\", \"white\", \"wife\", \"wife\", \"wife\", \"wife\", \"willy\", \"willy\", \"willy\", \"winston\", \"years\", \"years\", \"years\", \"years\", \"young\", \"young\", \"young\", \"young\"]}, \"mdsDat\": {\"y\": [0.065381136465479509, -0.054547937273073596, 0.029227228051403643, -0.040060427243809531], \"cluster\": [1, 1, 1, 1], \"Freq\": [28.925197206066489, 25.6955490283427, 24.658511881376018, 20.720741884214785], \"topics\": [1, 2, 3, 4], \"x\": [-0.0069250701209516534, -0.066633374985858154, -0.0033939879339222444, 0.076952433040732016]}, \"R\": 30, \"lambda.step\": 0.01, \"tinfo\": {\"Category\": [\"Default\", \"Default\", \"Default\", \"Default\", \"Default\", \"Default\", \"Default\", \"Default\", \"Default\", \"Default\", \"Default\", \"Default\", \"Default\", \"Default\", \"Default\", \"Default\", \"Default\", \"Default\", \"Default\", \"Default\", \"Default\", \"Default\", \"Default\", \"Default\", \"Default\", \"Default\", \"Default\", \"Default\", \"Default\", \"Default\", \"Topic1\", \"Topic1\", \"Topic1\", \"Topic1\", \"Topic1\", \"Topic1\", \"Topic1\", \"Topic1\", \"Topic1\", \"Topic1\", \"Topic1\", \"Topic1\", \"Topic1\", \"Topic1\", \"Topic1\", \"Topic1\", \"Topic1\", \"Topic1\", \"Topic1\", \"Topic1\", \"Topic1\", \"Topic1\", \"Topic1\", \"Topic1\", \"Topic1\", \"Topic1\", \"Topic1\", \"Topic1\", \"Topic1\", \"Topic1\", \"Topic1\", \"Topic1\", \"Topic1\", \"Topic1\", \"Topic1\", \"Topic1\", \"Topic1\", \"Topic1\", \"Topic1\", \"Topic1\", \"Topic1\", \"Topic1\", \"Topic1\", \"Topic1\", \"Topic1\", \"Topic1\", \"Topic1\", \"Topic1\", \"Topic1\", \"Topic1\", \"Topic1\", \"Topic1\", \"Topic1\", \"Topic1\", \"Topic1\", \"Topic1\", \"Topic1\", \"Topic1\", \"Topic1\", \"Topic1\", \"Topic1\", \"Topic1\", \"Topic1\", \"Topic1\", \"Topic1\", \"Topic1\", \"Topic1\", \"Topic1\", \"Topic1\", \"Topic1\", \"Topic2\", \"Topic2\", \"Topic2\", \"Topic2\", \"Topic2\", \"Topic2\", \"Topic2\", \"Topic2\", \"Topic2\", \"Topic2\", \"Topic2\", \"Topic2\", \"Topic2\", \"Topic2\", \"Topic2\", \"Topic2\", \"Topic2\", \"Topic2\", \"Topic2\", \"Topic2\", \"Topic2\", \"Topic2\", \"Topic2\", \"Topic2\", \"Topic2\", \"Topic2\", \"Topic2\", \"Topic2\", \"Topic2\", \"Topic2\", \"Topic2\", \"Topic2\", \"Topic2\", \"Topic2\", \"Topic2\", \"Topic2\", \"Topic2\", \"Topic2\", \"Topic2\", \"Topic2\", \"Topic2\", \"Topic2\", \"Topic2\", \"Topic2\", \"Topic2\", \"Topic2\", \"Topic2\", \"Topic2\", \"Topic2\", \"Topic2\", \"Topic2\", \"Topic2\", \"Topic2\", \"Topic2\", \"Topic2\", \"Topic2\", \"Topic2\", \"Topic2\", \"Topic2\", \"Topic2\", \"Topic2\", \"Topic2\", \"Topic2\", \"Topic2\", \"Topic2\", \"Topic2\", \"Topic2\", \"Topic2\", \"Topic2\", \"Topic2\", \"Topic2\", \"Topic2\", \"Topic2\", \"Topic2\", \"Topic2\", \"Topic2\", \"Topic2\", \"Topic2\", \"Topic2\", \"Topic2\", \"Topic3\", \"Topic3\", \"Topic3\", \"Topic3\", \"Topic3\", \"Topic3\", \"Topic3\", \"Topic3\", \"Topic3\", \"Topic3\", \"Topic3\", \"Topic3\", \"Topic3\", \"Topic3\", \"Topic3\", \"Topic3\", \"Topic3\", \"Topic3\", \"Topic3\", \"Topic3\", \"Topic3\", \"Topic3\", \"Topic3\", \"Topic3\", \"Topic3\", \"Topic3\", \"Topic3\", \"Topic3\", \"Topic3\", \"Topic3\", \"Topic3\", \"Topic3\", \"Topic3\", \"Topic3\", \"Topic3\", \"Topic3\", \"Topic3\", \"Topic3\", \"Topic3\", \"Topic3\", \"Topic3\", \"Topic3\", \"Topic3\", \"Topic3\", \"Topic3\", \"Topic3\", \"Topic3\", \"Topic3\", \"Topic3\", \"Topic3\", \"Topic3\", \"Topic3\", \"Topic3\", \"Topic3\", \"Topic3\", \"Topic3\", \"Topic3\", \"Topic3\", \"Topic3\", \"Topic3\", \"Topic3\", \"Topic3\", \"Topic3\", \"Topic3\", \"Topic3\", \"Topic3\", \"Topic3\", \"Topic3\", \"Topic3\", \"Topic3\", \"Topic3\", \"Topic3\", \"Topic3\", \"Topic3\", \"Topic3\", \"Topic3\", \"Topic4\", \"Topic4\", \"Topic4\", \"Topic4\", \"Topic4\", \"Topic4\", \"Topic4\", \"Topic4\", \"Topic4\", \"Topic4\", \"Topic4\", \"Topic4\", \"Topic4\", \"Topic4\", \"Topic4\", \"Topic4\", \"Topic4\", \"Topic4\", \"Topic4\", \"Topic4\", \"Topic4\", \"Topic4\", \"Topic4\", \"Topic4\", \"Topic4\", \"Topic4\", \"Topic4\", \"Topic4\", \"Topic4\", \"Topic4\", \"Topic4\", \"Topic4\", \"Topic4\", \"Topic4\", \"Topic4\", \"Topic4\", \"Topic4\", \"Topic4\", \"Topic4\", \"Topic4\", \"Topic4\", \"Topic4\", \"Topic4\", \"Topic4\", \"Topic4\", \"Topic4\", \"Topic4\", \"Topic4\", \"Topic4\", \"Topic4\", \"Topic4\", \"Topic4\", \"Topic4\", \"Topic4\", \"Topic4\", \"Topic4\", \"Topic4\", \"Topic4\", \"Topic4\", \"Topic4\", \"Topic4\", \"Topic4\", \"Topic4\", \"Topic4\", \"Topic4\", \"Topic4\", \"Topic4\", \"Topic4\", \"Topic4\", \"Topic4\", \"Topic4\", \"Topic4\", \"Topic4\", \"Topic4\", \"Topic4\"], \"Term\": [\"harry\", \"adam\", \"alice\", \"willy\", \"oedipus\", \"clov\", \"tom\", \"christine\", \"paul\", \"billy\", \"jack\", \"lyra\", \"hamm\", \"creon\", \"robert\", \"bernard\", \"anne\", \"emily\", \"antigone\", \"charlie\", \"othello\", \"richard\", \"biff\", \"katniss\", \"molly\", \"ivan\", \"orlando\", \"esther\", \"narrator\", \"raskolnikov\", \"christine\", \"oedipus\", \"creon\", \"antigone\", \"lonelyhearts\", \"siddhartha\", \"amir\", \"solange\", \"ender\", \"offred\", \"asher\", \"ennis\", \"edna\", \"brutus\", \"rayona\", \"sinclair\", \"bilbo\", \"dicey\", \"kino\", \"adam\", \"berenger\", \"treplev\", \"liesel\", \"valjean\", \"firdaus\", \"dee\", \"lim\", \"finny\", \"dixon\", \"saleem\", \"holden\", \"blanche\", \"harry\", \"lavinia\", \"sethe\", \"paul\", \"theseus\", \"jane\", \"god\", \"hermione\", \"father\", \"jack\", \"man\", \"asks\", \"mother\", \"first\", \"begins\", \"narrator\", \"her.\", \"back\", \"takes\", \"go\", \"see\", \"take\", \"miss\", \"goes\", \"find\", \"next\", \"named\", \"however,\", \"men\", \"returns\", \"finds\", \"home\", \"becomes\", \"family\", \"tries\", \"old\", \"also\", \"love\", \"lyra\", \"meursault\", \"katagiri\", \"ric\", \"scarlett\", \"fr\", \"cyrano\", \"frog\", \"shane\", \"arnoux\", \"candide\", \"voynitsky\", \"juliet\", \"maya\", \"tita\", \"shukhov\", \"tess\", \"inman\", \"nnu\", \"blomkvist\", \"ego\", \"douglass\", \"lennie\", \"snopes\", \"winston\", \"timon\", \"gregor\", \"dorian\", \"isabella\", \"paine\", \"dante\", \"rigoberta\", \"cecilia\", \"bigger\", \"carolina\", \"anne\", \"molly\", \"lily\", \"artist\", \"hunger\", \"richard\", \"sam\", \"courage\", \"roy\", \"annie\", \"robert\", \"d\", \"crusoe\", \"catherine\", \"family\", \"antonio\", \"george\", \"black\", \"white\", \"men\", \"begins\", \"though\", \"young\", \"finds\", \"home\", \"also\", \"man\", \"back\", \"love\", \"first\", \"however,\", \"father\", \"years\", \"takes\", \"even\", \"returns\", \"next\", \"make\", \"three\", \"mrs.\", \"find\", \"named\", \"mother\", \"take\", \"becomes\", \"othello\", \"orlando\", \"willy\", \"raskolnikov\", \"bernard\", \"huck\", \"iago\", \"biff\", \"cassio\", \"das\", \"jurgis\", \"gawain\", \"francie\", \"dana\", \"prometheus\", \"humbert\", \"ethan\", \"meridian\", \"jekyll\", \"melba\", \"ginzburg\", \"sonny\", \"rufus\", \"sal\", \"tommo\", \"jeanette\", \"brady\", \"desdemona\", \"drummond\", \"cates\", \"nisa\", \"bloom\", \"pip\", \"emily\", \"prospero\", \"alice\", \"troy\", \"charlie\", \"tom\", \"oliver\", \"hamlet\", \"john\", \"louis\", \"back\", \"goes\", \"young\", \"becomes\", \"stephen\", \"begins\", \"finds\", \"mrs.\", \"narrator\", \"however,\", \"comes\", \"also\", \"old\", \"men\", \"family\", \"find\", \"man\", \"son\", \"house\", \"home\", \"white\", \"see\", \"father\", \"way\", \"takes\", \"first\", \"go\", \"love\", \"come\", \"her.\", \"take\", \"named\", \"asks\", \"clov\", \"hamm\", \"dant\", \"strether\", \"tayo\", \"reuven\", \"chad\", \"newman\", \"volpone\", \"esi\", \"esther\", \"rowlandson\", \"ponyboy\", \"celie\", \"katniss\", \"esteban\", \"andy\", \"poirot\", \"malcolm\", \"nora\", \"rainsford\", \"mosca\", \"dmitri\", \"levin\", \"alyosha\", \"cecily\", \"gatsby\", \"scrooge\", \"torvald\", \"ivan\", \"governess\", \"peeta\", \"kaysen\", \"billy\", \"prejean\", \"waiter\", \"aziz\", \"henry\", \"ahmed\", \"frank\", \"sir\", \"lady\", \"english\", \"mrs.\", \"man\", \"asks\", \"wife\", \"jack\", \"also\", \"back\", \"old\", \"ship\", \"find\", \"mother\", \"finds\", \"goes\", \"go\", \"family\", \"first\", \"becomes\", \"home\", \"takes\", \"however,\", \"love\", \"soon\", \"death\", \"years\", \"father\", \"men\", \"begins\", \"see\", \"returns\", \"named\", \"take\", \"next\"], \"loglift\": [30.0, 29.0, 28.0, 27.0, 26.0, 25.0, 24.0, 23.0, 22.0, 21.0, 20.0, 19.0, 18.0, 17.0, 16.0, 15.0, 14.0, 13.0, 12.0, 11.0, 10.0, 9.0, 8.0, 7.0, 6.0, 5.0, 4.0, 3.0, 2.0, 1.0, 1.2287999999999999, 1.2286999999999999, 1.2252000000000001, 1.224, 1.2226999999999999, 1.2211000000000001, 1.2210000000000001, 1.2201, 1.2199, 1.2192000000000001, 1.2191000000000001, 1.2188000000000001, 1.2181, 1.2170000000000001, 1.2169000000000001, 1.2168000000000001, 1.2166999999999999, 1.2162999999999999, 1.2155, 1.2154, 1.2153, 1.2152000000000001, 1.2146999999999999, 1.2138, 1.2137, 1.2128000000000001, 1.2126999999999999, 1.2126999999999999, 1.2125999999999999, 1.2122999999999999, 1.2081999999999999, 1.1987000000000001, 1.1052, 1.1967000000000001, 1.2105999999999999, 1.0515000000000001, 1.1305000000000001, 1.0584, 0.84389999999999998, 1.1234999999999999, 0.33339999999999997, 0.62029999999999996, 0.20380000000000001, 0.22789999999999999, 0.23319999999999999, 0.16520000000000001, 0.087900000000000006, 0.32479999999999998, 0.16769999999999999, -0.026100000000000002, 0.1148, 0.1434, 0.20230000000000001, 0.13220000000000001, 0.47560000000000002, 0.039100000000000003, 0.025600000000000001, 0.1221, 0.070999999999999994, -0.010999999999999999, -0.0201, 0.082900000000000001, -0.087900000000000006, -0.036499999999999998, -0.047199999999999999, -0.2077, 0.155, -0.027900000000000001, -0.1502, -0.0361, 1.3402000000000001, 1.3378000000000001, 1.3371999999999999, 1.3366, 1.3360000000000001, 1.3355999999999999, 1.3342000000000001, 1.333, 1.3328, 1.3323, 1.3322000000000001, 1.3322000000000001, 1.3317000000000001, 1.3312999999999999, 1.3305, 1.3303, 1.3300000000000001, 1.3289, 1.3275999999999999, 1.3272999999999999, 1.3267, 1.3261000000000001, 1.3255999999999999, 1.3253999999999999, 1.3248, 1.3248, 1.3247, 1.3245, 1.3243, 1.3242, 1.3240000000000001, 1.3220000000000001, 1.298, 1.2789999999999999, 1.3, 1.1572, 1.1774, 1.1798999999999999, 1.2329000000000001, 1.2161, 1.0478000000000001, 1.1435, 1.1998, 1.1249, 1.1729000000000001, 0.79669999999999996, 0.94720000000000004, 1.2301, 0.9224, 0.33679999999999999, 1.1423000000000001, 0.80510000000000004, 0.43469999999999998, 0.42130000000000001, 0.1283, 0.0402, 0.30080000000000001, 0.14760000000000001, 0.041000000000000002, 0.094899999999999998, 0.041500000000000002, -0.15570000000000001, -0.1087, 0.092299999999999993, 0.0035000000000000001, 0.0132, -0.090800000000000006, 0.1414, -0.0051000000000000004, 0.19089999999999999, 0.066600000000000006, 0.070999999999999994, 0.12230000000000001, 0.1537, 0.002, -0.082100000000000006, 0.012999999999999999, -0.1168, -0.029399999999999999, -0.1023, 1.3841000000000001, 1.3828, 1.3822000000000001, 1.3794999999999999, 1.3794, 1.3794, 1.3792, 1.3792, 1.3786, 1.3777999999999999, 1.3761000000000001, 1.3743000000000001, 1.3734999999999999, 1.3733, 1.3718999999999999, 1.3716999999999999, 1.3716999999999999, 1.3713, 1.3707, 1.3704000000000001, 1.3700000000000001, 1.3688, 1.3683000000000001, 1.3681000000000001, 1.3681000000000001, 1.3681000000000001, 1.3674999999999999, 1.3667, 1.3662000000000001, 1.3658999999999999, 1.3601000000000001, 1.3512, 1.3528, 1.2850999999999999, 1.3318000000000001, 1.1924999999999999, 1.2655000000000001, 1.1616, 1.0046999999999999, 1.3048999999999999, 1.3187, 0.62890000000000001, 1.2133, 0.15840000000000001, 0.2535, 0.25509999999999999, 0.20610000000000001, 1.1063000000000001, 0.080100000000000005, 0.1164, 0.1978, 0.30590000000000001, 0.098000000000000004, 0.2175, 0.039899999999999998, 0.082400000000000001, 0.012200000000000001, -0.064799999999999996, 0.014500000000000001, -0.2172, 0.2898, 0.1258, 0.0115, 0.30869999999999997, 0.104, -0.18709999999999999, 0.21290000000000001, -0.063899999999999998, -0.126, -0.025899999999999999, -0.021299999999999999, 0.088200000000000001, -0.0276, -0.044200000000000003, -0.030099999999999998, -0.2369, 1.5583, 1.5555000000000001, 1.5549999999999999, 1.5549999999999999, 1.5523, 1.5518000000000001, 1.5512999999999999, 1.5508, 1.5505, 1.5503, 1.5489999999999999, 1.5486, 1.5481, 1.548, 1.5477000000000001, 1.546, 1.5450999999999999, 1.5429999999999999, 1.5428999999999999, 1.5421, 1.5412999999999999, 1.5409999999999999, 1.5408999999999999, 1.5406, 1.5396000000000001, 1.538, 1.5374000000000001, 1.5363, 1.5363, 1.534, 1.5321, 1.5322, 1.5271999999999999, 1.3182, 1.4990000000000001, 1.4180999999999999, 1.4789000000000001, 0.75660000000000005, 1.3863000000000001, 1.0769, 1.0226, 0.86970000000000003, 1.0048999999999999, 0.3498, 0.091399999999999995, 0.25140000000000001, 0.55059999999999998, 0.56489999999999996, 0.089599999999999999, -0.041300000000000003, 0.16170000000000001, 0.80700000000000005, 0.043400000000000001, -0.021299999999999999, -0.084699999999999998, -0.082000000000000003, -0.0053, -0.1744, -0.1211, -0.091399999999999995, -0.091200000000000003, -0.094100000000000003, -0.13200000000000001, -0.046300000000000001, 0.0135, 0.21840000000000001, 0.060299999999999999, -0.27660000000000001, -0.1704, -0.3261, 0.0298, -0.0344, -0.087400000000000005, -0.11650000000000001, -0.045499999999999999], \"Freq\": [255.0, 129.0, 167.0, 91.0, 98.0, 71.0, 216.0, 84.0, 148.0, 98.0, 210.0, 69.0, 56.0, 73.0, 190.0, 61.0, 104.0, 81.0, 64.0, 95.0, 53.0, 113.0, 53.0, 45.0, 77.0, 46.0, 49.0, 44.0, 315.0, 48.0, 83.195745689520734, 96.894710149984306, 72.874564488527042, 63.686261476807296, 49.971791136457476, 47.173614566925984, 39.909543707688393, 38.061371853043404, 39.864432115627906, 38.025925664519939, 38.024442793230378, 38.010539004198058, 37.08094553939587, 35.23237072275537, 35.228320237457865, 33.419537865095208, 35.223007574416208, 37.915514740114375, 32.473011647988642, 126.26462492181068, 31.564508480409547, 32.464254577061759, 28.842382207633719, 30.616182622247692, 29.711585224094076, 29.686386536306642, 31.482699145906732, 29.683634002066906, 26.981242104452519, 29.670773963265834, 38.502807907504042, 43.460981397147528, 223.51334623143748, 38.063481242163768, 30.518104016919089, 122.88822208876805, 55.471755780046138, 65.417879858241363, 90.595946552241827, 40.301046404744305, 231.87016652372935, 113.40883941340104, 261.69732979146056, 187.8105655876835, 179.32053818515095, 171.66694792900287, 186.02292951672987, 126.47499219135689, 144.4102266220593, 178.47578548834014, 149.77934401264781, 144.55217494593299, 131.15574315665859, 142.10469903216031, 94.209382332681045, 148.49069337868383, 142.62299353088855, 128.02450203998532, 129.93371423151765, 139.17258612731331, 139.25488864449179, 125.40382984098781, 140.77711385885377, 130.01439417783374, 129.87814083371282, 131.85100312428975, 115.32025333193312, 121.41325612746317, 124.63278750347011, 119.01118817657731, 67.972830724658806, 40.685617923912197, 35.239456861654453, 48.76695011325107, 34.294261251911585, 43.30499742721782, 37.839572774444051, 28.794382957716806, 33.284374324458604, 35.068547772195409, 28.770457806362245, 29.667585893834953, 31.451035678183711, 26.946115930696056, 28.719352750185088, 29.610934069011378, 27.808488659670221, 25.089008497366574, 27.739925827710106, 26.837257963982211, 25.926881772090937, 24.126199050108465, 24.113913725216516, 27.679953591357314, 23.202891351585361, 28.558346429390596, 35.694126823286105, 22.303219777274364, 21.405819233882735, 21.403554167988268, 23.182505134176964, 25.806810642181052, 44.27594499890683, 36.652558969218646, 29.597704483723653, 85.040032075732768, 64.67258710423144, 52.46704877718021, 39.052399852215935, 41.590753149352544, 82.848271709378693, 52.832542773669189, 41.724860986173013, 48.21017929936697, 42.174089232935451, 108.33207592602184, 72.698152417597782, 35.643595339221996, 64.840314155883689, 201.9044271796792, 41.609146451388249, 64.518043873049137, 107.20141845327389, 107.056975709242, 143.49554863576154, 157.55901759417713, 111.94813707073908, 127.3347524367546, 142.26144944708849, 131.72223946976806, 134.10866264951301, 162.27550735326406, 145.97733345778647, 120.20936410373538, 129.73446398317557, 126.66795278772334, 134.78328452358863, 106.90855562229454, 118.02127004459489, 100.35038051630796, 109.60095082088148, 108.0607351709432, 104.34948127573476, 102.23593381492098, 111.91882237030057, 113.76382761813063, 108.92356662066132, 112.26225925321522, 107.39422836750371, 109.19326377775147, 52.579452278900128, 48.889342742922373, 89.570794564054481, 47.821614362753508, 60.454400613784394, 46.01384089846092, 39.692854927992173, 52.321483618178902, 38.764316810944649, 34.231160543865343, 32.374277865934566, 32.316147236502417, 29.598001394972361, 28.69626115799327, 27.761027962746617, 26.859114736860054, 27.753956140185583, 27.744188140583571, 25.936473944901017, 29.506676453917436, 25.919832743833307, 26.780788516050151, 32.122756711978788, 24.979441493715314, 24.084924567217119, 31.2190287072298, 24.963027232824277, 23.160792138903311, 23.150655688614869, 23.141891906475326, 31.862608625918245, 37.718346459861557, 35.12753459365566, 72.991085206206392, 37.819519962675059, 136.3014762868836, 45.108207551693376, 75.524519084923625, 145.98876963461234, 36.018201470443593, 31.423795581928538, 114.00634666508975, 36.626188206944192, 182.97929368322261, 156.86595103194057, 136.05170616159239, 142.64309051985558, 42.420218419969615, 157.34800050709796, 147.2100234944109, 130.637179906726, 105.79419421673244, 132.30698550718304, 115.59604171638394, 128.48542807450218, 115.5755095946771, 122.60197303337306, 129.66995555947702, 120.24409470606861, 146.43816664384235, 94.098302776174279, 106.97931528382561, 116.2854935693061, 91.793239874918839, 101.34281787883867, 117.45771230399366, 95.086908048811154, 106.79654119746955, 109.37353567165927, 104.0340967081563, 102.96991925196738, 99.58294512539382, 101.27507768761791, 101.55071509917975, 100.11299807329912, 100.58402700575502, 70.296440107660104, 55.904866149100314, 39.023864479134367, 39.909799783629005, 40.688984077904266, 38.018580213198454, 31.813739482261358, 37.979594866173116, 35.322673004155263, 34.43267732847184, 43.205481555018956, 32.612415051356933, 36.119774257229054, 31.712857803924873, 44.029540093947539, 31.648769397881338, 31.622582300868821, 27.174566606442621, 24.540773957460203, 40.285205640202442, 23.628895882067297, 23.620951882967109, 23.617711164752642, 23.612202183786017, 22.715988243619815, 22.678388007997142, 20.923093417215821, 20.029995289045239, 29.608093451201096, 44.313415148746259, 42.495076868238577, 24.285770506582899, 24.166365681165832, 75.947437282443673, 27.706163660216028, 38.011168739099176, 27.169265522781249, 102.20188828158541, 30.828112696172404, 51.572299155116369, 53.571445334634461, 65.469596806366752, 53.67794405361898, 127.79807619726796, 167.54050740999128, 137.72782415610882, 87.241586132718481, 76.864629463361311, 113.4672476512457, 125.92317031717609, 105.13409248536938, 61.089211883959393, 104.00523816396944, 99.600074477295323, 101.17123399004586, 94.244615737186663, 89.246663590575338, 97.654858718254985, 92.358348155048347, 89.014584825456012, 88.175811441826852, 87.064779634576524, 88.338251182059494, 84.39542582640469, 82.043078831320216, 74.791191777805309, 79.49509626200377, 90.258324835848441, 85.831287307428184, 88.085300196045338, 79.071290048970667, 79.889776445577922, 79.438591000734263, 79.3826719756008, 77.559686820649034], \"Total\": [255.0, 129.0, 167.0, 91.0, 98.0, 71.0, 216.0, 84.0, 148.0, 98.0, 210.0, 69.0, 56.0, 73.0, 190.0, 61.0, 104.0, 81.0, 64.0, 95.0, 53.0, 113.0, 53.0, 45.0, 77.0, 46.0, 49.0, 44.0, 315.0, 48.0, 84.170468770990027, 98.044833608012382, 73.99395789453898, 64.744299679557813, 50.867491236137447, 48.094136049721627, 40.694977085313397, 38.84490609757551, 40.693513831201727, 38.844226568210914, 38.844335603522559, 38.843853615436352, 37.918717490638194, 36.068849133945349, 36.068840250822511, 34.218572447347199, 36.068908623254728, 38.843514441866191, 33.29421809976018, 129.46681021527692, 32.369643806744662, 33.293992313350572, 29.59447280184958, 31.443791489547785, 30.518522896674103, 30.518140404098009, 32.367865037435202, 30.518467668432947, 27.744200575352682, 30.518977228362754, 39.764146666515508, 45.314205335042203, 255.89323735328099, 39.766133862303228, 31.442969115146486, 148.45125749453499, 61.920274047342133, 78.482810749756624, 134.68947215365841, 45.301041140598592, 574.36948818716007, 210.85162294749023, 737.95151119855825, 516.95921692116599, 491.00518891539616, 503.13329573888609, 589.01524781405021, 315.97900678556869, 422.18767745542249, 633.35558294652526, 461.66193488928877, 432.98318971324778, 370.39279586349028, 430.43231447444452, 202.43022746652417, 493.69608800450806, 480.63615401905724, 391.72167854871179, 418.40886992621239, 486.48577560427918, 491.18369762105453, 399.0385593251853, 531.41982079039906, 466.19793865873476, 470.72907995677588, 561.08024458170098, 341.43685529066516, 431.6416152812065, 500.69412587873103, 426.58589735868475, 69.253593851057175, 41.55190598938043, 36.011767018153435, 49.863882060892664, 35.088143472519356, 44.32307383565567, 38.782710688485494, 29.547188800208431, 34.164367587180841, 36.011664709282904, 29.547155958879593, 30.470000035969203, 32.316550670080929, 27.700057830902178, 29.546291835925089, 30.468863391506797, 28.622656244872914, 25.852802845571887, 28.621599816993911, 27.698323555395209, 26.774942427514187, 24.928544727335659, 24.929302444368993, 28.622887965291703, 24.00576624259919, 29.547451155247458, 36.932719774338565, 23.082354867263721, 22.158900413778966, 22.158896325168151, 24.004813628928186, 26.774565981954339, 47.052319690610922, 39.698969749373518, 31.391545579627142, 104.03497525994105, 77.539452575382043, 62.74981034719444, 44.296215041148997, 47.971895751977854, 113.07832153726189, 65.530488094855741, 48.917617818106272, 60.915285668137315, 50.792144076992358, 190.06329344260271, 109.72638342977969, 40.541104840766749, 100.32493171975742, 561.08024458170098, 51.66998429810775, 112.24828494071319, 270.11464874708406, 273.39398301146383, 491.18369762105453, 589.01524781405021, 322.5082759353777, 427.53232411433748, 531.41982079039906, 466.19793865873476, 500.69412587873103, 737.95151119855825, 633.35558294652526, 426.58589735868475, 503.13329573888609, 486.48577560427918, 574.36948818716007, 361.20576898923287, 461.66193488928877, 322.67685066733208, 399.0385593251853, 391.72167854871179, 359.35879593725429, 341.1717493780497, 434.70310272270819, 480.63615401905724, 418.40886992621239, 491.00518891539616, 430.43231447444452, 470.72907995677588, 53.423389072937333, 49.738366452115791, 91.185708748826968, 48.816793787622537, 61.713877673909707, 46.974484274558428, 40.527221449297613, 53.423147674689758, 39.606242084054401, 35.000901835804221, 33.158427187569352, 33.158246784286469, 30.395237361907586, 29.473804235355615, 28.5523030936175, 27.631766931615612, 28.552558221421965, 28.552349423302669, 26.709864314335903, 30.394307577074866, 26.710182350244221, 27.631512826188295, 33.159318180818204, 25.789314442629188, 24.867600175758032, 32.233830256336645, 25.789437319258464, 23.946834189750511, 23.947167632838212, 23.946964911250163, 33.159650174277452, 39.605717843566495, 36.825362293100923, 81.880675952283738, 40.492037544357935, 167.73787968612282, 51.604781802519135, 95.861474484916485, 216.772840388144, 39.615410051169775, 34.085731681184129, 246.51704123712551, 44.14753034845414, 633.35558294652526, 493.69608800450806, 427.53232411433748, 470.72907995677588, 56.906670053797882, 589.01524781405021, 531.41982079039906, 434.70310272270819, 315.97900678556869, 486.48577560427918, 377.14264401454392, 500.69412587873103, 431.6416152812065, 491.18369762105453, 561.08024458170098, 480.63615401905724, 737.95151119855825, 285.6126286353591, 382.54439555250963, 466.19793865873476, 273.39398301146383, 370.39279586349028, 574.36948818716007, 311.66754896449186, 461.66193488928877, 503.13329573888609, 432.98318971324778, 426.58589735868475, 369.75012069048074, 422.18767745542249, 430.43231447444452, 418.40886992621239, 516.95921692116599, 71.409200436361999, 56.949946267864092, 39.77471392118602, 40.678790144372719, 41.584982396571831, 38.873287297467712, 32.545510639141085, 38.874278694139676, 36.162209381726171, 35.258393332364705, 44.299988580060791, 33.451436844530377, 37.068304698694973, 32.547752363888932, 45.206112386797813, 32.549110726516659, 32.54972468109279, 28.030104171293285, 25.317577887342004, 41.59377011822049, 24.414075362487452, 24.41430161680271, 24.414422894056138, 24.414487987879077, 23.510803510315842, 23.511588609823384, 21.703250478454059, 20.799334849574215, 30.746946027977756, 46.122823226366684, 44.317132542595104, 25.323608851517825, 25.325671633759395, 98.090145287760691, 29.865353572504933, 44.423737549280716, 29.880488463174206, 231.45194723814004, 37.193818117124316, 84.782907903886127, 92.986349281708485, 132.40694945130809, 94.83221961761646, 434.70310272270819, 737.95151119855825, 516.95921692116599, 242.76346734569424, 210.85162294749023, 500.69412587873103, 633.35558294652526, 431.6416152812065, 131.55017031261002, 480.63615401905724, 491.00518891539616, 531.41982079039906, 493.69608800450806, 432.98318971324778, 561.08024458170098, 503.13329573888609, 470.72907995677588, 466.19793865873476, 461.66193488928877, 486.48577560427918, 426.58589735868475, 390.62486598110843, 290.14393347429706, 361.20576898923287, 574.36948818716007, 491.18369762105453, 589.01524781405021, 370.39279586349028, 399.0385593251853, 418.40886992621239, 430.43231447444452, 391.72167854871179], \"logprob\": [30.0, 29.0, 28.0, 27.0, 26.0, 25.0, 24.0, 23.0, 22.0, 21.0, 20.0, 19.0, 18.0, 17.0, 16.0, 15.0, 14.0, 13.0, 12.0, 11.0, 10.0, 9.0, 8.0, 7.0, 6.0, 5.0, 4.0, 3.0, 2.0, 1.0, -6.7988999999999997, -6.6464999999999996, -6.9314, -7.0660999999999996, -7.3086000000000002, -7.3662999999999998, -7.5335000000000001, -7.5808999999999997, -7.5346000000000002, -7.5818000000000003, -7.5819000000000001, -7.5822000000000003, -7.6070000000000002, -7.6581000000000001, -7.6581999999999999, -7.7110000000000003, -7.6584000000000003, -7.5846999999999998, -7.7397, -6.3817000000000004, -7.7680999999999996, -7.7400000000000002, -7.8582000000000001, -7.7986000000000004, -7.8285999999999998, -7.8293999999999997, -7.7706999999999997, -7.8295000000000003, -7.9249000000000001, -7.8299000000000003, -7.5693999999999999, -7.4481999999999999, -5.8106, -7.5808, -7.8018000000000001, -6.4088000000000003, -7.2042000000000002, -7.0392999999999999, -6.7137000000000002, -7.5236999999999998, -5.7739000000000003, -6.4890999999999996, -5.6528999999999998, -5.9847000000000001, -6.0308999999999999, -6.0744999999999996, -5.9942000000000002, -6.3799999999999999, -6.2473999999999998, -6.0355999999999996, -6.2108999999999996, -6.2465000000000002, -6.3437000000000001, -6.2634999999999996, -6.6745999999999999, -6.2195999999999998, -6.2599, -6.3678999999999997, -6.3531000000000004, -6.2843999999999998, -6.2838000000000003, -6.3886000000000003, -6.2728999999999999, -6.3524000000000003, -6.3535000000000004, -6.3384, -6.4724000000000004, -6.4208999999999996, -6.3947000000000003, -6.4409000000000001, -6.8826000000000001, -7.3958000000000004, -7.5395000000000003, -7.2145999999999999, -7.5667, -7.3334000000000001, -7.4683000000000002, -7.7415000000000003, -7.5965999999999996, -7.5444000000000004, -7.7423000000000002, -7.7115999999999998, -7.6532999999999998, -7.8079000000000001, -7.7441000000000004, -7.7135999999999996, -7.7763999999999998, -7.8792999999999997, -7.7788000000000004, -7.8118999999999996, -7.8464, -7.9184000000000001, -7.9188999999999998, -7.7809999999999997, -7.9573999999999998, -7.7496999999999998, -7.5266999999999999, -7.9969999999999999, -8.0380000000000003, -8.0381, -7.9583000000000004, -7.8510999999999997, -7.3113000000000001, -7.5002000000000004, -7.7140000000000004, -6.6585999999999999, -6.9324000000000003, -7.1414999999999997, -7.4367999999999999, -7.3738000000000001, -6.6847000000000003, -7.1345999999999998, -7.3705999999999996, -7.2260999999999997, -7.3598999999999997, -6.4165000000000001, -6.8154000000000003, -7.5281000000000002, -6.9298000000000002, -5.7938999999999998, -7.3734000000000002, -6.9348000000000001, -6.4269999999999996, -6.4283000000000001, -6.1353999999999997, -6.0419, -6.3837000000000002, -6.2549000000000001, -6.1440000000000001, -6.2210000000000001, -6.2030000000000003, -6.0124000000000004, -6.1181999999999999, -6.3125, -6.2362000000000002, -6.2601000000000004, -6.1980000000000004, -6.4297000000000004, -6.3308, -6.4930000000000003, -6.4047999999999998, -6.4189999999999996, -6.4539999999999997, -6.4744000000000002, -6.3838999999999997, -6.3676000000000004, -6.4109999999999996, -6.3808999999999996, -6.4252000000000002, -6.4085999999999999, -7.0982000000000003, -7.1708999999999996, -6.5655000000000001, -7.1929999999999996, -6.9585999999999997, -7.2316000000000003, -7.3792999999999997, -7.1031000000000004, -7.4029999999999996, -7.5274000000000001, -7.5831, -7.5849000000000002, -7.6727999999999996, -7.7037000000000004, -7.7369000000000003, -7.7698999999999998, -7.7370999999999999, -7.7374999999999998, -7.8048000000000002, -7.6759000000000004, -7.8055000000000003, -7.7728000000000002, -7.5909000000000004, -7.8423999999999996, -7.8788999999999998, -7.6195000000000004, -7.8430999999999997, -7.9180000000000001, -7.9184999999999999, -7.9188999999999998, -7.5991, -7.4303999999999997, -7.5015000000000001, -6.7702, -7.4276999999999997, -6.1456, -7.2514000000000003, -6.7359999999999998, -6.077, -7.4764999999999997, -7.6128999999999998, -6.3242000000000003, -7.4596999999999998, -5.8510999999999997, -6.0050999999999997, -6.1475, -6.1002000000000001, -7.3129, -6.0019999999999998, -6.0686, -6.1881000000000004, -6.399, -6.1753999999999998, -6.3103999999999996, -6.2046999999999999, -6.3106, -6.2515999999999998, -6.1955, -6.2709999999999999, -6.0739000000000001, -6.5162000000000004, -6.3879000000000001, -6.3045, -6.5410000000000004, -6.4420000000000002, -6.2944000000000004, -6.5057, -6.3895999999999997, -6.3657000000000004, -6.4157999999999999, -6.4260999999999999, -6.4595000000000002, -6.4427000000000003, -6.4398999999999997, -6.4542000000000002, -6.4494999999999996, -6.6337999999999999, -6.8628999999999998, -7.2222999999999997, -7.1999000000000004, -7.1806000000000001, -7.2484000000000002, -7.4265999999999996, -7.2495000000000003, -7.3220000000000001, -7.3475000000000001, -7.1204999999999998, -7.4017999999999997, -7.2996999999999996, -7.4298000000000002, -7.1017000000000001, -7.4318, -7.4325999999999999, -7.5842000000000001, -7.6862000000000004, -7.1905000000000001, -7.7240000000000002, -7.7244000000000002, -7.7244999999999999, -7.7247000000000003, -7.7633999999999999, -7.7651000000000003, -7.8456999999999999, -7.8893000000000004, -7.4984999999999999, -7.0952000000000002, -7.1371000000000002, -7.6966000000000001, -7.7016, -6.5564999999999998, -7.5648999999999997, -7.2485999999999997, -7.5843999999999996, -6.2595999999999998, -7.4581, -6.9435000000000002, -6.9055, -6.7049000000000003, -6.9035000000000002, -6.0361000000000002, -5.7652999999999999, -5.9611999999999998, -6.4177999999999997, -6.5445000000000002, -6.1550000000000002, -6.0507999999999997, -6.2313000000000001, -6.7742000000000004, -6.2420999999999998, -6.2854000000000001, -6.2697000000000003, -6.3406000000000002, -6.3951000000000002, -6.3051000000000004, -6.3608000000000002, -6.3977000000000004, -6.4071999999999996, -6.4199000000000002, -6.4053000000000004, -6.4509999999999996, -6.4793000000000003, -6.5717999999999996, -6.5107999999999997, -6.3837999999999999, -6.4340999999999999, -6.4081999999999999, -6.5162000000000004, -6.5058999999999996, -6.5114999999999998, -6.5122, -6.5354999999999999]}};\n",
       "\n",
       "function LDAvis_load_lib(url, callback){\n",
       "  var s = document.createElement('script');\n",
       "  s.src = url;\n",
       "  s.async = true;\n",
       "  s.onreadystatechange = s.onload = callback;\n",
       "  s.onerror = function(){console.warn(\"failed to load library \" + url);};\n",
       "  document.getElementsByTagName(\"head\")[0].appendChild(s);\n",
       "}\n",
       "\n",
       "if(typeof(LDAvis) !== \"undefined\"){\n",
       "   // already loaded: just create the visualization\n",
       "   !function(LDAvis){\n",
       "       new LDAvis(\"#\" + \"ldavis_el239246554801446653145411\", ldavis_el239246554801446653145411_data);\n",
       "   }(LDAvis);\n",
       "}else if(typeof define === \"function\" && define.amd){\n",
       "   // require.js is available: use it to load d3/LDAvis\n",
       "   require.config({paths: {d3: \"https://cdnjs.cloudflare.com/ajax/libs/d3/3.5.5/d3.min\"}});\n",
       "   require([\"d3\"], function(d3){\n",
       "      window.d3 = d3;\n",
       "      LDAvis_load_lib(\"https://cdn.rawgit.com/bmabey/pyLDAvis/files/ldavis.v1.0.0.js\", function(){\n",
       "        new LDAvis(\"#\" + \"ldavis_el239246554801446653145411\", ldavis_el239246554801446653145411_data);\n",
       "      });\n",
       "    });\n",
       "}else{\n",
       "    // require.js not available: dynamically load d3 & LDAvis\n",
       "    LDAvis_load_lib(\"https://cdnjs.cloudflare.com/ajax/libs/d3/3.5.5/d3.min.js\", function(){\n",
       "         LDAvis_load_lib(\"https://cdn.rawgit.com/bmabey/pyLDAvis/files/ldavis.v1.0.0.js\", function(){\n",
       "                 new LDAvis(\"#\" + \"ldavis_el239246554801446653145411\", ldavis_el239246554801446653145411_data);\n",
       "            })\n",
       "         });\n",
       "}\n",
       "</script>"
      ],
      "text/plain": [
       "<IPython.core.display.HTML object>"
      ]
     },
     "execution_count": 637,
     "metadata": {},
     "output_type": "execute_result"
    }
   ],
   "source": [
    "pyLDAvis.display(vis_data)\n"
   ]
  },
  {
   "cell_type": "markdown",
   "metadata": {},
   "source": [
    "### K-Means Cluster"
   ]
  },
  {
   "cell_type": "code",
   "execution_count": 647,
   "metadata": {
    "collapsed": true
   },
   "outputs": [],
   "source": [
    "def tokenize_and_stem(text):\n",
    "    # first tokenize by sentence, then by word to ensure that punctuation is caught as it's own token\n",
    "    tokens = [word for sent in nltk.sent_tokenize(text) for word in nltk.word_tokenize(sent)]\n",
    "    filtered_tokens = []\n",
    "    # filter out any tokens not containing letters (e.g., numeric tokens, raw punctuation)\n",
    "    for token in tokens:\n",
    "        if re.search('[a-zA-Z]', token):\n",
    "            filtered_tokens.append(token)\n",
    "    stems = [stemmer.stem(t) for t in filtered_tokens]\n",
    "    return stems\n",
    "\n",
    "\n",
    "def tokenize_only(text):\n",
    "    # first tokenize by sentence, then by word to ensure that punctuation is caught as it's own token\n",
    "    tokens = [word.lower() for sent in nltk.sent_tokenize(text) for word in nltk.word_tokenize(sent)]\n",
    "    filtered_tokens = []\n",
    "    # filter out any tokens not containing letters (e.g., numeric tokens, raw punctuation)\n",
    "    for token in tokens:\n",
    "        if re.search('[a-zA-Z]', token):\n",
    "            filtered_tokens.append(token)\n",
    "    return filtered_tokens"
   ]
  },
  {
   "cell_type": "code",
   "execution_count": 648,
   "metadata": {
    "collapsed": false
   },
   "outputs": [],
   "source": [
    "totalvocab_stemmed = []\n",
    "totalvocab_tokenized = []\n",
    "for i in spark_syn:\n",
    "    allwords_stemmed = tokenize_and_stem(i) #for each item in 'synopses', tokenize/stem\n",
    "    totalvocab_stemmed.extend(allwords_stemmed) #extend the 'totalvocab_stemmed' list\n",
    "    \n",
    "    allwords_tokenized = tokenize_only(i)\n",
    "    totalvocab_tokenized.extend(allwords_tokenized)"
   ]
  },
  {
   "cell_type": "code",
   "execution_count": 59,
   "metadata": {
    "collapsed": false
   },
   "outputs": [
    {
     "name": "stdout",
     "output_type": "stream",
     "text": [
      "there are 531941 items in vocab_frame\n"
     ]
    }
   ],
   "source": [
    "vocab_frame = pd.DataFrame({'words': totalvocab_tokenized}, index = totalvocab_stemmed)\n",
    "print 'there are ' + str(vocab_frame.shape[0]) + ' items in vocab_frame'"
   ]
  },
  {
   "cell_type": "code",
   "execution_count": 649,
   "metadata": {
    "collapsed": true
   },
   "outputs": [],
   "source": [
    "k_stop = stopwords.words('english')\n",
    "k_stop += ['.', ',', '(', ')', \"'\", '\"',u'novel',u'books',\n",
    "               u'published',u'characters',u'works',u'mr.',u'ms.'\n",
    "              ,u\"'s\",u\"time\",u\"only\",u\"n't\",u\"book\",u'life',u'one',\n",
    "          u'story',u'one',u'story',u'tells',u'things','']"
   ]
  },
  {
   "cell_type": "code",
   "execution_count": 650,
   "metadata": {
    "collapsed": false
   },
   "outputs": [
    {
     "name": "stdout",
     "output_type": "stream",
     "text": [
      "CPU times: user 27.5 s, sys: 373 ms, total: 27.9 s\n",
      "Wall time: 27.9 s\n",
      "(562, 1156)\n"
     ]
    }
   ],
   "source": [
    "from sklearn.feature_extraction.text import TfidfVectorizer\n",
    "\n",
    "#define vectorizer parameters\n",
    "tfidf_vectorizer = TfidfVectorizer(max_df=0.4,\n",
    "                                 min_df=0.05, stop_words=k_stop,\n",
    "                                 use_idf=True, tokenizer=tokenize_and_stem)\n",
    "\n",
    "%time tfidf_matrix = tfidf_vectorizer.fit_transform(spark_syn) #fit the vectorizer to synopses\n",
    "\n",
    "print(tfidf_matrix.shape)"
   ]
  },
  {
   "cell_type": "code",
   "execution_count": 65,
   "metadata": {
    "collapsed": false
   },
   "outputs": [],
   "source": [
    "terms = tfidf_vectorizer.get_feature_names()"
   ]
  },
  {
   "cell_type": "code",
   "execution_count": 66,
   "metadata": {
    "collapsed": false
   },
   "outputs": [],
   "source": [
    "from sklearn.metrics.pairwise import cosine_similarity\n",
    "dist = 1 - cosine_similarity(tfidf_matrix)\n"
   ]
  },
  {
   "cell_type": "code",
   "execution_count": 165,
   "metadata": {
    "collapsed": true
   },
   "outputs": [],
   "source": [
    "from sklearn import cluster"
   ]
  },
  {
   "cell_type": "code",
   "execution_count": 96,
   "metadata": {
    "collapsed": true
   },
   "outputs": [],
   "source": [
    "dbscan = cluster.DBSCAN(eps=.8)"
   ]
  },
  {
   "cell_type": "code",
   "execution_count": 97,
   "metadata": {
    "collapsed": false
   },
   "outputs": [
    {
     "data": {
      "text/plain": [
       "DBSCAN(algorithm='auto', eps=0.8, leaf_size=30, metric='euclidean',\n",
       "    min_samples=5, p=None, random_state=None)"
      ]
     },
     "execution_count": 97,
     "metadata": {},
     "output_type": "execute_result"
    }
   ],
   "source": [
    "dbscan.fit(tfidf_matrix)"
   ]
  },
  {
   "cell_type": "code",
   "execution_count": 98,
   "metadata": {
    "collapsed": true
   },
   "outputs": [],
   "source": [
    "clusters=dbscan.labels_.tolist()"
   ]
  },
  {
   "cell_type": "code",
   "execution_count": 99,
   "metadata": {
    "collapsed": false
   },
   "outputs": [],
   "source": [
    "films = { 'title': spark_title,'synopsis': spark_syn, 'cluster': clusters }\n",
    "\n",
    "frame = pd.DataFrame(films, index = [clusters] , columns = [ 'title', 'cluster', 'genre'])"
   ]
  },
  {
   "cell_type": "code",
   "execution_count": 100,
   "metadata": {
    "collapsed": false
   },
   "outputs": [
    {
     "data": {
      "text/plain": [
       "-1    552\n",
       " 0     10\n",
       "Name: cluster, dtype: int64"
      ]
     },
     "execution_count": 100,
     "metadata": {},
     "output_type": "execute_result"
    }
   ],
   "source": [
    "frame['cluster'].value_counts()"
   ]
  },
  {
   "cell_type": "code",
   "execution_count": null,
   "metadata": {
    "collapsed": true
   },
   "outputs": [],
   "source": [
    "#affinity propagation"
   ]
  },
  {
   "cell_type": "code",
   "execution_count": 411,
   "metadata": {
    "collapsed": true
   },
   "outputs": [],
   "source": [
    "affinity_propagation = cluster.AffinityPropagation(damping=.9)"
   ]
  },
  {
   "cell_type": "code",
   "execution_count": 412,
   "metadata": {
    "collapsed": false
   },
   "outputs": [
    {
     "name": "stdout",
     "output_type": "stream",
     "text": [
      "CPU times: user 818 ms, sys: 8.56 ms, total: 826 ms\n",
      "Wall time: 826 ms\n"
     ]
    },
    {
     "data": {
      "text/plain": [
       "AffinityPropagation(affinity='euclidean', convergence_iter=15, copy=True,\n",
       "          damping=0.9, max_iter=200, preference=None, verbose=False)"
      ]
     },
     "execution_count": 412,
     "metadata": {},
     "output_type": "execute_result"
    }
   ],
   "source": [
    "%time affinity_propagation.fit(tfidf_matrix)"
   ]
  },
  {
   "cell_type": "code",
   "execution_count": 413,
   "metadata": {
    "collapsed": false
   },
   "outputs": [],
   "source": [
    "clusters=affinity_propagation.labels_.tolist()"
   ]
  },
  {
   "cell_type": "code",
   "execution_count": 414,
   "metadata": {
    "collapsed": true
   },
   "outputs": [],
   "source": [
    "films = { 'title': spark_title,'synopsis': spark_syn, 'cluster': clusters }\n",
    "\n",
    "frame = pd.DataFrame(films, index = [clusters] , columns = [ 'title', 'cluster'])"
   ]
  },
  {
   "cell_type": "code",
   "execution_count": 415,
   "metadata": {
    "collapsed": false
   },
   "outputs": [
    {
     "data": {
      "text/plain": [
       "67"
      ]
     },
     "execution_count": 415,
     "metadata": {},
     "output_type": "execute_result"
    }
   ],
   "source": [
    "frame['cluster'].max()"
   ]
  },
  {
   "cell_type": "code",
   "execution_count": 680,
   "metadata": {
    "collapsed": false
   },
   "outputs": [],
   "source": [
    "#frame['cluster'].value_counts()"
   ]
  },
  {
   "cell_type": "code",
   "execution_count": null,
   "metadata": {
    "collapsed": true
   },
   "outputs": [],
   "source": []
  },
  {
   "cell_type": "code",
   "execution_count": null,
   "metadata": {
    "collapsed": true
   },
   "outputs": [],
   "source": [
    "#kmeans"
   ]
  },
  {
   "cell_type": "code",
   "execution_count": 874,
   "metadata": {
    "collapsed": false
   },
   "outputs": [
    {
     "name": "stdout",
     "output_type": "stream",
     "text": [
      "CPU times: user 448 ms, sys: 3.92 ms, total: 452 ms\n",
      "Wall time: 451 ms\n"
     ]
    }
   ],
   "source": [
    "from sklearn.cluster import KMeans\n",
    "\n",
    "num_clusters = 5\n",
    "\n",
    "km = KMeans(n_clusters=num_clusters)\n",
    "\n",
    "%time km.fit(tfidf_matrix)\n",
    "\n",
    "clusters = km.labels_.tolist()"
   ]
  },
  {
   "cell_type": "code",
   "execution_count": 875,
   "metadata": {
    "collapsed": false
   },
   "outputs": [],
   "source": [
    "films = { 'title': spark_title,'synopsis': spark_syn, 'cluster': clusters }\n",
    "\n",
    "frame = pd.DataFrame(films, index = [clusters] , columns = [ 'title', 'cluster'])"
   ]
  },
  {
   "cell_type": "code",
   "execution_count": 876,
   "metadata": {
    "collapsed": false
   },
   "outputs": [],
   "source": [
    "#frame.to_csv('spark_frame.csv')"
   ]
  },
  {
   "cell_type": "code",
   "execution_count": 877,
   "metadata": {
    "collapsed": false
   },
   "outputs": [
    {
     "data": {
      "text/plain": [
       "0    326\n",
       "1    133\n",
       "2     70\n",
       "3     19\n",
       "4     14\n",
       "Name: cluster, dtype: int64"
      ]
     },
     "execution_count": 877,
     "metadata": {},
     "output_type": "execute_result"
    }
   ],
   "source": [
    "frame['cluster'].value_counts()"
   ]
  },
  {
   "cell_type": "code",
   "execution_count": 873,
   "metadata": {
    "collapsed": false
   },
   "outputs": [],
   "source": [
    "#sort cluster centers by proximity to centroid\n",
    "order_centroids = km.cluster_centers_.argsort()[:, ::-1] \n",
    "clusterd=[]\n",
    "for i in range(num_clusters):    \n",
    "    yo=[]\n",
    "    for ind in order_centroids[i, :6]: #replace 6 with n words per cluster\n",
    "        yo.append(vocab_frame.ix[terms[ind].split(' ')].values.tolist()[0][0].encode('utf-8', 'ignore'))    \n",
    "    clusterd.append(yo)"
   ]
  },
  {
   "cell_type": "code",
   "execution_count": 804,
   "metadata": {
    "collapsed": false
   },
   "outputs": [
    {
     "data": {
      "text/plain": [
       "[['mrs.', 'miss', 'london', 'lady', 'marriage', 'husband'],\n",
       " ['narrated', 'town', 'wife', 'woman', 'war', 'daughter'],\n",
       " ['king', 'henry', 'prince', 'army', 'ring', 'god'],\n",
       " ['tom', 'summer', 'slaves', 'mrs.', 'river', 'town'],\n",
       " ['boy', 'school', 'white', 'black', 'john', 'girl']]"
      ]
     },
     "execution_count": 804,
     "metadata": {},
     "output_type": "execute_result"
    }
   ],
   "source": [
    "clusterd"
   ]
  },
  {
   "cell_type": "code",
   "execution_count": 805,
   "metadata": {
    "collapsed": true
   },
   "outputs": [],
   "source": [
    "spark_cluster=pd.DataFrame()"
   ]
  },
  {
   "cell_type": "code",
   "execution_count": 806,
   "metadata": {
    "collapsed": true
   },
   "outputs": [],
   "source": [
    "spark_cluster['cluster']=[0,1,2,3,4]\n",
    "spark_cluster['words']=clusterd\n"
   ]
  },
  {
   "cell_type": "code",
   "execution_count": 675,
   "metadata": {
    "collapsed": false
   },
   "outputs": [
    {
     "data": {
      "text/html": [
       "<div>\n",
       "<table border=\"1\" class=\"dataframe\">\n",
       "  <thead>\n",
       "    <tr style=\"text-align: right;\">\n",
       "      <th></th>\n",
       "      <th>cluster</th>\n",
       "      <th>words</th>\n",
       "    </tr>\n",
       "  </thead>\n",
       "  <tbody>\n",
       "    <tr>\n",
       "      <th>0</th>\n",
       "      <td>0</td>\n",
       "      <td>[enter, ring, king, murderer, doors, appeared]</td>\n",
       "    </tr>\n",
       "    <tr>\n",
       "      <th>1</th>\n",
       "      <td>1</td>\n",
       "      <td>[mrs., miss, lady, london, marriage, aunt]</td>\n",
       "    </tr>\n",
       "    <tr>\n",
       "      <th>2</th>\n",
       "      <td>2</td>\n",
       "      <td>[tom, ship, camp, john, war, army]</td>\n",
       "    </tr>\n",
       "    <tr>\n",
       "      <th>3</th>\n",
       "      <td>3</td>\n",
       "      <td>[henry, king, lords, york, london, battle]</td>\n",
       "    </tr>\n",
       "    <tr>\n",
       "      <th>4</th>\n",
       "      <td>4</td>\n",
       "      <td>[narrated, school, town, girl, children, woman]</td>\n",
       "    </tr>\n",
       "  </tbody>\n",
       "</table>\n",
       "</div>"
      ],
      "text/plain": [
       "   cluster                                            words\n",
       "0        0   [enter, ring, king, murderer, doors, appeared]\n",
       "1        1       [mrs., miss, lady, london, marriage, aunt]\n",
       "2        2               [tom, ship, camp, john, war, army]\n",
       "3        3       [henry, king, lords, york, london, battle]\n",
       "4        4  [narrated, school, town, girl, children, woman]"
      ]
     },
     "execution_count": 675,
     "metadata": {},
     "output_type": "execute_result"
    }
   ],
   "source": [
    "spark_cluster"
   ]
  },
  {
   "cell_type": "code",
   "execution_count": 677,
   "metadata": {
    "collapsed": false
   },
   "outputs": [],
   "source": [
    "frame=frame.merge(spark_cluster,on='cluster')"
   ]
  },
  {
   "cell_type": "code",
   "execution_count": 679,
   "metadata": {
    "collapsed": false
   },
   "outputs": [
    {
     "data": {
      "text/html": [
       "<div>\n",
       "<table border=\"1\" class=\"dataframe\">\n",
       "  <thead>\n",
       "    <tr style=\"text-align: right;\">\n",
       "      <th></th>\n",
       "      <th>title</th>\n",
       "      <th>cluster</th>\n",
       "      <th>words</th>\n",
       "    </tr>\n",
       "  </thead>\n",
       "  <tbody>\n",
       "    <tr>\n",
       "      <th>0</th>\n",
       "      <td>1984</td>\n",
       "      <td>4</td>\n",
       "      <td>[narrated, school, town, girl, children, woman]</td>\n",
       "    </tr>\n",
       "    <tr>\n",
       "      <th>1</th>\n",
       "      <td>A&amp;P</td>\n",
       "      <td>4</td>\n",
       "      <td>[narrated, school, town, girl, children, woman]</td>\n",
       "    </tr>\n",
       "    <tr>\n",
       "      <th>2</th>\n",
       "      <td>The Age of Innocence</td>\n",
       "      <td>4</td>\n",
       "      <td>[narrated, school, town, girl, children, woman]</td>\n",
       "    </tr>\n",
       "    <tr>\n",
       "      <th>3</th>\n",
       "      <td>All the King's Men</td>\n",
       "      <td>4</td>\n",
       "      <td>[narrated, school, town, girl, children, woman]</td>\n",
       "    </tr>\n",
       "    <tr>\n",
       "      <th>4</th>\n",
       "      <td>Angela's Ashes</td>\n",
       "      <td>4</td>\n",
       "      <td>[narrated, school, town, girl, children, woman]</td>\n",
       "    </tr>\n",
       "  </tbody>\n",
       "</table>\n",
       "</div>"
      ],
      "text/plain": [
       "                  title  cluster  \\\n",
       "0                  1984        4   \n",
       "1                   A&P        4   \n",
       "2  The Age of Innocence        4   \n",
       "3    All the King's Men        4   \n",
       "4        Angela's Ashes        4   \n",
       "\n",
       "                                             words  \n",
       "0  [narrated, school, town, girl, children, woman]  \n",
       "1  [narrated, school, town, girl, children, woman]  \n",
       "2  [narrated, school, town, girl, children, woman]  \n",
       "3  [narrated, school, town, girl, children, woman]  \n",
       "4  [narrated, school, town, girl, children, woman]  "
      ]
     },
     "execution_count": 679,
     "metadata": {},
     "output_type": "execute_result"
    }
   ],
   "source": [
    "frame.head()"
   ]
  },
  {
   "cell_type": "code",
   "execution_count": 678,
   "metadata": {
    "collapsed": true
   },
   "outputs": [],
   "source": [
    "frame.to_csv('spark_frame.csv')"
   ]
  },
  {
   "cell_type": "code",
   "execution_count": 746,
   "metadata": {
    "collapsed": false
   },
   "outputs": [
    {
     "name": "stdout",
     "output_type": "stream",
     "text": [
      "Top terms per cluster:\n",
      "Cluster 0 words:\n",
      " henry\n",
      " king\n",
      " york\n",
      " london\n",
      " lords\n",
      " battle\n",
      "Cluster 1 words:\n",
      " tom\n",
      " boy\n",
      " school\n",
      " black\n",
      " white\n",
      " girl\n",
      "Cluster 2 words:\n",
      " john\n",
      " women\n",
      " daughter\n",
      " village\n",
      " mary\n",
      " narrated\n",
      "Cluster 3 words:\n",
      " narrated\n",
      " wife\n",
      " town\n",
      " letter\n",
      " murderer\n",
      " woman\n",
      "Cluster 4 words:\n",
      " king\n",
      " ship\n",
      " army\n",
      " ring\n",
      " god\n",
      " captain\n",
      "Cluster 5 words:\n",
      " mrs.\n",
      " miss\n",
      " lady\n",
      " marriage\n",
      " london\n",
      " aunt\n"
     ]
    }
   ],
   "source": [
    "print(\"Top terms per cluster:\")\n",
    "#sort cluster centers by proximity to centroid\n",
    "order_centroids = km.cluster_centers_.argsort()[:, ::-1] \n",
    "\n",
    "for i in range(num_clusters):\n",
    "    print \"Cluster %d words:\" % i\n",
    "    \n",
    "    for ind in order_centroids[i, :6]: #replace 6 with n words per cluster\n",
    "        print ' %s' % vocab_frame.ix[terms[ind].split(' ')].values.tolist()[0][0].encode('utf-8', 'ignore')"
   ]
  },
  {
   "cell_type": "code",
   "execution_count": 490,
   "metadata": {
    "collapsed": false
   },
   "outputs": [
    {
     "ename": "TypeError",
     "evalue": "expected string or buffer",
     "output_type": "error",
     "traceback": [
      "\u001b[0;31m---------------------------------------------------------------------------\u001b[0m",
      "\u001b[0;31mTypeError\u001b[0m                                 Traceback (most recent call last)",
      "\u001b[0;32m<ipython-input-490-f06f6787d2c5>\u001b[0m in \u001b[0;36m<module>\u001b[0;34m()\u001b[0m\n\u001b[1;32m      8\u001b[0m \u001b[0;34m\u001b[0m\u001b[0m\n\u001b[1;32m      9\u001b[0m \u001b[0;31m# Generate a word cloud image\u001b[0m\u001b[0;34m\u001b[0m\u001b[0;34m\u001b[0m\u001b[0m\n\u001b[0;32m---> 10\u001b[0;31m \u001b[0mwordcloud\u001b[0m \u001b[0;34m=\u001b[0m \u001b[0mWordCloud\u001b[0m\u001b[0;34m(\u001b[0m\u001b[0;34m)\u001b[0m\u001b[0;34m.\u001b[0m\u001b[0mgenerate\u001b[0m\u001b[0;34m(\u001b[0m\u001b[0mtext\u001b[0m\u001b[0;34m)\u001b[0m\u001b[0;34m\u001b[0m\u001b[0m\n\u001b[0m\u001b[1;32m     11\u001b[0m \u001b[0;34m\u001b[0m\u001b[0m\n\u001b[1;32m     12\u001b[0m \u001b[0;31m# Display the generated image:\u001b[0m\u001b[0;34m\u001b[0m\u001b[0;34m\u001b[0m\u001b[0m\n",
      "\u001b[0;32m/Users/mattholbrook/anaconda/lib/python2.7/site-packages/wordcloud/wordcloud.pyc\u001b[0m in \u001b[0;36mgenerate\u001b[0;34m(self, text)\u001b[0m\n\u001b[1;32m    446\u001b[0m         \u001b[0mself\u001b[0m\u001b[0;34m\u001b[0m\u001b[0m\n\u001b[1;32m    447\u001b[0m         \"\"\"\n\u001b[0;32m--> 448\u001b[0;31m         \u001b[0;32mreturn\u001b[0m \u001b[0mself\u001b[0m\u001b[0;34m.\u001b[0m\u001b[0mgenerate_from_text\u001b[0m\u001b[0;34m(\u001b[0m\u001b[0mtext\u001b[0m\u001b[0;34m)\u001b[0m\u001b[0;34m\u001b[0m\u001b[0m\n\u001b[0m\u001b[1;32m    449\u001b[0m \u001b[0;34m\u001b[0m\u001b[0m\n\u001b[1;32m    450\u001b[0m     \u001b[0;32mdef\u001b[0m \u001b[0m_check_generated\u001b[0m\u001b[0;34m(\u001b[0m\u001b[0mself\u001b[0m\u001b[0;34m)\u001b[0m\u001b[0;34m:\u001b[0m\u001b[0;34m\u001b[0m\u001b[0m\n",
      "\u001b[0;32m/Users/mattholbrook/anaconda/lib/python2.7/site-packages/wordcloud/wordcloud.pyc\u001b[0m in \u001b[0;36mgenerate_from_text\u001b[0;34m(self, text)\u001b[0m\n\u001b[1;32m    431\u001b[0m         \u001b[0mself\u001b[0m\u001b[0;34m\u001b[0m\u001b[0m\n\u001b[1;32m    432\u001b[0m         \"\"\"\n\u001b[0;32m--> 433\u001b[0;31m         \u001b[0mwords\u001b[0m \u001b[0;34m=\u001b[0m \u001b[0mself\u001b[0m\u001b[0;34m.\u001b[0m\u001b[0mprocess_text\u001b[0m\u001b[0;34m(\u001b[0m\u001b[0mtext\u001b[0m\u001b[0;34m)\u001b[0m\u001b[0;34m\u001b[0m\u001b[0m\n\u001b[0m\u001b[1;32m    434\u001b[0m         \u001b[0mself\u001b[0m\u001b[0;34m.\u001b[0m\u001b[0mgenerate_from_frequencies\u001b[0m\u001b[0;34m(\u001b[0m\u001b[0mwords\u001b[0m\u001b[0;34m)\u001b[0m\u001b[0;34m\u001b[0m\u001b[0m\n\u001b[1;32m    435\u001b[0m         \u001b[0;32mreturn\u001b[0m \u001b[0mself\u001b[0m\u001b[0;34m\u001b[0m\u001b[0m\n",
      "\u001b[0;32m/Users/mattholbrook/anaconda/lib/python2.7/site-packages/wordcloud/wordcloud.pyc\u001b[0m in \u001b[0;36mprocess_text\u001b[0;34m(self, text)\u001b[0m\n\u001b[1;32m    384\u001b[0m         flags = (re.UNICODE if sys.version < '3' and type(text) is unicode\n\u001b[1;32m    385\u001b[0m                  else 0)\n\u001b[0;32m--> 386\u001b[0;31m         \u001b[0;32mfor\u001b[0m \u001b[0mword\u001b[0m \u001b[0;32min\u001b[0m \u001b[0mre\u001b[0m\u001b[0;34m.\u001b[0m\u001b[0mfindall\u001b[0m\u001b[0;34m(\u001b[0m\u001b[0;34mr\"\\w[\\w']+\"\u001b[0m\u001b[0;34m,\u001b[0m \u001b[0mtext\u001b[0m\u001b[0;34m,\u001b[0m \u001b[0mflags\u001b[0m\u001b[0;34m=\u001b[0m\u001b[0mflags\u001b[0m\u001b[0;34m)\u001b[0m\u001b[0;34m:\u001b[0m\u001b[0;34m\u001b[0m\u001b[0m\n\u001b[0m\u001b[1;32m    387\u001b[0m             \u001b[0;32mif\u001b[0m \u001b[0mword\u001b[0m\u001b[0;34m.\u001b[0m\u001b[0misdigit\u001b[0m\u001b[0;34m(\u001b[0m\u001b[0;34m)\u001b[0m\u001b[0;34m:\u001b[0m\u001b[0;34m\u001b[0m\u001b[0m\n\u001b[1;32m    388\u001b[0m                 \u001b[0;32mcontinue\u001b[0m\u001b[0;34m\u001b[0m\u001b[0m\n",
      "\u001b[0;32m/Users/mattholbrook/anaconda/lib/python2.7/re.pyc\u001b[0m in \u001b[0;36mfindall\u001b[0;34m(pattern, string, flags)\u001b[0m\n\u001b[1;32m    179\u001b[0m \u001b[0;34m\u001b[0m\u001b[0m\n\u001b[1;32m    180\u001b[0m     Empty matches are included in the result.\"\"\"\n\u001b[0;32m--> 181\u001b[0;31m     \u001b[0;32mreturn\u001b[0m \u001b[0m_compile\u001b[0m\u001b[0;34m(\u001b[0m\u001b[0mpattern\u001b[0m\u001b[0;34m,\u001b[0m \u001b[0mflags\u001b[0m\u001b[0;34m)\u001b[0m\u001b[0;34m.\u001b[0m\u001b[0mfindall\u001b[0m\u001b[0;34m(\u001b[0m\u001b[0mstring\u001b[0m\u001b[0;34m)\u001b[0m\u001b[0;34m\u001b[0m\u001b[0m\n\u001b[0m\u001b[1;32m    182\u001b[0m \u001b[0;34m\u001b[0m\u001b[0m\n\u001b[1;32m    183\u001b[0m \u001b[0;32mif\u001b[0m \u001b[0msys\u001b[0m\u001b[0;34m.\u001b[0m\u001b[0mhexversion\u001b[0m \u001b[0;34m>=\u001b[0m \u001b[0;36m0x02020000\u001b[0m\u001b[0;34m:\u001b[0m\u001b[0;34m\u001b[0m\u001b[0m\n",
      "\u001b[0;31mTypeError\u001b[0m: expected string or buffer"
     ]
    }
   ],
   "source": [
    "\n",
    "from os import path\n",
    "from wordcloud import WordCloud\n",
    "\n",
    "\n",
    "# Read the whole text.\n",
    "text = spark_syn\n",
    "\n",
    "# Generate a word cloud image\n",
    "wordcloud = WordCloud().generate(text)\n",
    "\n",
    "# Display the generated image:\n",
    "# the matplotlib way:\n",
    "import matplotlib.pyplot as plt\n",
    "plt.imshow(wordcloud)\n",
    "plt.axis(\"off\")\n",
    "\n",
    "# take relative word frequencies into account, lower max_font_size\n",
    "wordcloud = WordCloud(max_font_size=40, relative_scaling=.5).generate(text)\n",
    "plt.figure()\n",
    "plt.imshow(wordcloud)\n",
    "plt.axis(\"off\")\n",
    "plt.show()\n",
    "\n",
    "# The pil way (if you don't have matplotlib)\n",
    "#image = wordcloud.to_image()\n",
    "#image.show()"
   ]
  },
  {
   "cell_type": "code",
   "execution_count": null,
   "metadata": {
    "collapsed": true
   },
   "outputs": [],
   "source": []
  },
  {
   "cell_type": "code",
   "execution_count": null,
   "metadata": {
    "collapsed": true
   },
   "outputs": [],
   "source": [
    "#ward hierarchal clustering"
   ]
  },
  {
   "cell_type": "code",
   "execution_count": 170,
   "metadata": {
    "collapsed": true
   },
   "outputs": [],
   "source": [
    "from sklearn.neighbors import kneighbors_graph\n"
   ]
  },
  {
   "cell_type": "code",
   "execution_count": 313,
   "metadata": {
    "collapsed": false
   },
   "outputs": [],
   "source": [
    "connectivity = kneighbors_graph(tfidf_matrix, n_neighbors=5, include_self=False)"
   ]
  },
  {
   "cell_type": "code",
   "execution_count": 306,
   "metadata": {
    "collapsed": false
   },
   "outputs": [],
   "source": [
    "ward = cluster.AgglomerativeClustering(n_clusters=5, linkage='ward',connectivity=connectivity)"
   ]
  },
  {
   "cell_type": "code",
   "execution_count": 307,
   "metadata": {
    "collapsed": false
   },
   "outputs": [],
   "source": [
    "y=tfidf_matrix.todense()"
   ]
  },
  {
   "cell_type": "code",
   "execution_count": 275,
   "metadata": {
    "collapsed": false
   },
   "outputs": [
    {
     "data": {
      "text/plain": [
       "AgglomerativeClustering(affinity='euclidean', compute_full_tree='auto',\n",
       "            connectivity=<562x562 sparse matrix of type '<type 'numpy.float64'>'\n",
       "\twith 2810 stored elements in Compressed Sparse Row format>,\n",
       "            linkage='ward', memory=Memory(cachedir=None), n_clusters=5,\n",
       "            n_components=None, pooling_func=<function mean at 0x106752410>)"
      ]
     },
     "execution_count": 275,
     "metadata": {},
     "output_type": "execute_result"
    }
   ],
   "source": [
    "ward.fit(y)\n"
   ]
  },
  {
   "cell_type": "code",
   "execution_count": 276,
   "metadata": {
    "collapsed": false
   },
   "outputs": [],
   "source": [
    "clusters = ward.labels_.tolist()"
   ]
  },
  {
   "cell_type": "code",
   "execution_count": 277,
   "metadata": {
    "collapsed": true
   },
   "outputs": [],
   "source": [
    "films = { 'title': spark_title,'synopsis': spark_syn, 'cluster': clusters }\n",
    "\n",
    "frame = pd.DataFrame(films, index = [clusters] , columns = [ 'title', 'cluster'])"
   ]
  },
  {
   "cell_type": "code",
   "execution_count": 278,
   "metadata": {
    "collapsed": false
   },
   "outputs": [
    {
     "data": {
      "text/plain": [
       "1    492\n",
       "0     27\n",
       "3     24\n",
       "2     10\n",
       "4      9\n",
       "Name: cluster, dtype: int64"
      ]
     },
     "execution_count": 278,
     "metadata": {},
     "output_type": "execute_result"
    }
   ],
   "source": [
    "frame['cluster'].value_counts()"
   ]
  },
  {
   "cell_type": "code",
   "execution_count": 279,
   "metadata": {
    "collapsed": false
   },
   "outputs": [
    {
     "data": {
      "text/html": [
       "<div>\n",
       "<table border=\"1\" class=\"dataframe\">\n",
       "  <thead>\n",
       "    <tr style=\"text-align: right;\">\n",
       "      <th></th>\n",
       "      <th>title</th>\n",
       "      <th>cluster</th>\n",
       "    </tr>\n",
       "  </thead>\n",
       "  <tbody>\n",
       "    <tr>\n",
       "      <th>1</th>\n",
       "      <td>1984</td>\n",
       "      <td>1</td>\n",
       "    </tr>\n",
       "    <tr>\n",
       "      <th>1</th>\n",
       "      <td>2001: A Space Odyssey</td>\n",
       "      <td>1</td>\n",
       "    </tr>\n",
       "    <tr>\n",
       "      <th>1</th>\n",
       "      <td>A&amp;P</td>\n",
       "      <td>1</td>\n",
       "    </tr>\n",
       "    <tr>\n",
       "      <th>0</th>\n",
       "      <td>Absalom, Absalom!</td>\n",
       "      <td>0</td>\n",
       "    </tr>\n",
       "    <tr>\n",
       "      <th>1</th>\n",
       "      <td>Across Five Aprils</td>\n",
       "      <td>1</td>\n",
       "    </tr>\n",
       "  </tbody>\n",
       "</table>\n",
       "</div>"
      ],
      "text/plain": [
       "                   title  cluster\n",
       "1                   1984        1\n",
       "1  2001: A Space Odyssey        1\n",
       "1                    A&P        1\n",
       "0      Absalom, Absalom!        0\n",
       "1     Across Five Aprils        1"
      ]
     },
     "execution_count": 279,
     "metadata": {},
     "output_type": "execute_result"
    }
   ],
   "source": [
    "#"
   ]
  },
  {
   "cell_type": "code",
   "execution_count": null,
   "metadata": {
    "collapsed": true
   },
   "outputs": [],
   "source": [
    "#cosine linkage"
   ]
  },
  {
   "cell_type": "code",
   "execution_count": 308,
   "metadata": {
    "collapsed": true
   },
   "outputs": [],
   "source": [
    "agglo_cluster = cluster.AgglomerativeClustering(linkage=\"average\", affinity=\"cosine\", n_clusters=4,connectivity=connectivity)"
   ]
  },
  {
   "cell_type": "code",
   "execution_count": 309,
   "metadata": {
    "collapsed": false
   },
   "outputs": [
    {
     "data": {
      "text/plain": [
       "AgglomerativeClustering(affinity='cosine', compute_full_tree='auto',\n",
       "            connectivity=<562x562 sparse matrix of type '<type 'numpy.float64'>'\n",
       "\twith 1124 stored elements in Compressed Sparse Row format>,\n",
       "            linkage='average', memory=Memory(cachedir=None), n_clusters=4,\n",
       "            n_components=None, pooling_func=<function mean at 0x106752410>)"
      ]
     },
     "execution_count": 309,
     "metadata": {},
     "output_type": "execute_result"
    }
   ],
   "source": [
    "agglo_cluster.fit(y)"
   ]
  },
  {
   "cell_type": "code",
   "execution_count": 310,
   "metadata": {
    "collapsed": false
   },
   "outputs": [],
   "source": [
    "clusters = agglo_cluster.labels_.tolist()"
   ]
  },
  {
   "cell_type": "code",
   "execution_count": 311,
   "metadata": {
    "collapsed": true
   },
   "outputs": [],
   "source": [
    "films = { 'title': spark_title,'synopsis': spark_syn, 'cluster': clusters }\n",
    "\n",
    "frame = pd.DataFrame(films, index = [clusters] , columns = [ 'title', 'cluster'])"
   ]
  },
  {
   "cell_type": "code",
   "execution_count": 312,
   "metadata": {
    "collapsed": false
   },
   "outputs": [
    {
     "data": {
      "text/plain": [
       "0    559\n",
       "3      1\n",
       "2      1\n",
       "1      1\n",
       "Name: cluster, dtype: int64"
      ]
     },
     "execution_count": 312,
     "metadata": {},
     "output_type": "execute_result"
    }
   ],
   "source": [
    "frame['cluster'].value_counts()"
   ]
  },
  {
   "cell_type": "code",
   "execution_count": 457,
   "metadata": {
    "collapsed": false
   },
   "outputs": [
    {
     "name": "stderr",
     "output_type": "stream",
     "text": [
      "[INFO] GraphLab Create v1.8.3 started. Logging: /tmp/graphlab_server_1456968691.log\n"
     ]
    }
   ],
   "source": [
    "from pylab import plot,show\n",
    "from numpy import vstack,array\n",
    "from numpy.random import rand\n",
    "from scipy.cluster.vq import kmeans,vq"
   ]
  },
  {
   "cell_type": "code",
   "execution_count": null,
   "metadata": {
    "collapsed": true
   },
   "outputs": [],
   "source": []
  }
 ],
 "metadata": {
  "kernelspec": {
   "display_name": "Python 2",
   "language": "python",
   "name": "python2"
  },
  "language_info": {
   "codemirror_mode": {
    "name": "ipython",
    "version": 2
   },
   "file_extension": ".py",
   "mimetype": "text/x-python",
   "name": "python",
   "nbconvert_exporter": "python",
   "pygments_lexer": "ipython2",
   "version": "2.7.11"
  }
 },
 "nbformat": 4,
 "nbformat_minor": 0
}
